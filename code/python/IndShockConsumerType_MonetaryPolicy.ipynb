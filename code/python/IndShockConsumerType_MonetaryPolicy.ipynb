{
 "cells": [
  {
   "cell_type": "markdown",
   "id": "fundamental-chosen",
   "metadata": {},
   "source": [
    "# Monetary Policy\n",
    "This notebook looks at a monetary policy shocks when there is a government. Here, we replicate [link](https://github.com/shade-econ/nber-workshop-2022/blob/main/Tutorials/Tutorial%202%20Monetary%20Policy.ipynb)"
   ]
  },
  {
   "cell_type": "code",
   "execution_count": 1,
   "id": "synthetic-victorian",
   "metadata": {},
   "outputs": [],
   "source": [
    "#from ConsIndShockModel import IndShockConsumerType\n",
    "from ConsIndShockModel_HANK import IndShockConsumerType\n",
    "import sequence_jacobian as sj  # SSJ will allow us to define blocks, models, compute IRFs, etc\n",
    "from sequence_jacobian.classes import JacobianDict, SteadyStateDict, UserProvidedSS\n",
    "from sequence_jacobian import het, simple, create_model              # functions\n",
    "from sequence_jacobian.blocks.block import Block\n",
    "from sequence_jacobian.classes.result_dict import ResultDict\n",
    "import matplotlib.pyplot as plt\n",
    "import numpy as np\n",
    "#import numba\n",
    "import time\n",
    "\n",
    "from scipy import optimize"
   ]
  },
  {
   "cell_type": "markdown",
   "id": "reserved-occupation",
   "metadata": {},
   "source": [
    "# Case 1: Monetary Policy only"
   ]
  },
  {
   "cell_type": "code",
   "execution_count": 2,
   "id": "compressed-blackberry",
   "metadata": {},
   "outputs": [
    {
     "name": "stdout",
     "output_type": "stream",
     "text": [
      "T_ss: 0.0\n",
      "Z_ss: 1.0\n",
      "C_ss: 1.0\n"
     ]
    }
   ],
   "source": [
    "#Steady State values\n",
    "def fiscal_ss(B, r, G): \n",
    "    T = (1 + r) * B + G - B\n",
    "    \n",
    "    return T\n",
    "\n",
    "\n",
    "r_ss = 1.03 - 1\n",
    "G_ss = 0\n",
    "B_ss = 0 # this is lower than the tutorial by Straub et al. because need Higher MPC\n",
    "A_ss = B_ss\n",
    "Y_ss = 1.0\n",
    "tau = 0.0\n",
    "\n",
    "T_ss = fiscal_ss(B_ss,r_ss,G_ss)\n",
    "\n",
    "print('T_ss: ' +str(T_ss))\n",
    "\n",
    "Z_ss = Y_ss - T_ss\n",
    "\n",
    "C_ss= Y_ss - G_ss\n",
    "print('Z_ss: ' +str(Z_ss))\n",
    "\n",
    "print('C_ss: ' +str(Y_ss - G_ss))"
   ]
  },
  {
   "cell_type": "code",
   "execution_count": 24,
   "id": "quantitative-darwin",
   "metadata": {},
   "outputs": [],
   "source": [
    "#------------------------------------------------------------------------------------------------------\n",
    "Dict = {\n",
    "    # Parameters shared with the perfect foresight model\n",
    "    \"CRRA\":2,                              # Coefficient of relative risk aversion\n",
    "    \"Rfree\": 1+r_ss,                    # Interest factor on assets\n",
    "    \"DiscFac\": 0.96,                      # Intertemporal discount factor\n",
    "    \"LivPrb\" : [.99375],                   # Survival probability\n",
    "    \"PermGroFac\" : [1.00],                 # Permanent income growth factor\n",
    "\n",
    "    # Parameters that specify the income distribution over the lifecycle\n",
    "    \"PermShkStd\" : [.06],                  # Standard deviation of log permanent shocks to income\n",
    "    \"PermShkCount\" : 7,                    # Number of points in discrete approximation to permanent income shocks\n",
    "    \"TranShkStd\" : [.2],                   # Standard deviation of log transitory shocks to income\n",
    "    \"TranShkCount\" : 7,    \n",
    "    \n",
    "    # HANK params\n",
    "    \"taxrate\" : [tau], # set to 0.0 because we are going to assume that labor here is actually after tax income\n",
    "    \"labor\": [Y_ss - T_ss],\n",
    "    \"wage\": [1.0],\n",
    "    \n",
    "    # Number of points in discrete approximation to transitory income shocks\n",
    "    \"UnempPrb\" : 0.0,                      # Probability of unemployment while working\n",
    "    \"IncUnemp\" :  0.0,                     # Unemployment benefits replacement rate\n",
    "    \"UnempPrbRet\" : 0.0000,                # Probability of \"unemployment\" while retired\n",
    "    \"IncUnempRet\" : 0.0,                   # \"Unemployment\" benefits when retired\n",
    "    \"T_retire\" : 0.0,                      # Period of retirement (0 --> no retirement)\n",
    "    \"tax_rate\" : 0.0,                      # Flat income tax rate (legacy parameter, will be removed in future)\n",
    "\n",
    "    # Parameters for constructing the \"assets above minimum\" grid\n",
    "    \"aXtraMin\" : 0.0001,                    # Minimum end-of-period \"assets above minimum\" value\n",
    "    \"aXtraMax\" : 1500,                       # Maximum end-of-period \"assets above minimum\" value\n",
    "    \"aXtraCount\" : 300,                     # Number of points in the base grid of \"assets above minimum\"\n",
    "    \"aXtraNestFac\" : 3,                    # Exponential nesting factor when constructing \"assets above minimum\" grid\n",
    "    \"aXtraExtra\" : [None],                 # Additional values to add to aXtraGrid\n",
    "\n",
    "    # A few other parameters\n",
    "    \"BoroCnstArt\" : -0.01, #-0.01,                   # Artificial borrowing constraint; imposed minimum level of end-of period assets\n",
    "    \"vFuncBool\" : False,                   # Whether to calculate the value function during solution\n",
    "    \"CubicBool\" : False,                   # Preference shocks currently only compatible with linear cFunc\n",
    "    \"T_cycle\" : 1,                         # Number of periods in the cycle for this agent type \n",
    "    \n",
    "    # Transition Matrix simulation parameters\n",
    "    \"mCount\": 600,\n",
    "    \"mMax\": 1000,\n",
    "    \"mMin\": 0.0001,\n",
    "    \"mFac\": 3,\n",
    "}\n",
    "T = 300 # Dimention of TxT Jacobian matrix"
   ]
  },
  {
   "cell_type": "code",
   "execution_count": 25,
   "id": "amended-neighbor",
   "metadata": {},
   "outputs": [],
   "source": [
    "# to add taxes, labor and wage\n",
    "def function(taxrate, labor, wage):\n",
    "    \n",
    "    z = (1- taxrate)*labor*wage\n",
    "    return z\n",
    "\n",
    "Dict['TranShkMean_Func'] = [function]"
   ]
  },
  {
   "cell_type": "markdown",
   "id": "cutting-latex",
   "metadata": {},
   "source": [
    "# Get GE Steady stead values (TBD)"
   ]
  },
  {
   "cell_type": "code",
   "execution_count": 26,
   "id": "norwegian-thought",
   "metadata": {},
   "outputs": [],
   "source": [
    "Agent = IndShockConsumerType(**Dict, verbose = False)"
   ]
  },
  {
   "cell_type": "code",
   "execution_count": 6,
   "id": "announced-remedy",
   "metadata": {},
   "outputs": [
    {
     "name": "stdout",
     "output_type": "stream",
     "text": [
      "Seconds to compute steady state 8.428131818771362\n"
     ]
    }
   ],
   "source": [
    "start = time.time()\n",
    "Agent.compute_steady_state()\n",
    "print('Seconds to compute steady state', time.time() - start)"
   ]
  },
  {
   "cell_type": "code",
   "execution_count": 7,
   "id": "industrial-catalog",
   "metadata": {},
   "outputs": [
    {
     "name": "stdout",
     "output_type": "stream",
     "text": [
      "Seconds to calculate Jacobian 8.394831895828247\n"
     ]
    }
   ],
   "source": [
    "start = time.time()\n",
    "\n",
    "CJACR, AJACR = Agent.calc_jacobian('Rfree',T)\n",
    "\n",
    "print('Seconds to calculate Jacobian', time.time() - start)"
   ]
  },
  {
   "cell_type": "code",
   "execution_count": 8,
   "id": "amazing-philadelphia",
   "metadata": {},
   "outputs": [
    {
     "data": {
      "image/png": "[encoded data removed]",
      "text/plain": [
       "<Figure size 640x480 with 1 Axes>"
      ]
     },
     "metadata": {},
     "output_type": "display_data"
    }
   ],
   "source": [
    "plt.plot(CJACR.T[0])\n",
    "plt.plot(CJACR.T[10])\n",
    "plt.plot(CJACR.T[30])\n",
    "plt.show()"
   ]
  },
  {
   "cell_type": "code",
   "execution_count": 9,
   "id": "noted-resource",
   "metadata": {},
   "outputs": [],
   "source": [
    "@sj.simple\n",
    "def ex_post_rate(r_ante):\n",
    "    r = r_ante(-1)\n",
    "    return r\n",
    "\n",
    "@sj.simple\n",
    "def mkt_clearing_simple(A, Y, C):\n",
    "    asset_mkt = A\n",
    "    goods_mkt = C - Y\n",
    "    return asset_mkt, goods_mkt"
   ]
  },
  {
   "cell_type": "code",
   "execution_count": 10,
   "id": "suitable-growth",
   "metadata": {},
   "outputs": [],
   "source": [
    "HARK_SteadyState_Dict = SteadyStateDict({\"G\": 1.0, \"asset_mkt\":0.0, \"C\": C_ss, \"r\": r_ss, \"Y\": Y_ss, \"B\":B_ss, \"G\":G_ss, \"A\": A_ss,  \"r_ante\": r_ss })\n",
    "HARK_Jacobian_Dict = JacobianDict( { 'C' : {'r_ante' : CJACR} ,'A' : {'r_ante' : AJACR} } )"
   ]
  },
  {
   "cell_type": "code",
   "execution_count": 35,
   "id": "unauthorized-connection",
   "metadata": {},
   "outputs": [
    {
     "data": {
      "text/plain": [
       "{'r_ante': array([[ 1.14304610e-01, -3.57370332e-01, -3.01673057e-01, ...,\n",
       "         -2.85705024e-12, -2.82753174e-12, -2.85705074e-12],\n",
       "        [ 9.99612238e-02,  1.14304610e-01, -3.14259194e-01, ...,\n",
       "         -2.47946236e-12, -2.50990974e-12, -2.47946335e-12],\n",
       "        [ 8.82579729e-02,  9.99612237e-02,  1.51158568e-01, ...,\n",
       "         -2.18755251e-12, -2.15866797e-12, -2.18755365e-12],\n",
       "        ...,\n",
       "        [ 2.46691556e-09,  2.51053666e-13,  3.85200992e-13, ...,\n",
       "          2.69819800e-01, -1.80919210e-01, -1.51594278e-01],\n",
       "        [ 2.46691556e-09,  2.30747987e-13,  3.57234771e-13, ...,\n",
       "          2.37545605e-01,  2.69819800e-01, -1.80919210e-01],\n",
       "        [ 2.46469511e-09,  2.12218470e-13,  3.31613702e-13, ...,\n",
       "          2.10502990e-01,  2.37545605e-01,  2.69819800e-01]])}"
      ]
     },
     "execution_count": 35,
     "metadata": {},
     "output_type": "execute_result"
    }
   ],
   "source": [
    "HARK_Jacobian_Dict['C']"
   ]
  },
  {
   "cell_type": "code",
   "execution_count": 12,
   "id": "social-revolution",
   "metadata": {},
   "outputs": [],
   "source": [
    "HARK_HANK = create_model([HARK_Jacobian_Dict, ex_post_rate, mkt_clearing_simple], name=\"HARK_HANK\")\n",
    "unknowns = ['Y']\n",
    "targets = ['asset_mkt']\n",
    "exogenous = ['r_ante']"
   ]
  },
  {
   "cell_type": "code",
   "execution_count": 31,
   "id": "selected-smart",
   "metadata": {},
   "outputs": [],
   "source": [
    "# Find the linear impulse responses to an \"r\" shock\n",
    "dr = -0.01 * 0.7 ** np.arange(T)\n",
    "shocks = {'r_ante': dr}"
   ]
  },
  {
   "cell_type": "code",
   "execution_count": 32,
   "id": "cosmetic-report",
   "metadata": {},
   "outputs": [],
   "source": [
    "J_ex_post_rate = ex_post_rate.jacobian(HARK_SteadyState_Dict, inputs=['r_ante'])"
   ]
  },
  {
   "cell_type": "code",
   "execution_count": 33,
   "id": "suffering-acting",
   "metadata": {},
   "outputs": [
    {
     "data": {
      "text/plain": [
       "{'r_ante': SimpleSparse({(-1, 0): 1.000})}"
      ]
     },
     "execution_count": 33,
     "metadata": {},
     "output_type": "execute_result"
    }
   ],
   "source": [
    "J_ex_post_rate['r']"
   ]
  },
  {
   "cell_type": "code",
   "execution_count": 34,
   "id": "virtual-charlotte",
   "metadata": {},
   "outputs": [
    {
     "ename": "LinAlgError",
     "evalue": "Singular matrix",
     "output_type": "error",
     "traceback": [
      "\u001b[1;31m---------------------------------------------------------------------------\u001b[0m",
      "\u001b[1;31mLinAlgError\u001b[0m                               Traceback (most recent call last)",
      "\u001b[1;32m<ipython-input-34-9228d75f785a>\u001b[0m in \u001b[0;36m<cell line: 3>\u001b[1;34m()\u001b[0m\n\u001b[0;32m      1\u001b[0m \u001b[1;31m# for m in ['ha', 'ha_zl', 'ra']:\u001b[0m\u001b[1;33m\u001b[0m\u001b[1;33m\u001b[0m\u001b[1;33m\u001b[0m\u001b[0m\n\u001b[0;32m      2\u001b[0m \u001b[1;31m#     irf[m] = models[m].solve_impulse_linear(ss[m], ['Y'], ['asset_mkt'], {'r_ante': dr})\u001b[0m\u001b[1;33m\u001b[0m\u001b[1;33m\u001b[0m\u001b[1;33m\u001b[0m\u001b[0m\n\u001b[1;32m----> 3\u001b[1;33m \u001b[0mirf\u001b[0m \u001b[1;33m=\u001b[0m \u001b[0mHARK_HANK\u001b[0m\u001b[1;33m.\u001b[0m\u001b[0msolve_impulse_linear\u001b[0m\u001b[1;33m(\u001b[0m\u001b[0mHARK_SteadyState_Dict\u001b[0m\u001b[1;33m,\u001b[0m \u001b[1;33m[\u001b[0m\u001b[1;34m'Y'\u001b[0m\u001b[1;33m]\u001b[0m\u001b[1;33m,\u001b[0m \u001b[1;33m[\u001b[0m\u001b[1;34m'asset_mkt'\u001b[0m\u001b[1;33m]\u001b[0m\u001b[1;33m,\u001b[0m \u001b[0mshocks\u001b[0m\u001b[1;33m)\u001b[0m \u001b[1;31m#{'r_ante': dr})\u001b[0m\u001b[1;33m\u001b[0m\u001b[1;33m\u001b[0m\u001b[0m\n\u001b[0m\u001b[0;32m      4\u001b[0m \u001b[0mtutil\u001b[0m\u001b[1;33m.\u001b[0m\u001b[0mfigure_1\u001b[0m\u001b[1;33m(\u001b[0m\u001b[0mirf\u001b[0m\u001b[1;33m,\u001b[0m \u001b[0mss\u001b[0m\u001b[1;33m,\u001b[0m \u001b[0mdr\u001b[0m\u001b[1;33m)\u001b[0m\u001b[1;33m\u001b[0m\u001b[1;33m\u001b[0m\u001b[0m\n",
      "\u001b[1;32m~\\anaconda3\\envs\\ECB\\lib\\site-packages\\sequence_jacobian\\blocks\\block.py\u001b[0m in \u001b[0;36msolve_impulse_linear\u001b[1;34m(self, ss, unknowns, targets, inputs, outputs, Js, options, H_U_factored, **kwargs)\u001b[0m\n\u001b[0;32m    234\u001b[0m         \u001b[1;32mif\u001b[0m \u001b[0mH_U_factored\u001b[0m \u001b[1;32mis\u001b[0m \u001b[1;32mNone\u001b[0m\u001b[1;33m:\u001b[0m\u001b[1;33m\u001b[0m\u001b[1;33m\u001b[0m\u001b[0m\n\u001b[0;32m    235\u001b[0m             \u001b[0mH_U\u001b[0m \u001b[1;33m=\u001b[0m \u001b[0mself\u001b[0m\u001b[1;33m.\u001b[0m\u001b[0mjacobian\u001b[0m\u001b[1;33m(\u001b[0m\u001b[0mss\u001b[0m\u001b[1;33m,\u001b[0m \u001b[0munknowns\u001b[0m\u001b[1;33m,\u001b[0m \u001b[0mtargets\u001b[0m\u001b[1;33m,\u001b[0m \u001b[0mT\u001b[0m\u001b[1;33m,\u001b[0m \u001b[0mJs\u001b[0m\u001b[1;33m,\u001b[0m \u001b[0moptions\u001b[0m\u001b[1;33m,\u001b[0m \u001b[1;33m**\u001b[0m\u001b[0mkwargs\u001b[0m\u001b[1;33m)\u001b[0m\u001b[1;33m.\u001b[0m\u001b[0mpack\u001b[0m\u001b[1;33m(\u001b[0m\u001b[0mT\u001b[0m\u001b[1;33m)\u001b[0m\u001b[1;33m\u001b[0m\u001b[1;33m\u001b[0m\u001b[0m\n\u001b[1;32m--> 236\u001b[1;33m             \u001b[0mdU\u001b[0m \u001b[1;33m=\u001b[0m \u001b[0mImpulseDict\u001b[0m\u001b[1;33m.\u001b[0m\u001b[0munpack\u001b[0m\u001b[1;33m(\u001b[0m\u001b[1;33m-\u001b[0m\u001b[0mnp\u001b[0m\u001b[1;33m.\u001b[0m\u001b[0mlinalg\u001b[0m\u001b[1;33m.\u001b[0m\u001b[0msolve\u001b[0m\u001b[1;33m(\u001b[0m\u001b[0mH_U\u001b[0m\u001b[1;33m,\u001b[0m \u001b[0mdH\u001b[0m\u001b[1;33m.\u001b[0m\u001b[0mpack\u001b[0m\u001b[1;33m(\u001b[0m\u001b[1;33m)\u001b[0m\u001b[1;33m)\u001b[0m\u001b[1;33m,\u001b[0m \u001b[0munknowns\u001b[0m\u001b[1;33m,\u001b[0m \u001b[0mT\u001b[0m\u001b[1;33m)\u001b[0m\u001b[1;33m\u001b[0m\u001b[1;33m\u001b[0m\u001b[0m\n\u001b[0m\u001b[0;32m    237\u001b[0m         \u001b[1;32melse\u001b[0m\u001b[1;33m:\u001b[0m\u001b[1;33m\u001b[0m\u001b[1;33m\u001b[0m\u001b[0m\n\u001b[0;32m    238\u001b[0m             \u001b[0mdU\u001b[0m \u001b[1;33m=\u001b[0m \u001b[0mH_U_factored\u001b[0m \u001b[1;33m@\u001b[0m \u001b[0mdH\u001b[0m\u001b[1;33m\u001b[0m\u001b[1;33m\u001b[0m\u001b[0m\n",
      "\u001b[1;32m<__array_function__ internals>\u001b[0m in \u001b[0;36msolve\u001b[1;34m(*args, **kwargs)\u001b[0m\n",
      "\u001b[1;32m~\\anaconda3\\envs\\ECB\\lib\\site-packages\\numpy\\linalg\\linalg.py\u001b[0m in \u001b[0;36msolve\u001b[1;34m(a, b)\u001b[0m\n\u001b[0;32m    392\u001b[0m     \u001b[0msignature\u001b[0m \u001b[1;33m=\u001b[0m \u001b[1;34m'DD->D'\u001b[0m \u001b[1;32mif\u001b[0m \u001b[0misComplexType\u001b[0m\u001b[1;33m(\u001b[0m\u001b[0mt\u001b[0m\u001b[1;33m)\u001b[0m \u001b[1;32melse\u001b[0m \u001b[1;34m'dd->d'\u001b[0m\u001b[1;33m\u001b[0m\u001b[1;33m\u001b[0m\u001b[0m\n\u001b[0;32m    393\u001b[0m     \u001b[0mextobj\u001b[0m \u001b[1;33m=\u001b[0m \u001b[0mget_linalg_error_extobj\u001b[0m\u001b[1;33m(\u001b[0m\u001b[0m_raise_linalgerror_singular\u001b[0m\u001b[1;33m)\u001b[0m\u001b[1;33m\u001b[0m\u001b[1;33m\u001b[0m\u001b[0m\n\u001b[1;32m--> 394\u001b[1;33m     \u001b[0mr\u001b[0m \u001b[1;33m=\u001b[0m \u001b[0mgufunc\u001b[0m\u001b[1;33m(\u001b[0m\u001b[0ma\u001b[0m\u001b[1;33m,\u001b[0m \u001b[0mb\u001b[0m\u001b[1;33m,\u001b[0m \u001b[0msignature\u001b[0m\u001b[1;33m=\u001b[0m\u001b[0msignature\u001b[0m\u001b[1;33m,\u001b[0m \u001b[0mextobj\u001b[0m\u001b[1;33m=\u001b[0m\u001b[0mextobj\u001b[0m\u001b[1;33m)\u001b[0m\u001b[1;33m\u001b[0m\u001b[1;33m\u001b[0m\u001b[0m\n\u001b[0m\u001b[0;32m    395\u001b[0m \u001b[1;33m\u001b[0m\u001b[0m\n\u001b[0;32m    396\u001b[0m     \u001b[1;32mreturn\u001b[0m \u001b[0mwrap\u001b[0m\u001b[1;33m(\u001b[0m\u001b[0mr\u001b[0m\u001b[1;33m.\u001b[0m\u001b[0mastype\u001b[0m\u001b[1;33m(\u001b[0m\u001b[0mresult_t\u001b[0m\u001b[1;33m,\u001b[0m \u001b[0mcopy\u001b[0m\u001b[1;33m=\u001b[0m\u001b[1;32mFalse\u001b[0m\u001b[1;33m)\u001b[0m\u001b[1;33m)\u001b[0m\u001b[1;33m\u001b[0m\u001b[1;33m\u001b[0m\u001b[0m\n",
      "\u001b[1;32m~\\anaconda3\\envs\\ECB\\lib\\site-packages\\numpy\\linalg\\linalg.py\u001b[0m in \u001b[0;36m_raise_linalgerror_singular\u001b[1;34m(err, flag)\u001b[0m\n\u001b[0;32m     86\u001b[0m \u001b[1;33m\u001b[0m\u001b[0m\n\u001b[0;32m     87\u001b[0m \u001b[1;32mdef\u001b[0m \u001b[0m_raise_linalgerror_singular\u001b[0m\u001b[1;33m(\u001b[0m\u001b[0merr\u001b[0m\u001b[1;33m,\u001b[0m \u001b[0mflag\u001b[0m\u001b[1;33m)\u001b[0m\u001b[1;33m:\u001b[0m\u001b[1;33m\u001b[0m\u001b[1;33m\u001b[0m\u001b[0m\n\u001b[1;32m---> 88\u001b[1;33m     \u001b[1;32mraise\u001b[0m \u001b[0mLinAlgError\u001b[0m\u001b[1;33m(\u001b[0m\u001b[1;34m\"Singular matrix\"\u001b[0m\u001b[1;33m)\u001b[0m\u001b[1;33m\u001b[0m\u001b[1;33m\u001b[0m\u001b[0m\n\u001b[0m\u001b[0;32m     89\u001b[0m \u001b[1;33m\u001b[0m\u001b[0m\n\u001b[0;32m     90\u001b[0m \u001b[1;32mdef\u001b[0m \u001b[0m_raise_linalgerror_nonposdef\u001b[0m\u001b[1;33m(\u001b[0m\u001b[0merr\u001b[0m\u001b[1;33m,\u001b[0m \u001b[0mflag\u001b[0m\u001b[1;33m)\u001b[0m\u001b[1;33m:\u001b[0m\u001b[1;33m\u001b[0m\u001b[1;33m\u001b[0m\u001b[0m\n",
      "\u001b[1;31mLinAlgError\u001b[0m: Singular matrix"
     ]
    }
   ],
   "source": [
    "irf = HARK_HANK.solve_impulse_linear(HARK_SteadyState_Dict, ['Y'], ['asset_mkt'], shocks) #{'r_ante': dr})\n",
    "tutil.figure_1(irf, HARK_SteadyState_Dict, dr)"
   ]
  },
  {
   "cell_type": "markdown",
   "id": "cordless-upper",
   "metadata": {},
   "source": [
    "# Case 2: With Fiscal Policy"
   ]
  },
  {
   "cell_type": "code",
   "execution_count": 36,
   "id": "killing-preservation",
   "metadata": {},
   "outputs": [],
   "source": [
    "@sj.simple\n",
    "def fiscal(B, r, G, Y): \n",
    "    T = (1 + r) * B(-1) + G - B\n",
    "    Z = Y - T\n",
    "    \n",
    "    deficit = G - T\n",
    "    \n",
    "    return T, Z, deficit"
   ]
  },
  {
   "cell_type": "code",
   "execution_count": 37,
   "id": "compatible-plaza",
   "metadata": {},
   "outputs": [
    {
     "name": "stdout",
     "output_type": "stream",
     "text": [
      "T_ss: 0.0\n",
      "Z_ss: 1.0\n",
      "C_ss: 1.0\n"
     ]
    }
   ],
   "source": [
    "r_ss = 1.03 - 1\n",
    "G_ss = 0\n",
    "B_ss = 0 # this is lower than the tutorial by Straub et al. because need Higher MPC\n",
    "A_ss = B_ss\n",
    "Y_ss = 1.0\n",
    "tau = 0.0\n",
    "\n",
    "T_ss = fiscal_ss(B_ss,r_ss,G_ss)\n",
    "\n",
    "print('T_ss: ' +str(T_ss))\n",
    "\n",
    "Z_ss = Y_ss - T_ss\n",
    "\n",
    "C_ss= Y_ss - G_ss\n",
    "print('Z_ss: ' +str(Z_ss))\n",
    "\n",
    "print('C_ss: ' +str(Y_ss - G_ss))"
   ]
  },
  {
   "cell_type": "markdown",
   "id": "prompt-charleston",
   "metadata": {},
   "source": [
    "## Steady State GE"
   ]
  },
  {
   "cell_type": "code",
   "execution_count": 38,
   "id": "herbal-allergy",
   "metadata": {},
   "outputs": [],
   "source": [
    "Agent_Case2 = IndShockConsumerType(**Dict, verbose = False)"
   ]
  },
  {
   "cell_type": "code",
   "execution_count": 39,
   "id": "widespread-heath",
   "metadata": {},
   "outputs": [
    {
     "name": "stdout",
     "output_type": "stream",
     "text": [
      "Seconds to compute steady state 3.1303212642669678\n"
     ]
    }
   ],
   "source": [
    "start = time.time()\n",
    "Agent_Case2.compute_steady_state()\n",
    "print('Seconds to compute steady state', time.time() - start)"
   ]
  },
  {
   "cell_type": "code",
   "execution_count": 41,
   "id": "special-thing",
   "metadata": {},
   "outputs": [
    {
     "name": "stdout",
     "output_type": "stream",
     "text": [
      "Seconds to calculate Jacobian 8.56761121749878\n"
     ]
    }
   ],
   "source": [
    "start = time.time()\n",
    "\n",
    "CJACR_Case2, AJACR_Case2 = Agent_Case2.calc_jacobian('Rfree',T)\n",
    "\n",
    "print('Seconds to calculate Jacobian', time.time() - start)"
   ]
  },
  {
   "cell_type": "code",
   "execution_count": 42,
   "id": "textile-wales",
   "metadata": {},
   "outputs": [],
   "source": [
    "HARK_SteadyState_Dict_Case2 = SteadyStateDict({\"G\": 1.0, \"asset_mkt\":0.0, \"C\": C_ss, \"r\": r_ss, \"Y\": Y_ss, \"B\":B_ss, \"G\":G_ss, \"A\": A_ss,  \"r_ante\": r_ss })\n",
    "HARK_Jacobian_Dict_Case2 = JacobianDict( { 'C' : {'r_ante' : CJACR_Case2} ,'A' : {'r_ante' : AJACR_Case2} } )"
   ]
  },
  {
   "cell_type": "code",
   "execution_count": 43,
   "id": "aging-excellence",
   "metadata": {},
   "outputs": [],
   "source": [
    "HARK_HANK_Case2 = create_model([HARK_Jacobian_Dict, fiscal, ex_post_rate, mkt_clearing_simple], name=\"HARK_HANK\")\n",
    "unknowns = ['Y']\n",
    "targets = ['asset_mkt']\n",
    "exogenous = ['r_ante']"
   ]
  },
  {
   "cell_type": "code",
   "execution_count": 44,
   "id": "alert-jonathan",
   "metadata": {},
   "outputs": [
    {
     "ename": "LinAlgError",
     "evalue": "Singular matrix",
     "output_type": "error",
     "traceback": [
      "\u001b[1;31m---------------------------------------------------------------------------\u001b[0m",
      "\u001b[1;31mLinAlgError\u001b[0m                               Traceback (most recent call last)",
      "\u001b[1;32m<ipython-input-44-428e50638700>\u001b[0m in \u001b[0;36m<cell line: 1>\u001b[1;34m()\u001b[0m\n\u001b[1;32m----> 1\u001b[1;33m \u001b[0mirf_Case2\u001b[0m \u001b[1;33m=\u001b[0m \u001b[0mHARK_HANK_Case2\u001b[0m\u001b[1;33m.\u001b[0m\u001b[0msolve_impulse_linear\u001b[0m\u001b[1;33m(\u001b[0m\u001b[0mHARK_SteadyState_Dict_Case2\u001b[0m\u001b[1;33m,\u001b[0m \u001b[1;33m[\u001b[0m\u001b[1;34m'Y'\u001b[0m\u001b[1;33m]\u001b[0m\u001b[1;33m,\u001b[0m \u001b[1;33m[\u001b[0m\u001b[1;34m'asset_mkt'\u001b[0m\u001b[1;33m]\u001b[0m\u001b[1;33m,\u001b[0m \u001b[0mshocks\u001b[0m\u001b[1;33m)\u001b[0m \u001b[1;31m#{'r_ante': dr})\u001b[0m\u001b[1;33m\u001b[0m\u001b[1;33m\u001b[0m\u001b[0m\n\u001b[0m\u001b[0;32m      2\u001b[0m \u001b[0mtutil\u001b[0m\u001b[1;33m.\u001b[0m\u001b[0mfigure_1\u001b[0m\u001b[1;33m(\u001b[0m\u001b[0mirf_Case2\u001b[0m\u001b[1;33m,\u001b[0m \u001b[0mHARK_SteadyState_Dict_Case2\u001b[0m\u001b[1;33m,\u001b[0m \u001b[0mdr\u001b[0m\u001b[1;33m)\u001b[0m\u001b[1;33m\u001b[0m\u001b[1;33m\u001b[0m\u001b[0m\n",
      "\u001b[1;32m~\\anaconda3\\envs\\ECB\\lib\\site-packages\\sequence_jacobian\\blocks\\block.py\u001b[0m in \u001b[0;36msolve_impulse_linear\u001b[1;34m(self, ss, unknowns, targets, inputs, outputs, Js, options, H_U_factored, **kwargs)\u001b[0m\n\u001b[0;32m    234\u001b[0m         \u001b[1;32mif\u001b[0m \u001b[0mH_U_factored\u001b[0m \u001b[1;32mis\u001b[0m \u001b[1;32mNone\u001b[0m\u001b[1;33m:\u001b[0m\u001b[1;33m\u001b[0m\u001b[1;33m\u001b[0m\u001b[0m\n\u001b[0;32m    235\u001b[0m             \u001b[0mH_U\u001b[0m \u001b[1;33m=\u001b[0m \u001b[0mself\u001b[0m\u001b[1;33m.\u001b[0m\u001b[0mjacobian\u001b[0m\u001b[1;33m(\u001b[0m\u001b[0mss\u001b[0m\u001b[1;33m,\u001b[0m \u001b[0munknowns\u001b[0m\u001b[1;33m,\u001b[0m \u001b[0mtargets\u001b[0m\u001b[1;33m,\u001b[0m \u001b[0mT\u001b[0m\u001b[1;33m,\u001b[0m \u001b[0mJs\u001b[0m\u001b[1;33m,\u001b[0m \u001b[0moptions\u001b[0m\u001b[1;33m,\u001b[0m \u001b[1;33m**\u001b[0m\u001b[0mkwargs\u001b[0m\u001b[1;33m)\u001b[0m\u001b[1;33m.\u001b[0m\u001b[0mpack\u001b[0m\u001b[1;33m(\u001b[0m\u001b[0mT\u001b[0m\u001b[1;33m)\u001b[0m\u001b[1;33m\u001b[0m\u001b[1;33m\u001b[0m\u001b[0m\n\u001b[1;32m--> 236\u001b[1;33m             \u001b[0mdU\u001b[0m \u001b[1;33m=\u001b[0m \u001b[0mImpulseDict\u001b[0m\u001b[1;33m.\u001b[0m\u001b[0munpack\u001b[0m\u001b[1;33m(\u001b[0m\u001b[1;33m-\u001b[0m\u001b[0mnp\u001b[0m\u001b[1;33m.\u001b[0m\u001b[0mlinalg\u001b[0m\u001b[1;33m.\u001b[0m\u001b[0msolve\u001b[0m\u001b[1;33m(\u001b[0m\u001b[0mH_U\u001b[0m\u001b[1;33m,\u001b[0m \u001b[0mdH\u001b[0m\u001b[1;33m.\u001b[0m\u001b[0mpack\u001b[0m\u001b[1;33m(\u001b[0m\u001b[1;33m)\u001b[0m\u001b[1;33m)\u001b[0m\u001b[1;33m,\u001b[0m \u001b[0munknowns\u001b[0m\u001b[1;33m,\u001b[0m \u001b[0mT\u001b[0m\u001b[1;33m)\u001b[0m\u001b[1;33m\u001b[0m\u001b[1;33m\u001b[0m\u001b[0m\n\u001b[0m\u001b[0;32m    237\u001b[0m         \u001b[1;32melse\u001b[0m\u001b[1;33m:\u001b[0m\u001b[1;33m\u001b[0m\u001b[1;33m\u001b[0m\u001b[0m\n\u001b[0;32m    238\u001b[0m             \u001b[0mdU\u001b[0m \u001b[1;33m=\u001b[0m \u001b[0mH_U_factored\u001b[0m \u001b[1;33m@\u001b[0m \u001b[0mdH\u001b[0m\u001b[1;33m\u001b[0m\u001b[1;33m\u001b[0m\u001b[0m\n",
      "\u001b[1;32m<__array_function__ internals>\u001b[0m in \u001b[0;36msolve\u001b[1;34m(*args, **kwargs)\u001b[0m\n",
      "\u001b[1;32m~\\anaconda3\\envs\\ECB\\lib\\site-packages\\numpy\\linalg\\linalg.py\u001b[0m in \u001b[0;36msolve\u001b[1;34m(a, b)\u001b[0m\n\u001b[0;32m    392\u001b[0m     \u001b[0msignature\u001b[0m \u001b[1;33m=\u001b[0m \u001b[1;34m'DD->D'\u001b[0m \u001b[1;32mif\u001b[0m \u001b[0misComplexType\u001b[0m\u001b[1;33m(\u001b[0m\u001b[0mt\u001b[0m\u001b[1;33m)\u001b[0m \u001b[1;32melse\u001b[0m \u001b[1;34m'dd->d'\u001b[0m\u001b[1;33m\u001b[0m\u001b[1;33m\u001b[0m\u001b[0m\n\u001b[0;32m    393\u001b[0m     \u001b[0mextobj\u001b[0m \u001b[1;33m=\u001b[0m \u001b[0mget_linalg_error_extobj\u001b[0m\u001b[1;33m(\u001b[0m\u001b[0m_raise_linalgerror_singular\u001b[0m\u001b[1;33m)\u001b[0m\u001b[1;33m\u001b[0m\u001b[1;33m\u001b[0m\u001b[0m\n\u001b[1;32m--> 394\u001b[1;33m     \u001b[0mr\u001b[0m \u001b[1;33m=\u001b[0m \u001b[0mgufunc\u001b[0m\u001b[1;33m(\u001b[0m\u001b[0ma\u001b[0m\u001b[1;33m,\u001b[0m \u001b[0mb\u001b[0m\u001b[1;33m,\u001b[0m \u001b[0msignature\u001b[0m\u001b[1;33m=\u001b[0m\u001b[0msignature\u001b[0m\u001b[1;33m,\u001b[0m \u001b[0mextobj\u001b[0m\u001b[1;33m=\u001b[0m\u001b[0mextobj\u001b[0m\u001b[1;33m)\u001b[0m\u001b[1;33m\u001b[0m\u001b[1;33m\u001b[0m\u001b[0m\n\u001b[0m\u001b[0;32m    395\u001b[0m \u001b[1;33m\u001b[0m\u001b[0m\n\u001b[0;32m    396\u001b[0m     \u001b[1;32mreturn\u001b[0m \u001b[0mwrap\u001b[0m\u001b[1;33m(\u001b[0m\u001b[0mr\u001b[0m\u001b[1;33m.\u001b[0m\u001b[0mastype\u001b[0m\u001b[1;33m(\u001b[0m\u001b[0mresult_t\u001b[0m\u001b[1;33m,\u001b[0m \u001b[0mcopy\u001b[0m\u001b[1;33m=\u001b[0m\u001b[1;32mFalse\u001b[0m\u001b[1;33m)\u001b[0m\u001b[1;33m)\u001b[0m\u001b[1;33m\u001b[0m\u001b[1;33m\u001b[0m\u001b[0m\n",
      "\u001b[1;32m~\\anaconda3\\envs\\ECB\\lib\\site-packages\\numpy\\linalg\\linalg.py\u001b[0m in \u001b[0;36m_raise_linalgerror_singular\u001b[1;34m(err, flag)\u001b[0m\n\u001b[0;32m     86\u001b[0m \u001b[1;33m\u001b[0m\u001b[0m\n\u001b[0;32m     87\u001b[0m \u001b[1;32mdef\u001b[0m \u001b[0m_raise_linalgerror_singular\u001b[0m\u001b[1;33m(\u001b[0m\u001b[0merr\u001b[0m\u001b[1;33m,\u001b[0m \u001b[0mflag\u001b[0m\u001b[1;33m)\u001b[0m\u001b[1;33m:\u001b[0m\u001b[1;33m\u001b[0m\u001b[1;33m\u001b[0m\u001b[0m\n\u001b[1;32m---> 88\u001b[1;33m     \u001b[1;32mraise\u001b[0m \u001b[0mLinAlgError\u001b[0m\u001b[1;33m(\u001b[0m\u001b[1;34m\"Singular matrix\"\u001b[0m\u001b[1;33m)\u001b[0m\u001b[1;33m\u001b[0m\u001b[1;33m\u001b[0m\u001b[0m\n\u001b[0m\u001b[0;32m     89\u001b[0m \u001b[1;33m\u001b[0m\u001b[0m\n\u001b[0;32m     90\u001b[0m \u001b[1;32mdef\u001b[0m \u001b[0m_raise_linalgerror_nonposdef\u001b[0m\u001b[1;33m(\u001b[0m\u001b[0merr\u001b[0m\u001b[1;33m,\u001b[0m \u001b[0mflag\u001b[0m\u001b[1;33m)\u001b[0m\u001b[1;33m:\u001b[0m\u001b[1;33m\u001b[0m\u001b[1;33m\u001b[0m\u001b[0m\n",
      "\u001b[1;31mLinAlgError\u001b[0m: Singular matrix"
     ]
    }
   ],
   "source": [
    "irf_Case2 = HARK_HANK_Case2.solve_impulse_linear(HARK_SteadyState_Dict_Case2, ['Y'], ['asset_mkt'], shocks) #{'r_ante': dr})\n",
    "tutil.figure_1(irf_Case2, HARK_SteadyState_Dict_Case2, dr)"
   ]
  },
  {
   "cell_type": "code",
   "execution_count": null,
   "id": "accepted-charm",
   "metadata": {},
   "outputs": [],
   "source": []
  }
 ],
 "metadata": {
  "kernelspec": {
   "display_name": "Python 3 (ipykernel)",
   "language": "python",
   "name": "python3"
  },
  "language_info": {
   "codemirror_mode": {
    "name": "ipython",
    "version": 3
   },
   "file_extension": ".py",
   "mimetype": "text/x-python",
   "name": "python",
   "nbconvert_exporter": "python",
   "pygments_lexer": "ipython3",
   "version": "3.8.8"
  },
  "widgets": {
   "application/vnd.jupyter.widget-state+json": {
    "state": {},
    "version_major": 2,
    "version_minor": 0
   }
  }
 },
 "nbformat": 4,
 "nbformat_minor": 5
}
