{
 "cells": [
  {
   "cell_type": "markdown",
   "id": "chicken-cleanup",
   "metadata": {},
   "source": [
    "# Monetary Policy\n",
    "This notebook looks at a monetary policy shocks when there is a government. Here, we replicate [link](https://github.com/shade-econ/nber-workshop-2022/blob/main/Tutorials/Tutorial%202%20Monetary%20Policy.ipynb)"
   ]
  },
  {
   "cell_type": "code",
   "execution_count": 1,
   "id": "hungarian-courtesy",
   "metadata": {},
   "outputs": [],
   "source": [
    "#from ConsIndShockModel import IndShockConsumerType\n",
    "from ConsIndShockModel_HANK import IndShockConsumerType\n",
    "import sequence_jacobian as sj  # SSJ will allow us to define blocks, models, compute IRFs, etc\n",
    "from sequence_jacobian.classes import JacobianDict, SteadyStateDict, UserProvidedSS\n",
    "from sequence_jacobian import het, simple, create_model              # functions\n",
    "from sequence_jacobian.blocks.block import Block\n",
    "from sequence_jacobian.classes.result_dict import ResultDict\n",
    "import matplotlib.pyplot as plt\n",
    "import numpy as np\n",
    "#import numba\n",
    "import time\n",
    "\n",
    "from scipy import optimize"
   ]
  },
  {
   "cell_type": "markdown",
   "id": "basic-challenge",
   "metadata": {},
   "source": [
    "# Case 1: Monetary Policy only"
   ]
  },
  {
   "cell_type": "code",
   "execution_count": 2,
   "id": "choice-puppy",
   "metadata": {},
   "outputs": [
    {
     "name": "stdout",
     "output_type": "stream",
     "text": [
      "T_ss: 0.0\n",
      "Z_ss: 1.0\n",
      "C_ss: 1.0\n"
     ]
    }
   ],
   "source": [
    "#Steady State values\n",
    "def fiscal_ss(B, r, G): \n",
    "    T = (1 + r) * B + G - B\n",
    "    \n",
    "    return T\n",
    "\n",
    "\n",
    "r_ss = 1.01 - 1\n",
    "G_ss = 0\n",
    "B_ss = 0 # this is lower than the tutorial by Straub et al. because need Higher MPC\n",
    "A_ss = B_ss\n",
    "Y_ss = 1.0\n",
    "tau = 0.0\n",
    "\n",
    "T_ss = fiscal_ss(B_ss,r_ss,G_ss)\n",
    "\n",
    "print('T_ss: ' +str(T_ss))\n",
    "\n",
    "Z_ss = Y_ss - T_ss\n",
    "\n",
    "C_ss= Y_ss - G_ss\n",
    "print('Z_ss: ' +str(Z_ss))\n",
    "\n",
    "print('C_ss: ' +str(Y_ss - G_ss))"
   ]
  },
  {
   "cell_type": "code",
   "execution_count": 3,
   "id": "prerequisite-wonder",
   "metadata": {},
   "outputs": [],
   "source": [
    "#------------------------------------------------------------------------------------------------------\n",
    "Dict = {\n",
    "    # Parameters shared with the perfect foresight model\n",
    "    \"CRRA\":2,                              # Coefficient of relative risk aversion\n",
    "    \"Rfree\": 1+r_ss,                    # Interest factor on assets\n",
    "    \"DiscFac\": 0.96,                      # Intertemporal discount factor\n",
    "    \"LivPrb\" : [.99375],                   # Survival probability\n",
    "    \"PermGroFac\" : [1.00],                 # Permanent income growth factor\n",
    "\n",
    "    # Parameters that specify the income distribution over the lifecycle\n",
    "    \"PermShkStd\" : [.06],                  # Standard deviation of log permanent shocks to income\n",
    "    \"PermShkCount\" : 7,                    # Number of points in discrete approximation to permanent income shocks\n",
    "    \"TranShkStd\" : [.2],                   # Standard deviation of log transitory shocks to income\n",
    "    \"TranShkCount\" : 7,    \n",
    "    \n",
    "    # HANK params\n",
    "    \"taxrate\" : [tau], # set to 0.0 because we are going to assume that labor here is actually after tax income\n",
    "    \"labor\": [Y_ss - T_ss],\n",
    "    \"wage\": [1.0],\n",
    "    \n",
    "    # Number of points in discrete approximation to transitory income shocks\n",
    "    \"UnempPrb\" : 0.0,                      # Probability of unemployment while working\n",
    "    \"IncUnemp\" :  0.0,                     # Unemployment benefits replacement rate\n",
    "    \"UnempPrbRet\" : 0.0000,                # Probability of \"unemployment\" while retired\n",
    "    \"IncUnempRet\" : 0.0,                   # \"Unemployment\" benefits when retired\n",
    "    \"T_retire\" : 0.0,                      # Period of retirement (0 --> no retirement)\n",
    "    \"tax_rate\" : 0.0,                      # Flat income tax rate (legacy parameter, will be removed in future)\n",
    "\n",
    "    # Parameters for constructing the \"assets above minimum\" grid\n",
    "    \"aXtraMin\" : 0.0001,                    # Minimum end-of-period \"assets above minimum\" value\n",
    "    \"aXtraMax\" : 1500,                       # Maximum end-of-period \"assets above minimum\" value\n",
    "    \"aXtraCount\" : 300,                     # Number of points in the base grid of \"assets above minimum\"\n",
    "    \"aXtraNestFac\" : 3,                    # Exponential nesting factor when constructing \"assets above minimum\" grid\n",
    "    \"aXtraExtra\" : [None],                 # Additional values to add to aXtraGrid\n",
    "\n",
    "    # A few other parameters\n",
    "    \"BoroCnstArt\" : -0.1, #-0.01,                   # Artificial borrowing constraint; imposed minimum level of end-of period assets\n",
    "    \"vFuncBool\" : False,                   # Whether to calculate the value function during solution\n",
    "    \"CubicBool\" : False,                   # Preference shocks currently only compatible with linear cFunc\n",
    "    \"T_cycle\" : 1,                         # Number of periods in the cycle for this agent type \n",
    "    \n",
    "    # Transition Matrix simulation parameters\n",
    "    \"mCount\": 600,\n",
    "    \"mMax\": 1000,\n",
    "    \"mMin\": 0.0001,\n",
    "    \"mFac\": 3,\n",
    "}\n",
    "T = 300 # Dimention of TxT Jacobian matrix"
   ]
  },
  {
   "cell_type": "code",
   "execution_count": 4,
   "id": "acute-coordinate",
   "metadata": {},
   "outputs": [],
   "source": [
    "# to add taxes, labor and wage\n",
    "def function(taxrate, labor, wage):\n",
    "    \n",
    "    z = (1- taxrate)*labor*wage\n",
    "    return z\n",
    "\n",
    "Dict['TranShkMean_Func'] = [function]"
   ]
  },
  {
   "cell_type": "markdown",
   "id": "emerging-myanmar",
   "metadata": {},
   "source": [
    "# Get GE Steady stead values (TBD)"
   ]
  },
  {
   "cell_type": "code",
   "execution_count": 5,
   "id": "minute-reynolds",
   "metadata": {},
   "outputs": [],
   "source": [
    "### Target only Steady State Asset\n",
    "def ss_func(beta):\n",
    "    Agent_func = IndShockConsumerType(**Dict, verbose = False)\n",
    "    Agent_func.DiscFac = beta\n",
    "    A_ss = Agent_func.compute_steady_state()[0]\n",
    "    return A_ss\n",
    "    \n",
    "\n",
    "def ss_dif(beta):\n",
    "    \n",
    "    return ss_func(beta) - Asset_target \n",
    "\n",
    "Asset_target = B_ss\n",
    "DiscFac = optimize.brentq(ss_dif,.75,.99)"
   ]
  },
  {
   "cell_type": "code",
   "execution_count": 6,
   "id": "blind-battlefield",
   "metadata": {},
   "outputs": [],
   "source": [
    "Dict['DiscFac'] = DiscFac\n",
    "Agent = IndShockConsumerType(**Dict, verbose = False)"
   ]
  },
  {
   "cell_type": "code",
   "execution_count": 7,
   "id": "supported-sunday",
   "metadata": {},
   "outputs": [
    {
     "data": {
      "text/plain": [
       "0.8847823966299798"
      ]
     },
     "execution_count": 7,
     "metadata": {},
     "output_type": "execute_result"
    }
   ],
   "source": [
    "DiscFac"
   ]
  },
  {
   "cell_type": "code",
   "execution_count": 8,
   "id": "structured-yorkshire",
   "metadata": {},
   "outputs": [
    {
     "name": "stdout",
     "output_type": "stream",
     "text": [
      "Seconds to compute steady state 0.8582949638366699\n"
     ]
    }
   ],
   "source": [
    "start = time.time()\n",
    "Agent.compute_steady_state()\n",
    "print('Seconds to compute steady state', time.time() - start)"
   ]
  },
  {
   "cell_type": "code",
   "execution_count": 9,
   "id": "polish-checklist",
   "metadata": {},
   "outputs": [
    {
     "name": "stdout",
     "output_type": "stream",
     "text": [
      "Seconds to calculate Jacobian 8.37693190574646\n"
     ]
    }
   ],
   "source": [
    "start = time.time()\n",
    "\n",
    "CJACR, AJACR = Agent.calc_jacobian('Rfree',T)\n",
    "\n",
    "print('Seconds to calculate Jacobian', time.time() - start)"
   ]
  },
  {
   "cell_type": "code",
   "execution_count": 10,
   "id": "stretch-quilt",
   "metadata": {},
   "outputs": [
    {
     "data": {
      "image/png": "[encoded data removed]",
      "text/plain": [
       "<Figure size 640x480 with 1 Axes>"
      ]
     },
     "metadata": {},
     "output_type": "display_data"
    }
   ],
   "source": [
    "plt.plot(CJACR.T[0])\n",
    "plt.plot(CJACR.T[10])\n",
    "plt.plot(CJACR.T[30])\n",
    "plt.show()"
   ]
  },
  {
   "cell_type": "code",
   "execution_count": 11,
   "id": "facial-preliminary",
   "metadata": {},
   "outputs": [],
   "source": [
    "@sj.simple\n",
    "def ex_post_rate(r_ante):\n",
    "    r = r_ante(-1)\n",
    "    return r\n",
    "\n",
    "@sj.simple\n",
    "def mkt_clearing_simple(A, Y, C):\n",
    "    asset_mkt = A\n",
    "    goods_mkt = C - Y\n",
    "    return asset_mkt, goods_mkt"
   ]
  },
  {
   "cell_type": "code",
   "execution_count": 12,
   "id": "honey-craft",
   "metadata": {},
   "outputs": [],
   "source": [
    "# HARK_SteadyState_Dict = SteadyStateDict({\"G\": 1.0, \"asset_mkt\":0.0, \"C\": C_ss, \"r\": r_ss, \"Y\": Y_ss, \"A\": A_ss, \"r_ante\": r_ss})\n",
    "HARK_Jacobian_Dict = JacobianDict( { 'C' : {'r' : CJACR} ,'A' : {'r' : AJACR} } ) #r_ante"
   ]
  },
  {
   "cell_type": "code",
   "execution_count": 13,
   "id": "afraid-positive",
   "metadata": {},
   "outputs": [],
   "source": [
    "HARK_SteadyState_Dict = SteadyStateDict({\"Y\": Y_ss, \"r_ante\": r_ss, \"r\": r_ss, \"C\": C_ss, \"A\": A_ss, \"asset_mkt\":0.0})"
   ]
  },
  {
   "cell_type": "code",
   "execution_count": 14,
   "id": "competent-division",
   "metadata": {},
   "outputs": [
    {
     "data": {
      "text/plain": [
       "<SteadyStateDict: ['Y', 'r_ante', 'r', 'C', 'A', 'asset_mkt']>"
      ]
     },
     "execution_count": 14,
     "metadata": {},
     "output_type": "execute_result"
    }
   ],
   "source": [
    "HARK_SteadyState_Dict"
   ]
  },
  {
   "cell_type": "code",
   "execution_count": 15,
   "id": "global-space",
   "metadata": {},
   "outputs": [
    {
     "data": {
      "text/plain": [
       "{'r': array([[ 8.96958916e-02, -1.97998173e-01, -8.48598364e-02, ...,\n",
       "         -9.09300815e-21, -9.09300612e-21, -9.09300457e-21],\n",
       "        [ 5.18162739e-02,  8.96958916e-02, -1.57295965e-01, ...,\n",
       "         -8.49610368e-21, -8.49610072e-21, -8.49609905e-21],\n",
       "        [ 2.77398833e-02,  5.18162739e-02,  1.11192424e-01, ...,\n",
       "         -7.94269540e-21, -7.94269242e-21, -7.94268979e-21],\n",
       "        ...,\n",
       "        [-2.66453526e-10, -6.63895500e-14, -8.53403195e-14, ...,\n",
       "          1.18224139e-01, -1.44026414e-01, -6.04575971e-02],\n",
       "        [-2.66453526e-10, -6.63895500e-14, -8.53403195e-14, ...,\n",
       "          6.67000582e-02,  1.18224139e-01, -1.44026414e-01],\n",
       "        [-2.66453526e-10, -6.63895500e-14, -8.53403195e-14, ...,\n",
       "          3.54762911e-02,  6.67000582e-02,  1.18224139e-01]])}"
      ]
     },
     "execution_count": 15,
     "metadata": {},
     "output_type": "execute_result"
    }
   ],
   "source": [
    "HARK_Jacobian_Dict['C']"
   ]
  },
  {
   "cell_type": "code",
   "execution_count": null,
   "id": "completed-policy",
   "metadata": {},
   "outputs": [],
   "source": []
  },
  {
   "cell_type": "code",
   "execution_count": 16,
   "id": "inappropriate-timothy",
   "metadata": {},
   "outputs": [],
   "source": [
    "HARK_HANK = create_model([HARK_Jacobian_Dict, ex_post_rate, mkt_clearing_simple], name=\"HARK_HANK\")\n",
    "unknowns = ['Y']\n",
    "targets = ['asset_mkt']\n",
    "exogenous = ['r_ante']"
   ]
  },
  {
   "cell_type": "code",
   "execution_count": 17,
   "id": "offensive-paint",
   "metadata": {},
   "outputs": [],
   "source": [
    "# Find the linear impulse responses to an \"r\" shock\n",
    "dr = -0.01 * 0.7 ** np.arange(T)\n",
    "shocks = {'r_ante': dr}"
   ]
  },
  {
   "cell_type": "code",
   "execution_count": 18,
   "id": "incredible-approach",
   "metadata": {},
   "outputs": [
    {
     "data": {
      "image/png": "[encoded data removed]",
      "text/plain": [
       "<Figure size 640x480 with 1 Axes>"
      ]
     },
     "metadata": {},
     "output_type": "display_data"
    }
   ],
   "source": [
    "plt.plot(CJACR.T[0])\n",
    "plt.show()"
   ]
  },
  {
   "cell_type": "code",
   "execution_count": 19,
   "id": "lucky-beginning",
   "metadata": {},
   "outputs": [],
   "source": [
    "J_ex_post_rate = ex_post_rate.jacobian(HARK_SteadyState_Dict, inputs=['r_ante'])"
   ]
  },
  {
   "cell_type": "code",
   "execution_count": 20,
   "id": "interracial-router",
   "metadata": {},
   "outputs": [
    {
     "data": {
      "text/plain": [
       "{'r_ante': SimpleSparse({(-1, 0): 1.000})}"
      ]
     },
     "execution_count": 20,
     "metadata": {},
     "output_type": "execute_result"
    }
   ],
   "source": [
    "J_ex_post_rate['r']"
   ]
  },
  {
   "cell_type": "code",
   "execution_count": 21,
   "id": "preceding-money",
   "metadata": {},
   "outputs": [
    {
     "ename": "LinAlgError",
     "evalue": "Singular matrix",
     "output_type": "error",
     "traceback": [
      "\u001b[1;31m---------------------------------------------------------------------------\u001b[0m",
      "\u001b[1;31mLinAlgError\u001b[0m                               Traceback (most recent call last)",
      "\u001b[1;32m<ipython-input-21-cf80351de9cd>\u001b[0m in \u001b[0;36m<cell line: 1>\u001b[1;34m()\u001b[0m\n\u001b[1;32m----> 1\u001b[1;33m \u001b[0mirf\u001b[0m \u001b[1;33m=\u001b[0m \u001b[0mHARK_HANK\u001b[0m\u001b[1;33m.\u001b[0m\u001b[0msolve_impulse_linear\u001b[0m\u001b[1;33m(\u001b[0m\u001b[0mHARK_SteadyState_Dict\u001b[0m\u001b[1;33m,\u001b[0m \u001b[1;33m[\u001b[0m\u001b[1;34m'Y'\u001b[0m\u001b[1;33m]\u001b[0m\u001b[1;33m,\u001b[0m \u001b[1;33m[\u001b[0m\u001b[1;34m'asset_mkt'\u001b[0m\u001b[1;33m]\u001b[0m\u001b[1;33m,\u001b[0m \u001b[0mshocks\u001b[0m\u001b[1;33m)\u001b[0m \u001b[1;31m#{'r_ante': dr})\u001b[0m\u001b[1;33m\u001b[0m\u001b[1;33m\u001b[0m\u001b[0m\n\u001b[0m\u001b[0;32m      2\u001b[0m \u001b[0mtutil\u001b[0m\u001b[1;33m.\u001b[0m\u001b[0mfigure_1\u001b[0m\u001b[1;33m(\u001b[0m\u001b[0mirf\u001b[0m\u001b[1;33m,\u001b[0m \u001b[0mHARK_SteadyState_Dict\u001b[0m\u001b[1;33m,\u001b[0m \u001b[0mdr\u001b[0m\u001b[1;33m)\u001b[0m\u001b[1;33m\u001b[0m\u001b[1;33m\u001b[0m\u001b[0m\n",
      "\u001b[1;32m~\\anaconda3\\envs\\ECB\\lib\\site-packages\\sequence_jacobian\\blocks\\block.py\u001b[0m in \u001b[0;36msolve_impulse_linear\u001b[1;34m(self, ss, unknowns, targets, inputs, outputs, Js, options, H_U_factored, **kwargs)\u001b[0m\n\u001b[0;32m    234\u001b[0m         \u001b[1;32mif\u001b[0m \u001b[0mH_U_factored\u001b[0m \u001b[1;32mis\u001b[0m \u001b[1;32mNone\u001b[0m\u001b[1;33m:\u001b[0m\u001b[1;33m\u001b[0m\u001b[1;33m\u001b[0m\u001b[0m\n\u001b[0;32m    235\u001b[0m             \u001b[0mH_U\u001b[0m \u001b[1;33m=\u001b[0m \u001b[0mself\u001b[0m\u001b[1;33m.\u001b[0m\u001b[0mjacobian\u001b[0m\u001b[1;33m(\u001b[0m\u001b[0mss\u001b[0m\u001b[1;33m,\u001b[0m \u001b[0munknowns\u001b[0m\u001b[1;33m,\u001b[0m \u001b[0mtargets\u001b[0m\u001b[1;33m,\u001b[0m \u001b[0mT\u001b[0m\u001b[1;33m,\u001b[0m \u001b[0mJs\u001b[0m\u001b[1;33m,\u001b[0m \u001b[0moptions\u001b[0m\u001b[1;33m,\u001b[0m \u001b[1;33m**\u001b[0m\u001b[0mkwargs\u001b[0m\u001b[1;33m)\u001b[0m\u001b[1;33m.\u001b[0m\u001b[0mpack\u001b[0m\u001b[1;33m(\u001b[0m\u001b[0mT\u001b[0m\u001b[1;33m)\u001b[0m\u001b[1;33m\u001b[0m\u001b[1;33m\u001b[0m\u001b[0m\n\u001b[1;32m--> 236\u001b[1;33m             \u001b[0mdU\u001b[0m \u001b[1;33m=\u001b[0m \u001b[0mImpulseDict\u001b[0m\u001b[1;33m.\u001b[0m\u001b[0munpack\u001b[0m\u001b[1;33m(\u001b[0m\u001b[1;33m-\u001b[0m\u001b[0mnp\u001b[0m\u001b[1;33m.\u001b[0m\u001b[0mlinalg\u001b[0m\u001b[1;33m.\u001b[0m\u001b[0msolve\u001b[0m\u001b[1;33m(\u001b[0m\u001b[0mH_U\u001b[0m\u001b[1;33m,\u001b[0m \u001b[0mdH\u001b[0m\u001b[1;33m.\u001b[0m\u001b[0mpack\u001b[0m\u001b[1;33m(\u001b[0m\u001b[1;33m)\u001b[0m\u001b[1;33m)\u001b[0m\u001b[1;33m,\u001b[0m \u001b[0munknowns\u001b[0m\u001b[1;33m,\u001b[0m \u001b[0mT\u001b[0m\u001b[1;33m)\u001b[0m\u001b[1;33m\u001b[0m\u001b[1;33m\u001b[0m\u001b[0m\n\u001b[0m\u001b[0;32m    237\u001b[0m         \u001b[1;32melse\u001b[0m\u001b[1;33m:\u001b[0m\u001b[1;33m\u001b[0m\u001b[1;33m\u001b[0m\u001b[0m\n\u001b[0;32m    238\u001b[0m             \u001b[0mdU\u001b[0m \u001b[1;33m=\u001b[0m \u001b[0mH_U_factored\u001b[0m \u001b[1;33m@\u001b[0m \u001b[0mdH\u001b[0m\u001b[1;33m\u001b[0m\u001b[1;33m\u001b[0m\u001b[0m\n",
      "\u001b[1;32m<__array_function__ internals>\u001b[0m in \u001b[0;36msolve\u001b[1;34m(*args, **kwargs)\u001b[0m\n",
      "\u001b[1;32m~\\anaconda3\\envs\\ECB\\lib\\site-packages\\numpy\\linalg\\linalg.py\u001b[0m in \u001b[0;36msolve\u001b[1;34m(a, b)\u001b[0m\n\u001b[0;32m    392\u001b[0m     \u001b[0msignature\u001b[0m \u001b[1;33m=\u001b[0m \u001b[1;34m'DD->D'\u001b[0m \u001b[1;32mif\u001b[0m \u001b[0misComplexType\u001b[0m\u001b[1;33m(\u001b[0m\u001b[0mt\u001b[0m\u001b[1;33m)\u001b[0m \u001b[1;32melse\u001b[0m \u001b[1;34m'dd->d'\u001b[0m\u001b[1;33m\u001b[0m\u001b[1;33m\u001b[0m\u001b[0m\n\u001b[0;32m    393\u001b[0m     \u001b[0mextobj\u001b[0m \u001b[1;33m=\u001b[0m \u001b[0mget_linalg_error_extobj\u001b[0m\u001b[1;33m(\u001b[0m\u001b[0m_raise_linalgerror_singular\u001b[0m\u001b[1;33m)\u001b[0m\u001b[1;33m\u001b[0m\u001b[1;33m\u001b[0m\u001b[0m\n\u001b[1;32m--> 394\u001b[1;33m     \u001b[0mr\u001b[0m \u001b[1;33m=\u001b[0m \u001b[0mgufunc\u001b[0m\u001b[1;33m(\u001b[0m\u001b[0ma\u001b[0m\u001b[1;33m,\u001b[0m \u001b[0mb\u001b[0m\u001b[1;33m,\u001b[0m \u001b[0msignature\u001b[0m\u001b[1;33m=\u001b[0m\u001b[0msignature\u001b[0m\u001b[1;33m,\u001b[0m \u001b[0mextobj\u001b[0m\u001b[1;33m=\u001b[0m\u001b[0mextobj\u001b[0m\u001b[1;33m)\u001b[0m\u001b[1;33m\u001b[0m\u001b[1;33m\u001b[0m\u001b[0m\n\u001b[0m\u001b[0;32m    395\u001b[0m \u001b[1;33m\u001b[0m\u001b[0m\n\u001b[0;32m    396\u001b[0m     \u001b[1;32mreturn\u001b[0m \u001b[0mwrap\u001b[0m\u001b[1;33m(\u001b[0m\u001b[0mr\u001b[0m\u001b[1;33m.\u001b[0m\u001b[0mastype\u001b[0m\u001b[1;33m(\u001b[0m\u001b[0mresult_t\u001b[0m\u001b[1;33m,\u001b[0m \u001b[0mcopy\u001b[0m\u001b[1;33m=\u001b[0m\u001b[1;32mFalse\u001b[0m\u001b[1;33m)\u001b[0m\u001b[1;33m)\u001b[0m\u001b[1;33m\u001b[0m\u001b[1;33m\u001b[0m\u001b[0m\n",
      "\u001b[1;32m~\\anaconda3\\envs\\ECB\\lib\\site-packages\\numpy\\linalg\\linalg.py\u001b[0m in \u001b[0;36m_raise_linalgerror_singular\u001b[1;34m(err, flag)\u001b[0m\n\u001b[0;32m     86\u001b[0m \u001b[1;33m\u001b[0m\u001b[0m\n\u001b[0;32m     87\u001b[0m \u001b[1;32mdef\u001b[0m \u001b[0m_raise_linalgerror_singular\u001b[0m\u001b[1;33m(\u001b[0m\u001b[0merr\u001b[0m\u001b[1;33m,\u001b[0m \u001b[0mflag\u001b[0m\u001b[1;33m)\u001b[0m\u001b[1;33m:\u001b[0m\u001b[1;33m\u001b[0m\u001b[1;33m\u001b[0m\u001b[0m\n\u001b[1;32m---> 88\u001b[1;33m     \u001b[1;32mraise\u001b[0m \u001b[0mLinAlgError\u001b[0m\u001b[1;33m(\u001b[0m\u001b[1;34m\"Singular matrix\"\u001b[0m\u001b[1;33m)\u001b[0m\u001b[1;33m\u001b[0m\u001b[1;33m\u001b[0m\u001b[0m\n\u001b[0m\u001b[0;32m     89\u001b[0m \u001b[1;33m\u001b[0m\u001b[0m\n\u001b[0;32m     90\u001b[0m \u001b[1;32mdef\u001b[0m \u001b[0m_raise_linalgerror_nonposdef\u001b[0m\u001b[1;33m(\u001b[0m\u001b[0merr\u001b[0m\u001b[1;33m,\u001b[0m \u001b[0mflag\u001b[0m\u001b[1;33m)\u001b[0m\u001b[1;33m:\u001b[0m\u001b[1;33m\u001b[0m\u001b[1;33m\u001b[0m\u001b[0m\n",
      "\u001b[1;31mLinAlgError\u001b[0m: Singular matrix"
     ]
    }
   ],
   "source": [
    "irf = HARK_HANK.solve_impulse_linear(HARK_SteadyState_Dict, ['Y'], ['asset_mkt'], shocks) #{'r_ante': dr})\n",
    "tutil.figure_1(irf, HARK_SteadyState_Dict, dr)"
   ]
  },
  {
   "cell_type": "markdown",
   "id": "arctic-schedule",
   "metadata": {},
   "source": [
    "# Case 2: With Fiscal Policy"
   ]
  },
  {
   "cell_type": "code",
   "execution_count": null,
   "id": "recognized-nashville",
   "metadata": {},
   "outputs": [],
   "source": [
    "@sj.simple\n",
    "def fiscal(B, r, G, Y): \n",
    "    T = (1 + r) * B(-1) + G - B\n",
    "    Z = Y - T\n",
    "    \n",
    "    deficit = G - T\n",
    "    \n",
    "    return T, Z, deficit"
   ]
  },
  {
   "cell_type": "code",
   "execution_count": null,
   "id": "working-enforcement",
   "metadata": {},
   "outputs": [],
   "source": [
    "r_ss = 1.03 - 1\n",
    "G_ss = 0\n",
    "B_ss = 0 # this is lower than the tutorial by Straub et al. because need Higher MPC\n",
    "A_ss = B_ss\n",
    "Y_ss = 1.0\n",
    "tau = 0.0\n",
    "\n",
    "T_ss = fiscal_ss(B_ss,r_ss,G_ss)\n",
    "\n",
    "print('T_ss: ' +str(T_ss))\n",
    "\n",
    "Z_ss = Y_ss - T_ss\n",
    "\n",
    "C_ss= Y_ss - G_ss\n",
    "print('Z_ss: ' +str(Z_ss))\n",
    "\n",
    "print('C_ss: ' +str(Y_ss - G_ss))"
   ]
  },
  {
   "cell_type": "markdown",
   "id": "falling-entertainment",
   "metadata": {},
   "source": [
    "## Steady State GE"
   ]
  },
  {
   "cell_type": "code",
   "execution_count": null,
   "id": "quarterly-mechanism",
   "metadata": {},
   "outputs": [],
   "source": [
    "Agent_Case2 = IndShockConsumerType(**Dict, verbose = False)"
   ]
  },
  {
   "cell_type": "code",
   "execution_count": null,
   "id": "welcome-september",
   "metadata": {},
   "outputs": [],
   "source": [
    "start = time.time()\n",
    "Agent_Case2.compute_steady_state()\n",
    "print('Seconds to compute steady state', time.time() - start)"
   ]
  },
  {
   "cell_type": "code",
   "execution_count": null,
   "id": "perceived-anger",
   "metadata": {},
   "outputs": [],
   "source": [
    "start = time.time()\n",
    "\n",
    "CJACR_Case2, AJACR_Case2 = Agent_Case2.calc_jacobian('Rfree',T)\n",
    "\n",
    "print('Seconds to calculate Jacobian', time.time() - start)"
   ]
  },
  {
   "cell_type": "code",
   "execution_count": null,
   "id": "crucial-arctic",
   "metadata": {},
   "outputs": [],
   "source": [
    "HARK_SteadyState_Dict_Case2 = SteadyStateDict({\"G\": 1.0, \"asset_mkt\":0.0, \"C\": C_ss, \"r\": r_ss, \"Y\": Y_ss, \"B\":B_ss, \"G\":G_ss, \"A\": A_ss,  \"r_ante\": r_ss })\n",
    "HARK_Jacobian_Dict_Case2 = JacobianDict( { 'C' : {'r_ante' : CJACR_Case2} ,'A' : {'r_ante' : AJACR_Case2} } )"
   ]
  },
  {
   "cell_type": "code",
   "execution_count": null,
   "id": "talented-print",
   "metadata": {},
   "outputs": [],
   "source": [
    "HARK_HANK_Case2 = create_model([HARK_Jacobian_Dict, fiscal, ex_post_rate, mkt_clearing_simple], name=\"HARK_HANK\")\n",
    "unknowns = ['Y']\n",
    "targets = ['asset_mkt']\n",
    "exogenous = ['r_ante']"
   ]
  },
  {
   "cell_type": "code",
   "execution_count": null,
   "id": "gross-coordinator",
   "metadata": {},
   "outputs": [],
   "source": [
    "irf_Case2 = HARK_HANK_Case2.solve_impulse_linear(HARK_SteadyState_Dict_Case2, ['Y'], ['asset_mkt'], shocks) #{'r_ante': dr})\n",
    "tutil.figure_1(irf_Case2, HARK_SteadyState_Dict_Case2, dr)"
   ]
  },
  {
   "cell_type": "code",
   "execution_count": null,
   "id": "favorite-dimension",
   "metadata": {},
   "outputs": [],
   "source": []
  }
 ],
 "metadata": {
  "kernelspec": {
   "display_name": "Python 3 (ipykernel)",
   "language": "python",
   "name": "python3"
  },
  "language_info": {
   "codemirror_mode": {
    "name": "ipython",
    "version": 3
   },
   "file_extension": ".py",
   "mimetype": "text/x-python",
   "name": "python",
   "nbconvert_exporter": "python",
   "pygments_lexer": "ipython3",
   "version": "3.8.8"
  },
  "widgets": {
   "application/vnd.jupyter.widget-state+json": {
    "state": {},
    "version_major": 2,
    "version_minor": 0
   }
  }
 },
 "nbformat": 4,
 "nbformat_minor": 5
}
