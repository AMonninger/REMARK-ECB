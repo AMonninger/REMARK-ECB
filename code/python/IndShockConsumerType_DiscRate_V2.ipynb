{
 "cells": [
  {
   "cell_type": "markdown",
   "id": "veterinary-system",
   "metadata": {},
   "source": [
    "# Solving a HANK with ex-ante heterogeneity in discount rates\n",
    "Carroll, Slacalek, Tokuoka, White (2017) show that by  having ex-ante hetoerogeneity in discount rates, you can match the Lorenz curve relatively well. Check out a [demonstration](https://github.com/econ-ark/DemARK/blob/master/notebooks/Micro-and-Macro-Implications-of-Very-Impatient-HHs.ipynb) or [replication](https://github.com/econ-ark/DistributionOfWealthMPC) for details."
   ]
  },
  {
   "cell_type": "code",
   "execution_count": 1,
   "id": "genuine-fitting",
   "metadata": {},
   "outputs": [],
   "source": [
    "from ConsIndShockModel_HANK import IndShockConsumerType\n",
    "import sequence_jacobian as sj  # SSJ will allow us to define blocks, models, compute IRFs, etc\n",
    "from sequence_jacobian.classes import JacobianDict, SteadyStateDict, UserProvidedSS\n",
    "from sequence_jacobian import het, simple, create_model              # functions\n",
    "from sequence_jacobian.blocks.block import Block\n",
    "from sequence_jacobian.classes.result_dict import ResultDict\n",
    "import matplotlib.pyplot as plt\n",
    "import math\n",
    "import numpy as np\n",
    "import pickle\n",
    "import xarray as xr\n",
    "import time\n",
    "from scipy import stats\n",
    "from scipy.special import erf, erfc\n",
    "from warnings import warn\n",
    "from tqdm import tqdm\n",
    "from copy import copy, deepcopy\n",
    "from itertools import product\n",
    "\n",
    "from scipy import optimize"
   ]
  },
  {
   "cell_type": "code",
   "execution_count": 2,
   "id": "critical-simulation",
   "metadata": {},
   "outputs": [],
   "source": [
    "class Distribution:\n",
    "    \"\"\"\n",
    "    Base class for all probability distributions.\n",
    "    Parameters\n",
    "    ----------\n",
    "    seed : int\n",
    "        Seed for random number generator.\n",
    "    \"\"\"\n",
    "\n",
    "    def __init__(self, seed=0):\n",
    "        self.RNG = np.random.RandomState(seed)\n",
    "        self.seed = seed\n",
    "\n",
    "    def reset(self):\n",
    "        \"\"\"\n",
    "        Reset the random number generator of this distribution.\n",
    "        Parameters\n",
    "        ----------\n",
    "        \"\"\"\n",
    "        self.RNG = np.random.RandomState(self.seed)"
   ]
  },
  {
   "cell_type": "code",
   "execution_count": 3,
   "id": "medical-prison",
   "metadata": {},
   "outputs": [],
   "source": [
    "class Uniform(Distribution):\n",
    "    \"\"\"\n",
    "    A Uniform distribution.\n",
    "    Parameters\n",
    "    ----------\n",
    "    bot : float or [float]\n",
    "        One or more bottom values.\n",
    "        Number of elements T in mu determines number\n",
    "        of rows of output.\n",
    "    top : float or [float]\n",
    "        One or more top values.\n",
    "        Number of elements T in top determines number of\n",
    "        rows of output.\n",
    "    seed : int\n",
    "        Seed for random number generator.\n",
    "    \"\"\"\n",
    "\n",
    "    bot = None\n",
    "    top = None\n",
    "\n",
    "    def __init__(self, bot=0.0, top=1.0, seed=0):\n",
    "        self.bot = np.array(bot)\n",
    "        self.top = np.array(top)\n",
    "        # Set up the RNG\n",
    "        self.RNG = np.random.RandomState(seed)\n",
    "\n",
    "    def draw(self, N):\n",
    "        \"\"\"\n",
    "        Generate arrays of uniform draws.  The bot and top inputs can be numbers or\n",
    "        list-likes.  If a number, output is a length N array of draws from the\n",
    "        uniform distribution on [bot,top]. If a list, output is a length T list\n",
    "        whose t-th entry is a length N array with draws from the uniform distribution\n",
    "        on [bot[t],top[t]].\n",
    "        Parameters\n",
    "        ----------\n",
    "        N : int\n",
    "            Number of draws in each row.\n",
    "        Returns\n",
    "        -------\n",
    "        draws : np.array or [np.array]\n",
    "            T-length list of arrays of uniform draws each of size N, or a single\n",
    "            array of size N (if sigma is a scalar).\n",
    "        \"\"\"\n",
    "        draws = []\n",
    "        for j in range(self.bot.size):\n",
    "            draws.append(\n",
    "                self.bot.item(j)\n",
    "                + (self.top.item(j) - self.bot.item(j)) * self.RNG.rand(N)\n",
    "            )\n",
    "        return draws[0] if len(draws) == 1 else draws\n",
    "\n",
    "    def approx(self, N, endpoint=False):\n",
    "        \"\"\"\n",
    "        Makes a discrete approximation to this uniform distribution.\n",
    "        Parameters\n",
    "        ----------\n",
    "        N : int\n",
    "            The number of points in the discrete approximation.\n",
    "        endpoint : bool\n",
    "            Whether to include the endpoints in the approximation.\n",
    "        Returns\n",
    "        -------\n",
    "        d : DiscreteDistribution\n",
    "            Probability associated with each point in array of discrete\n",
    "            points for discrete probability mass function.\n",
    "        \"\"\"\n",
    "        pmv = np.ones(N) / float(N)\n",
    "\n",
    "        center = (self.top + self.bot) / 2.0\n",
    "        width = (self.top - self.bot) / 2.0\n",
    "        atoms = center + width * np.linspace(-(N - 1.0) / 2.0, (N - 1.0) / 2.0, N) / (\n",
    "            N / 2.0\n",
    "        )\n",
    "\n",
    "        if endpoint:  # insert endpoints with infinitesimally small mass\n",
    "            atoms = np.concatenate(([self.bot], atoms, [self.top]))\n",
    "            pmv = np.concatenate(([0.0], pmv, [0.0]))\n",
    "\n",
    "        return DiscreteDistribution(\n",
    "            pmv, atoms, seed=self.RNG.randint(0, 2**31 - 1, dtype=\"int32\")\n",
    "        )"
   ]
  },
  {
   "cell_type": "code",
   "execution_count": 4,
   "id": "connected-housing",
   "metadata": {},
   "outputs": [],
   "source": [
    "class DiscreteDistribution(Distribution):\n",
    "    \"\"\"\n",
    "    A representation of a discrete probability distribution.\n",
    "    Parameters\n",
    "    ----------\n",
    "    pmv : np.array\n",
    "        An array of floats representing a probability mass function.\n",
    "    atoms : np.array\n",
    "        Discrete point values for each probability mass.\n",
    "        For multivariate distributions, the last dimension of atoms must index\n",
    "        \"atom\" or the random realization. For instance, if atoms.shape == (2,6,4),\n",
    "        the random variable has 4 possible realizations and each of them has shape (2,6).\n",
    "    seed : int\n",
    "        Seed for random number generator.\n",
    "    \"\"\"\n",
    "\n",
    "    pmv = None\n",
    "    atoms = None\n",
    "\n",
    "    def __init__(self, pmv, atoms, seed=0):\n",
    "\n",
    "        self.pmv = pmv\n",
    "\n",
    "        if len(atoms.shape) < 2:\n",
    "            self.atoms = atoms[None, ...]\n",
    "        else:\n",
    "            self.atoms = atoms\n",
    "\n",
    "        # Set up the RNG\n",
    "        super().__init__(seed)\n",
    "\n",
    "        # Check that pmv and atoms have compatible dimensions.\n",
    "        same_dims = len(pmv) == atoms.shape[-1]\n",
    "        if not same_dims:\n",
    "            raise ValueError(\n",
    "                \"Provided pmv and atoms arrays have incompatible dimensions. \"\n",
    "                + \"The length of the pmv must be equal to that of atoms's last dimension.\"\n",
    "            )\n",
    "\n",
    "    def dim(self):\n",
    "        \"\"\"\n",
    "        Last dimension of self.atoms indexes \"atom.\"\n",
    "        \"\"\"\n",
    "        return self.atoms.shape[:-1]\n",
    "\n",
    "    def draw_events(self, n):\n",
    "        \"\"\"\n",
    "        Draws N 'events' from the distribution PMF.\n",
    "        These events are indices into atoms.\n",
    "        \"\"\"\n",
    "        # Generate a cumulative distribution\n",
    "        base_draws = self.RNG.uniform(size=n)\n",
    "        cum_dist = np.cumsum(self.pmv)\n",
    "\n",
    "        # Convert the basic uniform draws into discrete draws\n",
    "        indices = cum_dist.searchsorted(base_draws)\n",
    "\n",
    "        return indices\n",
    "\n",
    "    def draw(self, N, atoms=None, exact_match=False):\n",
    "        \"\"\"\n",
    "        Simulates N draws from a discrete distribution with probabilities P and outcomes atoms.\n",
    "        Parameters\n",
    "        ----------\n",
    "        N : int\n",
    "            Number of draws to simulate.\n",
    "        atoms : None, int, or np.array\n",
    "            If None, then use this distribution's atoms for point values.\n",
    "            If an int, then the index of atoms for the point values.\n",
    "            If an np.array, use the array for the point values.\n",
    "        exact_match : boolean\n",
    "            Whether the draws should \"exactly\" match the discrete distribution (as\n",
    "            closely as possible given finite draws).  When True, returned draws are\n",
    "            a random permutation of the N-length list that best fits the discrete\n",
    "            distribution.  When False (default), each draw is independent from the\n",
    "            others and the result could deviate from the input.\n",
    "        Returns\n",
    "        -------\n",
    "        draws : np.array\n",
    "            An array of draws from the discrete distribution; each element is a value in atoms.\n",
    "        \"\"\"\n",
    "        if atoms is None:\n",
    "            atoms = self.atoms\n",
    "        elif isinstance(atoms, int):\n",
    "            atoms = self.atoms[atoms]\n",
    "\n",
    "        if exact_match:\n",
    "            events = np.arange(self.pmv.size)  # just a list of integers\n",
    "            cutoffs = np.round(np.cumsum(self.pmv) * N).astype(\n",
    "                int\n",
    "            )  # cutoff points between discrete outcomes\n",
    "            top = 0\n",
    "\n",
    "            # Make a list of event indices that closely matches the discrete distribution\n",
    "            event_list = []\n",
    "            for j in range(events.size):\n",
    "                bot = top\n",
    "                top = cutoffs[j]\n",
    "                event_list += (top - bot) * [events[j]]\n",
    "\n",
    "            # Randomly permute the event indices\n",
    "            indices = self.RNG.permutation(event_list)\n",
    "\n",
    "        # Draw event indices randomly from the discrete distribution\n",
    "        else:\n",
    "            indices = self.draw_events(N)\n",
    "\n",
    "        # Create and fill in the output array of draws based on the output of event indices\n",
    "        draws = atoms[..., indices]\n",
    "\n",
    "        # TODO: some models expect univariate draws to just be a 1d vector. Fix those models.\n",
    "        if len(draws.shape) == 2 and draws.shape[0] == 1:\n",
    "            draws = draws.flatten()\n",
    "\n",
    "        return draws\n",
    "\n",
    "    def expected(self, func=None, *args):\n",
    "        \"\"\"\n",
    "        Expected value of a function, given an array of configurations of its\n",
    "        inputs along with a DiscreteDistribution object that specifies the\n",
    "        probability of each configuration.\n",
    "        Parameters\n",
    "        ----------\n",
    "        func : function\n",
    "            The function to be evaluated.\n",
    "            This function should take the full array of distribution values\n",
    "            and return either arrays of arbitrary shape or scalars.\n",
    "            It may also take other arguments *args.\n",
    "            This function differs from the standalone `calc_expectation`\n",
    "            method in that it uses numpy's vectorization and broadcasting\n",
    "            rules to avoid costly iteration.\n",
    "            Note: If you need to use a function that acts on single outcomes\n",
    "            of the distribution, consier `distribution.calc_expectation`.\n",
    "        *args :\n",
    "            Other inputs for func, representing the non-stochastic arguments.\n",
    "            The the expectation is computed at f(dstn, *args).\n",
    "        Returns\n",
    "        -------\n",
    "        f_exp : np.array or scalar\n",
    "            The expectation of the function at the queried values.\n",
    "            Scalar if only one value.\n",
    "        \"\"\"\n",
    "\n",
    "        if func is None:\n",
    "            # if no function is provided, it's much faster to go straight\n",
    "            # to dot product instead of calling the dummy function.\n",
    "            f_query = self.atoms\n",
    "        else:\n",
    "            # if a function is provided, we need to add one more dimension,\n",
    "            # the atom dimension, to any inputs that are n-dim arrays.\n",
    "            # This allows numpy to easily broadcast the function's output.\n",
    "            # For more information on broadcasting, see:\n",
    "            # https://numpy.org/doc/stable/user/basics.broadcasting.html#general-broadcasting-rules\n",
    "            args = [\n",
    "                arg[..., np.newaxis] if isinstance(arg, np.ndarray) else arg\n",
    "                for arg in args\n",
    "            ]\n",
    "\n",
    "            f_query = func(self.atoms, *args)\n",
    "\n",
    "        f_exp = np.dot(f_query, self.pmv)\n",
    "\n",
    "        return f_exp\n",
    "\n",
    "    def dist_of_func(self, func=lambda x: x, *args):\n",
    "        \"\"\"\n",
    "        Finds the distribution of a random variable Y that is a function\n",
    "        of discrete random variable atoms, Y=f(atoms).\n",
    "        Parameters\n",
    "        ----------\n",
    "        func : function\n",
    "            The function to be evaluated.\n",
    "            This function should take the full array of distribution values.\n",
    "            It may also take other arguments *args.\n",
    "        *args :\n",
    "            Additional non-stochastic arguments for func,\n",
    "            The function is computed as f(dstn, *args).\n",
    "        Returns\n",
    "        -------\n",
    "        f_dstn : DiscreteDistribution\n",
    "            The distribution of func(dstn).\n",
    "        \"\"\"\n",
    "        # we need to add one more dimension,\n",
    "        # the atom dimension, to any inputs that are n-dim arrays.\n",
    "        # This allows numpy to easily broadcast the function's output.\n",
    "        args = [\n",
    "            arg[..., np.newaxis] if isinstance(arg, np.ndarray) else arg for arg in args\n",
    "        ]\n",
    "        f_query = func(self.atoms, *args)\n",
    "\n",
    "        f_dstn = DiscreteDistribution(list(self.pmv), f_query, seed=self.seed)\n",
    "\n",
    "        return f_dstn"
   ]
  },
  {
   "cell_type": "code",
   "execution_count": 40,
   "id": "ongoing-saver",
   "metadata": {},
   "outputs": [
    {
     "name": "stdout",
     "output_type": "stream",
     "text": [
      "T_ss: 0.21200000000000008\n",
      "Z_ss: 0.7879999999999999\n",
      "C_ss: 0.8\n"
     ]
    }
   ],
   "source": [
    "#Steady State values\n",
    "def fiscal_ss(B, r, G): \n",
    "    T = (1 + r) * B + G - B\n",
    "    \n",
    "    return T\n",
    "\n",
    "r_ss = 1.03 - 1\n",
    "G_ss = .2\n",
    "B_ss = 0.4 # this is lower than the tutorial by Straub et al. because need Higher MPC\n",
    "Y_ss = 1.0\n",
    "tau = 0.0\n",
    "\n",
    "T_ss = fiscal_ss(B_ss,r_ss,G_ss)\n",
    "\n",
    "print('T_ss: ' +str(T_ss))\n",
    "\n",
    "Z_ss = Y_ss - T_ss\n",
    "\n",
    "C_ss= Y_ss - G_ss\n",
    "print('Z_ss: ' +str(Z_ss))\n",
    "\n",
    "print('C_ss: ' +str(Y_ss - G_ss))"
   ]
  },
  {
   "cell_type": "code",
   "execution_count": 41,
   "id": "latest-ukraine",
   "metadata": {},
   "outputs": [],
   "source": [
    "# Define a dictionary with calibrated parameters\n",
    "#tau = 0\n",
    "#Y_ss = 1\n",
    "#T_ss = 0\n",
    "cstwMPC_calibrated_parameters = {\n",
    "    \"CRRA\": 1.0,  # Coefficient of relative risk aversion\n",
    "    \"Rfree\": 1.01 / (1.0 - 1.0 / 160.0),  # Survival probability,\n",
    "    \"PermGroFac\": [1.000**0.25],  # Permanent income growth factor (no perm growth),\n",
    "    \"PermGroFacAgg\": 1.0,\n",
    "    \"BoroCnstArt\": 0.0,\n",
    "    \"CubicBool\": False,\n",
    "    \"vFuncBool\": False,\n",
    "    \"PermShkStd\": [\n",
    "        (0.01 * 4 / 11) ** 0.5\n",
    "    ],  # Standard deviation of permanent shocks to income\n",
    "    \"PermShkCount\": 5,  # Number of points in permanent income shock grid\n",
    "    \"TranShkStd\": [\n",
    "        (0.01 * 4) ** 0.5\n",
    "    ],  # Standard deviation of transitory shocks to income,\n",
    "    \"TranShkCount\": 5,  # Number of points in transitory income shock grid\n",
    "    \"UnempPrb\": 0.07,  # Probability of unemployment while working\n",
    "    \"IncUnemp\": 0.15,  # Unemployment benefit replacement rate\n",
    "    \"UnempPrbRet\": 0.07,\n",
    "    \"IncUnempRet\": 0.15,\n",
    "    \"aXtraMin\": 0.00001,  # Minimum end-of-period assets in grid\n",
    "    \"aXtraMax\": 1000,  # Maximum end-of-period assets in grid\n",
    "    \"aXtraCount\": 100,  # Number of points in assets grid\n",
    "    \"aXtraExtra\": [None],\n",
    "    \"aXtraNestFac\": 3,  # Number of times to 'exponentially nest' when constructing assets grid\n",
    "    \"LivPrb\": [1.0 - 1.0 / 160.0],  # Survival probability\n",
    "    \"DiscFac\": 0.97,  # Default intertemporal discount factor; dummy value, will be overwritten\n",
    "    \"cycles\": 0,\n",
    "    \"T_cycle\": 1,\n",
    "    \"T_retire\": 0,\n",
    "    \"T_sim\": 1200,  # Number of periods to simulate (idiosyncratic shocks model, perpetual youth)\n",
    "    \"T_age\": 400,\n",
    "    \"IndL\": 10.0 / 9.0,  # Labor supply per individual (constant),\n",
    "    \"aNrmInitMean\": np.log(0.00001),\n",
    "    \"aNrmInitStd\": 0.0,\n",
    "    \"pLvlInitMean\": 0.0,\n",
    "    \"pLvlInitStd\": 0.0,\n",
    "    \"AgentCount\": 10000,\n",
    "    \n",
    "    # HANK params\n",
    "    \"taxrate\" : [tau], # set to 0.0 because we are going to assume that labor here is actually after tax income\n",
    "    \"labor\": [Y_ss - T_ss],\n",
    "    \"wage\": [1.0],\n",
    "    \n",
    "    # Transition Matrix simulation parameters\n",
    "    \"mCount\": 1000,\n",
    "    \"mMax\": 1000,\n",
    "    \"mMin\": 0.0001,\n",
    "    \"mFac\": 3,\n",
    "}\n",
    "\n",
    "# to add taxes, labor and wage\n",
    "def function(taxrate, labor, wage):\n",
    "    \n",
    "    z = (1- taxrate)*labor*wage\n",
    "    return z\n",
    "\n",
    "cstwMPC_calibrated_parameters['TranShkMean_Func'] = [function]"
   ]
  },
  {
   "cell_type": "code",
   "execution_count": 42,
   "id": "proper-avenue",
   "metadata": {},
   "outputs": [],
   "source": [
    "### Steady State value of "
   ]
  },
  {
   "cell_type": "code",
   "execution_count": null,
   "id": "administrative-british",
   "metadata": {},
   "outputs": [],
   "source": []
  },
  {
   "cell_type": "code",
   "execution_count": 43,
   "id": "martial-trade",
   "metadata": {},
   "outputs": [],
   "source": [
    "### Target only Steady State Asset mean\n",
    "def ss_func(beta):\n",
    "    Agent_func = IndShockConsumerType(**cstwMPC_calibrated_parameters, verbose = False)\n",
    "    Agent_func.DiscFac = beta\n",
    "    A_ss = Agent_func.compute_steady_state()[0]\n",
    "    return A_ss\n",
    "    \n",
    "\n",
    "def ss_dif(beta):    \n",
    "    return ss_func(beta) - Asset_target \n",
    "\n",
    "Asset_target = B_ss\n",
    "DiscFac = optimize.brentq(ss_dif,.75,.99)"
   ]
  },
  {
   "cell_type": "code",
   "execution_count": 44,
   "id": "adolescent-patrick",
   "metadata": {},
   "outputs": [
    {
     "name": "stdout",
     "output_type": "stream",
     "text": [
      "0.9495361442569304\n"
     ]
    }
   ],
   "source": [
    "cstwMPC_calibrated_parameters['DiscFac'] = DiscFac\n",
    "print(DiscFac)"
   ]
  },
  {
   "cell_type": "markdown",
   "id": "moved-mixer",
   "metadata": {},
   "source": [
    "# For 2nd round we need the following conditions\n",
    "1. mean assets stay the same\n",
    "2. Lorenz curve points are met\n",
    "3. Thorn < 1 --> max(DiscFac) < 1/R"
   ]
  },
  {
   "cell_type": "code",
   "execution_count": null,
   "id": "bound-florist",
   "metadata": {},
   "outputs": [],
   "source": []
  },
  {
   "cell_type": "code",
   "execution_count": 47,
   "id": "exciting-burke",
   "metadata": {},
   "outputs": [
    {
     "name": "stdout",
     "output_type": "stream",
     "text": [
      "[0.91620281 0.94953614 0.98286948]\n"
     ]
    }
   ],
   "source": [
    "# This cell constructs seven instances of IndShockConsumerType with different discount factors\n",
    "BaselineType = IndShockConsumerType(**cstwMPC_calibrated_parameters)\n",
    "\n",
    "# Specify the distribution of the discount factor\n",
    "num_types = 3  # number of types we want\n",
    "DiscFac_mean = BaselineType.DiscFac  # center of beta distribution\n",
    "DiscFac_spread = 0.05  # spread of beta distribution\n",
    "DiscFac_dstn = (\n",
    "    Uniform(DiscFac_mean - DiscFac_spread, DiscFac_mean + DiscFac_spread)\n",
    "    .approx(num_types)\n",
    "    .atoms.flatten()\n",
    ")\n",
    "\n",
    "print(DiscFac_dstn)"
   ]
  },
  {
   "cell_type": "code",
   "execution_count": 48,
   "id": "capital-founder",
   "metadata": {},
   "outputs": [],
   "source": [
    "# DiscFac_dstn = [BaselineType.DiscFac, 0.99]\n",
    "# num_types = 2"
   ]
  },
  {
   "cell_type": "code",
   "execution_count": 49,
   "id": "differential-cream",
   "metadata": {},
   "outputs": [],
   "source": [
    "# DiscFac_dstn"
   ]
  },
  {
   "cell_type": "code",
   "execution_count": 50,
   "id": "surprising-survival",
   "metadata": {},
   "outputs": [],
   "source": [
    "MyTypes = []  # initialize an empty list to hold our consumer types\n",
    "for nn in range(num_types):\n",
    "    # Now create the types, and append them to the list MyTypes\n",
    "    NewType = deepcopy(BaselineType)\n",
    "    NewType.DiscFac = DiscFac_dstn[nn]\n",
    "    NewType.seed = nn  # give each consumer type a different RNG seed\n",
    "    MyTypes.append(NewType)"
   ]
  },
  {
   "cell_type": "code",
   "execution_count": 51,
   "id": "virtual-transsexual",
   "metadata": {},
   "outputs": [
    {
     "name": "stderr",
     "output_type": "stream",
     "text": [
      "  0%|                                                                                            | 0/3 [00:00<?, ?it/s]GPFRaw                 = 0.931185 \n",
      "GPFNrm                 = 0.934226 \n",
      "GPFAggLivPrb           = 0.925365 \n",
      "Thorn = APF            = 0.931185 \n",
      "PermGroFacAdj          = 0.996744 \n",
      "uInvEpShkuInv          = 1.000000 \n",
      "VAF                    = 0.910477 \n",
      "WRPF                   = 0.063733 \n",
      "DiscFacGPFNrmMax       = 0.980708 \n",
      "DiscFacGPFAggLivPrbMax = 0.990099 \n",
      " 33%|████████████████████████████                                                        | 1/3 [00:17<00:34, 17.29s/it]GPFRaw                 = 0.965063 \n",
      "GPFNrm                 = 0.968215 \n",
      "GPFAggLivPrb           = 0.959032 \n",
      "Thorn = APF            = 0.965063 \n",
      "PermGroFacAdj          = 0.996744 \n",
      "uInvEpShkuInv          = 1.000000 \n",
      "VAF                    = 0.943602 \n",
      "WRPF                   = 0.066052 \n",
      "DiscFacGPFNrmMax       = 0.980708 \n",
      "DiscFacGPFAggLivPrbMax = 0.990099 \n",
      " 67%|████████████████████████████████████████████████████████                            | 2/3 [00:34<00:17, 17.30s/it]GPFRaw                 = 0.998942 \n",
      "GPFNrm                 = 1.002204 \n",
      "GPFAggLivPrb           = 0.992698 \n",
      "Thorn = APF            = 0.998942 \n",
      "PermGroFacAdj          = 0.996744 \n",
      "uInvEpShkuInv          = 1.000000 \n",
      "VAF                    = 0.976727 \n",
      "WRPF                   = 0.068371 \n",
      "DiscFacGPFNrmMax       = 0.980708 \n",
      "DiscFacGPFAggLivPrbMax = 0.990099 \n",
      "100%|████████████████████████████████████████████████████████████████████████████████████| 3/3 [00:54<00:00, 18.07s/it]\n"
     ]
    }
   ],
   "source": [
    "# Progress bar keeps track interactively of how many have been made\n",
    "for ThisType in tqdm(MyTypes):\n",
    "    ThisType.solve()\n",
    "    ThisType.initialize_sim()\n",
    "    ThisType.simulate()"
   ]
  },
  {
   "cell_type": "code",
   "execution_count": 52,
   "id": "powered-overview",
   "metadata": {},
   "outputs": [
    {
     "name": "stderr",
     "output_type": "stream",
     "text": [
      "GPFRaw                 = 0.965063 \n",
      "GPFNrm                 = 0.968215 \n",
      "GPFAggLivPrb           = 0.959032 \n",
      "Thorn = APF            = 0.965063 \n",
      "PermGroFacAdj          = 0.996744 \n",
      "uInvEpShkuInv          = 1.000000 \n",
      "VAF                    = 0.943602 \n",
      "WRPF                   = 0.066052 \n",
      "DiscFacGPFNrmMax       = 0.980708 \n",
      "DiscFacGPFAggLivPrbMax = 0.990099 \n"
     ]
    },
    {
     "data": {
      "text/plain": [
       "{}"
      ]
     },
     "execution_count": 52,
     "metadata": {},
     "output_type": "execute_result"
    }
   ],
   "source": [
    "# The Baseline Case\n",
    "BaselineType.solve()\n",
    "BaselineType.initialize_sim()\n",
    "BaselineType.simulate()"
   ]
  },
  {
   "cell_type": "code",
   "execution_count": 53,
   "id": "trying-pollution",
   "metadata": {},
   "outputs": [
    {
     "data": {
      "image/png": "[encoded data removed]",
      "text/plain": [
       "<Figure size 640x480 with 1 Axes>"
      ]
     },
     "metadata": {},
     "output_type": "display_data"
    }
   ],
   "source": [
    "# Plot Lorenz curves for model with uniform distribution of time preference\n",
    "from HARK.datasets import load_SCF_wealth_weights\n",
    "from HARK.utilities import get_lorenz_shares, get_percentiles\n",
    "\n",
    "SCF_wealth, SCF_weights = load_SCF_wealth_weights()\n",
    "\n",
    "pctiles = np.linspace(0.001, 0.999, 200)\n",
    "sim_wealth = np.concatenate([ThisType.state_now[\"aLvl\"] for ThisType in MyTypes])\n",
    "SCF_Lorenz_points = get_lorenz_shares(\n",
    "    SCF_wealth, weights=SCF_weights, percentiles=pctiles\n",
    ")\n",
    "sim_Lorenz_points = get_lorenz_shares(sim_wealth, percentiles=pctiles)\n",
    "\n",
    "sim_wealth_Baseline = BaselineType.state_now[\"aLvl\"]\n",
    "sim_Lorenz_Baseline_points = get_lorenz_shares(sim_wealth_Baseline, percentiles=pctiles)\n",
    "\n",
    "plt.plot(pctiles, SCF_Lorenz_points, \"--k\")\n",
    "plt.plot(pctiles, sim_Lorenz_points, \"-b\")\n",
    "plt.plot(pctiles, sim_Lorenz_Baseline_points, \"--r\")\n",
    "plt.xlabel(\"Percentile of net worth\")\n",
    "plt.ylabel(\"Cumulative share of wealth\")\n",
    "plt.show(block=False)"
   ]
  },
  {
   "cell_type": "code",
   "execution_count": 69,
   "id": "median-adaptation",
   "metadata": {},
   "outputs": [
    {
     "name": "stdout",
     "output_type": "stream",
     "text": [
      "0.4023397625193823\n",
      "0.5937530671227247\n"
     ]
    }
   ],
   "source": [
    "# Show that mean assets are the same\n",
    "print(np.mean(BaselineType.state_now[\"aLvl\"]))\n",
    "print(np.mean((MyTypes[0].state_now[\"aLvl\"] + MyTypes[1].state_now[\"aLvl\"] + MyTypes[2].state_now[\"aLvl\"])/3))"
   ]
  },
  {
   "cell_type": "code",
   "execution_count": 54,
   "id": "apart-papua",
   "metadata": {},
   "outputs": [],
   "source": [
    "# Do we get different Impulse Responses?"
   ]
  },
  {
   "cell_type": "code",
   "execution_count": 55,
   "id": "promotional-theater",
   "metadata": {},
   "outputs": [
    {
     "name": "stderr",
     "output_type": "stream",
     "text": [
      "GPFRaw                 = 0.965063 \n",
      "GPFNrm                 = 0.968215 \n",
      "GPFAggLivPrb           = 0.959032 \n",
      "Thorn = APF            = 0.965063 \n",
      "PermGroFacAdj          = 0.996744 \n",
      "uInvEpShkuInv          = 1.000000 \n",
      "VAF                    = 0.943602 \n",
      "WRPF                   = 0.066052 \n",
      "DiscFacGPFNrmMax       = 0.980708 \n",
      "DiscFacGPFAggLivPrbMax = 0.990099 \n"
     ]
    }
   ],
   "source": [
    "BaselineType.compute_steady_state()\n",
    "CJACR_Base,AJACR_Base = BaselineType.calc_jacobian('Rfree',200)\n",
    "CJACN_Base,AJACN_Base = BaselineType.calc_jacobian('labor',200)"
   ]
  },
  {
   "cell_type": "code",
   "execution_count": 56,
   "id": "norman-interface",
   "metadata": {},
   "outputs": [
    {
     "data": {
      "image/png": "[encoded data removed]",
      "text/plain": [
       "<Figure size 640x480 with 1 Axes>"
      ]
     },
     "metadata": {},
     "output_type": "display_data"
    }
   ],
   "source": [
    "plt.plot(CJACR_Base.T[0])\n",
    "plt.plot(CJACR_Base.T[30])\n",
    "plt.plot(CJACR_Base.T[60])\n",
    "plt.show()"
   ]
  },
  {
   "cell_type": "code",
   "execution_count": 62,
   "id": "bronze-ending",
   "metadata": {},
   "outputs": [
    {
     "name": "stderr",
     "output_type": "stream",
     "text": [
      "GPFRaw                 = 0.931185 \n",
      "GPFNrm                 = 0.934226 \n",
      "GPFAggLivPrb           = 0.925365 \n",
      "Thorn = APF            = 0.931185 \n",
      "PermGroFacAdj          = 0.996744 \n",
      "uInvEpShkuInv          = 1.000000 \n",
      "VAF                    = 0.910477 \n",
      "WRPF                   = 0.063733 \n",
      "DiscFacGPFNrmMax       = 0.980708 \n",
      "DiscFacGPFAggLivPrbMax = 0.990099 \n"
     ]
    }
   ],
   "source": [
    "cstwMPC_calibrated_parameters['DiscFac'] = DiscFac_dstn[0]\n",
    "Type0 = IndShockConsumerType(**cstwMPC_calibrated_parameters)\n",
    "Type0.compute_steady_state()\n",
    "CJACR_0,AJACR_0 = Type0.calc_jacobian('Rfree',200)\n",
    "CJACN_0,AJACN_0 = Type0.calc_jacobian('labor',200)"
   ]
  },
  {
   "cell_type": "code",
   "execution_count": 63,
   "id": "raised-gates",
   "metadata": {},
   "outputs": [
    {
     "name": "stderr",
     "output_type": "stream",
     "text": [
      "GPFRaw                 = 0.965063 \n",
      "GPFNrm                 = 0.968215 \n",
      "GPFAggLivPrb           = 0.959032 \n",
      "Thorn = APF            = 0.965063 \n",
      "PermGroFacAdj          = 0.996744 \n",
      "uInvEpShkuInv          = 1.000000 \n",
      "VAF                    = 0.943602 \n",
      "WRPF                   = 0.066052 \n",
      "DiscFacGPFNrmMax       = 0.980708 \n",
      "DiscFacGPFAggLivPrbMax = 0.990099 \n"
     ]
    }
   ],
   "source": [
    "cstwMPC_calibrated_parameters['DiscFac'] = DiscFac_dstn[1]\n",
    "Type1 = IndShockConsumerType(**cstwMPC_calibrated_parameters)\n",
    "Type1.compute_steady_state()\n",
    "CJACR_1,AJACR_1 = Type1.calc_jacobian('Rfree',200)\n",
    "CJACN_1,AJACN_1 = Type1.calc_jacobian('labor',200)"
   ]
  },
  {
   "cell_type": "code",
   "execution_count": 70,
   "id": "static-genius",
   "metadata": {},
   "outputs": [
    {
     "name": "stderr",
     "output_type": "stream",
     "text": [
      "GPFRaw                 = 0.998942 \n",
      "GPFNrm                 = 1.002204 \n",
      "GPFAggLivPrb           = 0.992698 \n",
      "Thorn = APF            = 0.998942 \n",
      "PermGroFacAdj          = 0.996744 \n",
      "uInvEpShkuInv          = 1.000000 \n",
      "VAF                    = 0.976727 \n",
      "WRPF                   = 0.068371 \n",
      "DiscFacGPFNrmMax       = 0.980708 \n",
      "DiscFacGPFAggLivPrbMax = 0.990099 \n"
     ]
    }
   ],
   "source": [
    "cstwMPC_calibrated_parameters['DiscFac'] = DiscFac_dstn[2]\n",
    "Type2 = IndShockConsumerType(**cstwMPC_calibrated_parameters)\n",
    "Type2.compute_steady_state()\n",
    "CJACR_2,AJACR_2 = Type2.calc_jacobian('Rfree',200)\n",
    "CJACN_2,AJACN_2 = Type2.calc_jacobian('labor',200)"
   ]
  },
  {
   "cell_type": "code",
   "execution_count": 71,
   "id": "indonesian-martin",
   "metadata": {},
   "outputs": [],
   "source": [
    "CJACR_het = (CJACR_0 + CJACR_1 + CJACR_2)/3"
   ]
  },
  {
   "cell_type": "code",
   "execution_count": 72,
   "id": "crucial-treasurer",
   "metadata": {},
   "outputs": [
    {
     "data": {
      "image/png": "[encoded data removed]",
      "text/plain": [
       "<Figure size 640x480 with 1 Axes>"
      ]
     },
     "metadata": {},
     "output_type": "display_data"
    }
   ],
   "source": [
    "plt.plot(CJACR_Base.T[0])\n",
    "plt.plot(CJACR_Base.T[30])\n",
    "plt.plot(CJACR_Base.T[60])\n",
    "plt.plot(CJACR_het.T[0], '--')\n",
    "plt.plot(CJACR_het.T[30], '--')\n",
    "plt.plot(CJACR_het.T[60], '--')\n",
    "plt.show()"
   ]
  },
  {
   "cell_type": "code",
   "execution_count": 73,
   "id": "cross-auction",
   "metadata": {},
   "outputs": [],
   "source": [
    "# Let's show impulse responses"
   ]
  },
  {
   "cell_type": "code",
   "execution_count": 74,
   "id": "derived-cleaner",
   "metadata": {},
   "outputs": [],
   "source": [
    "@sj.simple\n",
    "def fiscal(B, r, G, Y): \n",
    "    T = (1 + r) * B(-1) + G - B  # total tax burden\n",
    "    Z = Y - T  # after tax income\n",
    "    deficit = G - T\n",
    "    \n",
    "    return T, Z, deficit\n",
    "\n",
    "@sj.simple\n",
    "def mkt_clearing(A, B, Y, C, G):\n",
    "    asset_mkt = A - B\n",
    "    goods_mkt = C + G - Y\n",
    "    \n",
    "    return asset_mkt, goods_mkt"
   ]
  },
  {
   "cell_type": "code",
   "execution_count": 76,
   "id": "suspended-basket",
   "metadata": {},
   "outputs": [
    {
     "ename": "NameError",
     "evalue": "name 'CJACN_Base' is not defined",
     "output_type": "error",
     "traceback": [
      "\u001b[1;31m---------------------------------------------------------------------------\u001b[0m",
      "\u001b[1;31mNameError\u001b[0m                                 Traceback (most recent call last)",
      "\u001b[1;32m<ipython-input-76-365975d38da0>\u001b[0m in \u001b[0;36m<cell line: 2>\u001b[1;34m()\u001b[0m\n\u001b[0;32m      1\u001b[0m \u001b[0mHARK_SteadyState_Dict\u001b[0m \u001b[1;33m=\u001b[0m \u001b[0mSteadyStateDict\u001b[0m\u001b[1;33m(\u001b[0m\u001b[1;33m{\u001b[0m\u001b[1;34m\"C\"\u001b[0m\u001b[1;33m:\u001b[0m \u001b[0mC_ss\u001b[0m\u001b[1;33m,\u001b[0m \u001b[1;34m\"r\"\u001b[0m\u001b[1;33m:\u001b[0m \u001b[0mr_ss\u001b[0m\u001b[1;33m,\u001b[0m \u001b[1;34m\"Y\"\u001b[0m\u001b[1;33m:\u001b[0m \u001b[0mY_ss\u001b[0m\u001b[1;33m,\u001b[0m \u001b[1;34m\"B\"\u001b[0m\u001b[1;33m:\u001b[0m \u001b[0mB_ss\u001b[0m\u001b[1;33m,\u001b[0m \u001b[1;34m\"G\"\u001b[0m\u001b[1;33m:\u001b[0m\u001b[0mG_ss\u001b[0m\u001b[1;33m,\u001b[0m \u001b[1;34m\"A\"\u001b[0m\u001b[1;33m:\u001b[0m \u001b[0mB_ss\u001b[0m\u001b[1;33m}\u001b[0m\u001b[1;33m)\u001b[0m\u001b[1;33m\u001b[0m\u001b[1;33m\u001b[0m\u001b[0m\n\u001b[1;32m----> 2\u001b[1;33m \u001b[0mHARK_Jacobian_Baseline_Dict\u001b[0m \u001b[1;33m=\u001b[0m \u001b[0mJacobianDict\u001b[0m\u001b[1;33m(\u001b[0m \u001b[1;33m{\u001b[0m \u001b[1;34m'C'\u001b[0m \u001b[1;33m:\u001b[0m \u001b[1;33m{\u001b[0m\u001b[1;34m'Z'\u001b[0m \u001b[1;33m:\u001b[0m \u001b[0mCJACN_Base\u001b[0m\u001b[1;33m,\u001b[0m \u001b[1;34m'r'\u001b[0m\u001b[1;33m:\u001b[0m \u001b[0mCJACR_Base\u001b[0m\u001b[1;33m}\u001b[0m \u001b[1;33m,\u001b[0m\u001b[1;34m'A'\u001b[0m \u001b[1;33m:\u001b[0m \u001b[1;33m{\u001b[0m\u001b[1;34m'Z'\u001b[0m \u001b[1;33m:\u001b[0m \u001b[0mAJACN_Base\u001b[0m\u001b[1;33m,\u001b[0m \u001b[1;34m'r'\u001b[0m\u001b[1;33m:\u001b[0m \u001b[0mAJACR_Base\u001b[0m\u001b[1;33m}\u001b[0m \u001b[1;33m}\u001b[0m \u001b[1;33m)\u001b[0m\u001b[1;33m\u001b[0m\u001b[1;33m\u001b[0m\u001b[0m\n\u001b[0m\u001b[0;32m      3\u001b[0m \u001b[0mHARK_Jacobian_Het_Dict\u001b[0m \u001b[1;33m=\u001b[0m \u001b[0mJacobianDict\u001b[0m\u001b[1;33m(\u001b[0m \u001b[1;33m{\u001b[0m \u001b[1;34m'C'\u001b[0m \u001b[1;33m:\u001b[0m \u001b[1;33m{\u001b[0m\u001b[1;34m'Z'\u001b[0m \u001b[1;33m:\u001b[0m \u001b[0mCJACN_het\u001b[0m\u001b[1;33m,\u001b[0m \u001b[1;34m'r'\u001b[0m\u001b[1;33m:\u001b[0m \u001b[0mCJACR_het\u001b[0m\u001b[1;33m}\u001b[0m \u001b[1;33m,\u001b[0m\u001b[1;34m'A'\u001b[0m \u001b[1;33m:\u001b[0m \u001b[1;33m{\u001b[0m\u001b[1;34m'Z'\u001b[0m \u001b[1;33m:\u001b[0m \u001b[0mAJACN_het\u001b[0m\u001b[1;33m,\u001b[0m \u001b[1;34m'r'\u001b[0m\u001b[1;33m:\u001b[0m \u001b[0mAJACR_het\u001b[0m\u001b[1;33m}\u001b[0m \u001b[1;33m}\u001b[0m \u001b[1;33m)\u001b[0m\u001b[1;33m\u001b[0m\u001b[1;33m\u001b[0m\u001b[0m\n",
      "\u001b[1;31mNameError\u001b[0m: name 'CJACN_Base' is not defined"
     ]
    }
   ],
   "source": [
    "HARK_SteadyState_Dict = SteadyStateDict({\"C\": C_ss, \"r\": r_ss, \"Y\": Y_ss, \"B\": B_ss, \"G\":G_ss, \"A\": B_ss})\n",
    "HARK_Jacobian_Baseline_Dict = JacobianDict( { 'C' : {'Z' : CJACN_Base, 'r': CJACR_Base} ,'A' : {'Z' : AJACN_Base, 'r': AJACR_Base} } ) \n",
    "HARK_Jacobian_Het_Dict = JacobianDict( { 'C' : {'Z' : CJACN_het, 'r': CJACR_het} ,'A' : {'Z' : AJACN_het, 'r': AJACR_het} } ) "
   ]
  },
  {
   "cell_type": "code",
   "execution_count": null,
   "id": "soviet-receipt",
   "metadata": {},
   "outputs": [],
   "source": [
    "HARK_Baseline = create_model([HARK_Jacobian_Baseline_Dict, fiscal, mkt_clearing], name=\"Baseline\")\n",
    "HARK_Het = create_model([HARK_Jacobian_Het_Dict, fiscal, mkt_clearing], name=\"Heterogeneous\")\n",
    "\n",
    "unknowns = ['Y']\n",
    "targets = ['asset_mkt']\n",
    "exogenous = ['G']\n",
    "\n",
    "G_std = .01\n",
    "G_persistence = .8\n",
    "dG =  G_std * G_persistence**np.arange(T)\n",
    "shocks_G = {\"G\": dG}"
   ]
  },
  {
   "cell_type": "code",
   "execution_count": null,
   "id": "difficult-source",
   "metadata": {},
   "outputs": [],
   "source": [
    "irfs_Base = HARK_Baseline.solve_impulse_linear(HARK_SteadyState_Dict, unknowns, targets, shocks_G)\n",
    "irfs_Het = HARK_Het.solve_impulse_linear(HARK_SteadyState_Dict, unknowns, targets, shocks_G)"
   ]
  },
  {
   "cell_type": "code",
   "execution_count": null,
   "id": "hollow-service",
   "metadata": {},
   "outputs": [],
   "source": [
    "def show_irfs(irfs_list, variables, labels=[\" \"], ylabel=r\"Percentage points (dev. from ss)\", T_plot=50, figsize=(18, 6)):\n",
    "    if len(irfs_list) != len(labels):\n",
    "        labels = [\" \"] * len(irfs_list)\n",
    "    n_var = len(variables)\n",
    "    fig, ax = plt.subplots(1, n_var, figsize=figsize, sharex=True)\n",
    "    for i in range(n_var):\n",
    "        # plot all irfs\n",
    "        for j, irf in enumerate(irfs_list):\n",
    "            ax[i].plot(100 * irf[variables[i]][:50], label=labels[j])\n",
    "        ax[i].set_title(variables[i])\n",
    "        ax[i].set_xlabel(r\"$t$\")\n",
    "        if i==0:\n",
    "            ax[i].set_ylabel(ylabel)\n",
    "        ax[i].legend()\n",
    "    plt.show()"
   ]
  },
  {
   "cell_type": "code",
   "execution_count": null,
   "id": "intended-credits",
   "metadata": {},
   "outputs": [],
   "source": [
    "show_irfs([irfs_Base, irfs_Het], ['G', 'Y', 'deficit'], labels=[\"Beta Point\", \"Beta Dist\"])\n",
    "show_irfs([irfs_Base, irfs_Het], ['C', 'A', 'T'], labels=[\"Beta Point\", \"Beta Dist\"])\n",
    "show_irfs([irfs_Base, irfs_Het], ['Z', 'asset_mkt', 'goods_mkt'], labels=[\"Beta Point\", \"Beta Dist\"])"
   ]
  },
  {
   "cell_type": "code",
   "execution_count": 24,
   "id": "working-strength",
   "metadata": {},
   "outputs": [
    {
     "ename": "NameError",
     "evalue": "name 'stop' is not defined",
     "output_type": "error",
     "traceback": [
      "\u001b[1;31m---------------------------------------------------------------------------\u001b[0m",
      "\u001b[1;31mNameError\u001b[0m                                 Traceback (most recent call last)",
      "\u001b[1;32m<ipython-input-24-4f76a9dad686>\u001b[0m in \u001b[0;36m<cell line: 1>\u001b[1;34m()\u001b[0m\n\u001b[1;32m----> 1\u001b[1;33m \u001b[0mstop\u001b[0m\u001b[1;33m\u001b[0m\u001b[1;33m\u001b[0m\u001b[0m\n\u001b[0m",
      "\u001b[1;31mNameError\u001b[0m: name 'stop' is not defined"
     ]
    }
   ],
   "source": [
    "stop"
   ]
  },
  {
   "cell_type": "code",
   "execution_count": null,
   "id": "changing-frame",
   "metadata": {},
   "outputs": [],
   "source": [
    "\n",
    "def jump_to_grid_1D(m_vals, probs ,Dist_mGrid ):\n",
    "    \n",
    "    '''\n",
    "    Distributes values onto a predefined grid, maintaining the means.\n",
    "    \n",
    "    \n",
    "    Parameters\n",
    "    ----------\n",
    "    m_vals: np.array\n",
    "            Market resource values \n",
    "    probs: np.array\n",
    "            Shock probabilities associated with combinations of m_vals. \n",
    "            Can be thought of as the probability mass function  of (m_vals).\n",
    "    \n",
    "    dist_mGrid : np.array\n",
    "            Grid over normalized market resources\n",
    "    Returns\n",
    "    -------\n",
    "    probGrid.flatten(): np.array\n",
    "             Probabilities of each gridpoint on the combined grid of market resources\n",
    "  \n",
    "    ''' \n",
    "\n",
    "    probGrid = np.zeros(len(Dist_mGrid))\n",
    "    mIndex = np.digitize(m_vals,Dist_mGrid) - 1\n",
    "    mIndex[m_vals <= Dist_mGrid[0]] = -1\n",
    "    mIndex[m_vals >= Dist_mGrid[-1]] = len(Dist_mGrid)-1\n",
    "    \n",
    " \n",
    "    for i in range(len(m_vals)):\n",
    "        if mIndex[i]==-1:\n",
    "            mlowerIndex = 0\n",
    "            mupperIndex = 0\n",
    "            mlowerWeight = 1.0\n",
    "            mupperWeight = 0.0\n",
    "        elif mIndex[i]==len(Dist_mGrid)-1:\n",
    "            mlowerIndex = -1\n",
    "            mupperIndex = -1\n",
    "            mlowerWeight = 1.0\n",
    "            mupperWeight = 0.0\n",
    "        else:\n",
    "            mlowerIndex = mIndex[i]\n",
    "            mupperIndex = mIndex[i]+1\n",
    "            mlowerWeight = (Dist_mGrid[mupperIndex]-m_vals[i])/(Dist_mGrid[mupperIndex]-Dist_mGrid[mlowerIndex])\n",
    "            mupperWeight = 1.0 - mlowerWeight\n",
    "            \n",
    "        probGrid[mlowerIndex] +=  probs[i]*mlowerWeight\n",
    "        probGrid[mupperIndex] +=  probs[i]*mupperWeight\n",
    "        \n",
    "    return probGrid.flatten()\n",
    "\n"
   ]
  },
  {
   "cell_type": "code",
   "execution_count": null,
   "id": "specific-season",
   "metadata": {},
   "outputs": [],
   "source": [
    "for ThisType in tqdm(MyTypes):\n",
    "    ThisType.solve()\n",
    "    ThisType.define_distribution_grid(num_pointsP = 80, timestonest = 3)\n",
    "    ThisType.calc_transition_matrix()\n",
    "    ThisType.calc_ergodic_dist()"
   ]
  },
  {
   "cell_type": "code",
   "execution_count": null,
   "id": "casual-cleaning",
   "metadata": {},
   "outputs": [],
   "source": [
    "def compute_pmf(Agent):\n",
    "\n",
    "    aLvl_vals = []\n",
    "\n",
    "    for a in Agent.aPol_Grid:\n",
    "\n",
    "        for p in Agent.dist_pGrid:\n",
    "\n",
    "            aLvl_vals.append(a*p)\n",
    "\n",
    "    aLvl_vals = np.array(aLvl_vals)\n",
    "    pmf = jump_to_grid_1D(aLvl_vals, Agent.vec_erg_dstn, MyTypes[0].aPol_Grid) # probabilities/distribution from transition matrix methods\n",
    "\n",
    "    return pmf"
   ]
  },
  {
   "cell_type": "code",
   "execution_count": null,
   "id": "marine-clock",
   "metadata": {},
   "outputs": [],
   "source": [
    "dstn = np.zeros(100)\n",
    "for ThisType in tqdm(MyTypes):\n",
    "    pmf_this_type = compute_pmf(ThisType)\n",
    "    dstn+= (1/num_types) * pmf_this_type"
   ]
  },
  {
   "cell_type": "code",
   "execution_count": null,
   "id": "australian-outline",
   "metadata": {},
   "outputs": [],
   "source": [
    "TranMatrix_Lorenz_points = get_lorenz_shares(MyTypes[0].aPol_Grid, percentiles=pctiles)"
   ]
  },
  {
   "cell_type": "code",
   "execution_count": null,
   "id": "simplified-lyric",
   "metadata": {},
   "outputs": [],
   "source": [
    "plt.plot(pctiles, SCF_Lorenz_points, \"--k\")\n",
    "plt.plot(pctiles, sim_Lorenz_points, \"-b\")\n",
    "plt.plot(pctiles, TranMatrix_Lorenz_points, \"-r\")\n",
    "plt.xlabel(\"Percentile of net worth\")\n",
    "plt.ylabel(\"Cumulative share of wealth\")\n",
    "plt.show(block=False)"
   ]
  },
  {
   "cell_type": "code",
   "execution_count": null,
   "id": "polyphonic-filename",
   "metadata": {},
   "outputs": [],
   "source": [
    "stop"
   ]
  },
  {
   "cell_type": "code",
   "execution_count": null,
   "id": "rubber-tucson",
   "metadata": {},
   "outputs": [],
   "source": [
    "# Create Jacobians for Type with highest beta (to see if jacobians break or not)"
   ]
  },
  {
   "cell_type": "code",
   "execution_count": null,
   "id": "fifteen-bidding",
   "metadata": {},
   "outputs": [],
   "source": [
    "Agent_7 = IndShockConsumerType(**cstwMPC_calibrated_parameters, verbose = False)\n",
    "Agent_7.DiscFac = DiscFac_dstn[6]"
   ]
  },
  {
   "cell_type": "code",
   "execution_count": null,
   "id": "separated-slovak",
   "metadata": {},
   "outputs": [],
   "source": [
    "Agent_7.compute_steady_state()"
   ]
  },
  {
   "cell_type": "code",
   "execution_count": null,
   "id": "greek-exhibit",
   "metadata": {},
   "outputs": [],
   "source": [
    "CJACR,AJACR = Agent_7.calc_jacobian('Rfree',200)"
   ]
  },
  {
   "cell_type": "code",
   "execution_count": null,
   "id": "behind-tanzania",
   "metadata": {},
   "outputs": [],
   "source": [
    "plt.plot(CJACR.T[0])\n",
    "plt.plot(CJACR.T[30])\n",
    "plt.plot(CJACR.T[60])\n",
    "plt.show()"
   ]
  },
  {
   "cell_type": "code",
   "execution_count": null,
   "id": "prostate-consumption",
   "metadata": {},
   "outputs": [],
   "source": [
    "plt.plot(AJACR.T[0])\n",
    "plt.plot(AJACR.T[30])\n",
    "plt.plot(AJACR.T[60])\n",
    "plt.show()"
   ]
  },
  {
   "cell_type": "code",
   "execution_count": null,
   "id": "fluid-brook",
   "metadata": {},
   "outputs": [],
   "source": [
    "cstwMPC_calibrated_parameters['DiscFac'] = DiscFac_dstn[5]\n",
    "Agent_6 = IndShockConsumerType(**cstwMPC_calibrated_parameters, verbose = False)"
   ]
  },
  {
   "cell_type": "code",
   "execution_count": null,
   "id": "proud-intellectual",
   "metadata": {},
   "outputs": [],
   "source": [
    "Agent_6.compute_steady_state()"
   ]
  },
  {
   "cell_type": "code",
   "execution_count": null,
   "id": "about-invention",
   "metadata": {},
   "outputs": [],
   "source": [
    "CJACR6,AJACR6 = Agent_6.calc_jacobian('Rfree',200)"
   ]
  },
  {
   "cell_type": "code",
   "execution_count": null,
   "id": "exceptional-monitoring",
   "metadata": {},
   "outputs": [],
   "source": [
    "plt.plot(CJACR6.T[0])\n",
    "#plt.plot(CJACR6.T[30])\n",
    "#plt.plot(CJACR6.T[60])\n",
    "plt.show()"
   ]
  },
  {
   "cell_type": "code",
   "execution_count": null,
   "id": "responsible-jamaica",
   "metadata": {},
   "outputs": [],
   "source": [
    "cstwMPC_calibrated_parameters['DiscFac'] = DiscFac_dstn[0]\n",
    "Agent_1 = IndShockConsumerType(**cstwMPC_calibrated_parameters, verbose = False)"
   ]
  },
  {
   "cell_type": "code",
   "execution_count": null,
   "id": "static-crazy",
   "metadata": {},
   "outputs": [],
   "source": [
    "Agent_1.compute_steady_state()"
   ]
  },
  {
   "cell_type": "code",
   "execution_count": null,
   "id": "rotary-stone",
   "metadata": {},
   "outputs": [],
   "source": [
    "CJACR1,AJACR1 = Agent_1.calc_jacobian('Rfree',200)"
   ]
  },
  {
   "cell_type": "code",
   "execution_count": null,
   "id": "average-contrast",
   "metadata": {},
   "outputs": [],
   "source": [
    "plt.plot(CJACR1.T[0])\n",
    "plt.plot(CJACR1.T[30])\n",
    "plt.plot(CJACR1.T[60])\n",
    "plt.show()"
   ]
  },
  {
   "cell_type": "code",
   "execution_count": null,
   "id": "casual-hydrogen",
   "metadata": {},
   "outputs": [],
   "source": [
    "stop"
   ]
  },
  {
   "cell_type": "code",
   "execution_count": null,
   "id": "transparent-bangkok",
   "metadata": {},
   "outputs": [],
   "source": []
  },
  {
   "cell_type": "code",
   "execution_count": null,
   "id": "exact-latex",
   "metadata": {},
   "outputs": [],
   "source": []
  },
  {
   "cell_type": "code",
   "execution_count": null,
   "id": "stable-wedding",
   "metadata": {},
   "outputs": [],
   "source": []
  },
  {
   "cell_type": "code",
   "execution_count": null,
   "id": "eligible-nursery",
   "metadata": {},
   "outputs": [],
   "source": [
    "Agent_1 = IndShockConsumerType(**Dict, verbose = False)"
   ]
  },
  {
   "cell_type": "code",
   "execution_count": null,
   "id": "handed-piece",
   "metadata": {},
   "outputs": [],
   "source": [
    "Dict['DiscFac'] = 0.97\n",
    "Agent_2 = IndShockConsumerType(**Dict, verbose = False)"
   ]
  },
  {
   "cell_type": "code",
   "execution_count": null,
   "id": "prescribed-billion",
   "metadata": {},
   "outputs": [],
   "source": [
    "Dict['DiscFac'] = 0.965\n",
    "Agent_agg = IndShockConsumerType(**Dict, verbose = False)"
   ]
  },
  {
   "cell_type": "code",
   "execution_count": null,
   "id": "enabling-buddy",
   "metadata": {},
   "outputs": [],
   "source": [
    "Agent_1.compute_steady_state()"
   ]
  },
  {
   "cell_type": "code",
   "execution_count": null,
   "id": "informed-horizon",
   "metadata": {},
   "outputs": [],
   "source": [
    "Agent_2.compute_steady_state()"
   ]
  },
  {
   "cell_type": "code",
   "execution_count": null,
   "id": "bearing-tower",
   "metadata": {},
   "outputs": [],
   "source": [
    "Agent_agg.compute_steady_state()"
   ]
  },
  {
   "cell_type": "code",
   "execution_count": null,
   "id": "advised-conservative",
   "metadata": {},
   "outputs": [],
   "source": [
    "CJACR_1, AJACR_1 = Agent_1.calc_jacobian('Rfree',T)\n"
   ]
  },
  {
   "cell_type": "code",
   "execution_count": null,
   "id": "warming-contribution",
   "metadata": {},
   "outputs": [],
   "source": [
    "CJACR_2, AJACR_2 = Agent_2.calc_jacobian('Rfree',T)\n"
   ]
  },
  {
   "cell_type": "code",
   "execution_count": null,
   "id": "detailed-extension",
   "metadata": {},
   "outputs": [],
   "source": [
    "CJACR_agg, AJACR_agg = Agent_agg.calc_jacobian('Rfree',T)\n"
   ]
  },
  {
   "cell_type": "code",
   "execution_count": null,
   "id": "extreme-scene",
   "metadata": {},
   "outputs": [],
   "source": [
    "plt.plot(CJACR_1.T[0])\n",
    "plt.plot(CJACR_1.T[10])\n",
    "plt.plot(CJACR_1.T[30])\n",
    "plt.plot(CJACR_2.T[0], '--')\n",
    "plt.plot(CJACR_2.T[10], '--')\n",
    "plt.plot(CJACR_2.T[30], '--')\n",
    "plt.plot(CJACR_agg.T[0], '+')\n",
    "plt.plot(CJACR_agg.T[10], '+')\n",
    "plt.plot(CJACR_agg.T[30], '+')\n",
    "plt.show()"
   ]
  },
  {
   "cell_type": "code",
   "execution_count": null,
   "id": "russian-momentum",
   "metadata": {},
   "outputs": [],
   "source": [
    "# How to combine Jacobians"
   ]
  },
  {
   "cell_type": "code",
   "execution_count": null,
   "id": "vital-appreciation",
   "metadata": {},
   "outputs": [],
   "source": [
    "CJACR_test = (0.5*CJACR_1) + (0.5*CJACR_2)\n",
    "CJACR_test"
   ]
  },
  {
   "cell_type": "code",
   "execution_count": null,
   "id": "immune-scientist",
   "metadata": {},
   "outputs": [],
   "source": [
    "CJACR_agg"
   ]
  },
  {
   "cell_type": "code",
   "execution_count": null,
   "id": "supported-invention",
   "metadata": {},
   "outputs": [],
   "source": [
    "plt.plot(CJACR_test.T[0])\n",
    "plt.plot(CJACR_test.T[10])\n",
    "plt.plot(CJACR_test.T[30])\n",
    "plt.plot(CJACR_agg.T[0], '+')\n",
    "plt.plot(CJACR_agg.T[10], '+')\n",
    "plt.plot(CJACR_agg.T[30], '+')\n",
    "plt.show()"
   ]
  },
  {
   "cell_type": "code",
   "execution_count": null,
   "id": "thousand-explorer",
   "metadata": {},
   "outputs": [],
   "source": [
    "### GE Steady State\n",
    "# Input: DiscRateFactors\n",
    "# Output: Steady State Assets and Taxes\n",
    "def fiscal_ss(B, r, G): \n",
    "    T = (1 + r) * B + G - B\n",
    "    \n",
    "    return T\n",
    "\n",
    "### Target only Steady State Asset\n",
    "def ss_func(B_ss, r, G):\n",
    "    Tss = fiscal_ss(B_ss, r, G)\n",
    "    print(T_ss)\n",
    "    Dict[\"labor\"] = [Y_ss - T_ss]\n",
    "    Dict[\"DiscFac\"] = 0.96\n",
    "    Agent_func1 = IndShockConsumerType(**Dict, verbose = False)\n",
    "    Dict[\"DiscFac\"] = 0.97\n",
    "    Agent_func2 = IndShockConsumerType(**Dict, verbose = False)\n",
    "    A_ss1 = Agent_func1.compute_steady_state()[0]\n",
    "    A_ss2 = Agent_func2.compute_steady_state()[0]\n",
    "    A_ss = 0.5*A_ss1 + 0.5*A_ss2\n",
    "    print('A_ss: ' + str(A_ss))\n",
    "    print('B_ss: ' + str(B_ss))\n",
    "    return A_ss\n",
    "    \n",
    "\n",
    "def ss_dif(B_ss):\n",
    "    \n",
    "    return ss_func(B_ss, r_ss, G_ss) - B_ss \n",
    "\n",
    "#Asset_target = B_ss\n",
    "B_ss_new = optimize.brentq(ss_dif,0,2)\n",
    "print(B_ss_new)\n",
    "\n"
   ]
  },
  {
   "cell_type": "code",
   "execution_count": null,
   "id": "governing-commodity",
   "metadata": {},
   "outputs": [],
   "source": [
    "fiscal_ss(B_ss, r_ss, G_ss)"
   ]
  },
  {
   "cell_type": "code",
   "execution_count": null,
   "id": "adopted-petroleum",
   "metadata": {},
   "outputs": [],
   "source": [
    "B_ss"
   ]
  },
  {
   "cell_type": "code",
   "execution_count": null,
   "id": "separate-venezuela",
   "metadata": {},
   "outputs": [],
   "source": [
    "r_ss"
   ]
  },
  {
   "cell_type": "code",
   "execution_count": null,
   "id": "criminal-newsletter",
   "metadata": {},
   "outputs": [],
   "source": [
    "G_ss"
   ]
  },
  {
   "cell_type": "code",
   "execution_count": null,
   "id": "threaded-flight",
   "metadata": {},
   "outputs": [],
   "source": []
  }
 ],
 "metadata": {
  "kernelspec": {
   "display_name": "Python 3 (ipykernel)",
   "language": "python",
   "name": "python3"
  },
  "language_info": {
   "codemirror_mode": {
    "name": "ipython",
    "version": 3
   },
   "file_extension": ".py",
   "mimetype": "text/x-python",
   "name": "python",
   "nbconvert_exporter": "python",
   "pygments_lexer": "ipython3",
   "version": "3.8.8"
  },
  "widgets": {
   "application/vnd.jupyter.widget-state+json": {
    "state": {},
    "version_major": 2,
    "version_minor": 0
   }
  }
 },
 "nbformat": 4,
 "nbformat_minor": 5
}
