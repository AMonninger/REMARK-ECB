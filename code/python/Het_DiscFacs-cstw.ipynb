{
 "cells": [
  {
   "cell_type": "markdown",
   "id": "4ec2c3a0",
   "metadata": {},
   "source": [
    "#  Heterogenous Discount Factors "
   ]
  },
  {
   "cell_type": "code",
   "execution_count": 1,
   "id": "37ca5c3e",
   "metadata": {},
   "outputs": [],
   "source": [
    "\n",
    "\n",
    "from ConsIndShockModel import IndShockConsumerType\n",
    "import time\n",
    "import numpy as np\n",
    "import matplotlib.pyplot as plt\n",
    "from copy import copy, deepcopy\n",
    "from HARK.distribution import DiscreteDistribution, MeanOneLogNormal,Lognormal,Uniform,combine_indep_dstns\n",
    "from scipy import sparse as sp\n",
    "from HARK.utilities import get_lorenz_shares\n",
    "from tqdm import tqdm\n"
   ]
  },
  {
   "cell_type": "code",
   "execution_count": 2,
   "id": "a6626216",
   "metadata": {},
   "outputs": [],
   "source": [
    "\n",
    "def lin(x):\n",
    "    return x\n"
   ]
  },
  {
   "cell_type": "code",
   "execution_count": 3,
   "id": "65568c0a",
   "metadata": {},
   "outputs": [],
   "source": [
    "\n",
    "def jump_to_grid_1D(m_vals, probs ,Dist_mGrid ):\n",
    "    \n",
    "    '''\n",
    "    Distributes values onto a predefined grid, maintaining the means.\n",
    "    \n",
    "    \n",
    "    Parameters\n",
    "    ----------\n",
    "    m_vals: np.array\n",
    "            Market resource values \n",
    "    probs: np.array\n",
    "            Shock probabilities associated with combinations of m_vals. \n",
    "            Can be thought of as the probability mass function  of (m_vals).\n",
    "    \n",
    "    dist_mGrid : np.array\n",
    "            Grid over normalized market resources\n",
    "    Returns\n",
    "    -------\n",
    "    probGrid.flatten(): np.array\n",
    "             Probabilities of each gridpoint on the combined grid of market resources\n",
    "  \n",
    "    ''' \n",
    "\n",
    "    probGrid = np.zeros(len(Dist_mGrid))\n",
    "    mIndex = np.digitize(m_vals,Dist_mGrid) - 1\n",
    "    mIndex[m_vals <= Dist_mGrid[0]] = -1\n",
    "    mIndex[m_vals >= Dist_mGrid[-1]] = len(Dist_mGrid)-1\n",
    "    \n",
    " \n",
    "    for i in range(len(m_vals)):\n",
    "        if mIndex[i]==-1:\n",
    "            mlowerIndex = 0\n",
    "            mupperIndex = 0\n",
    "            mlowerWeight = 1.0\n",
    "            mupperWeight = 0.0\n",
    "        elif mIndex[i]==len(Dist_mGrid)-1:\n",
    "            mlowerIndex = -1\n",
    "            mupperIndex = -1\n",
    "            mlowerWeight = 1.0\n",
    "            mupperWeight = 0.0\n",
    "        else:\n",
    "            mlowerIndex = mIndex[i]\n",
    "            mupperIndex = mIndex[i]+1\n",
    "            mlowerWeight = (Dist_mGrid[mupperIndex]-m_vals[i])/(Dist_mGrid[mupperIndex]-Dist_mGrid[mlowerIndex])\n",
    "            mupperWeight = 1.0 - mlowerWeight\n",
    "            \n",
    "        probGrid[mlowerIndex] +=  probs[i]*mlowerWeight\n",
    "        probGrid[mupperIndex] +=  probs[i]*mupperWeight\n",
    "        \n",
    "    return probGrid.flatten()\n",
    "\n"
   ]
  },
  {
   "cell_type": "code",
   "execution_count": 4,
   "id": "86bb9803",
   "metadata": {},
   "outputs": [],
   "source": [
    "\n",
    "\n",
    "## lorenz curve\n",
    "def lorenz_curve(grid_distribution,\n",
    "                 pdfs,\n",
    "                 nb_share_grid = 50):\n",
    "    \n",
    "    \"\"\"\n",
    "    parameters\n",
    "    ======\n",
    "    grid_distribution: grid on which distribution is defined\n",
    "    pdfs: the fractions/pdfs of each grid ranges \n",
    "    \n",
    "    return\n",
    "    ======\n",
    "    lc_vals: the fraction of people corresponding whose total wealth reaches the corresponding share, x axis in lorenz curve\n",
    "    share_grids: different grid points of the share of total wealth, y axis in lorenz curve\n",
    "    \"\"\"\n",
    "    total = np.dot(grid_distribution,pdfs)\n",
    "    share_grids = np.linspace(-.15,0.9999,nb_share_grid)\n",
    "    share_cum = np.multiply(grid_distribution,pdfs).cumsum()/total\n",
    "    lc_vals = []\n",
    "    for i,share in enumerate(share_grids):\n",
    "        where = min([x for x in range(len(share_cum)) if share_cum[x]>=share])\n",
    "        this_lc_val = pdfs[0:where].sum()\n",
    "        lc_vals.append(this_lc_val)\n",
    "    return np.array(lc_vals),share_grids\n",
    "\n"
   ]
  },
  {
   "cell_type": "code",
   "execution_count": 5,
   "id": "320ea26e",
   "metadata": {},
   "outputs": [
    {
     "data": {
      "text/plain": [
       "1.0465408805031446"
      ]
     },
     "execution_count": 5,
     "metadata": {},
     "output_type": "execute_result"
    }
   ],
   "source": [
    "1.04 / (1.0 - 1.0 / 160.0)"
   ]
  },
  {
   "cell_type": "code",
   "execution_count": 6,
   "id": "5046e2d3",
   "metadata": {},
   "outputs": [],
   "source": [
    "# Define a dictionary with calibrated parameters\n",
    "cstwMPC_calibrated_parameters = {\n",
    "    \"CRRA\": 1.0,  # Coefficient of relative risk aversion\n",
    "    \"Rfree\":  1.01 / (1.0 - 1.0 / 160.0) ,  # Survival probability,\n",
    "    \"PermGroFac\": [1.0],#[1.000**0.25],  # Permanent income growth factor (no perm growth),\n",
    "    \"PermGroFacAgg\": 1.0,\n",
    "    \"BoroCnstArt\": 0.0,\n",
    "    \"CubicBool\": False,\n",
    "    \"vFuncBool\": False,\n",
    "    \"PermShkStd\": [\n",
    "        (0.01 * 4 / 11) ** 0.5\n",
    "    ],  # Standard deviation of permanent shocks to income\n",
    "    \"PermShkCount\": 5,  # Number of points in permanent income shock grid\n",
    "    \"TranShkStd\": [\n",
    "        (0.01 * 4) ** 0.5\n",
    "    ],  # Standard deviation of transitory shocks to income,\n",
    "    \"TranShkCount\": 5,  # Number of points in transitory income shock grid\n",
    "    \"UnempPrb\": 0.07,  # Probability of unemployment while working\n",
    "    \"IncUnemp\": 0.15,  # Unemployment benefit replacement rate\n",
    "    \"UnempPrbRet\": 0.07,\n",
    "    \"IncUnempRet\": 0.15,\n",
    "    \"aXtraMin\": 0.00001,  # Minimum end-of-period assets in grid\n",
    "    \"aXtraMax\": 1000,  # Maximum end-of-period assets in grid\n",
    "    \"aXtraCount\": 100,  # Number of points in assets grid\n",
    "    \"aXtraExtra\": [None],\n",
    "    \"aXtraNestFac\": 3,  # Number of times to 'exponentially nest' when constructing assets grid\n",
    "    \"LivPrb\": [1.0 - 1.0 / 160.0],  # Survival probability\n",
    "    \"DiscFac\": 0.97,  # Default intertemporal discount factor; dummy value, will be overwritten\n",
    "    \"cycles\": 0,\n",
    "    \"T_cycle\": 1,\n",
    "    \"T_retire\": 0,\n",
    "    \"T_sim\": 1600,  # Number of periods to simulate (idiosyncratic shocks model, perpetual youth)\n",
    "    \"T_age\": None,\n",
    "    \"IndL\": 10.0 / 9.0,  # Labor supply per individual (constant),\n",
    "    \"aNrmInitMean\": np.log(0.00001),\n",
    "    \"aNrmInitStd\": 0.0,\n",
    "    \"pLvlInitMean\": 0.0,\n",
    "    \"pLvlInitStd\": 0.0,\n",
    "    \"AgentCount\": 10000,\n",
    "}\n"
   ]
  },
  {
   "cell_type": "code",
   "execution_count": 7,
   "id": "2bedd2c7",
   "metadata": {},
   "outputs": [],
   "source": [
    "\n",
    "# This cell constructs seven instances of IndShockConsumerType with different discount factors\n",
    "from HARK.distribution import Uniform\n",
    "\n",
    "BaselineType = IndShockConsumerType(**cstwMPC_calibrated_parameters)\n",
    "BaselineType.track_vars = [\"aLvl\", \"cNrm\", \"pLvl\"]\n",
    "# Specify the distribution of the discount factor\n",
    "num_types = 7  # number of types we want\n",
    "DiscFac_mean = 0.9855583  # center of beta distribution\n",
    "DiscFac_spread = 0.0085  # spread of beta distribution\n",
    "DiscFac_dstn = (\n",
    "    Uniform(DiscFac_mean - DiscFac_spread, DiscFac_mean + DiscFac_spread)\n",
    "    .approx(num_types)\n",
    "    .X.flatten()\n",
    ")\n",
    "\n",
    "MyTypes = []  # initialize an empty list to hold our consumer types\n",
    "for nn in range(num_types):\n",
    "    # Now create the types, and append them to the list MyTypes\n",
    "    NewType = deepcopy(BaselineType)\n",
    "    NewType.DiscFac = DiscFac_dstn[nn]\n",
    "    NewType.seed = nn  # give each consumer type a different RNG seed\n",
    "    MyTypes.append(NewType)\n"
   ]
  },
  {
   "cell_type": "code",
   "execution_count": 8,
   "id": "94d8c527",
   "metadata": {},
   "outputs": [
    {
     "name": "stderr",
     "output_type": "stream",
     "text": [
      "  0%|          | 0/7 [00:00<?, ?it/s]GPFRaw                 = 0.994269 \n",
      "GPFNrm                 = 0.997517 \n",
      "GPFAggLivPrb           = 0.988055 \n",
      "Thorn = APF            = 0.994269 \n",
      "PermGroFacAdj          = 0.996744 \n",
      "uInvEpShkuInv          = 1.000000 \n",
      "VAF                    = 0.972158 \n",
      "WRPF                   = 0.068051 \n",
      "DiscFacGPFNrmMax       = 0.980708 \n",
      "DiscFacGPFAggLivPrbMax = 0.990099 \n",
      " 14%|█▍        | 1/7 [01:09<06:55, 69.27s/it]GPFRaw                 = 0.996738 \n",
      "GPFNrm                 = 0.999994 \n",
      "GPFAggLivPrb           = 0.990508 \n",
      "Thorn = APF            = 0.996738 \n",
      "PermGroFacAdj          = 0.996744 \n",
      "uInvEpShkuInv          = 1.000000 \n",
      "VAF                    = 0.974572 \n",
      "WRPF                   = 0.068220 \n",
      "DiscFacGPFNrmMax       = 0.980708 \n",
      "DiscFacGPFAggLivPrbMax = 0.990099 \n",
      " 29%|██▊       | 2/7 [02:12<05:28, 65.63s/it]GPFRaw                 = 0.999206 \n",
      "GPFNrm                 = 1.002470 \n",
      "GPFAggLivPrb           = 0.992961 \n",
      "Thorn = APF            = 0.999206 \n",
      "PermGroFacAdj          = 0.996744 \n",
      "uInvEpShkuInv          = 1.000000 \n",
      "VAF                    = 0.976985 \n",
      "WRPF                   = 0.068389 \n",
      "DiscFacGPFNrmMax       = 0.980708 \n",
      "DiscFacGPFAggLivPrbMax = 0.990099 \n",
      " 43%|████▎     | 3/7 [03:13<04:14, 63.56s/it]GPFRaw                 = 1.001674 \n",
      "GPFNrm                 = 1.004946 \n",
      "GPFAggLivPrb           = 0.995414 \n",
      "Thorn = APF            = 1.001674 \n",
      "PermGroFacAdj          = 0.996744 \n",
      "uInvEpShkuInv          = 1.000000 \n",
      "VAF                    = 0.979399 \n",
      "WRPF                   = 0.068558 \n",
      "DiscFacGPFNrmMax       = 0.980708 \n",
      "DiscFacGPFAggLivPrbMax = 0.990099 \n",
      " 57%|█████▋    | 4/7 [04:14<03:07, 62.48s/it]GPFRaw                 = 1.004143 \n",
      "GPFNrm                 = 1.007423 \n",
      "GPFAggLivPrb           = 0.997867 \n",
      "Thorn = APF            = 1.004143 \n",
      "PermGroFacAdj          = 0.996744 \n",
      "uInvEpShkuInv          = 1.000000 \n",
      "VAF                    = 0.981812 \n",
      "WRPF                   = 0.068727 \n",
      "DiscFacGPFNrmMax       = 0.980708 \n",
      "DiscFacGPFAggLivPrbMax = 0.990099 \n",
      " 71%|███████▏  | 5/7 [05:21<02:08, 64.18s/it]GPFRaw                 = 1.006611 \n",
      "GPFNrm                 = 1.009899 \n",
      "GPFAggLivPrb           = 1.000320 \n",
      "Thorn = APF            = 1.006611 \n",
      "PermGroFacAdj          = 0.996744 \n",
      "uInvEpShkuInv          = 1.000000 \n",
      "VAF                    = 0.984225 \n",
      "WRPF                   = 0.068896 \n",
      "DiscFacGPFNrmMax       = 0.980708 \n",
      "DiscFacGPFAggLivPrbMax = 0.990099 \n",
      " 86%|████████▌ | 6/7 [06:34<01:07, 67.15s/it]GPFRaw                 = 1.009079 \n",
      "GPFNrm                 = 1.012375 \n",
      "GPFAggLivPrb           = 1.002772 \n",
      "Thorn = APF            = 1.009079 \n",
      "PermGroFacAdj          = 0.996744 \n",
      "uInvEpShkuInv          = 1.000000 \n",
      "VAF                    = 0.986639 \n",
      "WRPF                   = 0.069065 \n",
      "DiscFacGPFNrmMax       = 0.980708 \n",
      "DiscFacGPFAggLivPrbMax = 0.990099 \n",
      "100%|██████████| 7/7 [08:00<00:00, 68.69s/it]\n"
     ]
    }
   ],
   "source": [
    "for ThisType in tqdm(MyTypes):\n",
    "    ThisType.solve()\n",
    "    ThisType.define_distribution_grid(num_pointsP = 80,timestonest = 3)\n",
    "    ThisType.calc_transition_matrix()\n",
    "    ThisType.calc_ergodic_dist()"
   ]
  },
  {
   "cell_type": "code",
   "execution_count": 9,
   "id": "51613763",
   "metadata": {},
   "outputs": [],
   "source": [
    "\n",
    "def jump_to_grid_1D(m_vals, probs ,Dist_mGrid ):\n",
    "    \n",
    "    '''\n",
    "    Distributes values onto a predefined grid, maintaining the means.\n",
    "    \n",
    "    \n",
    "    Parameters\n",
    "    ----------\n",
    "    m_vals: np.array\n",
    "            Market resource values \n",
    "    probs: np.array\n",
    "            Shock probabilities associated with combinations of m_vals. \n",
    "            Can be thought of as the probability mass function  of (m_vals).\n",
    "    \n",
    "    dist_mGrid : np.array\n",
    "            Grid over normalized market resources\n",
    "    Returns\n",
    "    -------\n",
    "    probGrid.flatten(): np.array\n",
    "             Probabilities of each gridpoint on the combined grid of market resources\n",
    "  \n",
    "    ''' \n",
    "\n",
    "    probGrid = np.zeros(len(Dist_mGrid))\n",
    "    mIndex = np.digitize(m_vals,Dist_mGrid) - 1\n",
    "    mIndex[m_vals <= Dist_mGrid[0]] = -1\n",
    "    mIndex[m_vals >= Dist_mGrid[-1]] = len(Dist_mGrid)-1\n",
    "    \n",
    " \n",
    "    for i in range(len(m_vals)):\n",
    "        if mIndex[i]==-1:\n",
    "            mlowerIndex = 0\n",
    "            mupperIndex = 0\n",
    "            mlowerWeight = 1.0\n",
    "            mupperWeight = 0.0\n",
    "        elif mIndex[i]==len(Dist_mGrid)-1:\n",
    "            mlowerIndex = -1\n",
    "            mupperIndex = -1\n",
    "            mlowerWeight = 1.0\n",
    "            mupperWeight = 0.0\n",
    "        else:\n",
    "            mlowerIndex = mIndex[i]\n",
    "            mupperIndex = mIndex[i]+1\n",
    "            mlowerWeight = (Dist_mGrid[mupperIndex]-m_vals[i])/(Dist_mGrid[mupperIndex]-Dist_mGrid[mlowerIndex])\n",
    "            mupperWeight = 1.0 - mlowerWeight\n",
    "            \n",
    "        probGrid[mlowerIndex] +=  probs[i]*mlowerWeight\n",
    "        probGrid[mupperIndex] +=  probs[i]*mupperWeight\n",
    "        \n",
    "    return probGrid.flatten()\n",
    "\n"
   ]
  },
  {
   "cell_type": "code",
   "execution_count": 10,
   "id": "cd318f54",
   "metadata": {},
   "outputs": [],
   "source": [
    "def compute_pmf(Agent):\n",
    "\n",
    "    aLvl_vals = []\n",
    "\n",
    "    for a in Agent.aPol_Grid:\n",
    "\n",
    "        for p in Agent.dist_pGrid:\n",
    "\n",
    "            aLvl_vals.append(a*p)\n",
    "\n",
    "    aLvl_vals = np.array(aLvl_vals)\n",
    "    pmf = jump_to_grid_1D(aLvl_vals, Agent.vec_erg_dstn, MyTypes[0].aPol_Grid) # probabilities/distribution from transition matrix methods\n",
    "\n",
    "    return pmf\n"
   ]
  },
  {
   "cell_type": "code",
   "execution_count": 11,
   "id": "6be12e58",
   "metadata": {},
   "outputs": [
    {
     "name": "stderr",
     "output_type": "stream",
     "text": [
      "100%|██████████| 7/7 [00:04<00:00,  1.73it/s]\n"
     ]
    }
   ],
   "source": [
    "\n",
    "dstn = np.zeros(100)\n",
    "for ThisType in tqdm(MyTypes):\n",
    "    pmf_this_type = compute_pmf(ThisType)\n",
    "    dstn+= (1/num_types) * pmf_this_type\n",
    "    "
   ]
  },
  {
   "cell_type": "code",
   "execution_count": 12,
   "id": "9ed72a33",
   "metadata": {},
   "outputs": [
    {
     "data": {
      "text/plain": [
       "(-10.0, 1000.0)"
      ]
     },
     "execution_count": 12,
     "metadata": {},
     "output_type": "execute_result"
    },
    {
     "data": {
      "image/png": "[encoded data removed]",
      "text/plain": [
       "<Figure size 640x480 with 1 Axes>"
      ]
     },
     "metadata": {},
     "output_type": "display_data"
    }
   ],
   "source": [
    "plt.plot(MyTypes[0].aPol_Grid,dstn)\n",
    "plt.xlim([-10,1000])"
   ]
  },
  {
   "cell_type": "code",
   "execution_count": 13,
   "id": "733a69dc",
   "metadata": {},
   "outputs": [
    {
     "data": {
      "text/plain": [
       "25.869615991050544"
      ]
     },
     "execution_count": 13,
     "metadata": {},
     "output_type": "execute_result"
    }
   ],
   "source": [
    "MyTypes[0].aPol_Grid[-20]"
   ]
  },
  {
   "cell_type": "code",
   "execution_count": 14,
   "id": "3fa4a6e9",
   "metadata": {},
   "outputs": [],
   "source": [
    "lorenz1 = get_lorenz_shares(MyTypes[0].aPol_Grid,dstn,[.1,.2,.4,.6,.8,.9,.95,.98], False)"
   ]
  },
  {
   "cell_type": "code",
   "execution_count": 15,
   "id": "5849c798",
   "metadata": {},
   "outputs": [
    {
     "data": {
      "text/plain": [
       "[<matplotlib.lines.Line2D at 0x1349b4b2380>]"
      ]
     },
     "execution_count": 15,
     "metadata": {},
     "output_type": "execute_result"
    },
    {
     "data": {
      "image/png": "[encoded data removed]",
      "text/plain": [
       "<Figure size 640x480 with 1 Axes>"
      ]
     },
     "metadata": {},
     "output_type": "display_data"
    }
   ],
   "source": [
    "plt.plot([.1,.2,.4,.6,.8,.9,.95,.98],lorenz1)\n"
   ]
  },
  {
   "cell_type": "markdown",
   "id": "513298bc",
   "metadata": {},
   "source": [
    "# Monte Carlo"
   ]
  },
  {
   "cell_type": "code",
   "execution_count": 16,
   "id": "a0f45239",
   "metadata": {},
   "outputs": [
    {
     "name": "stderr",
     "output_type": "stream",
     "text": [
      "  0%|          | 0/7 [00:00<?, ?it/s]GPFRaw                 = 0.994269 \n",
      "GPFNrm                 = 0.997517 \n",
      "GPFAggLivPrb           = 0.988055 \n",
      "Thorn = APF            = 0.994269 \n",
      "PermGroFacAdj          = 0.996744 \n",
      "uInvEpShkuInv          = 1.000000 \n",
      "VAF                    = 0.972158 \n",
      "WRPF                   = 0.068051 \n",
      "DiscFacGPFNrmMax       = 0.980708 \n",
      "DiscFacGPFAggLivPrbMax = 0.990099 \n",
      " 14%|█▍        | 1/7 [00:45<04:34, 45.75s/it]GPFRaw                 = 0.996738 \n",
      "GPFNrm                 = 0.999994 \n",
      "GPFAggLivPrb           = 0.990508 \n",
      "Thorn = APF            = 0.996738 \n",
      "PermGroFacAdj          = 0.996744 \n",
      "uInvEpShkuInv          = 1.000000 \n",
      "VAF                    = 0.974572 \n",
      "WRPF                   = 0.068220 \n",
      "DiscFacGPFNrmMax       = 0.980708 \n",
      "DiscFacGPFAggLivPrbMax = 0.990099 \n",
      " 29%|██▊       | 2/7 [01:33<03:55, 47.11s/it]GPFRaw                 = 0.999206 \n",
      "GPFNrm                 = 1.002470 \n",
      "GPFAggLivPrb           = 0.992961 \n",
      "Thorn = APF            = 0.999206 \n",
      "PermGroFacAdj          = 0.996744 \n",
      "uInvEpShkuInv          = 1.000000 \n",
      "VAF                    = 0.976985 \n",
      "WRPF                   = 0.068389 \n",
      "DiscFacGPFNrmMax       = 0.980708 \n",
      "DiscFacGPFAggLivPrbMax = 0.990099 \n",
      " 43%|████▎     | 3/7 [02:20<03:08, 47.00s/it]GPFRaw                 = 1.001674 \n",
      "GPFNrm                 = 1.004946 \n",
      "GPFAggLivPrb           = 0.995414 \n",
      "Thorn = APF            = 1.001674 \n",
      "PermGroFacAdj          = 0.996744 \n",
      "uInvEpShkuInv          = 1.000000 \n",
      "VAF                    = 0.979399 \n",
      "WRPF                   = 0.068558 \n",
      "DiscFacGPFNrmMax       = 0.980708 \n",
      "DiscFacGPFAggLivPrbMax = 0.990099 \n",
      " 57%|█████▋    | 4/7 [03:08<02:22, 47.39s/it]GPFRaw                 = 1.004143 \n",
      "GPFNrm                 = 1.007423 \n",
      "GPFAggLivPrb           = 0.997867 \n",
      "Thorn = APF            = 1.004143 \n",
      "PermGroFacAdj          = 0.996744 \n",
      "uInvEpShkuInv          = 1.000000 \n",
      "VAF                    = 0.981812 \n",
      "WRPF                   = 0.068727 \n",
      "DiscFacGPFNrmMax       = 0.980708 \n",
      "DiscFacGPFAggLivPrbMax = 0.990099 \n",
      " 71%|███████▏  | 5/7 [04:06<01:42, 51.17s/it]GPFRaw                 = 1.006611 \n",
      "GPFNrm                 = 1.009899 \n",
      "GPFAggLivPrb           = 1.000320 \n",
      "Thorn = APF            = 1.006611 \n",
      "PermGroFacAdj          = 0.996744 \n",
      "uInvEpShkuInv          = 1.000000 \n",
      "VAF                    = 0.984225 \n",
      "WRPF                   = 0.068896 \n",
      "DiscFacGPFNrmMax       = 0.980708 \n",
      "DiscFacGPFAggLivPrbMax = 0.990099 \n",
      " 86%|████████▌ | 6/7 [05:04<00:53, 53.54s/it]GPFRaw                 = 1.009079 \n",
      "GPFNrm                 = 1.012375 \n",
      "GPFAggLivPrb           = 1.002772 \n",
      "Thorn = APF            = 1.009079 \n",
      "PermGroFacAdj          = 0.996744 \n",
      "uInvEpShkuInv          = 1.000000 \n",
      "VAF                    = 0.986639 \n",
      "WRPF                   = 0.069065 \n",
      "DiscFacGPFNrmMax       = 0.980708 \n",
      "DiscFacGPFAggLivPrbMax = 0.990099 \n",
      "100%|██████████| 7/7 [06:06<00:00, 52.43s/it]"
     ]
    },
    {
     "name": "stdout",
     "output_type": "stream",
     "text": [
      "The ratio of aggregate capital to permanent income is 15.37\n"
     ]
    },
    {
     "name": "stderr",
     "output_type": "stream",
     "text": [
      "\n"
     ]
    }
   ],
   "source": [
    "\n",
    "\n",
    "Generator = False  # Is this notebook the master or is it generated?\n",
    "# Import related generic python packages\n",
    "\n",
    "# Set how many digits past the decimal point should be printed?\n",
    "mystr = lambda number: \"{:.4f}\".format(number)\n",
    "decfmt4 = lambda number: \"{:.4f}\".format(number)\n",
    "decfmt3 = lambda number: \"{:.3f}\".format(number)\n",
    "decfmt2 = lambda number: \"{:.2f}\".format(number)\n",
    "decfmt1 = lambda number: \"{:.1f}\".format(number)\n",
    "\n",
    "# Progress bar keeps track interactively of how many have been made\n",
    "for ThisType in tqdm(MyTypes):\n",
    "    ThisType.solve()\n",
    "    ThisType.initialize_sim()\n",
    "    ThisType.simulate()\n",
    "\n",
    "    \n",
    "aLvl_all = np.concatenate([ThisType.state_now[\"aLvl\"] for ThisType in MyTypes])\n",
    "print(\n",
    "    \"The ratio of aggregate capital to permanent income is \"\n",
    "    + decfmt2(np.mean(aLvl_all))\n",
    ")\n",
    "\n",
    "\n",
    "\n"
   ]
  },
  {
   "cell_type": "code",
   "execution_count": 17,
   "id": "49c67a00",
   "metadata": {},
   "outputs": [
    {
     "data": {
      "image/png": "[encoded data removed]",
      "text/plain": [
       "<Figure size 640x480 with 1 Axes>"
      ]
     },
     "metadata": {},
     "output_type": "display_data"
    }
   ],
   "source": [
    "# Plot Lorenz curves for model with uniform distribution of time preference\n",
    "from HARK.datasets import load_SCF_wealth_weights\n",
    "from HARK.utilities import get_lorenz_shares, get_percentiles\n",
    "\n",
    "SCF_wealth, SCF_weights = load_SCF_wealth_weights()\n",
    "\n",
    "pctiles = np.linspace(0.001, 0.999, 200)\n",
    "sim_wealth = np.concatenate([ThisType.state_now[\"aLvl\"] for ThisType in MyTypes])\n",
    "SCF_Lorenz_points = get_lorenz_shares(\n",
    "    SCF_wealth, weights=SCF_weights, percentiles=pctiles\n",
    ")\n",
    "sim_Lorenz_points = get_lorenz_shares(sim_wealth, percentiles=pctiles)\n",
    "plt.plot(pctiles, SCF_Lorenz_points, \"--k\", label = 'data')\n",
    "plt.plot(pctiles, sim_Lorenz_points, \"-r\", label = 'monte carlo')\n",
    "plt.plot([.1,.2,.4,.6,.8,.9,.95,.98],lorenz1, label = 'transition Matrices', linewidth = 3.0, linestyle = '-')\n",
    "plt.xlabel(\"Percentile of net worth\")\n",
    "plt.ylabel(\"Cumulative share of wealth\")\n",
    "plt.legend()\n",
    "plt.show(block=False)\n"
   ]
  },
  {
   "cell_type": "code",
   "execution_count": 18,
   "id": "8de3f5de",
   "metadata": {},
   "outputs": [
    {
     "data": {
      "text/plain": [
       "<ConsIndShockModel.IndShockConsumerType object at 0x13493e330d0.\n",
       "Parameters:\n",
       "cycles: 0\n",
       "CRRA: 1.0\n",
       "Rfree: 1.0163522012578616\n",
       "DiscFac: 0.97\n",
       "LivPrb: [0.99375]\n",
       "PermGroFac: [1.0]\n",
       "BoroCnstArt: 0.0\n",
       "MaxKinks: 400\n",
       "AgentCount: 10000\n",
       "aNrmInitMean: -11.512925464970229\n",
       "aNrmInitStd: 0.0\n",
       "pLvlInitMean: 0.0\n",
       "pLvlInitStd: 0.0\n",
       "PermGroFacAgg: 1.0\n",
       "T_age: None\n",
       "T_cycle: 1\n",
       "PerfMITShk: False\n",
       "aXtraMin: 1e-05\n",
       "aXtraMax: 1000\n",
       "aXtraNestFac: 3\n",
       "aXtraCount: 100\n",
       "aXtraExtra: [None]\n",
       "PermShkStd: [0.06030226891555272]\n",
       "PermShkCount: 5\n",
       "TranShkStd: [0.2]\n",
       "TranShkCount: 5\n",
       "UnempPrb: 0.07\n",
       "UnempPrbRet: 0.07\n",
       "IncUnemp: 0.15\n",
       "IncUnempRet: 0.15\n",
       "tax_rate: 0.0\n",
       "T_retire: 0\n",
       "vFuncBool: False\n",
       "CubicBool: False\n",
       "neutral_measure: False\n",
       "NewbornTransShk: False\n",
       "T_sim: 1600\n",
       "IndL: 1.1111111111111112>"
      ]
     },
     "execution_count": 18,
     "metadata": {},
     "output_type": "execute_result"
    }
   ],
   "source": [
    "ThisType"
   ]
  },
  {
   "cell_type": "code",
   "execution_count": 19,
   "id": "f85d3b23",
   "metadata": {},
   "outputs": [
    {
     "data": {
      "text/plain": [
       "0.9928440142857142"
      ]
     },
     "execution_count": 19,
     "metadata": {},
     "output_type": "execute_result"
    }
   ],
   "source": [
    "MyTypes[-1].DiscFac"
   ]
  },
  {
   "cell_type": "code",
   "execution_count": null,
   "id": "2957d291",
   "metadata": {},
   "outputs": [],
   "source": []
  },
  {
   "cell_type": "code",
   "execution_count": 21,
   "id": "3000ebbb",
   "metadata": {},
   "outputs": [],
   "source": [
    "AggA = []\n",
    "AggC = []\n",
    "for i in range(len(MyTypes[0].history['aLvl'])):\n",
    "    \n",
    "    AggC.append(np.mean(MyTypes[-1].history['cNrm'][i] *MyTypes[-1].history['pLvl'][i] ))\n",
    "    AggA.append( np.mean(MyTypes[-1].history['aLvl'][i]))\n",
    "    \n",
    "    \n",
    "    \n",
    "    "
   ]
  },
  {
   "cell_type": "code",
   "execution_count": 22,
   "id": "9e5979ea",
   "metadata": {},
   "outputs": [
    {
     "data": {
      "text/plain": [
       "[<matplotlib.lines.Line2D at 0x1349c77f850>]"
      ]
     },
     "execution_count": 22,
     "metadata": {},
     "output_type": "execute_result"
    },
    {
     "data": {
      "image/png": "[encoded data removed]",
      "text/plain": [
       "<Figure size 640x480 with 1 Axes>"
      ]
     },
     "metadata": {},
     "output_type": "display_data"
    }
   ],
   "source": [
    "plt.plot(AggA)"
   ]
  },
  {
   "cell_type": "code",
   "execution_count": 23,
   "id": "5f46332b",
   "metadata": {},
   "outputs": [
    {
     "data": {
      "text/plain": [
       "[<matplotlib.lines.Line2D at 0x1349b67cc40>]"
      ]
     },
     "execution_count": 23,
     "metadata": {},
     "output_type": "execute_result"
    },
    {
     "data": {
      "image/png": "[encoded data removed]",
      "text/plain": [
       "<Figure size 640x480 with 1 Axes>"
      ]
     },
     "metadata": {},
     "output_type": "display_data"
    }
   ],
   "source": [
    "plt.plot(AggC)"
   ]
  },
  {
   "cell_type": "code",
   "execution_count": null,
   "id": "307fe5a6",
   "metadata": {},
   "outputs": [],
   "source": []
  }
 ],
 "metadata": {
  "kernelspec": {
   "display_name": "Python 3 (ipykernel)",
   "language": "python",
   "name": "python3"
  },
  "language_info": {
   "codemirror_mode": {
    "name": "ipython",
    "version": 3
   },
   "file_extension": ".py",
   "mimetype": "text/x-python",
   "name": "python",
   "nbconvert_exporter": "python",
   "pygments_lexer": "ipython3",
   "version": "3.10.8"
  }
 },
 "nbformat": 4,
 "nbformat_minor": 5
}
