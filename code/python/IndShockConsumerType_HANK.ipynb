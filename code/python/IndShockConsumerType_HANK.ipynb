{
 "cells": [
  {
   "cell_type": "markdown",
   "id": "spanish-spanish",
   "metadata": {},
   "source": [
    "# Solving a HANK model using the `IndShockConsumerType`\n",
    "\n",
    "This notebook solves a Heterogeneous Agent model using HARK and computes Jacobians. These are used as inputs for the [Sequence-Space Toolbox](https://github.com/shade-econ/nber-workshop-2022)\n",
    "\n",
    "Author: Adrian Monninger & Will Du"
   ]
  },
  {
   "cell_type": "markdown",
   "id": "minor-hartford",
   "metadata": {},
   "source": [
    "## TODO LIST\n",
    "- Update construct_lognormal_income_process_unemployment in ConsIndShockModel.py\n",
    "- Create \"hh_ext\" Block\n",
    "- Add Steady State\n",
    "- Add Jacobians\n",
    "- \n",
    "- Allow for Monetary Policy Shock"
   ]
  },
  {
   "cell_type": "markdown",
   "id": "maritime-decline",
   "metadata": {},
   "source": [
    "## Archievement List\n",
    "- Get Jacobians from ConsIndShockModel"
   ]
  },
  {
   "cell_type": "markdown",
   "id": "subject-limitation",
   "metadata": {},
   "source": [
    "## Open Questions\n",
    "- How to Solve for GE Steady State: Can we just plug in the PE steady state? Our ss is with fixed r, beta. Do we have market clearance?"
   ]
  },
  {
   "cell_type": "code",
   "execution_count": 1,
   "id": "vocational-composition",
   "metadata": {},
   "outputs": [],
   "source": [
    "from ConsIndShockModel import IndShockConsumerType\n",
    "import matplotlib.pyplot as plt\n",
    "import numpy as np\n",
    "import time"
   ]
  },
  {
   "cell_type": "markdown",
   "id": "coral-medline",
   "metadata": {},
   "source": [
    "# Step 1: Partial Equilibrium using `IndShockConsumerType`"
   ]
  },
  {
   "cell_type": "markdown",
   "id": "better-halifax",
   "metadata": {},
   "source": [
    "## 1. Solving `IndShockConsumerType`"
   ]
  },
  {
   "cell_type": "code",
   "execution_count": 2,
   "id": "devoted-copying",
   "metadata": {},
   "outputs": [
    {
     "name": "stdout",
     "output_type": "stream",
     "text": [
      "T_ss: 0.21500000000000008\n",
      "Z_ss: 0.7849999999999999\n",
      "C_ss: 0.8\n"
     ]
    }
   ],
   "source": [
    "#Steady State values\n",
    "\n",
    "def fiscal_ss(B, r, G): \n",
    "    T = (1 + r) * B + G - B\n",
    "    \n",
    "    return T\n",
    "\n",
    "\n",
    "r_ss = 1.03 - 1\n",
    "G_ss = .2\n",
    "B_ss = .5 # this is lower than the tutorial by Straub et al. because need Higher MPC\n",
    "Y_ss = 1.0\n",
    "\n",
    "\n",
    "T_ss = fiscal_ss(B_ss,r_ss,G_ss)\n",
    "\n",
    "print('T_ss: ' +str(T_ss))\n",
    "\n",
    "Z_ss = Y_ss - T_ss\n",
    "\n",
    "C_ss= Y_ss - G_ss\n",
    "print('Z_ss: ' +str(Z_ss))\n",
    "\n",
    "print('C_ss: ' +str(Y_ss - G_ss))"
   ]
  },
  {
   "cell_type": "code",
   "execution_count": 3,
   "id": "missing-butterfly",
   "metadata": {},
   "outputs": [],
   "source": [
    "Dict={\n",
    "    # Parameters shared with the perfect foresight model\n",
    "    \"CRRA\": 2.0,                           # Coefficient of relative risk aversion\n",
    "    \"Rfree\": 1.03,                         # Interest factor on assets\n",
    "    \"DiscFac\": 0.96,                       # Intertemporal discount factor\n",
    "    \"LivPrb\" : [0.98],                     # Survival probability\n",
    "    \"PermGroFac\" :[1.01],                  # Permanent income growth factor\n",
    "    \n",
    "    # Parameters that specify the income distribution over the lifecycle\n",
    "    \"PermShkStd\" : [0.1],                  # Standard deviation of log permanent shocks to income\n",
    "    \"PermShkCount\" : 7,                    # Number of points in discrete approximation to permanent income shocks\n",
    "    \"TranShkStd\" : [0.2],                  # Standard deviation of log transitory shocks to income\n",
    "    \"TranShkCount\" : 7,                    # Number of points in discrete approximation to transitory income shocks\n",
    "    \"UnempPrb\" : 0.05,                     # Probability of unemployment while working\n",
    "    \"IncUnemp\" : 0.3,                      # Unemployment benefits replacement rate\n",
    "    \"UnempPrbRet\" : 0.0005,                # Probability of \"unemployment\" while retired\n",
    "    \"IncUnempRet\" : 0.0,                   # \"Unemployment\" benefits when retired\n",
    "    \"T_retire\" : 0,                        # Period of retirement (0 --> no retirement)\n",
    "    \"tax_rate\" : 0.0,                      # Flat income tax rate (legacy parameter, will be removed in future)\n",
    "    \n",
    "    # Parameters for constructing the \"assets above minimum\" grid\n",
    "    \"aXtraMin\" : 0.001,                    # Minimum end-of-period \"assets above minimum\" value\n",
    "    \"aXtraMax\" : 1000,                       # Maximum end-of-period \"assets above minimum\" value\n",
    "    \"aXtraCount\" : 200,                     # Number of points in the base grid of \"assets above minimum\"\n",
    "    \"aXtraNestFac\" : 3,                    # Exponential nesting factor when constructing \"assets above minimum\" grid\n",
    "    \"aXtraExtra\" : [None],                 # Additional values to add to aXtraGrid\n",
    "    \n",
    "    # A few other paramaters\n",
    "    \"BoroCnstArt\" : 0.0,                   # Artificial borrowing constraint; imposed minimum level of end-of period assets\n",
    "    \"vFuncBool\" : True,                    # Whether to calculate the value function during solution   \n",
    "    \"CubicBool\" : False,                   # Preference shocks currently only compatible with linear cFunc\n",
    "    \"T_cycle\" : 1,                         # Number of periods in the cycle for this agent type        \n",
    "    \n",
    "    # Parameters only used in simulation\n",
    "    \"AgentCount\" : 10000,                  # Number of agents of this type\n",
    "    \"T_sim\" : 120,                         # Number of periods to simulate\n",
    "    \"aNrmInitMean\" : -6.0,                 # Mean of log initial assets\n",
    "    \"aNrmInitStd\"  : 1.0,                  # Standard deviation of log initial assets\n",
    "    \"pLvlInitMean\" : 0.0,                  # Mean of log initial permanent income\n",
    "    \"pLvlInitStd\"  : 0.0,                  # Standard deviation of log initial permanent income\n",
    "    \"PermGroFacAgg\" : 1.0,                 # Aggregate permanent income growth factor\n",
    "    \"T_age\" : None,                        # Age after which simulated agents are automatically killed\n",
    "    \n",
    "    # HANK parameters\n",
    "    \"taxrate\" : [0.0], # set to 0.0 because we are going to assume that labor here is actually after tax income\n",
    "    \"labor\": [Y_ss - T_ss],\n",
    "    \"wage\": [1.0],\n",
    "}"
   ]
  },
  {
   "cell_type": "code",
   "execution_count": 4,
   "id": "authentic-relative",
   "metadata": {},
   "outputs": [],
   "source": [
    "# from https://github.com/wdu9/RA_test_work/blob/main/RA_test_work/HANK_model/Reproducing%20Fiscal%20Policy%20HANK.ipynb\n",
    "# to add taxes, labor and wage\n",
    "\n",
    "# Update def construct_lognormal_income_process_unemployment(self):\n",
    "# similar to https://github.com/wdu9/RA_test_work/blob/main/RA_test_work/HANK_model/ConsIndShockModel_HANK.py\n",
    "\n",
    "def function(taxrate, labor, wage):\n",
    "    \n",
    "    z = (1- taxrate)*labor*wage\n",
    "    \n",
    "    return z\n",
    "\n",
    "Dict['TranShkMean_Func'] = function"
   ]
  },
  {
   "cell_type": "code",
   "execution_count": 5,
   "id": "governmental-edmonton",
   "metadata": {},
   "outputs": [],
   "source": [
    "Agent = IndShockConsumerType(**Dict)"
   ]
  },
  {
   "cell_type": "markdown",
   "id": "practical-capital",
   "metadata": {},
   "source": [
    "## 2. Compute Steady State"
   ]
  },
  {
   "cell_type": "code",
   "execution_count": 6,
   "id": "powerful-footwear",
   "metadata": {},
   "outputs": [
    {
     "name": "stderr",
     "output_type": "stream",
     "text": [
      "GPFRaw                 = 0.984539 \n",
      "GPFNrm                 = 0.993777 \n",
      "GPFAggLivPrb           = 0.964848 \n",
      "Thorn = APF            = 0.994384 \n",
      "PermGroFacAdj          = 1.000611 \n",
      "uInvEpShkuInv          = 0.990704 \n",
      "VAF                    = 0.932054 \n",
      "WRPF                   = 0.213705 \n",
      "DiscFacGPFNrmMax       = 0.972061 \n",
      "DiscFacGPFAggLivPrbMax = 1.010600 \n"
     ]
    },
    {
     "name": "stdout",
     "output_type": "stream",
     "text": [
      "Seconds to compute steady state 7.635278940200806\n"
     ]
    }
   ],
   "source": [
    "start = time.time()\n",
    "Agent.compute_steady_state()\n",
    "print('Seconds to compute steady state', time.time() - start)"
   ]
  },
  {
   "cell_type": "markdown",
   "id": "metallic-wallace",
   "metadata": {},
   "source": [
    "## 3. Compute Jacobians for Shock to Standard Deviation to Permanent Income Shocks\n",
    "See [Jacobian Notebook](https://github.com/econ-ark/HARK/tree/master/examples/ConsIndShockModel/IndShockConsumerType_Jacobian_Example.ipynb)\n",
    "Shocks possible: LivPrb, PermShkStd,TranShkStd, DiscFac,UnempPrb, Rfree, IncUnemp, DiscFac\n",
    "\n"
   ]
  },
  {
   "cell_type": "code",
   "execution_count": 7,
   "id": "confident-music",
   "metadata": {},
   "outputs": [
    {
     "name": "stdout",
     "output_type": "stream",
     "text": [
      "200\n",
      "Seconds to calculate Jacobian 5.311161279678345\n"
     ]
    }
   ],
   "source": [
    "start = time.time()\n",
    "\n",
    "CJAC_Perm, AJAC_Perm = Agent.calc_jacobian('PermShkStd',200)\n",
    "\n",
    "print('Seconds to calculate Jacobian', time.time() - start)"
   ]
  },
  {
   "cell_type": "markdown",
   "id": "charged-fundamentals",
   "metadata": {},
   "source": [
    "Plot: Consumption Jacobians"
   ]
  },
  {
   "cell_type": "code",
   "execution_count": 8,
   "id": "working-level",
   "metadata": {},
   "outputs": [
    {
     "data": {
      "image/png": "[encoded data removed]",
      "text/plain": [
       "<Figure size 640x480 with 1 Axes>"
      ]
     },
     "metadata": {},
     "output_type": "display_data"
    }
   ],
   "source": [
    "plt.plot(CJAC_Perm.T[0])\n",
    "plt.plot(CJAC_Perm.T[10])\n",
    "plt.plot(CJAC_Perm.T[30])\n",
    "plt.show()"
   ]
  },
  {
   "cell_type": "markdown",
   "id": "extensive-postcard",
   "metadata": {},
   "source": [
    "### Get Household Poblem into a Block structure such that SSJ can use it"
   ]
  },
  {
   "cell_type": "code",
   "execution_count": null,
   "id": "promotional-shakespeare",
   "metadata": {},
   "outputs": [],
   "source": [
    "# create hh\n",
    "# From \n",
    "\n",
    "# {'backward_fun': <ExtendedFunction(hh): ['Va_p', 'a_grid', 'we', 'T', 'r', 'beta', 'eis', 'frisch', 'vphi'] -> ['Va', 'a', 'c', 'n']>, \n",
    "# 'name': 'hh', 'M': Bijection({}), 'steady_state_options': {'backward_tol': 1e-08, 'backward_maxit': 5000, 'forward_tol': 1e-10, 'forward_maxit': 100000}, \n",
    "# 'impulse_nonlinear_options': {'monotonic': False}, 'impulse_linear_options': {'h': 0.0001, 'twosided': False}, \n",
    "# 'jacobian_options': {'h': 0.0001, 'twosided': False}, 'partial_jacobians_options': {}, 'exogenous': OrderedSet(['Pi']), 'policy': OrderedSet(['a']), \n",
    "# 'backward': OrderedSet(['Va']), 'non_backward_outputs': OrderedSet(['a', 'c', 'n']), 'outputs': OrderedSet(['A', 'C', 'N']), \n",
    "# 'M_outputs': Bijection({'a': 'A', 'c': 'C', 'n': 'N'}), 'inputs': OrderedSet(['a_grid', 'we', 'T', 'r', 'beta', 'eis', 'frisch', 'vphi', 'Pi']), \n",
    "# 'internals': OrderedSet(['D', 'Dbeg', 'Pi', 'Va', 'a', 'c', 'n']), 'original_inputs': OrderedSet(['a_grid', 'we', 'T', 'r', 'beta', 'eis', 'frisch', 'vphi', 'Pi']), \n",
    "# 'original_outputs': OrderedSet(['A', 'C', 'N']), 'original_internals': OrderedSet(['D', 'Dbeg', 'Pi', 'Va', 'a', 'c', 'n']), 'original_M_outputs': Bijection({'a': 'A', 'c': 'C', 'n': 'N'}), \n",
    "# 'hetinputs': None, 'hetoutputs': None, 'backward_init': <ExtendedFunction(hh_init): ['a_grid', 'we', 'r', 'eis', 'T'] -> ['fininc', 'Va']>}\n",
    "\n",
    "\n",
    "hh = {'name' : 'hh',\n",
    "    'inputs' : ['a_grid', 'we', 'T', 'r', 'beta', 'eis', 'frisch', 'vphi', 'Pi'],\n",
    "    'outputs' : = ['A', 'C', 'N']\n",
    "    \n",
    "}"
   ]
  },
  {
   "cell_type": "code",
   "execution_count": null,
   "id": "smooth-recovery",
   "metadata": {},
   "outputs": [],
   "source": [
    "hh_ext = {\n",
    "    inputs = OrderedSet(['r', 'beta', 'eis', 'frisch', 'vphi', 'rho_e', 'sd_e', 'nE', 'amin', 'amax', 'nA', 'Div', 'Tax', 'w'])\n",
    "    outputs = ['A', 'C', 'N', 'NE']\n",
    "    partial_jacobians = \n",
    "    steady_state = \n",
    "}"
   ]
  },
  {
   "cell_type": "code",
   "execution_count": null,
   "id": "aquatic-admission",
   "metadata": {},
   "outputs": [],
   "source": [
    "# Add Steady State.\n",
    "## I found in blocks/block:\n",
    "\"\"\"\n",
    "    def steady_state(self, calibration: Union[SteadyStateDict, UserProvidedSS], \n",
    "                     dissolve: List[str] = [], options: Dict[str, dict] = {}, **kwargs) -> SteadyStateDict:\n",
    "\"\"\"\n",
    "hh_ext['UserProvidedSS'] = {}"
   ]
  },
  {
   "cell_type": "code",
   "execution_count": null,
   "id": "occasional-creator",
   "metadata": {},
   "outputs": [],
   "source": [
    "# Add Jacobian\n",
    "JacobianDict = {\n",
    "    \n",
    "}"
   ]
  },
  {
   "cell_type": "code",
   "execution_count": 11,
   "id": "private-lithuania",
   "metadata": {},
   "outputs": [
    {
     "data": {
      "text/plain": [
       "(200, 200)"
      ]
     },
     "execution_count": 11,
     "metadata": {},
     "output_type": "execute_result"
    }
   ],
   "source": [
    "J_ha = \n",
    "CJAC_Perm.shape"
   ]
  },
  {
   "cell_type": "code",
   "execution_count": 9,
   "id": "integral-spine",
   "metadata": {},
   "outputs": [
    {
     "ename": "NameError",
     "evalue": "name 'stop' is not defined",
     "output_type": "error",
     "traceback": [
      "\u001b[1;31m---------------------------------------------------------------------------\u001b[0m",
      "\u001b[1;31mNameError\u001b[0m                                 Traceback (most recent call last)",
      "\u001b[1;32m<ipython-input-9-4f76a9dad686>\u001b[0m in \u001b[0;36m<cell line: 1>\u001b[1;34m()\u001b[0m\n\u001b[1;32m----> 1\u001b[1;33m \u001b[0mstop\u001b[0m\u001b[1;33m\u001b[0m\u001b[1;33m\u001b[0m\u001b[0m\n\u001b[0m",
      "\u001b[1;31mNameError\u001b[0m: name 'stop' is not defined"
     ]
    }
   ],
   "source": [
    "stop"
   ]
  },
  {
   "cell_type": "markdown",
   "id": "accredited-plasma",
   "metadata": {},
   "source": [
    "# Step 2: General Equilibrium Part Using Sequence Space Method\n",
    "Following the [SSJ](https://github.com/shade-econ/sequence-jacobian/blob/master/notebooks/hank.ipynb) and creating other market participants as simple blocks"
   ]
  },
  {
   "cell_type": "code",
   "execution_count": null,
   "id": "foreign-employment",
   "metadata": {},
   "outputs": [],
   "source": [
    "@simple\n",
    "def firm(Y, w, Z, pi, mu, kappa):\n",
    "    L = Y / Z\n",
    "    Div = Y - w * L - mu/(mu-1)/(2*kappa) * (1+pi).apply(np.log)**2 * Y\n",
    "    return L, Div\n",
    "\n",
    "\n",
    "@simple\n",
    "def monetary(pi, rstar, phi):\n",
    "    r = (1 + rstar(-1) + phi * pi(-1)) / (1 + pi) - 1\n",
    "    return r\n",
    "\n",
    "\n",
    "@simple\n",
    "def fiscal(r, B):\n",
    "    Tax = r * B\n",
    "    return Tax\n",
    "\n",
    "\n",
    "@simple\n",
    "def mkt_clearing(A, NE, C, L, Y, B, pi, mu, kappa):\n",
    "    asset_mkt = A - B\n",
    "    labor_mkt = NE - L\n",
    "    goods_mkt = Y - C - mu/(mu-1)/(2*kappa) * (1+pi).apply(np.log)**2 * Y\n",
    "    return asset_mkt, labor_mkt, goods_mkt\n",
    "\n",
    "\n",
    "@simple\n",
    "def nkpc_ss(Z, mu):\n",
    "    w = Z / mu\n",
    "    return w\n",
    "\n",
    "@simple\n",
    "def nkpc(pi, w, Z, Y, r, mu, kappa):\n",
    "    nkpc_res = kappa * (w / Z - 1 / mu) + Y(+1) / Y * (1 + pi(+1)).apply(np.log) / (1 + r(+1))\\\n",
    "               - (1 + pi).apply(np.log)\n",
    "    return nkpc_res"
   ]
  },
  {
   "cell_type": "markdown",
   "id": "virtual-journalist",
   "metadata": {},
   "source": [
    "Partial Equilibria for maro blocks"
   ]
  },
  {
   "cell_type": "code",
   "execution_count": null,
   "id": "nearby-sharp",
   "metadata": {},
   "outputs": [],
   "source": [
    "## Put Blocks together\n",
    "blocks = [hh_ext, firm, monetary, fiscal, mkt_clearing, nkpc]\n",
    "hank = create_model(blocks, name=\"One-Asset HANK\")"
   ]
  },
  {
   "cell_type": "code",
   "execution_count": null,
   "id": "significant-bolivia",
   "metadata": {},
   "outputs": [],
   "source": [
    "## Steady States\n",
    "ss = hank.steady_state(ss0)\n",
    "\n",
    "for k in ss0.keys():\n",
    "    assert np.all(np.isclose(ss[k], ss0[k]))"
   ]
  },
  {
   "cell_type": "code",
   "execution_count": null,
   "id": "fluid-reward",
   "metadata": {},
   "outputs": [],
   "source": [
    "## Solve Jacobians\n",
    "## NOTE: our HARK Jacobians are already included and are just used as given\n",
    "# setup\n",
    "T = 300\n",
    "exogenous = ['rstar', 'Z']\n",
    "unknowns = ['pi', 'w', 'Y']\n",
    "targets = ['nkpc_res', 'asset_mkt', 'labor_mkt']\n",
    "\n",
    "# general equilibrium jacobians\n",
    "G = hank.solve_jacobian(ss, unknowns, targets, exogenous, T=T)\n",
    "\n",
    "print(G)"
   ]
  },
  {
   "cell_type": "code",
   "execution_count": null,
   "id": "european-diabetes",
   "metadata": {},
   "outputs": [],
   "source": []
  },
  {
   "cell_type": "markdown",
   "id": "cutting-riding",
   "metadata": {},
   "source": [
    "### a) Combining Partial Equilibrium Jacobians to make them General Equilibrium. Instead of using `CombinedBlock`"
   ]
  },
  {
   "cell_type": "code",
   "execution_count": null,
   "id": "previous-builder",
   "metadata": {},
   "outputs": [],
   "source": [
    "J_r_rante = models['ha']['ex_post_rate'].jacobian(ss['ha'], ['r_ante'], T=T)['r']['r_ante']\n",
    "J_C_r = models['ha']['hh'].jacobian(ss['ha'], ['r'], T=T)['C']['r']\n",
    "\n",
    "dC_dr_manual = J_C_r @ J_r_rante @ dr\n",
    "\n",
    "assert np.all(np.isclose(dC_dr['ha'], dC_dr_manual))\n"
   ]
  },
  {
   "cell_type": "markdown",
   "id": "included-trouble",
   "metadata": {},
   "source": [
    "### b) Using linear solution methods (`impulse_linear`, `jacobian` and their `solved_` versions) at the macro model level."
   ]
  },
  {
   "cell_type": "code",
   "execution_count": null,
   "id": "heavy-greene",
   "metadata": {},
   "outputs": [],
   "source": []
  }
 ],
 "metadata": {
  "kernelspec": {
   "display_name": "Python 3 (ipykernel)",
   "language": "python",
   "name": "python3"
  },
  "language_info": {
   "codemirror_mode": {
    "name": "ipython",
    "version": 3
   },
   "file_extension": ".py",
   "mimetype": "text/x-python",
   "name": "python",
   "nbconvert_exporter": "python",
   "pygments_lexer": "ipython3",
   "version": "3.8.8"
  },
  "widgets": {
   "application/vnd.jupyter.widget-state+json": {
    "state": {},
    "version_major": 2,
    "version_minor": 0
   }
  }
 },
 "nbformat": 4,
 "nbformat_minor": 5
}
