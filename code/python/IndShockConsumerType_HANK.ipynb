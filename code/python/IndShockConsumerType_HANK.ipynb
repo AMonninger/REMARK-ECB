{
 "cells": [
  {
   "cell_type": "markdown",
   "id": "binary-arnold",
   "metadata": {},
   "source": [
    "# Solving a HANK model using the `IndShockConsumerType`\n",
    "\n",
    "This notebook solves a Heterogeneous Agent model using HARK and computes Jacobians. These are used as inputs for the [Sequence-Space Toolbox](https://github.com/shade-econ/nber-workshop-2022) which adds general equilibrium components.\n",
    "\n",
    "This is possible as they [write](https://github.com/shade-econ/sequence-jacobian/blob/master/notebooks/hank.ipynb):\n",
    "\n",
    "'If you wish to solve a model that's not just a variation on these off-the-shelf HetBlocks, there's two cases to consider.\n",
    "\n",
    "1. The model fits into the HetBlock paradigm. E.g., standard incomplete markets models with additional choices such as search intensity. All you need to do is write a new backward iteration function. Use it to instantiate a new HetBlock and get all the HetBlock methods for free.\n",
    "\n",
    "2. The model does not fit the HetBlock paradigm. E.g., models in which discrete endogenous states. In this case, we recommend that you \"bring your own Jacobian\". That is, solve the Jacobian of your block outside the SSJ toolkit. Once you turn them into an instance of JacobianDict (like we did in section 4 of the Krusell-Smith notebook), you can include them in models in lieu of an actual block. This is sufficient for using linear solution methods (impulse_linear, jacobian and their solved_ versions) at the macro model level.'\n",
    "\n",
    "We want to use option 2!\n",
    "To make things simple we start replicating the [Fiscal Policy Notebook](https://github.com/shade-econ/nber-workshop-2022/blob/main/Tutorials/Tutorial%201%20Fiscal%20Policy.ipynb)\n",
    "\n",
    "Author: Adrian Monninger & Will Du"
   ]
  },
  {
   "cell_type": "markdown",
   "id": "embedded-orchestra",
   "metadata": {},
   "source": [
    "## TODO LIST\n",
    "### Short Term\n",
    "- Deficit spending goods market is off\n",
    "    - Calibration of income shocks (given talks with trainees that might change things. Also, SSJ standard calibrations include, alegedly, huge income shocks)\n",
    "    - Mistake in updating. New Discount factor works, but steady state asset and consumption is different from target\n",
    "- Finding Steady State:\n",
    "    - Targeting Assets: we get an MPC >1!\n",
    "    - Targeting MPC: We get B_ss != A_ss\n",
    "\n",
    "\n",
    "### Med Term:\n",
    "- Allow for Monetary Policy Shock und different fiscal rules\n",
    "- Add other Consumer Types\n",
    "- Why use HARK? (Can we showcase the different discount rate things?)"
   ]
  },
  {
   "cell_type": "markdown",
   "id": "verified-marble",
   "metadata": {},
   "source": [
    "## Achievement List\n",
    "- Get Jacobians from ConsIndShockModel\n",
    "- Update construct_lognormal_income_process_unemployment in ConsIndShockModel.py\n",
    "- Add Jacobians\n",
    "- Add Steady State values \n",
    "- Create IRFs\n",
    "- points: Jacobians = 300-400; Solution = 40/50 --> Have different parameters\n",
    "- target MPC for steady state values of B and beta\n",
    "- solve RA\n",
    "- solve TA\n",
    "- Compare with SSJ"
   ]
  },
  {
   "cell_type": "markdown",
   "id": "boring-uzbekistan",
   "metadata": {},
   "source": [
    "## Open Questions\n"
   ]
  },
  {
   "cell_type": "code",
   "execution_count": 1,
   "id": "adjusted-vatican",
   "metadata": {},
   "outputs": [],
   "source": [
    "#from ConsIndShockModel import IndShockConsumerType\n",
    "from ConsIndShockModel_HANK import IndShockConsumerType\n",
    "import sequence_jacobian as sj  # SSJ will allow us to define blocks, models, compute IRFs, etc\n",
    "from sequence_jacobian.classes import JacobianDict, SteadyStateDict, UserProvidedSS\n",
    "from sequence_jacobian import het, simple, create_model              # functions\n",
    "from sequence_jacobian.blocks.block import Block\n",
    "from sequence_jacobian.classes.result_dict import ResultDict\n",
    "import matplotlib.pyplot as plt\n",
    "import numpy as np\n",
    "import pickle\n",
    "import time\n",
    "\n",
    "from scipy import optimize"
   ]
  },
  {
   "cell_type": "markdown",
   "id": "changing-shareware",
   "metadata": {},
   "source": [
    "# Step 1: Partial Equilibrium using `IndShockConsumerType`"
   ]
  },
  {
   "cell_type": "markdown",
   "id": "functioning-acrobat",
   "metadata": {},
   "source": [
    "## 1. Solving `IndShockConsumerType`"
   ]
  },
  {
   "cell_type": "code",
   "execution_count": 2,
   "id": "historic-spring",
   "metadata": {},
   "outputs": [
    {
     "name": "stdout",
     "output_type": "stream",
     "text": [
      "T_ss: 0.20600000000000002\n",
      "Z_ss: 0.794\n",
      "C_ss: 0.8\n"
     ]
    }
   ],
   "source": [
    "#Steady State values\n",
    "def fiscal_ss(B, r, G): \n",
    "    T = (1 + r) * B + G - B\n",
    "    \n",
    "    return T\n",
    "\n",
    "\n",
    "r_ss = 1.03 - 1\n",
    "G_ss = .2\n",
    "B_ss = 0.2 # this is lower than the tutorial by Straub et al. because need Higher MPC\n",
    "Y_ss = 1.0\n",
    "tau = 0.0\n",
    "\n",
    "T_ss = fiscal_ss(B_ss,r_ss,G_ss)\n",
    "\n",
    "print('T_ss: ' +str(T_ss))\n",
    "\n",
    "Z_ss = Y_ss - T_ss\n",
    "\n",
    "C_ss= Y_ss - G_ss\n",
    "print('Z_ss: ' +str(Z_ss))\n",
    "\n",
    "print('C_ss: ' +str(Y_ss - G_ss))"
   ]
  },
  {
   "cell_type": "code",
   "execution_count": 3,
   "id": "caroline-syria",
   "metadata": {},
   "outputs": [],
   "source": [
    "#------------------------------------------------------------------------------------------------------\n",
    "Dict = {\n",
    "    # Parameters shared with the perfect foresight model\n",
    "    \"CRRA\":2,                              # Coefficient of relative risk aversion\n",
    "    \"Rfree\": 1+r_ss,                    # Interest factor on assets\n",
    "    \"DiscFac\": 0.96,                      # Intertemporal discount factor\n",
    "    \"LivPrb\" : [.99375],                   # Survival probability\n",
    "    \"PermGroFac\" : [1.00],                 # Permanent income growth factor\n",
    "\n",
    "    # Parameters that specify the income distribution over the lifecycle\n",
    "    \"PermShkStd\" : [.06],                  # Standard deviation of log permanent shocks to income\n",
    "    \"PermShkCount\" : 7,                    # Number of points in discrete approximation to permanent income shocks\n",
    "    \"TranShkStd\" : [0.2], #[.2],                   # Standard deviation of log transitory shocks to income\n",
    "    \"TranShkCount\" : 7,    \n",
    "    \n",
    "    # HANK params\n",
    "    \"taxrate\" : [tau], # set to 0.0 because we are going to assume that labor here is actually after tax income\n",
    "    \"labor\": [Y_ss - T_ss],\n",
    "    \"wage\": [1.0],\n",
    "    \n",
    "    # Number of points in discrete approximation to transitory income shocks\n",
    "    \"UnempPrb\" : 0.0,                      # Probability of unemployment while working\n",
    "    \"IncUnemp\" :  0.0,                     # Unemployment benefits replacement rate\n",
    "    \"UnempPrbRet\" : 0.0000,                # Probability of \"unemployment\" while retired\n",
    "    \"IncUnempRet\" : 0.0,                   # \"Unemployment\" benefits when retired\n",
    "    \"T_retire\" : 0.0,                      # Period of retirement (0 --> no retirement)\n",
    "    \"tax_rate\" : 0.0,                      # Flat income tax rate (legacy parameter, will be removed in future)\n",
    "\n",
    "    # Parameters for constructing the \"assets above minimum\" grid\n",
    "    \"aXtraMin\" : 0.0001,                    # Minimum end-of-period \"assets above minimum\" value\n",
    "    \"aXtraMax\" : 1500,                       # Maximum end-of-period \"assets above minimum\" value\n",
    "    \"aXtraCount\" : 300,                     # Number of points in the base grid of \"assets above minimum\"\n",
    "    \"aXtraNestFac\" : 3,                    # Exponential nesting factor when constructing \"assets above minimum\" grid\n",
    "    \"aXtraExtra\" : [None],                 # Additional values to add to aXtraGrid\n",
    "\n",
    "    # A few other parameters\n",
    "    \"BoroCnstArt\" : 0.0,                   # Artificial borrowing constraint; imposed minimum level of end-of period assets\n",
    "    \"vFuncBool\" : False,                   # Whether to calculate the value function during solution\n",
    "    \"CubicBool\" : False,                   # Preference shocks currently only compatible with linear cFunc\n",
    "    \"T_cycle\" : 1,                         # Number of periods in the cycle for this agent type \n",
    "    \n",
    "    # Transition Matrix simulation parameters\n",
    "    \"mCount\": 600,\n",
    "    \"mMax\": 1000,\n",
    "    \"mMin\": 0.0001,\n",
    "    \"mFac\": 3,\n",
    "}\n",
    "T = 300 # Dimention of TxT Jacobian matrix"
   ]
  },
  {
   "cell_type": "code",
   "execution_count": 4,
   "id": "helpful-interview",
   "metadata": {},
   "outputs": [],
   "source": [
    "# to add taxes, labor and wage\n",
    "def function(taxrate, labor, wage):\n",
    "    \n",
    "    z = (1- taxrate)*labor*wage\n",
    "    return z\n",
    "\n",
    "Dict['TranShkMean_Func'] = [function]"
   ]
  },
  {
   "cell_type": "code",
   "execution_count": 5,
   "id": "varying-liver",
   "metadata": {},
   "outputs": [],
   "source": [
    "Agent = IndShockConsumerType(**Dict, verbose = False)"
   ]
  },
  {
   "cell_type": "markdown",
   "id": "healthy-password",
   "metadata": {},
   "source": [
    "## 2. Compute Partial Equilibrium Steady State"
   ]
  },
  {
   "cell_type": "code",
   "execution_count": 6,
   "id": "horizontal-envelope",
   "metadata": {},
   "outputs": [],
   "source": [
    "# start = time.time()\n",
    "# Agent.compute_steady_state()\n",
    "# print('Seconds to compute steady state', time.time() - start)"
   ]
  },
  {
   "cell_type": "markdown",
   "id": "married-electricity",
   "metadata": {},
   "source": [
    "## 3. Compute Jacobians\n",
    "See [Jacobian Notebook](https://github.com/econ-ark/HARK/tree/master/examples/ConsIndShockModel/IndShockConsumerType_Jacobian_Example.ipynb)\n",
    "Shocks possible: LivPrb, PermShkStd,TranShkStd, DiscFac,UnempPrb, Rfree, IncUnemp, DiscFac\n",
    "\n",
    "We use here: Rfree and labor"
   ]
  },
  {
   "cell_type": "code",
   "execution_count": 7,
   "id": "arranged-german",
   "metadata": {},
   "outputs": [],
   "source": [
    "# start = time.time()\n",
    "\n",
    "# CJACR, AJACR = Agent.calc_jacobian('Rfree',T)\n",
    "\n",
    "# print('Seconds to calculate Jacobian', time.time() - start)"
   ]
  },
  {
   "cell_type": "markdown",
   "id": "comparable-looking",
   "metadata": {},
   "source": [
    "Plot: Consumption Jacobians"
   ]
  },
  {
   "cell_type": "code",
   "execution_count": 8,
   "id": "plastic-functionality",
   "metadata": {},
   "outputs": [],
   "source": [
    "# plt.plot(CJACR.T[0])\n",
    "# plt.plot(CJACR.T[10])\n",
    "# plt.plot(CJACR.T[30])\n",
    "# plt.show()"
   ]
  },
  {
   "cell_type": "code",
   "execution_count": 9,
   "id": "warming-release",
   "metadata": {},
   "outputs": [],
   "source": [
    "# CJACN,AJACN = Agent.calc_jacobian('labor', T)"
   ]
  },
  {
   "cell_type": "code",
   "execution_count": 10,
   "id": "bulgarian-brighton",
   "metadata": {},
   "outputs": [],
   "source": [
    "# plt.plot(CJACN.T[0])\n",
    "# plt.plot(CJACN.T[20])\n",
    "# plt.plot(CJACN.T[50])\n",
    "# plt.show()"
   ]
  },
  {
   "cell_type": "markdown",
   "id": "bored-moscow",
   "metadata": {},
   "source": [
    "## 4. Compute General Equilibrium Steady State\n",
    "Before, we took the discount rate (`DiscFac`) exogeneous. To make sure we get the aggregate MPC we need, we have to solve for the general equilibrium discount rate. "
   ]
  },
  {
   "cell_type": "code",
   "execution_count": 11,
   "id": "greek-fireplace",
   "metadata": {},
   "outputs": [
    {
     "name": "stdout",
     "output_type": "stream",
     "text": [
      "67.28863181660994\n",
      "0.11364144668138879\n",
      "0.20340924340044167\n",
      "-8.072346090459703\n",
      "80.39978630388553\n",
      "2.6119935891165653\n",
      "-2.4937696092197648\n",
      "10.627200805467686\n",
      "0.51881602416403\n",
      "-1.7485732875999194\n",
      "2.2597245266810386\n",
      "0.2677917358004316\n",
      "25.137241258088583\n",
      "0.1828800465478856\n",
      "0.2054864013964366\n",
      "-1.8833421501662784\n",
      "0.906350390541553\n",
      "0.2271905117162466\n",
      "8.048482420170977\n",
      "0.2759272071538853\n",
      "0.20827781621461655\n",
      "-1.0984477366382528\n",
      "0.542076799504274\n",
      "0.21626230398512825\n",
      "1.753597204244839\n",
      "0.37849252579165066\n",
      "0.21135477577374956\n",
      "0.06350908671293176\n",
      "0.44524733133621663\n",
      "0.2133574199400865\n",
      "0.25973916116250884\n",
      "0.4349521018801579\n",
      "0.21304856305640468\n",
      "0.24984450931797575\n",
      "0.4354480836522723\n",
      "0.2130634425095682\n",
      "0.24999989317153748\n",
      "0.4354402779971008\n",
      "0.21306320833991305\n",
      "0.2500000000071889\n",
      "0.43544027263049107\n",
      "0.21306320817891483\n",
      "0.24999999947206142\n",
      "0.4354402726561049\n",
      "0.21306320817968322\n"
     ]
    },
    {
     "data": {
      "text/plain": [
       "0.9658707678839741"
      ]
     },
     "execution_count": 11,
     "metadata": {},
     "output_type": "execute_result"
    }
   ],
   "source": [
    "## TARGETING BOTH B_SS AND MPC\n",
    "# I think we need two targets: 1. MPC = MPC target and 2. Asset target\n",
    "\n",
    "def ss_func(beta):\n",
    "    Agent.DiscFac = beta\n",
    "    B_ss = Agent.compute_steady_state()[0]\n",
    "    T_ss = fiscal_ss(B_ss,r_ss,G_ss)\n",
    "    Agent.T_ss = T_ss\n",
    "    Agent.update_income_process\n",
    "    Agent.compute_steady_state()\n",
    "    MPC_ss = Agent.calc_jacobian('labor', T)[0][0][0]\n",
    "    print(MPC_ss)\n",
    "    print(B_ss)\n",
    "    print(T_ss)\n",
    "    \n",
    "    return MPC_ss, T_ss \n",
    "    \n",
    "\n",
    "def ss_dif(beta):\n",
    "    \n",
    "    return ss_func(beta)[0] - MPC_target \n",
    "\n",
    "MPC_target = 0.25\n",
    "DiscFac = optimize.brentq(ss_dif,.9,.99) #.75,.99)\n",
    "DiscFac\n",
    "\n"
   ]
  },
  {
   "cell_type": "code",
   "execution_count": 12,
   "id": "demanding-meaning",
   "metadata": {},
   "outputs": [
    {
     "name": "stdout",
     "output_type": "stream",
     "text": [
      "0.24999999947206142\n",
      "0.4354402726561049\n",
      "0.21306320817968322\n",
      "0.24999999947206142\n",
      "0.21306320817968322\n",
      "beta:0.9658707678849745\n",
      "MPC:0.24999999947206142\n",
      "MPC Target:0.25\n",
      "T_ss0.21306320817968322\n",
      "Consumption: 0.8055475614244245\n"
     ]
    }
   ],
   "source": [
    "solution = ss_func(Agent.DiscFac)\n",
    "MPC_ss = solution[0]\n",
    "print(MPC_ss)\n",
    "T_ss = solution[1]\n",
    "print(T_ss)\n",
    "\n",
    "print('beta:' + str(Agent.DiscFac))\n",
    "# Verify solution\n",
    "print('MPC:' + str(MPC_ss))\n",
    "print('MPC Target:' + str(MPC_target))\n",
    "print ('T_ss' + str(T_ss))\n",
    "print('Consumption: ' + str(Agent.C_ss))"
   ]
  },
  {
   "cell_type": "code",
   "execution_count": 13,
   "id": "appreciated-minute",
   "metadata": {},
   "outputs": [],
   "source": [
    "Dict['DiscFac'] = DiscFac\n",
    "Dict['labor'] = [Y_ss - T_ss]\n",
    "Agent_ss = IndShockConsumerType(**Dict, verbose = False)\n",
    "Agent_ss.update_income_process()"
   ]
  },
  {
   "cell_type": "code",
   "execution_count": 14,
   "id": "proud-finding",
   "metadata": {},
   "outputs": [
    {
     "name": "stdout",
     "output_type": "stream",
     "text": [
      "[0.7869367918203167]\n"
     ]
    },
    {
     "data": {
      "text/plain": [
       "(0.7880007215826405, 0.806835703873827)"
      ]
     },
     "execution_count": 14,
     "metadata": {},
     "output_type": "execute_result"
    }
   ],
   "source": [
    "# VERIFY:\n",
    "print(Agent_ss.labor)\n",
    "Agent_ss.solve()\n",
    "Agent_ss.compute_steady_state()"
   ]
  },
  {
   "cell_type": "code",
   "execution_count": 39,
   "id": "meaningful-biography",
   "metadata": {},
   "outputs": [
    {
     "data": {
      "text/plain": [
       "0.231889408873518"
      ]
     },
     "execution_count": 39,
     "metadata": {},
     "output_type": "execute_result"
    }
   ],
   "source": [
    "# Difference asset market\n",
    "Agent_ss.compute_steady_state()[0] - B_ss"
   ]
  },
  {
   "cell_type": "code",
   "execution_count": 15,
   "id": "controlled-desert",
   "metadata": {},
   "outputs": [],
   "source": [
    "### TARGETING BOTH B_SS AND MPC END"
   ]
  },
  {
   "cell_type": "code",
   "execution_count": 16,
   "id": "hazardous-suggestion",
   "metadata": {},
   "outputs": [],
   "source": [
    "# ### Old Version: Target only Asset\n",
    "# def ss_func(beta):\n",
    "#     Agent.DiscFac = beta\n",
    "#     A_ss = Agent.compute_steady_state()[0]\n",
    "#     return A_ss\n",
    "    \n",
    "\n",
    "# def ss_dif(beta):\n",
    "    \n",
    "#     return ss_func(beta) - Asset_target \n",
    "\n",
    "# Asset_target = B_ss #0.25 # MPC target\n",
    "# DiscFac = optimize.brentq(ss_dif,.75,.99)\n",
    "\n",
    "# print('beta:' +str(Agent.DiscFac))\n",
    "# # Verify solution\n",
    "# print('Assets: ' +str(Agent.A_ss))\n",
    "# print('Asset Target:' +str(Asset_target))\n",
    "# print('Consumption: ' + str(Agent.C_ss))\n"
   ]
  },
  {
   "cell_type": "code",
   "execution_count": 17,
   "id": "tired-filing",
   "metadata": {},
   "outputs": [],
   "source": [
    "# Dict['DiscFac'] = DiscFac\n",
    "# Agent_ss = IndShockConsumerType(**Dict, verbose = False)\n",
    "# Agent_ss.update_income_process()"
   ]
  },
  {
   "cell_type": "code",
   "execution_count": 18,
   "id": "direct-impact",
   "metadata": {},
   "outputs": [],
   "source": [
    "# Agent_ss.compute_steady_state()"
   ]
  },
  {
   "cell_type": "code",
   "execution_count": 19,
   "id": "dangerous-perfume",
   "metadata": {},
   "outputs": [],
   "source": [
    "### Old Version End"
   ]
  },
  {
   "cell_type": "code",
   "execution_count": 20,
   "id": "returning-example",
   "metadata": {},
   "outputs": [
    {
     "data": {
      "text/plain": [
       "0.9658707678839741"
      ]
     },
     "execution_count": 20,
     "metadata": {},
     "output_type": "execute_result"
    }
   ],
   "source": [
    "### Check Results:\n",
    "Agent_ss.DiscFac"
   ]
  },
  {
   "cell_type": "code",
   "execution_count": 21,
   "id": "convinced-pattern",
   "metadata": {},
   "outputs": [
    {
     "name": "stdout",
     "output_type": "stream",
     "text": [
      "0.7880007215826405\n"
     ]
    }
   ],
   "source": [
    "A_ss = Agent_ss.A_ss\n",
    "print(A_ss)"
   ]
  },
  {
   "cell_type": "code",
   "execution_count": 30,
   "id": "quarterly-westminster",
   "metadata": {},
   "outputs": [
    {
     "data": {
      "text/plain": [
       "0.0793586875058594"
      ]
     },
     "execution_count": 30,
     "metadata": {},
     "output_type": "execute_result"
    }
   ],
   "source": [
    "Agent_ss.calc_jacobian('labor',T)[0][0][0]"
   ]
  },
  {
   "cell_type": "code",
   "execution_count": 31,
   "id": "hired-hypothesis",
   "metadata": {},
   "outputs": [
    {
     "data": {
      "text/plain": [
       "0.9658707678849745"
      ]
     },
     "execution_count": 31,
     "metadata": {},
     "output_type": "execute_result"
    }
   ],
   "source": [
    "Agent.DiscFac"
   ]
  },
  {
   "cell_type": "code",
   "execution_count": 32,
   "id": "certain-evanescence",
   "metadata": {},
   "outputs": [
    {
     "data": {
      "text/plain": [
       "(0.4354402726561049, 0.8055475614244245)"
      ]
     },
     "execution_count": 32,
     "metadata": {},
     "output_type": "execute_result"
    }
   ],
   "source": [
    "Agent.compute_steady_state()"
   ]
  },
  {
   "cell_type": "code",
   "execution_count": 33,
   "id": "grave-cricket",
   "metadata": {},
   "outputs": [
    {
     "data": {
      "text/plain": [
       "0.24999999947206142"
      ]
     },
     "execution_count": 33,
     "metadata": {},
     "output_type": "execute_result"
    }
   ],
   "source": [
    "Agent.calc_jacobian('labor',T)[0][0][0]"
   ]
  },
  {
   "cell_type": "code",
   "execution_count": 34,
   "id": "framed-discovery",
   "metadata": {},
   "outputs": [
    {
     "name": "stdout",
     "output_type": "stream",
     "text": [
      "Seconds to calculate Jacobian 8.64915680885315\n"
     ]
    }
   ],
   "source": [
    "start = time.time()\n",
    "\n",
    "CJACR_GE_old, AJACR_GE_old = Agent.calc_jacobian('Rfree',T)\n",
    "\n",
    "print('Seconds to calculate Jacobian', time.time() - start)"
   ]
  },
  {
   "cell_type": "markdown",
   "id": "driving-boards",
   "metadata": {},
   "source": [
    "## 5. Compute Jacobians with new Steady State"
   ]
  },
  {
   "cell_type": "code",
   "execution_count": 35,
   "id": "conscious-concrete",
   "metadata": {},
   "outputs": [
    {
     "name": "stdout",
     "output_type": "stream",
     "text": [
      "Seconds to calculate Jacobian 8.457211256027222\n"
     ]
    }
   ],
   "source": [
    "start = time.time()\n",
    "\n",
    "CJACR_GE, AJACR_GE = Agent_ss.calc_jacobian('Rfree',T)\n",
    "\n",
    "print('Seconds to calculate Jacobian', time.time() - start)"
   ]
  },
  {
   "cell_type": "code",
   "execution_count": 38,
   "id": "miniature-income",
   "metadata": {},
   "outputs": [
    {
     "data": {
      "image/png": "[encoded data removed]",
      "text/plain": [
       "<Figure size 640x480 with 1 Axes>"
      ]
     },
     "metadata": {},
     "output_type": "display_data"
    }
   ],
   "source": [
    "plt.plot(CJACR_GE.T[0])\n",
    "plt.plot(CJACR_GE.T[10])\n",
    "plt.plot(CJACR_GE.T[30])\n",
    "plt.plot(CJACR_GE_old.T[0],'--')\n",
    "plt.plot(CJACR_GE_old.T[10],'--')\n",
    "plt.plot(CJACR_GE_old.T[30],'--')\n",
    "# plt.plot(CJACR.T[0],'--')\n",
    "# plt.plot(CJACR.T[10],'--')\n",
    "# plt.plot(CJACR.T[30],'--')\n",
    "plt.show()"
   ]
  },
  {
   "cell_type": "code",
   "execution_count": 29,
   "id": "macro-visitor",
   "metadata": {},
   "outputs": [
    {
     "ename": "NameError",
     "evalue": "name 'stop' is not defined",
     "output_type": "error",
     "traceback": [
      "\u001b[1;31m---------------------------------------------------------------------------\u001b[0m",
      "\u001b[1;31mNameError\u001b[0m                                 Traceback (most recent call last)",
      "\u001b[1;32m<ipython-input-29-4f76a9dad686>\u001b[0m in \u001b[0;36m<cell line: 1>\u001b[1;34m()\u001b[0m\n\u001b[1;32m----> 1\u001b[1;33m \u001b[0mstop\u001b[0m\u001b[1;33m\u001b[0m\u001b[1;33m\u001b[0m\u001b[0m\n\u001b[0m",
      "\u001b[1;31mNameError\u001b[0m: name 'stop' is not defined"
     ]
    }
   ],
   "source": [
    "stop"
   ]
  },
  {
   "cell_type": "code",
   "execution_count": null,
   "id": "crude-wiring",
   "metadata": {},
   "outputs": [],
   "source": [
    "CJACN_GE, AJACN_GE = Agent_ss.calc_jacobian('labor', T)"
   ]
  },
  {
   "cell_type": "code",
   "execution_count": null,
   "id": "associate-infrastructure",
   "metadata": {},
   "outputs": [],
   "source": [
    "plt.plot(CJACN_GE.T[0])\n",
    "plt.plot(CJACN_GE.T[10])\n",
    "plt.plot(CJACN_GE.T[30])\n",
    "# plt.plot(CJACN.T[0],'--')\n",
    "# plt.plot(CJACN.T[10],'--')\n",
    "# plt.plot(CJACN.T[30],'--')\n",
    "plt.show()"
   ]
  },
  {
   "cell_type": "markdown",
   "id": "southern-tuition",
   "metadata": {},
   "source": [
    "## 6. Set Up General Equilibrium Parts\n",
    "We use here [HANK with Fiscal Policy](https://github.com/shade-econ/nber-workshop-2022/blob/main/Tutorials/Tutorial%201%20Fiscal%20Policy.ipynb). A very simple model without labor market or monetary policy"
   ]
  },
  {
   "cell_type": "code",
   "execution_count": null,
   "id": "handled-madison",
   "metadata": {},
   "outputs": [],
   "source": [
    "@sj.simple\n",
    "def fiscal(B, r, G, Y): \n",
    "    T = (1 + r) * B(-1) + G - B\n",
    "    Z = Y - T\n",
    "    \n",
    "    deficit = G - T\n",
    "    \n",
    "    return T, Z, deficit\n",
    "\n",
    "@sj.simple\n",
    "def mkt_clearing(A, B, Y, C, G):\n",
    "    asset_mkt = A - B\n",
    "    goods_mkt = C + G - Y\n",
    "    \n",
    "    return asset_mkt, goods_mkt\n"
   ]
  },
  {
   "cell_type": "markdown",
   "id": "laden-maldives",
   "metadata": {},
   "source": [
    "### 6.1 Include Steady State Dictionary Into SSJ"
   ]
  },
  {
   "cell_type": "code",
   "execution_count": null,
   "id": "native-telescope",
   "metadata": {},
   "outputs": [],
   "source": [
    "HARK_SteadyState_Dict = SteadyStateDict({\"G\": 1.0, \"asset_mkt\":0.0, \"C\": C_ss, \"r\": r_ss, \"Y\": Y_ss, \"B\":B_ss, \"G\":G_ss, \"A\": A_ss })\n",
    "HARK_Jacobian_Dict = JacobianDict( { 'C' : {'Z' : CJACN_GE} ,'A' : {'Z' : AJACN_GE} } )"
   ]
  },
  {
   "cell_type": "markdown",
   "id": "through-plumbing",
   "metadata": {},
   "source": [
    "### 6.2 Create Jacobians from GE parts"
   ]
  },
  {
   "cell_type": "code",
   "execution_count": null,
   "id": "peaceful-commissioner",
   "metadata": {},
   "outputs": [],
   "source": [
    "J_fiscal = fiscal.jacobian(HARK_SteadyState_Dict, inputs=['B', 'G', 'Y'])"
   ]
  },
  {
   "cell_type": "code",
   "execution_count": null,
   "id": "sublime-petroleum",
   "metadata": {},
   "outputs": [],
   "source": [
    "J_fiscal['T']"
   ]
  },
  {
   "cell_type": "markdown",
   "id": "enhanced-peeing",
   "metadata": {},
   "source": [
    "## 7. Generate General Equilibrium Jacobians"
   ]
  },
  {
   "cell_type": "markdown",
   "id": "heard-taxation",
   "metadata": {},
   "source": [
    "### 7.1 By Hand (TBD)"
   ]
  },
  {
   "cell_type": "code",
   "execution_count": null,
   "id": "cloudy-terrorism",
   "metadata": {},
   "outputs": [],
   "source": [
    "# print(HARK_Jacobian_Dict['C']['G'] @ J_fiscal['G']['T'])"
   ]
  },
  {
   "cell_type": "markdown",
   "id": "contemporary-thursday",
   "metadata": {},
   "source": [
    "### 7.2 Using SSJ"
   ]
  },
  {
   "cell_type": "code",
   "execution_count": null,
   "id": "exempt-society",
   "metadata": {},
   "outputs": [],
   "source": [
    "HARK_HANK = create_model([HARK_Jacobian_Dict, fiscal, mkt_clearing], name=\"HARK_HANK\")\n",
    "unknowns = ['Y']\n",
    "targets = ['asset_mkt']\n",
    "exogenous = ['G']\n",
    "\n",
    "G_std = .01\n",
    "G_persistence = .8\n",
    "dG =  G_std*G_persistence**np.arange(T)\n",
    "shocks_G = {\"G\": dG}"
   ]
  },
  {
   "cell_type": "code",
   "execution_count": null,
   "id": "communist-flexibility",
   "metadata": {},
   "outputs": [],
   "source": [
    "irfs_G = HARK_HANK.solve_impulse_linear(HARK_SteadyState_Dict, unknowns, targets, shocks_G)"
   ]
  },
  {
   "cell_type": "code",
   "execution_count": null,
   "id": "sharing-athletics",
   "metadata": {},
   "outputs": [],
   "source": [
    "irfs_G"
   ]
  },
  {
   "cell_type": "code",
   "execution_count": null,
   "id": "facial-belly",
   "metadata": {},
   "outputs": [],
   "source": [
    "def show_irfs(irfs_list, variables, labels=[\" \"], ylabel=r\"Percentage points (dev. from ss)\", T_plot=50, figsize=(18, 6)):\n",
    "    if len(irfs_list) != len(labels):\n",
    "        labels = [\" \"] * len(irfs_list)\n",
    "    n_var = len(variables)\n",
    "    fig, ax = plt.subplots(1, n_var, figsize=figsize, sharex=True)\n",
    "    for i in range(n_var):\n",
    "        # plot all irfs\n",
    "        for j, irf in enumerate(irfs_list):\n",
    "            ax[i].plot(100 * irf[variables[i]][:50], label=labels[j])\n",
    "        ax[i].set_title(variables[i])\n",
    "        ax[i].set_xlabel(r\"$t$\")\n",
    "        if i==0:\n",
    "            ax[i].set_ylabel(ylabel)\n",
    "        ax[i].legend()\n",
    "    plt.show()"
   ]
  },
  {
   "cell_type": "code",
   "execution_count": null,
   "id": "assured-neighbor",
   "metadata": {},
   "outputs": [],
   "source": [
    "show_irfs([irfs_G], ['G', 'Y', 'deficit'], labels=[\"balanced budget\"])\n",
    "show_irfs([irfs_G], ['C', 'A', 'T'], labels=[\"balanced budget\"])\n",
    "show_irfs([irfs_G], ['asset_mkt', 'goods_mkt'], labels=[\"balanced budget\"])"
   ]
  },
  {
   "cell_type": "code",
   "execution_count": null,
   "id": "affected-toilet",
   "metadata": {},
   "outputs": [],
   "source": [
    "# Deficit Spending\n",
    "rho_B = 0.8\n",
    "dB = np.cumsum(dG) * rho_B ** np.arange(T)\n",
    "shocks_B = {'G': dG, 'B': dB}\n",
    "\n",
    "irfs_B = HARK_HANK.solve_impulse_linear(HARK_SteadyState_Dict, unknowns, targets, shocks_B)"
   ]
  },
  {
   "cell_type": "code",
   "execution_count": null,
   "id": "armed-guide",
   "metadata": {},
   "outputs": [],
   "source": [
    "show_irfs([irfs_G, irfs_B], ['G', 'Y', 'deficit'], labels=[\"balanced budget\", \"deficit financed\"])\n",
    "show_irfs([irfs_G, irfs_B], ['C', 'A', 'T'], labels=[\"balanced budget\", \"deficit financed\"])\n",
    "show_irfs([irfs_G, irfs_B], ['asset_mkt', 'goods_mkt'], labels=[\"balanced budget\", \"deficit financed\"])"
   ]
  },
  {
   "cell_type": "markdown",
   "id": "dedicated-citizen",
   "metadata": {},
   "source": [
    "# Comparison with SSJ\n",
    "Now, let's compare impulse response functions from SSJ and HARK.\n"
   ]
  },
  {
   "cell_type": "code",
   "execution_count": null,
   "id": "banned-lobby",
   "metadata": {},
   "outputs": [],
   "source": [
    "# First import them\n",
    "SSJ_irfs = pickle.load( open( \"irfs.p\", \"rb\" ) )\n",
    "SSJ_irfs_ra = pickle.load( open( \"irfs_ra.p\", \"rb\" ) )\n",
    "SSJ_irfs_ta = pickle.load( open( \"irfs_ta.p\", \"rb\" ) )\n",
    "SSJ_irfs_B = pickle.load( open( \"irfs_B.p\", \"rb\" ) )"
   ]
  },
  {
   "cell_type": "code",
   "execution_count": null,
   "id": "sticky-mistake",
   "metadata": {},
   "outputs": [],
   "source": [
    "show_irfs([irfs_B,SSJ_irfs_B], ['G', 'Y', 'deficit'], labels=[\"HARK\", \"SSJ\"])\n",
    "show_irfs([irfs_B,SSJ_irfs_B],  ['C', 'A', 'T'], labels=[\"HARK\", \"SSJ\"])\n",
    "show_irfs([irfs_B,SSJ_irfs_B], ['asset_mkt', 'goods_mkt'], labels=[\"HARK\", \"SSJ\"])"
   ]
  },
  {
   "cell_type": "code",
   "execution_count": null,
   "id": "extended-vacation",
   "metadata": {},
   "outputs": [],
   "source": [
    "STOP"
   ]
  },
  {
   "cell_type": "markdown",
   "id": "supreme-bundle",
   "metadata": {},
   "source": [
    "### "
   ]
  },
  {
   "cell_type": "code",
   "execution_count": null,
   "id": "unauthorized-fitting",
   "metadata": {},
   "outputs": [],
   "source": []
  },
  {
   "cell_type": "markdown",
   "id": "consolidated-while",
   "metadata": {},
   "source": [
    "### Get Household Poblem into a Block structure such that SSJ can use it\n",
    "We have to include HARK Jacobians and the steady state values. Afterwards, SSJ calculates Jacobians for the GE block and creates GE Jacobians\n",
    "\n",
    "PROBLEM: SSJ actively wants to solve for the steady state which results in errors"
   ]
  },
  {
   "cell_type": "code",
   "execution_count": null,
   "id": "equivalent-termination",
   "metadata": {},
   "outputs": [],
   "source": [
    "HARK_Jacobian_Dict = JacobianDict( { 'C' : {'Z' : CJACN_GE} ,'A' : {'Z' : AJACN_GE} } )"
   ]
  },
  {
   "cell_type": "code",
   "execution_count": null,
   "id": "banned-expert",
   "metadata": {},
   "outputs": [],
   "source": [
    "HARK_SteadyState_Dict = SteadyStateDict({\"G\": 1.0, \"asset_mkt\":0.0, \"C\": C_ss, \"r\": r_ss, \"Y\": Y_ss, \"B\":B_ss, \"G\":G_ss, \"A\": A_ss })"
   ]
  },
  {
   "cell_type": "code",
   "execution_count": null,
   "id": "faced-ordering",
   "metadata": {},
   "outputs": [],
   "source": [
    "# 1)\n",
    "ss_HARK_HANK = create_model([HARK_Jacobian_Dict, fiscal, mkt_clearing], name=\"HARK_HANK\")\n",
    "unknowns = ['Y']\n",
    "targets = ['asset_mkt']\n",
    "exogenous = ['G']\n",
    "\n",
    "G_std = .001\n",
    "G_persistence = .9\n",
    "regular_G_shock_path = {\"G\": G_std*G_persistence**np.arange(200)}\n",
    "\n",
    "Dict_HARK_HANK = {\"deficit\": G_ss - T_ss, \"T\": T_ss, \"Z\": Y_ss - T_ss, \"G\": 1.0, \"asset_mkt\":0.0, \"goods_mkt\": 0.0,  \"C\": C_ss,\"r\": r_ss, \"Y\": Y_ss, \"B\":B_ss, \"G\":G_ss, \"A\": A_ss }"
   ]
  },
  {
   "cell_type": "code",
   "execution_count": null,
   "id": "innocent-workstation",
   "metadata": {},
   "outputs": [],
   "source": [
    "ss_HARK_HANK = ss_HARK_HANK.steady_state(Dict_HARK_HANK)"
   ]
  },
  {
   "cell_type": "code",
   "execution_count": null,
   "id": "through-short",
   "metadata": {},
   "outputs": [],
   "source": [
    "vars(ss_HARK_HANK)"
   ]
  },
  {
   "cell_type": "code",
   "execution_count": null,
   "id": "adult-dressing",
   "metadata": {},
   "outputs": [],
   "source": [
    "# 2) Create a Block with 2 dictionaries which includes steady_state\n",
    "class HARK_block(Block):\n",
    "    \"\"\"\n",
    "    The HARK block needs two ingredients.\n",
    "    1. JacobianDict: A dictionary with Jacobians\n",
    "    2. steady_state: A dictionary with steady state values\n",
    "    \"\"\"\n",
    "#     def Jacobian():\n",
    "#         JacobianDict( { 'C' : {'Z' : CJACN_GE} ,'A' : {'Z' : AJACN_GE} } )\n",
    "    \n",
    "#     def Steady_State():\n",
    "#         SteadyStateDict({\"G\": 1.0, \"asset_mkt\":0.0, \"C\": C_ss, \"r\": r_ss, \"Y\": Y_ss, \"B\":B_ss, \"G\":G_ss, \"A\": A_ss })\n",
    "        \n",
    "    Jacobian = JacobianDict( { 'C' : {'Z' : CJACN_GE} ,'A' : {'Z' : AJACN_GE} } )\n",
    "    Steady_State = {\"G\": 1.0, \"asset_mkt\":0.0, \"C\": C_ss, \"r\": r_ss, \"Y\": Y_ss, \"B\":B_ss, \"G\":G_ss, \"A\": A_ss }\n",
    "    UserProvidedSS = {\"G\": 1.0, \"asset_mkt\":0.0, \"C\": C_ss, \"r\": r_ss, \"Y\": Y_ss, \"B\":B_ss, \"G\":G_ss, \"A\": A_ss }"
   ]
  },
  {
   "cell_type": "code",
   "execution_count": null,
   "id": "christian-competition",
   "metadata": {},
   "outputs": [],
   "source": [
    "HARK_Input = HARK_block\n",
    "HARK_Input.Jacobian['A']"
   ]
  },
  {
   "cell_type": "code",
   "execution_count": null,
   "id": "decreased-coverage",
   "metadata": {},
   "outputs": [],
   "source": [
    "ss_HARK_HANK = create_model([HARK_Input,fiscal,mkt_clearing])\n"
   ]
  },
  {
   "cell_type": "code",
   "execution_count": null,
   "id": "innovative-spotlight",
   "metadata": {},
   "outputs": [],
   "source": [
    "# 3) Create a Result Dictionary\n",
    "class HARK_Dict(ResultDict):\n",
    "#     def __init__(self):\n",
    "#         self.Jacobian = JacobianDict( { 'C' : {'Z' : CJACN_GE} ,'A' : {'Z' : AJACN_GE} } )\n",
    "#         self.steady_state = {\"G\": 1.0, \"asset_mkt\":0.0, \"C\": C_ss, \"r\": r_ss, \"Y\": Y_ss, \"B\":B_ss, \"G\":G_ss, \"A\": A_ss }\n",
    "        \n",
    "    Jacobian = JacobianDict( { 'C' : {'Z' : CJACN_GE} ,'A' : {'Z' : AJACN_GE} } )\n",
    "    Steady_State = {\"G\": 1.0, \"asset_mkt\":0.0, \"C\": C_ss, \"r\": r_ss, \"Y\": Y_ss, \"B\":B_ss, \"G\":G_ss, \"A\": A_ss }\n",
    "    UserProvidedSS = {\"G\": 1.0, \"asset_mkt\":0.0, \"C\": C_ss, \"r\": r_ss, \"Y\": Y_ss, \"B\":B_ss, \"G\":G_ss, \"A\": A_ss }"
   ]
  },
  {
   "cell_type": "code",
   "execution_count": null,
   "id": "proper-jackson",
   "metadata": {},
   "outputs": [],
   "source": [
    "HARK_Inputb = HARK_Dict"
   ]
  },
  {
   "cell_type": "code",
   "execution_count": null,
   "id": "periodic-travel",
   "metadata": {},
   "outputs": [],
   "source": [
    "HARK_Inputb.Jacobian['A']"
   ]
  },
  {
   "cell_type": "code",
   "execution_count": null,
   "id": "genetic-environment",
   "metadata": {},
   "outputs": [],
   "source": [
    "HARK_Inputb.Steady_State"
   ]
  },
  {
   "cell_type": "code",
   "execution_count": null,
   "id": "through-plaza",
   "metadata": {},
   "outputs": [],
   "source": [
    "ss_HARK_HANK = create_model([HARK_Inputb, fiscal, mkt_clearing])\n",
    "## This error in combine comes even before"
   ]
  },
  {
   "cell_type": "code",
   "execution_count": null,
   "id": "sharing-browse",
   "metadata": {},
   "outputs": [],
   "source": [
    "# 4) Use the ResultDict directly\n",
    "HARK_Inputc = ResultDict(JacobianDict( { 'C' : {'Z' : CJACN_GE} ,'A' : {'Z' : AJACN_GE} } ))"
   ]
  },
  {
   "cell_type": "code",
   "execution_count": null,
   "id": "circular-state",
   "metadata": {},
   "outputs": [],
   "source": [
    "# 5) Use options for steady state\n",
    "ss_HARK_HANK = create_model([HARK_Jacobian_Dict,fiscal,mkt_clearing], name=\"HARK_HANK\")\n"
   ]
  },
  {
   "cell_type": "code",
   "execution_count": null,
   "id": "endangered-breed",
   "metadata": {},
   "outputs": [],
   "source": [
    "vars(ss_HARK_HANK)"
   ]
  },
  {
   "cell_type": "code",
   "execution_count": null,
   "id": "attempted-brief",
   "metadata": {},
   "outputs": [],
   "source": [
    "ss_HARK_HANK.steady_state_options = {\"G\": 1.0, \"asset_mkt\":0.0, \"C\": C_ss, \"r\": r_ss, \"Y\": Y_ss, \"B\":B_ss, \"G\":G_ss, \"A\": A_ss }"
   ]
  },
  {
   "cell_type": "code",
   "execution_count": null,
   "id": "typical-tobacco",
   "metadata": {},
   "outputs": [],
   "source": [
    "ss_HARK_HANK.steady_state"
   ]
  },
  {
   "cell_type": "code",
   "execution_count": null,
   "id": "useful-nothing",
   "metadata": {},
   "outputs": [],
   "source": [
    "ss_HARK_HANK = ss_HARK_HANK.steady_state(Dict_HARK_HANK)"
   ]
  },
  {
   "cell_type": "code",
   "execution_count": null,
   "id": "identified-carpet",
   "metadata": {},
   "outputs": [],
   "source": [
    "# 6 Add to JacobianDictBlock\n",
    "ss_HARK_HANK.blocks"
   ]
  },
  {
   "cell_type": "code",
   "execution_count": null,
   "id": "japanese-evidence",
   "metadata": {},
   "outputs": [],
   "source": [
    "ss = {\"G\": 1.0, \"asset_mkt\":0.0, \"C\": C_ss, \"r\": r_ss, \"Y\": Y_ss, \"B\":B_ss, \"G\":G_ss, \"A\": A_ss }\n",
    "ss_HARK_HANK.partial_jacobians(ss)"
   ]
  },
  {
   "cell_type": "markdown",
   "id": "horizontal-spyware",
   "metadata": {},
   "source": [
    "## Create Impulse Responses"
   ]
  },
  {
   "cell_type": "code",
   "execution_count": null,
   "id": "headed-judges",
   "metadata": {},
   "outputs": [],
   "source": [
    "IPR = ss_HARK_HANK.solve_impulse_linear(Dict_HARK_HANK, unknowns, targets, regular_G_shock_path, T=200)"
   ]
  },
  {
   "cell_type": "code",
   "execution_count": null,
   "id": "compressed-thong",
   "metadata": {},
   "outputs": [],
   "source": []
  },
  {
   "cell_type": "code",
   "execution_count": null,
   "id": "textile-partnership",
   "metadata": {},
   "outputs": [],
   "source": []
  },
  {
   "cell_type": "code",
   "execution_count": null,
   "id": "palestinian-warrant",
   "metadata": {},
   "outputs": [],
   "source": []
  },
  {
   "cell_type": "code",
   "execution_count": null,
   "id": "intermediate-diana",
   "metadata": {},
   "outputs": [],
   "source": [
    "STOP"
   ]
  },
  {
   "cell_type": "code",
   "execution_count": null,
   "id": "sound-wilson",
   "metadata": {},
   "outputs": [],
   "source": [
    "# create hh\n",
    "# From \n",
    "\n",
    "# {'backward_fun': <ExtendedFunction(hh): ['Va_p', 'a_grid', 'we', 'T', 'r', 'beta', 'eis', 'frisch', 'vphi'] -> ['Va', 'a', 'c', 'n']>, \n",
    "# 'name': 'hh', 'M': Bijection({}), 'steady_state_options': {'backward_tol': 1e-08, 'backward_maxit': 5000, 'forward_tol': 1e-10, 'forward_maxit': 100000}, \n",
    "# 'impulse_nonlinear_options': {'monotonic': False}, 'impulse_linear_options': {'h': 0.0001, 'twosided': False}, \n",
    "# 'jacobian_options': {'h': 0.0001, 'twosided': False}, 'partial_jacobians_options': {}, 'exogenous': OrderedSet(['Pi']), 'policy': OrderedSet(['a']), \n",
    "# 'backward': OrderedSet(['Va']), 'non_backward_outputs': OrderedSet(['a', 'c', 'n']), 'outputs': OrderedSet(['A', 'C', 'N']), \n",
    "# 'M_outputs': Bijection({'a': 'A', 'c': 'C', 'n': 'N'}), 'inputs': OrderedSet(['a_grid', 'we', 'T', 'r', 'beta', 'eis', 'frisch', 'vphi', 'Pi']), \n",
    "# 'internals': OrderedSet(['D', 'Dbeg', 'Pi', 'Va', 'a', 'c', 'n']), 'original_inputs': OrderedSet(['a_grid', 'we', 'T', 'r', 'beta', 'eis', 'frisch', 'vphi', 'Pi']), \n",
    "# 'original_outputs': OrderedSet(['A', 'C', 'N']), 'original_internals': OrderedSet(['D', 'Dbeg', 'Pi', 'Va', 'a', 'c', 'n']), 'original_M_outputs': Bijection({'a': 'A', 'c': 'C', 'n': 'N'}), \n",
    "# 'hetinputs': None, 'hetoutputs': None, 'backward_init': <ExtendedFunction(hh_init): ['a_grid', 'we', 'r', 'eis', 'T'] -> ['fininc', 'Va']>}\n",
    "\n",
    "\n",
    "hh = {'name' : 'hh',\n",
    "    'inputs' : ['a_grid', 'we', 'T', 'r', 'beta', 'eis', 'frisch', 'vphi', 'Pi'],\n",
    "    'outputs' : = ['A', 'C', 'N']\n",
    "    \n",
    "}"
   ]
  },
  {
   "cell_type": "code",
   "execution_count": null,
   "id": "shared-familiar",
   "metadata": {},
   "outputs": [],
   "source": [
    "hh_ext = {\n",
    "    inputs = OrderedSet(['r', 'beta', 'eis', 'frisch', 'vphi', 'rho_e', 'sd_e', 'nE', 'amin', 'amax', 'nA', 'Div', 'Tax', 'w'])\n",
    "    outputs = ['A', 'C', 'N', 'NE']\n",
    "    partial_jacobians = \n",
    "    steady_state = \n",
    "}"
   ]
  },
  {
   "cell_type": "code",
   "execution_count": null,
   "id": "composite-georgia",
   "metadata": {},
   "outputs": [],
   "source": [
    "# Add Steady State.\n",
    "## I found in blocks/block:\n",
    "\"\"\"\n",
    "    def steady_state(self, calibration: Union[SteadyStateDict, UserProvidedSS], \n",
    "                     dissolve: List[str] = [], options: Dict[str, dict] = {}, **kwargs) -> SteadyStateDict:\n",
    "\"\"\"\n",
    "hh_ext['UserProvidedSS'] = {}"
   ]
  },
  {
   "cell_type": "markdown",
   "id": "pressed-article",
   "metadata": {},
   "source": [
    "# Step 2: General Equilibrium Part Using Sequence Space Method\n",
    "Following the [SSJ](https://github.com/shade-econ/sequence-jacobian/blob/master/notebooks/hank.ipynb) and creating other market participants as simple blocks"
   ]
  },
  {
   "cell_type": "code",
   "execution_count": null,
   "id": "cheap-watch",
   "metadata": {},
   "outputs": [],
   "source": [
    "@simple\n",
    "def firm(Y, w, Z, pi, mu, kappa):\n",
    "    L = Y / Z\n",
    "    Div = Y - w * L - mu/(mu-1)/(2*kappa) * (1+pi).apply(np.log)**2 * Y\n",
    "    return L, Div\n",
    "\n",
    "\n",
    "@simple\n",
    "def monetary(pi, rstar, phi):\n",
    "    r = (1 + rstar(-1) + phi * pi(-1)) / (1 + pi) - 1\n",
    "    return r\n",
    "\n",
    "\n",
    "@simple\n",
    "def fiscal(r, B):\n",
    "    Tax = r * B\n",
    "    return Tax\n",
    "\n",
    "\n",
    "@simple\n",
    "def mkt_clearing(A, NE, C, L, Y, B, pi, mu, kappa):\n",
    "    asset_mkt = A - B\n",
    "    labor_mkt = NE - L\n",
    "    goods_mkt = Y - C - mu/(mu-1)/(2*kappa) * (1+pi).apply(np.log)**2 * Y\n",
    "    return asset_mkt, labor_mkt, goods_mkt\n",
    "\n",
    "\n",
    "@simple\n",
    "def nkpc_ss(Z, mu):\n",
    "    w = Z / mu\n",
    "    return w\n",
    "\n",
    "@simple\n",
    "def nkpc(pi, w, Z, Y, r, mu, kappa):\n",
    "    nkpc_res = kappa * (w / Z - 1 / mu) + Y(+1) / Y * (1 + pi(+1)).apply(np.log) / (1 + r(+1))\\\n",
    "               - (1 + pi).apply(np.log)\n",
    "    return nkpc_res"
   ]
  },
  {
   "cell_type": "markdown",
   "id": "vocational-registrar",
   "metadata": {},
   "source": [
    "Partial Equilibria for maro blocks"
   ]
  },
  {
   "cell_type": "code",
   "execution_count": null,
   "id": "above-jewelry",
   "metadata": {},
   "outputs": [],
   "source": [
    "## Put Blocks together\n",
    "blocks = [hh_ext, firm, monetary, fiscal, mkt_clearing, nkpc]\n",
    "hank = create_model(blocks, name=\"One-Asset HANK\")"
   ]
  },
  {
   "cell_type": "code",
   "execution_count": null,
   "id": "horizontal-valve",
   "metadata": {},
   "outputs": [],
   "source": [
    "## Steady States\n",
    "ss = hank.steady_state(ss0)\n",
    "\n",
    "for k in ss0.keys():\n",
    "    assert np.all(np.isclose(ss[k], ss0[k]))"
   ]
  },
  {
   "cell_type": "code",
   "execution_count": null,
   "id": "acute-backup",
   "metadata": {},
   "outputs": [],
   "source": [
    "## Solve Jacobians\n",
    "## NOTE: our HARK Jacobians are already included and are just used as given\n",
    "# setup\n",
    "T = 300\n",
    "exogenous = ['rstar', 'Z']\n",
    "unknowns = ['pi', 'w', 'Y']\n",
    "targets = ['nkpc_res', 'asset_mkt', 'labor_mkt']\n",
    "\n",
    "# general equilibrium jacobians\n",
    "G = hank.solve_jacobian(ss, unknowns, targets, exogenous, T=T)\n",
    "\n",
    "print(G)"
   ]
  },
  {
   "cell_type": "code",
   "execution_count": null,
   "id": "precise-institution",
   "metadata": {},
   "outputs": [],
   "source": []
  },
  {
   "cell_type": "markdown",
   "id": "genetic-begin",
   "metadata": {},
   "source": [
    "### a) Combining Partial Equilibrium Jacobians to make them General Equilibrium. Instead of using `CombinedBlock`"
   ]
  },
  {
   "cell_type": "code",
   "execution_count": null,
   "id": "expired-robinson",
   "metadata": {},
   "outputs": [],
   "source": [
    "J_r_rante = models['ha']['ex_post_rate'].jacobian(ss['ha'], ['r_ante'], T=T)['r']['r_ante']\n",
    "J_C_r = models['ha']['hh'].jacobian(ss['ha'], ['r'], T=T)['C']['r']\n",
    "\n",
    "dC_dr_manual = J_C_r @ J_r_rante @ dr\n",
    "\n",
    "assert np.all(np.isclose(dC_dr['ha'], dC_dr_manual))\n"
   ]
  },
  {
   "cell_type": "markdown",
   "id": "according-korea",
   "metadata": {},
   "source": [
    "### b) Using linear solution methods (`impulse_linear`, `jacobian` and their `solved_` versions) at the macro model level."
   ]
  },
  {
   "cell_type": "code",
   "execution_count": null,
   "id": "honey-republican",
   "metadata": {},
   "outputs": [],
   "source": []
  }
 ],
 "metadata": {
  "kernelspec": {
   "display_name": "Python 3 (ipykernel)",
   "language": "python",
   "name": "python3"
  },
  "language_info": {
   "codemirror_mode": {
    "name": "ipython",
    "version": 3
   },
   "file_extension": ".py",
   "mimetype": "text/x-python",
   "name": "python",
   "nbconvert_exporter": "python",
   "pygments_lexer": "ipython3",
   "version": "3.8.8"
  },
  "widgets": {
   "application/vnd.jupyter.widget-state+json": {
    "state": {},
    "version_major": 2,
    "version_minor": 0
   }
  }
 },
 "nbformat": 4,
 "nbformat_minor": 5
}
