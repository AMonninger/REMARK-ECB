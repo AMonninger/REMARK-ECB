{
 "cells": [
  {
   "cell_type": "markdown",
   "id": "straight-bobby",
   "metadata": {},
   "source": [
    "# Solving a HANK model using the `IndShockConsumerType`\n",
    "\n",
    "This notebook solves a Heterogeneous Agent model using HARK and computes Jacobians. These are used as inputs for the [Sequence-Space Toolbox](https://github.com/shade-econ/nber-workshop-2022) which adds general equilibrium components.\n",
    "\n",
    "This is possible as they [write](https://github.com/shade-econ/sequence-jacobian/blob/master/notebooks/hank.ipynb):\n",
    "\n",
    "'If you wish to solve a model that's not just a variation on these off-the-shelf HetBlocks, there's two cases to consider.\n",
    "\n",
    "1. The model fits into the HetBlock paradigm. E.g., standard incomplete markets models with additional choices such as search intensity. All you need to do is write a new backward iteration function. Use it to instantiate a new HetBlock and get all the HetBlock methods for free.\n",
    "\n",
    "2. The model does not fit the HetBlock paradigm. E.g., models in which discrete endogenous states. In this case, we recommend that you \"bring your own Jacobian\". That is, solve the Jacobian of your block outside the SSJ toolkit. Once you turn them into an instance of JacobianDict (like we did in section 4 of the Krusell-Smith notebook), you can include them in models in lieu of an actual block. This is sufficient for using linear solution methods (impulse_linear, jacobian and their solved_ versions) at the macro model level.'\n",
    "\n",
    "We want to use option 2!\n",
    "\n",
    "Author: Adrian Monninger & Will Du"
   ]
  },
  {
   "cell_type": "markdown",
   "id": "elementary-black",
   "metadata": {},
   "source": [
    "## TODO LIST\n",
    "### Short Term\n",
    "- Add Steady State values \n",
    "- Create IRFs\n",
    "\n",
    "\n",
    "### Med Term:\n",
    "- Allow for Monetary Policy Shock\n",
    "- Add other Consumer Types"
   ]
  },
  {
   "cell_type": "markdown",
   "id": "scenic-gentleman",
   "metadata": {},
   "source": [
    "## Achievement List\n",
    "- Get Jacobians from ConsIndShockModel\n",
    "- Update construct_lognormal_income_process_unemployment in ConsIndShockModel.py\n",
    "- Add Jacobians"
   ]
  },
  {
   "cell_type": "markdown",
   "id": "radio-cattle",
   "metadata": {},
   "source": [
    "## Open Questions\n"
   ]
  },
  {
   "cell_type": "code",
   "execution_count": 1,
   "id": "amateur-permit",
   "metadata": {},
   "outputs": [],
   "source": [
    "#from ConsIndShockModel import IndShockConsumerType\n",
    "from ConsIndShockModel_HANK import IndShockConsumerType\n",
    "import sequence_jacobian as sj  # SSJ will allow us to define blocks, models, compute IRFs, etc\n",
    "from sequence_jacobian.classes import JacobianDict, SteadyStateDict, UserProvidedSS\n",
    "from sequence_jacobian import het, simple, create_model              # functions\n",
    "from sequence_jacobian.blocks.block import Block\n",
    "from sequence_jacobian.classes.result_dict import ResultDict\n",
    "import matplotlib.pyplot as plt\n",
    "import numpy as np\n",
    "import time\n",
    "\n",
    "from scipy import optimize"
   ]
  },
  {
   "cell_type": "markdown",
   "id": "treated-economics",
   "metadata": {},
   "source": [
    "# Step 1: Partial Equilibrium using `IndShockConsumerType`"
   ]
  },
  {
   "cell_type": "markdown",
   "id": "meaning-kinase",
   "metadata": {},
   "source": [
    "## 1. Solving `IndShockConsumerType`"
   ]
  },
  {
   "cell_type": "code",
   "execution_count": 2,
   "id": "weird-winning",
   "metadata": {},
   "outputs": [
    {
     "name": "stdout",
     "output_type": "stream",
     "text": [
      "T_ss: 0.21500000000000008\n",
      "Z_ss: 0.7849999999999999\n",
      "C_ss: 0.8\n"
     ]
    }
   ],
   "source": [
    "#Steady State values\n",
    "\n",
    "def fiscal_ss(B, r, G): \n",
    "    T = (1 + r) * B + G - B\n",
    "    \n",
    "    return T\n",
    "\n",
    "\n",
    "r_ss = 1.03 - 1\n",
    "G_ss = .2\n",
    "B_ss = .5 # this is lower than the tutorial by Straub et al. because need Higher MPC\n",
    "Y_ss = 1.0\n",
    "tau = 0.0\n",
    "\n",
    "T_ss = fiscal_ss(B_ss,r_ss,G_ss)\n",
    "\n",
    "print('T_ss: ' +str(T_ss))\n",
    "\n",
    "Z_ss = Y_ss - T_ss\n",
    "\n",
    "C_ss= Y_ss - G_ss\n",
    "print('Z_ss: ' +str(Z_ss))\n",
    "\n",
    "print('C_ss: ' +str(Y_ss - G_ss))"
   ]
  },
  {
   "cell_type": "code",
   "execution_count": 3,
   "id": "continental-castle",
   "metadata": {},
   "outputs": [],
   "source": [
    "# Dict={\n",
    "#     # Parameters shared with the perfect foresight model\n",
    "#     \"CRRA\": 2.0,                           # Coefficient of relative risk aversion\n",
    "#     \"Rfree\": 1 + r_ss,                         # Interest factor on assets\n",
    "#     \"DiscFac\": 0.9594, #0.96,                       # Intertemporal discount factor\n",
    "#     \"LivPrb\" : [.99375],                     # Survival probability\n",
    "#     \"PermGroFac\" :[1.00],                  # Permanent income growth factor\n",
    "    \n",
    "#     # Parameters that specify the income distribution over the lifecycle\n",
    "#     \"PermShkStd\" : [0.1],                  # Standard deviation of log permanent shocks to income\n",
    "#     \"PermShkCount\" : 7,                    # Number of points in discrete approximation to permanent income shocks\n",
    "#     \"TranShkStd\" : [0.2],                  # Standard deviation of log transitory shocks to income\n",
    "#     \"TranShkCount\" : 7,                    # Number of points in discrete approximation to transitory income shocks\n",
    "#     \"UnempPrb\" : 0.05,                     # Probability of unemployment while working\n",
    "#     \"IncUnemp\" : 0.3,                      # Unemployment benefits replacement rate\n",
    "#     \"UnempPrbRet\" : 0.0005,                # Probability of \"unemployment\" while retired\n",
    "#     \"IncUnempRet\" : 0.0,                   # \"Unemployment\" benefits when retired\n",
    "#     \"T_retire\" : 0,                        # Period of retirement (0 --> no retirement)\n",
    "#     \"tax_rate\" : 0.0,                      # Flat income tax rate (legacy parameter, will be removed in future)\n",
    "    \n",
    "#     # Parameters for constructing the \"assets above minimum\" grid\n",
    "#     \"aXtraMin\" : 0.001,                    # Minimum end-of-period \"assets above minimum\" value\n",
    "#     \"aXtraMax\" : 1000,                       # Maximum end-of-period \"assets above minimum\" value\n",
    "#     \"aXtraCount\" : 200,                     # Number of points in the base grid of \"assets above minimum\"\n",
    "#     \"aXtraNestFac\" : 3,                    # Exponential nesting factor when constructing \"assets above minimum\" grid\n",
    "#     \"aXtraExtra\" : [None],                 # Additional values to add to aXtraGrid\n",
    "    \n",
    "#     # A few other paramaters\n",
    "#     \"BoroCnstArt\" : 0.0,                   # Artificial borrowing constraint; imposed minimum level of end-of period assets\n",
    "#     \"vFuncBool\" : True,                    # Whether to calculate the value function during solution   \n",
    "#     \"CubicBool\" : False,                   # Preference shocks currently only compatible with linear cFunc\n",
    "#     \"T_cycle\" : 1,                         # Number of periods in the cycle for this agent type        \n",
    "    \n",
    "#     # Parameters only used in simulation\n",
    "#     \"AgentCount\" : 10000,                  # Number of agents of this type\n",
    "#     \"T_sim\" : 120,                         # Number of periods to simulate\n",
    "#     \"aNrmInitMean\" : -6.0,                 # Mean of log initial assets\n",
    "#     \"aNrmInitStd\"  : 1.0,                  # Standard deviation of log initial assets\n",
    "#     \"pLvlInitMean\" : 0.0,                  # Mean of log initial permanent income\n",
    "#     \"pLvlInitStd\"  : 0.0,                  # Standard deviation of log initial permanent income\n",
    "#     \"PermGroFacAgg\" : 1.0,                 # Aggregate permanent income growth factor\n",
    "#     \"T_age\" : None,                        # Age after which simulated agents are automatically killed\n",
    "    \n",
    "#     # HANK parameters\n",
    "#     \"taxrate\" : [0.0], # set to 0.0 because we are going to assume that labor here is actually after tax income\n",
    "#     \"labor\": [Y_ss - T_ss],\n",
    "#     \"wage\": [1.0],\n",
    "# }"
   ]
  },
  {
   "cell_type": "code",
   "execution_count": 4,
   "id": "annoying-exhibit",
   "metadata": {},
   "outputs": [],
   "source": [
    "#------------------------------------------------------------------------------------------------------\n",
    "Dict = {\n",
    "    # Parameters shared with the perfect foresight model\n",
    "    \"CRRA\":2,                              # Coefficient of relative risk aversion\n",
    "    \"Rfree\": 1+r_ss,                    # Interest factor on assets\n",
    "    \"DiscFac\": 0.96,                      # Intertemporal discount factor\n",
    "    \"LivPrb\" : [.99375],                   # Survival probability\n",
    "    \"PermGroFac\" : [1.00],                 # Permanent income growth factor\n",
    "\n",
    "    # Parameters that specify the income distribution over the lifecycle\n",
    "    \"PermShkStd\" : [.06],                  # Standard deviation of log permanent shocks to income\n",
    "    \"PermShkCount\" : 7,                    # Number of points in discrete approximation to permanent income shocks\n",
    "    \"TranShkStd\" : [.2],                   # Standard deviation of log transitory shocks to income\n",
    "    \"TranShkCount\" : 7,    \n",
    "    \n",
    "    # HANK params\n",
    "    \"taxrate\" : [tau], # set to 0.0 because we are going to assume that labor here is actually after tax income\n",
    "    \"labor\": [Y_ss - T_ss],\n",
    "    \"wage\": [1.0],\n",
    "    \n",
    "    # Number of points in discrete approximation to transitory income shocks\n",
    "    \"UnempPrb\" : 0.0,                      # Probability of unemployment while working\n",
    "    \"IncUnemp\" :  0.0,                     # Unemployment benefits replacement rate\n",
    "    \"UnempPrbRet\" : 0.0000,                # Probability of \"unemployment\" while retired\n",
    "    \"IncUnempRet\" : 0.0,                   # \"Unemployment\" benefits when retired\n",
    "    \"T_retire\" : 0.0,                      # Period of retirement (0 --> no retirement)\n",
    "    \"tax_rate\" : 0.0,                      # Flat income tax rate (legacy parameter, will be removed in future)\n",
    "\n",
    "    # Parameters for constructing the \"assets above minimum\" grid\n",
    "    \"aXtraMin\" : 0.0001,                    # Minimum end-of-period \"assets above minimum\" value\n",
    "    \"aXtraMax\" : 1000,                       # Maximum end-of-period \"assets above minimum\" value\n",
    "    \"aXtraCount\" : 110,                     # Number of points in the base grid of \"assets above minimum\"\n",
    "    \"aXtraNestFac\" : 3,                    # Exponential nesting factor when constructing \"assets above minimum\" grid\n",
    "    \"aXtraExtra\" : [None],                 # Additional values to add to aXtraGrid\n",
    "\n",
    "    # A few other parameters\n",
    "    \"BoroCnstArt\" : 0.0,                   # Artificial borrowing constraint; imposed minimum level of end-of period assets\n",
    "    \"vFuncBool\" : False,                   # Whether to calculate the value function during solution\n",
    "    \"CubicBool\" : False,                   # Preference shocks currently only compatible with linear cFunc\n",
    "    \"T_cycle\" : 1,                         # Number of periods in the cycle for this agent type \n",
    "}"
   ]
  },
  {
   "cell_type": "code",
   "execution_count": 5,
   "id": "painted-works",
   "metadata": {},
   "outputs": [],
   "source": [
    "# from https://github.com/wdu9/RA_test_work/blob/main/RA_test_work/HANK_model/Reproducing%20Fiscal%20Policy%20HANK.ipynb\n",
    "# to add taxes, labor and wage\n",
    "\n",
    "# Update def construct_lognormal_income_process_unemployment(self):\n",
    "# similar to https://github.com/wdu9/RA_test_work/blob/main/RA_test_work/HANK_model/ConsIndShockModel_HANK.py\n",
    "\n",
    "def function(taxrate, labor, wage):\n",
    "    \n",
    "    z = (1- taxrate)*labor*wage\n",
    "    \n",
    "    return z\n",
    "\n",
    "Dict['TranShkMean_Func'] = [function]"
   ]
  },
  {
   "cell_type": "code",
   "execution_count": 6,
   "id": "computational-seafood",
   "metadata": {},
   "outputs": [],
   "source": [
    "Agent = IndShockConsumerType(**Dict)"
   ]
  },
  {
   "cell_type": "markdown",
   "id": "intimate-rhythm",
   "metadata": {},
   "source": [
    "## 2. Compute Partial Equilibrium Steady State"
   ]
  },
  {
   "cell_type": "code",
   "execution_count": 7,
   "id": "collectible-webster",
   "metadata": {},
   "outputs": [
    {
     "name": "stderr",
     "output_type": "stream",
     "text": [
      "GPFRaw                 = 0.994384 \n",
      "GPFNrm                 = 0.997734 \n",
      "GPFAggLivPrb           = 0.988169 \n",
      "Thorn = APF            = 0.994384 \n",
      "PermGroFacAdj          = 0.996642 \n",
      "uInvEpShkuInv          = 0.996642 \n",
      "VAF                    = 0.950797 \n",
      "WRPF                   = 0.000000 \n",
      "DiscFacGPFNrmMax       = 0.964365 \n",
      "DiscFacGPFAggLivPrbMax = 0.976980 \n"
     ]
    },
    {
     "name": "stdout",
     "output_type": "stream",
     "text": [
      "Seconds to compute steady state 8.438490629196167\n"
     ]
    }
   ],
   "source": [
    "start = time.time()\n",
    "Agent.compute_steady_state()\n",
    "print('Seconds to compute steady state', time.time() - start)"
   ]
  },
  {
   "cell_type": "markdown",
   "id": "cardiac-controversy",
   "metadata": {},
   "source": [
    "## 3. Compute Jacobians\n",
    "See [Jacobian Notebook](https://github.com/econ-ark/HARK/tree/master/examples/ConsIndShockModel/IndShockConsumerType_Jacobian_Example.ipynb)\n",
    "Shocks possible: LivPrb, PermShkStd,TranShkStd, DiscFac,UnempPrb, Rfree, IncUnemp, DiscFac\n",
    "\n",
    "We use here: Rfree and labor"
   ]
  },
  {
   "cell_type": "code",
   "execution_count": 8,
   "id": "canadian-south",
   "metadata": {},
   "outputs": [
    {
     "name": "stdout",
     "output_type": "stream",
     "text": [
      "Seconds to calculate Jacobian 4.4525556564331055\n"
     ]
    }
   ],
   "source": [
    "start = time.time()\n",
    "\n",
    "CJACR, AJACR = Agent.calc_jacobian('Rfree',200)\n",
    "\n",
    "print('Seconds to calculate Jacobian', time.time() - start)"
   ]
  },
  {
   "cell_type": "markdown",
   "id": "possible-condition",
   "metadata": {},
   "source": [
    "Plot: Consumption Jacobians"
   ]
  },
  {
   "cell_type": "code",
   "execution_count": 9,
   "id": "associate-format",
   "metadata": {},
   "outputs": [
    {
     "data": {
      "image/png": "[encoded data removed]",
      "text/plain": [
       "<Figure size 640x480 with 1 Axes>"
      ]
     },
     "metadata": {},
     "output_type": "display_data"
    }
   ],
   "source": [
    "plt.plot(CJACR.T[0])\n",
    "plt.plot(CJACR.T[10])\n",
    "plt.plot(CJACR.T[30])\n",
    "plt.show()"
   ]
  },
  {
   "cell_type": "code",
   "execution_count": 10,
   "id": "sixth-medicaid",
   "metadata": {},
   "outputs": [],
   "source": [
    "CJACN,AJACN = Agent.calc_jacobian('labor', 200)"
   ]
  },
  {
   "cell_type": "code",
   "execution_count": 11,
   "id": "animated-voluntary",
   "metadata": {},
   "outputs": [
    {
     "name": "stderr",
     "output_type": "stream",
     "text": [
      "No handles with labels found to put in legend.\n"
     ]
    },
    {
     "data": {
      "image/png": "[encoded data removed]",
      "text/plain": [
       "<Figure size 640x480 with 1 Axes>"
      ]
     },
     "metadata": {},
     "output_type": "display_data"
    }
   ],
   "source": [
    "plt.plot(CJACN.T[0])\n",
    "plt.plot(CJACN.T[20])\n",
    "plt.plot(CJACN.T[50])\n",
    "plt.show()"
   ]
  },
  {
   "cell_type": "markdown",
   "id": "comprehensive-cannon",
   "metadata": {},
   "source": [
    "## 4. Compute General Equilibrium Steady State"
   ]
  },
  {
   "cell_type": "code",
   "execution_count": 12,
   "id": "spatial-finish",
   "metadata": {},
   "outputs": [
    {
     "name": "stderr",
     "output_type": "stream",
     "text": [
      "GPFRaw                 = 0.907744 \n",
      "GPFNrm                 = 0.907744 \n",
      "GPFAggLivPrb           = 0.902071 \n",
      "Thorn = APF            = 0.907744 \n",
      "PermGroFacAdj          = 1.000000 \n",
      "uInvEpShkuInv          = 1.000000 \n",
      "VAF                    = 0.795000 \n",
      "WRPF                   = 0.000000 \n",
      "DiscFacGPFNrmMax       = 0.970874 \n",
      "DiscFacGPFAggLivPrbMax = 0.976980 \n",
      "GPFRaw                 = 1.009802 \n",
      "GPFNrm                 = 1.009802 \n",
      "GPFAggLivPrb           = 1.003491 \n",
      "Thorn = APF            = 1.009802 \n",
      "PermGroFacAdj          = 1.000000 \n",
      "uInvEpShkuInv          = 1.000000 \n",
      "VAF                    = 0.983812 \n",
      "WRPF                   = 0.000000 \n",
      "DiscFacGPFNrmMax       = 0.970874 \n",
      "DiscFacGPFAggLivPrbMax = 0.976980 \n",
      "GPFRaw                 = 0.908524 \n",
      "GPFNrm                 = 0.908524 \n",
      "GPFAggLivPrb           = 0.902845 \n",
      "Thorn = APF            = 0.908524 \n",
      "PermGroFacAdj          = 1.000000 \n",
      "uInvEpShkuInv          = 1.000000 \n",
      "VAF                    = 0.796366 \n",
      "WRPF                   = 0.000000 \n",
      "DiscFacGPFNrmMax       = 0.970874 \n",
      "DiscFacGPFAggLivPrbMax = 0.976980 \n",
      "GPFRaw                 = 0.960499 \n",
      "GPFNrm                 = 0.960499 \n",
      "GPFAggLivPrb           = 0.954496 \n",
      "Thorn = APF            = 0.960499 \n",
      "PermGroFacAdj          = 1.000000 \n",
      "uInvEpShkuInv          = 1.000000 \n",
      "VAF                    = 0.890089 \n",
      "WRPF                   = 0.000000 \n",
      "DiscFacGPFNrmMax       = 0.970874 \n",
      "DiscFacGPFAggLivPrbMax = 0.976980 \n",
      "GPFRaw                 = 0.985459 \n",
      "GPFNrm                 = 0.985459 \n",
      "GPFAggLivPrb           = 0.979300 \n",
      "Thorn = APF            = 0.985459 \n",
      "PermGroFacAdj          = 1.000000 \n",
      "uInvEpShkuInv          = 1.000000 \n",
      "VAF                    = 0.936951 \n",
      "WRPF                   = 0.000000 \n",
      "DiscFacGPFNrmMax       = 0.970874 \n",
      "DiscFacGPFAggLivPrbMax = 0.976980 \n",
      "GPFRaw                 = 0.997705 \n",
      "GPFNrm                 = 0.997705 \n",
      "GPFAggLivPrb           = 0.991469 \n",
      "Thorn = APF            = 0.997705 \n",
      "PermGroFacAdj          = 1.000000 \n",
      "uInvEpShkuInv          = 1.000000 \n",
      "VAF                    = 0.960382 \n",
      "WRPF                   = 0.000000 \n",
      "DiscFacGPFNrmMax       = 0.970874 \n",
      "DiscFacGPFAggLivPrbMax = 0.976980 \n",
      "GPFRaw                 = 0.999973 \n",
      "GPFNrm                 = 0.999973 \n",
      "GPFAggLivPrb           = 0.993723 \n",
      "Thorn = APF            = 0.999973 \n",
      "PermGroFacAdj          = 1.000000 \n",
      "uInvEpShkuInv          = 1.000000 \n",
      "VAF                    = 0.964753 \n",
      "WRPF                   = 0.000000 \n",
      "DiscFacGPFNrmMax       = 0.970874 \n",
      "DiscFacGPFAggLivPrbMax = 0.976980 \n",
      "GPFRaw                 = 0.998173 \n",
      "GPFNrm                 = 0.998173 \n",
      "GPFAggLivPrb           = 0.991935 \n",
      "Thorn = APF            = 0.998173 \n",
      "PermGroFacAdj          = 1.000000 \n",
      "uInvEpShkuInv          = 1.000000 \n",
      "VAF                    = 0.961284 \n",
      "WRPF                   = 0.000000 \n",
      "DiscFacGPFNrmMax       = 0.970874 \n",
      "DiscFacGPFAggLivPrbMax = 0.976980 \n",
      "GPFRaw                 = 0.998422 \n",
      "GPFNrm                 = 0.998422 \n",
      "GPFAggLivPrb           = 0.992182 \n",
      "Thorn = APF            = 0.998422 \n",
      "PermGroFacAdj          = 1.000000 \n",
      "uInvEpShkuInv          = 1.000000 \n",
      "VAF                    = 0.961763 \n",
      "WRPF                   = 0.000000 \n",
      "DiscFacGPFNrmMax       = 0.970874 \n",
      "DiscFacGPFAggLivPrbMax = 0.976980 \n",
      "GPFRaw                 = 0.998411 \n",
      "GPFNrm                 = 0.998411 \n",
      "GPFAggLivPrb           = 0.992171 \n",
      "Thorn = APF            = 0.998411 \n",
      "PermGroFacAdj          = 1.000000 \n",
      "uInvEpShkuInv          = 1.000000 \n",
      "VAF                    = 0.961741 \n",
      "WRPF                   = 0.000000 \n",
      "DiscFacGPFNrmMax       = 0.970874 \n",
      "DiscFacGPFAggLivPrbMax = 0.976980 \n",
      "GPFRaw                 = 0.998411 \n",
      "GPFNrm                 = 0.998411 \n",
      "GPFAggLivPrb           = 0.992171 \n",
      "Thorn = APF            = 0.998411 \n",
      "PermGroFacAdj          = 1.000000 \n",
      "uInvEpShkuInv          = 1.000000 \n",
      "VAF                    = 0.961742 \n",
      "WRPF                   = 0.000000 \n",
      "DiscFacGPFNrmMax       = 0.970874 \n",
      "DiscFacGPFAggLivPrbMax = 0.976980 \n",
      "GPFRaw                 = 0.998411 \n",
      "GPFNrm                 = 0.998411 \n",
      "GPFAggLivPrb           = 0.992171 \n",
      "Thorn = APF            = 0.998411 \n",
      "PermGroFacAdj          = 1.000000 \n",
      "uInvEpShkuInv          = 1.000000 \n",
      "VAF                    = 0.961742 \n",
      "WRPF                   = 0.000000 \n",
      "DiscFacGPFNrmMax       = 0.970874 \n",
      "DiscFacGPFAggLivPrbMax = 0.976980 \n",
      "GPFRaw                 = 0.998411 \n",
      "GPFNrm                 = 0.998411 \n",
      "GPFAggLivPrb           = 0.992171 \n",
      "Thorn = APF            = 0.998411 \n",
      "PermGroFacAdj          = 1.000000 \n",
      "uInvEpShkuInv          = 1.000000 \n",
      "VAF                    = 0.961742 \n",
      "WRPF                   = 0.000000 \n",
      "DiscFacGPFNrmMax       = 0.970874 \n",
      "DiscFacGPFAggLivPrbMax = 0.976980 \n"
     ]
    },
    {
     "name": "stdout",
     "output_type": "stream",
     "text": [
      "0.9677910107381233\n"
     ]
    }
   ],
   "source": [
    "#%% find steady state\n",
    "Asset_target = B_ss\n",
    "def ss_func(beta):\n",
    "    Agent.DiscFac = beta\n",
    "    A_ss = Agent.compute_steady_state()[0]\n",
    "    \n",
    "    return A_ss\n",
    "    \n",
    "\n",
    "def ss_dif(beta):\n",
    "    \n",
    "    return ss_func(beta) - Asset_target \n",
    "\n",
    "\n",
    "DiscFac = optimize.brentq(ss_dif,.8,.99)\n",
    "print(DiscFac)\n"
   ]
  },
  {
   "cell_type": "code",
   "execution_count": 13,
   "id": "affected-clearing",
   "metadata": {},
   "outputs": [],
   "source": [
    "Dict['DiscFac'] = DiscFac\n",
    "\n",
    "Agent_ss = IndShockConsumerType(**Dict, verbose = False)\n",
    "#Agent.cycles = 0\n",
    "#Agent.aXtraCount = 300\n"
   ]
  },
  {
   "cell_type": "code",
   "execution_count": 14,
   "id": "prospective-migration",
   "metadata": {},
   "outputs": [],
   "source": [
    "Agent_ss.solve()"
   ]
  },
  {
   "cell_type": "code",
   "execution_count": 15,
   "id": "wicked-geneva",
   "metadata": {},
   "outputs": [
    {
     "data": {
      "text/plain": [
       "0.9677910107381233"
      ]
     },
     "execution_count": 15,
     "metadata": {},
     "output_type": "execute_result"
    }
   ],
   "source": [
    "Agent_ss.DiscFac"
   ]
  },
  {
   "cell_type": "code",
   "execution_count": 16,
   "id": "convinced-effect",
   "metadata": {},
   "outputs": [
    {
     "name": "stdout",
     "output_type": "stream",
     "text": [
      "beta:0.9677910107381233\n",
      "Assets: 1.232814717942662\n",
      "Asset Target:0.5\n",
      "Consumption: 0.8153919448159895\n"
     ]
    }
   ],
   "source": [
    "Agent_ss.compute_steady_state()\n",
    "\n",
    "print('beta:' +str(Agent_ss.DiscFac))\n",
    "#verify\n",
    "print('Assets: ' +str(Agent_ss.A_ss))\n",
    "print('Asset Target:' +str(Asset_target))\n",
    "print('Consumption: ' + str(Agent_ss.C_ss))\n",
    "A_ss = Agent_ss.A_ss"
   ]
  },
  {
   "cell_type": "markdown",
   "id": "outstanding-training",
   "metadata": {},
   "source": [
    "## 5. Compute Jacobians with new Steady State"
   ]
  },
  {
   "cell_type": "code",
   "execution_count": 17,
   "id": "second-confirmation",
   "metadata": {},
   "outputs": [
    {
     "name": "stdout",
     "output_type": "stream",
     "text": [
      "Seconds to calculate Jacobian 4.602035760879517\n"
     ]
    }
   ],
   "source": [
    "start = time.time()\n",
    "\n",
    "CJACR_GE, AJACR_GE = Agent_ss.calc_jacobian('Rfree',200)\n",
    "\n",
    "print('Seconds to calculate Jacobian', time.time() - start)"
   ]
  },
  {
   "cell_type": "code",
   "execution_count": 18,
   "id": "steady-pepper",
   "metadata": {},
   "outputs": [
    {
     "data": {
      "image/png": "[encoded data removed]",
      "text/plain": [
       "<Figure size 640x480 with 1 Axes>"
      ]
     },
     "metadata": {},
     "output_type": "display_data"
    }
   ],
   "source": [
    "plt.plot(CJACR_GE.T[0])\n",
    "plt.plot(CJACR_GE.T[10])\n",
    "plt.plot(CJACR_GE.T[30])\n",
    "plt.plot(CJACR.T[0],'--')\n",
    "plt.plot(CJACR.T[10],'--')\n",
    "plt.plot(CJACR.T[30],'--')\n",
    "plt.show()"
   ]
  },
  {
   "cell_type": "code",
   "execution_count": 19,
   "id": "southeast-penguin",
   "metadata": {},
   "outputs": [],
   "source": [
    "CJACN_GE, AJACN_GE = Agent_ss.calc_jacobian('labor', 200)"
   ]
  },
  {
   "cell_type": "code",
   "execution_count": 20,
   "id": "generous-variation",
   "metadata": {},
   "outputs": [
    {
     "data": {
      "image/png": "[encoded data removed]",
      "text/plain": [
       "<Figure size 640x480 with 1 Axes>"
      ]
     },
     "metadata": {},
     "output_type": "display_data"
    }
   ],
   "source": [
    "plt.plot(CJACN_GE.T[0])\n",
    "plt.plot(CJACN_GE.T[10])\n",
    "plt.plot(CJACN_GE.T[30])\n",
    "plt.plot(CJACN.T[0],'--')\n",
    "plt.plot(CJACN.T[10],'--')\n",
    "plt.plot(CJACN.T[30],'--')\n",
    "plt.show()"
   ]
  },
  {
   "cell_type": "markdown",
   "id": "recorded-extension",
   "metadata": {},
   "source": [
    "## 6. Set Up General Equilibrium Parts\n",
    "We use here [HANK with Fiscal Policy](https://github.com/shade-econ/nber-workshop-2022/blob/main/Tutorials/Tutorial%201%20Fiscal%20Policy.ipynb). A very simple model without labor market or monetary policy"
   ]
  },
  {
   "cell_type": "code",
   "execution_count": 21,
   "id": "protecting-captain",
   "metadata": {},
   "outputs": [],
   "source": [
    "@sj.simple\n",
    "def fiscal(B, r, G, Y): \n",
    "    T = (1 + r) * B(-1) + G - B\n",
    "    Z = Y - T\n",
    "    \n",
    "    deficit = G - T\n",
    "    \n",
    "    return T,Z, deficit\n",
    "\n",
    "@sj.simple\n",
    "def mkt_clearing(A, B, Y, C, G):\n",
    "    asset_mkt = A - B\n",
    "    goods_mkt = C + G - Y\n",
    "    \n",
    "    return asset_mkt, goods_mkt\n"
   ]
  },
  {
   "cell_type": "markdown",
   "id": "current-union",
   "metadata": {},
   "source": [
    "### Get Household Poblem into a Block structure such that SSJ can use it\n",
    "We have to include HARK Jacobians and the steady state values. Afterwards, SSJ calculates Jacobians for the GE block and creates GE Jacobians\n",
    "\n",
    "PROBLEM: SSJ actively wants to solve for the steady state which results in errors"
   ]
  },
  {
   "cell_type": "code",
   "execution_count": 22,
   "id": "integral-violence",
   "metadata": {},
   "outputs": [],
   "source": [
    "HARK_Jacobian_Dict = JacobianDict( { 'C' : {'Z' : CJACN_GE} ,'A' : {'Z' : AJACN_GE} } )"
   ]
  },
  {
   "cell_type": "code",
   "execution_count": 23,
   "id": "checked-architecture",
   "metadata": {},
   "outputs": [],
   "source": [
    "HARK_SteadyState_Dict = SteadyStateDict({\"G\": 1.0, \"asset_mkt\":0.0, \"C\": C_ss, \"r\": r_ss, \"Y\": Y_ss, \"B\":B_ss, \"G\":G_ss, \"A\": A_ss })"
   ]
  },
  {
   "cell_type": "code",
   "execution_count": 24,
   "id": "advance-negative",
   "metadata": {},
   "outputs": [
    {
     "data": {
      "text/plain": [
       "{'G': 0.2,\n",
       " 'asset_mkt': 0.0,\n",
       " 'C': 0.8,\n",
       " 'r': 0.030000000000000027,\n",
       " 'Y': 1.0,\n",
       " 'B': 0.5,\n",
       " 'A': 1.232814717942662}"
      ]
     },
     "execution_count": 24,
     "metadata": {},
     "output_type": "execute_result"
    }
   ],
   "source": [
    "# 1)\n",
    "ss_HARK_HANK = create_model([HARK_Jacobian_Dict,fiscal,mkt_clearing], name=\"HARK_HANK\")\n",
    "unknowns = ['Y']\n",
    "targets = ['asset_mkt']\n",
    "inputs = ['G']\n",
    "\n",
    "\n",
    "Dict_HARK_HANK = {\"G\": 1.0, \"asset_mkt\":0.0, \"C\": C_ss,\"r\": r_ss, \"Y\": Y_ss, \"B\":B_ss, \"G\":G_ss, \"A\": A_ss }\n",
    "Dict_HARK_HANK\n"
   ]
  },
  {
   "cell_type": "code",
   "execution_count": 27,
   "id": "sealed-suffering",
   "metadata": {},
   "outputs": [
    {
     "ename": "AttributeError",
     "evalue": "'JacobianDictBlock' object has no attribute '_steady_state'",
     "output_type": "error",
     "traceback": [
      "\u001b[1;31m---------------------------------------------------------------------------\u001b[0m",
      "\u001b[1;31mAttributeError\u001b[0m                            Traceback (most recent call last)",
      "\u001b[1;32m<ipython-input-27-e9b1dc996558>\u001b[0m in \u001b[0;36m<cell line: 1>\u001b[1;34m()\u001b[0m\n\u001b[1;32m----> 1\u001b[1;33m \u001b[0mss_HARK_HANK\u001b[0m \u001b[1;33m=\u001b[0m \u001b[0mss_HARK_HANK\u001b[0m\u001b[1;33m.\u001b[0m\u001b[0msteady_state\u001b[0m\u001b[1;33m(\u001b[0m\u001b[0mDict_HARK_HANK\u001b[0m\u001b[1;33m)\u001b[0m\u001b[1;33m\u001b[0m\u001b[1;33m\u001b[0m\u001b[0m\n\u001b[0m",
      "\u001b[1;32m~\\anaconda3\\envs\\ECB\\lib\\site-packages\\sequence_jacobian\\blocks\\block.py\u001b[0m in \u001b[0;36msteady_state\u001b[1;34m(self, calibration, dissolve, options, **kwargs)\u001b[0m\n\u001b[0;32m     45\u001b[0m         \u001b[0mown_options\u001b[0m \u001b[1;33m=\u001b[0m \u001b[0mself\u001b[0m\u001b[1;33m.\u001b[0m\u001b[0mget_options\u001b[0m\u001b[1;33m(\u001b[0m\u001b[0moptions\u001b[0m\u001b[1;33m,\u001b[0m \u001b[0mkwargs\u001b[0m\u001b[1;33m,\u001b[0m \u001b[1;34m'steady_state'\u001b[0m\u001b[1;33m)\u001b[0m\u001b[1;33m\u001b[0m\u001b[1;33m\u001b[0m\u001b[0m\n\u001b[0;32m     46\u001b[0m         \u001b[1;32mif\u001b[0m \u001b[0misinstance\u001b[0m\u001b[1;33m(\u001b[0m\u001b[0mself\u001b[0m\u001b[1;33m,\u001b[0m \u001b[0mParent\u001b[0m\u001b[1;33m)\u001b[0m\u001b[1;33m:\u001b[0m\u001b[1;33m\u001b[0m\u001b[1;33m\u001b[0m\u001b[0m\n\u001b[1;32m---> 47\u001b[1;33m             return self.M @ self._steady_state(self.M.inv @ calibration, dissolve=dissolve,\n\u001b[0m\u001b[0;32m     48\u001b[0m                                                options=options, **own_options)\n\u001b[0;32m     49\u001b[0m         \u001b[1;32melse\u001b[0m\u001b[1;33m:\u001b[0m\u001b[1;33m\u001b[0m\u001b[1;33m\u001b[0m\u001b[0m\n",
      "\u001b[1;32m~\\anaconda3\\envs\\ECB\\lib\\site-packages\\sequence_jacobian\\blocks\\combined_block.py\u001b[0m in \u001b[0;36m_steady_state\u001b[1;34m(self, calibration, dissolve, **kwargs)\u001b[0m\n\u001b[0;32m     57\u001b[0m             \u001b[1;31m# TODO: make this inner_dissolve better, clumsy way to dispatch dissolve only to correct children\u001b[0m\u001b[1;33m\u001b[0m\u001b[1;33m\u001b[0m\u001b[1;33m\u001b[0m\u001b[0m\n\u001b[0;32m     58\u001b[0m             \u001b[0minner_dissolve\u001b[0m \u001b[1;33m=\u001b[0m \u001b[1;33m[\u001b[0m\u001b[0mk\u001b[0m \u001b[1;32mfor\u001b[0m \u001b[0mk\u001b[0m \u001b[1;32min\u001b[0m \u001b[0mdissolve\u001b[0m \u001b[1;32mif\u001b[0m \u001b[0mself\u001b[0m\u001b[1;33m.\u001b[0m\u001b[0mdescendants\u001b[0m\u001b[1;33m[\u001b[0m\u001b[0mk\u001b[0m\u001b[1;33m]\u001b[0m \u001b[1;33m==\u001b[0m \u001b[0mblock\u001b[0m\u001b[1;33m.\u001b[0m\u001b[0mname\u001b[0m\u001b[1;33m]\u001b[0m\u001b[1;33m\u001b[0m\u001b[1;33m\u001b[0m\u001b[0m\n\u001b[1;32m---> 59\u001b[1;33m             \u001b[0moutputs\u001b[0m \u001b[1;33m=\u001b[0m \u001b[0mblock\u001b[0m\u001b[1;33m.\u001b[0m\u001b[0msteady_state\u001b[0m\u001b[1;33m(\u001b[0m\u001b[0mss\u001b[0m\u001b[1;33m,\u001b[0m \u001b[0mdissolve\u001b[0m\u001b[1;33m=\u001b[0m\u001b[0minner_dissolve\u001b[0m\u001b[1;33m,\u001b[0m \u001b[1;33m**\u001b[0m\u001b[0mkwargs\u001b[0m\u001b[1;33m)\u001b[0m\u001b[1;33m\u001b[0m\u001b[1;33m\u001b[0m\u001b[0m\n\u001b[0m\u001b[0;32m     60\u001b[0m             \u001b[0mss\u001b[0m\u001b[1;33m.\u001b[0m\u001b[0mupdate\u001b[0m\u001b[1;33m(\u001b[0m\u001b[0moutputs\u001b[0m\u001b[1;33m)\u001b[0m\u001b[1;33m\u001b[0m\u001b[1;33m\u001b[0m\u001b[0m\n\u001b[0;32m     61\u001b[0m \u001b[1;33m\u001b[0m\u001b[0m\n",
      "\u001b[1;32m~\\anaconda3\\envs\\ECB\\lib\\site-packages\\sequence_jacobian\\blocks\\block.py\u001b[0m in \u001b[0;36msteady_state\u001b[1;34m(self, calibration, dissolve, options, **kwargs)\u001b[0m\n\u001b[0;32m     48\u001b[0m                                                options=options, **own_options)\n\u001b[0;32m     49\u001b[0m         \u001b[1;32melse\u001b[0m\u001b[1;33m:\u001b[0m\u001b[1;33m\u001b[0m\u001b[1;33m\u001b[0m\u001b[0m\n\u001b[1;32m---> 50\u001b[1;33m             \u001b[1;32mreturn\u001b[0m \u001b[0mself\u001b[0m\u001b[1;33m.\u001b[0m\u001b[0mM\u001b[0m \u001b[1;33m@\u001b[0m \u001b[0mself\u001b[0m\u001b[1;33m.\u001b[0m\u001b[0m_steady_state\u001b[0m\u001b[1;33m(\u001b[0m\u001b[0mself\u001b[0m\u001b[1;33m.\u001b[0m\u001b[0mM\u001b[0m\u001b[1;33m.\u001b[0m\u001b[0minv\u001b[0m \u001b[1;33m@\u001b[0m \u001b[0mcalibration\u001b[0m\u001b[1;33m,\u001b[0m \u001b[1;33m**\u001b[0m\u001b[0mown_options\u001b[0m\u001b[1;33m)\u001b[0m\u001b[1;33m\u001b[0m\u001b[1;33m\u001b[0m\u001b[0m\n\u001b[0m\u001b[0;32m     51\u001b[0m \u001b[1;33m\u001b[0m\u001b[0m\n\u001b[0;32m     52\u001b[0m     def impulse_nonlinear(self, ss: SteadyStateDict, inputs: Union[Dict[str, Array], ImpulseDict],\n",
      "\u001b[1;31mAttributeError\u001b[0m: 'JacobianDictBlock' object has no attribute '_steady_state'"
     ]
    }
   ],
   "source": [
    "ss_HARK_HANK = ss_HARK_HANK.steady_state(Dict_HARK_HANK)"
   ]
  },
  {
   "cell_type": "code",
   "execution_count": 28,
   "id": "liquid-guess",
   "metadata": {},
   "outputs": [
    {
     "data": {
      "text/plain": [
       "{'M': Bijection({}),\n",
       " 'steady_state_options': {},\n",
       " 'impulse_nonlinear_options': {},\n",
       " 'impulse_linear_options': {},\n",
       " 'jacobian_options': {},\n",
       " 'partial_jacobians_options': {},\n",
       " 'blocks': [<SimpleBlock 'fiscal'>,\n",
       "  <JacobianDictBlock outputs=['C', 'A'], inputs=['Z']>,\n",
       "  <SimpleBlock 'mkt_clearing'>],\n",
       " 'inmap': {'Z': OrderedSet([1]),\n",
       "  'B': OrderedSet([0, 2]),\n",
       "  'r': OrderedSet([0]),\n",
       "  'G': OrderedSet([0, 2]),\n",
       "  'Y': OrderedSet([0, 2]),\n",
       "  'A': OrderedSet([2]),\n",
       "  'C': OrderedSet([2])},\n",
       " 'outmap': {'C': 1,\n",
       "  'A': 1,\n",
       "  'T': 0,\n",
       "  'Z': 0,\n",
       "  'deficit': 0,\n",
       "  'asset_mkt': 2,\n",
       "  'goods_mkt': 2},\n",
       " 'adj': [OrderedSet([1]), OrderedSet([2]), OrderedSet([])],\n",
       " 'revadj': [OrderedSet([]), OrderedSet([0]), OrderedSet([1])],\n",
       " 'inputs': OrderedSet(['B', 'r', 'G', 'Y']),\n",
       " 'outputs': OrderedSet(['C', 'A', 'T', 'Z', 'deficit', 'asset_mkt', 'goods_mkt']),\n",
       " '_required': OrderedSet(['Z', 'A', 'C']),\n",
       " 'name': 'HARK_HANK',\n",
       " 'kids': {'NestedDict': <JacobianDict outputs=['C', 'A'], inputs=['Z']>,\n",
       "  'fiscal': <SimpleBlock 'fiscal'>,\n",
       "  'mkt_clearing': <SimpleBlock 'mkt_clearing'>},\n",
       " 'descendants': {'NestedDict': 'NestedDict',\n",
       "  'fiscal': 'fiscal',\n",
       "  'mkt_clearing': 'mkt_clearing',\n",
       "  'HARK_HANK': None},\n",
       " '_model_alias': True}"
      ]
     },
     "execution_count": 28,
     "metadata": {},
     "output_type": "execute_result"
    }
   ],
   "source": [
    "vars(ss_HARK_HANK)"
   ]
  },
  {
   "cell_type": "code",
   "execution_count": 29,
   "id": "signal-microwave",
   "metadata": {},
   "outputs": [],
   "source": [
    "# 2) Create a Block with 2 dictionaries which includes steady_state\n",
    "class HARK_block(Block):\n",
    "    \"\"\"\n",
    "    The HARK block needs two ingredients.\n",
    "    1. JacobianDict: A dictionary with Jacobians\n",
    "    2. steady_state: A dictionary with steady state values\n",
    "    \"\"\"\n",
    "#     def Jacobian():\n",
    "#         JacobianDict( { 'C' : {'Z' : CJACN_GE} ,'A' : {'Z' : AJACN_GE} } )\n",
    "    \n",
    "#     def Steady_State():\n",
    "#         SteadyStateDict({\"G\": 1.0, \"asset_mkt\":0.0, \"C\": C_ss, \"r\": r_ss, \"Y\": Y_ss, \"B\":B_ss, \"G\":G_ss, \"A\": A_ss })\n",
    "        \n",
    "    Jacobian = JacobianDict( { 'C' : {'Z' : CJACN_GE} ,'A' : {'Z' : AJACN_GE} } )\n",
    "    Steady_State = {\"G\": 1.0, \"asset_mkt\":0.0, \"C\": C_ss, \"r\": r_ss, \"Y\": Y_ss, \"B\":B_ss, \"G\":G_ss, \"A\": A_ss }\n",
    "    UserProvidedSS = {\"G\": 1.0, \"asset_mkt\":0.0, \"C\": C_ss, \"r\": r_ss, \"Y\": Y_ss, \"B\":B_ss, \"G\":G_ss, \"A\": A_ss }"
   ]
  },
  {
   "cell_type": "code",
   "execution_count": 32,
   "id": "increasing-child",
   "metadata": {},
   "outputs": [
    {
     "data": {
      "text/plain": [
       "{'Z': array([[ 8.76693988e-01, -5.67620646e-02, -5.12069951e-02, ...,\n",
       "          1.18308235e-04,  1.18580264e-04,  1.18841394e-04],\n",
       "        [ 8.43973917e-01,  8.76693989e-01, -1.04799845e-01, ...,\n",
       "          2.33589913e-04,  2.34138646e-04,  2.34665394e-04],\n",
       "        [ 8.14090474e-01,  8.43973919e-01,  8.31289308e-01, ...,\n",
       "          3.45918170e-04,  3.46748614e-04,  3.47545785e-04],\n",
       "        ...,\n",
       "        [ 1.33860975e-02,  1.36352440e-02,  1.32762649e-02, ...,\n",
       "          3.61926074e-01, -5.89064987e-01, -5.51375552e-01],\n",
       "        [ 1.31416635e-02,  1.33861399e-02,  1.30336454e-02, ...,\n",
       "          3.45495606e-01,  3.61928618e-01, -5.89062438e-01],\n",
       "        [ 1.29018091e-02,  1.31417060e-02,  1.27955763e-02, ...,\n",
       "          3.30869289e-01,  3.45498105e-01,  3.61931122e-01]])}"
      ]
     },
     "execution_count": 32,
     "metadata": {},
     "output_type": "execute_result"
    }
   ],
   "source": [
    "HARK_Input = HARK_block\n",
    "HARK_Input.Jacobian['A']"
   ]
  },
  {
   "cell_type": "code",
   "execution_count": 33,
   "id": "formed-distribution",
   "metadata": {},
   "outputs": [
    {
     "ename": "AttributeError",
     "evalue": "type object 'HARK_block' has no attribute 'keys'",
     "output_type": "error",
     "traceback": [
      "\u001b[1;31m---------------------------------------------------------------------------\u001b[0m",
      "\u001b[1;31mAttributeError\u001b[0m                            Traceback (most recent call last)",
      "\u001b[1;32m<ipython-input-33-d8b5cfb0ab3f>\u001b[0m in \u001b[0;36m<cell line: 1>\u001b[1;34m()\u001b[0m\n\u001b[1;32m----> 1\u001b[1;33m \u001b[0mss_HARK_HANK\u001b[0m \u001b[1;33m=\u001b[0m \u001b[0mcreate_model\u001b[0m\u001b[1;33m(\u001b[0m\u001b[1;33m[\u001b[0m\u001b[0mHARK_Input\u001b[0m\u001b[1;33m,\u001b[0m\u001b[0mfiscal\u001b[0m\u001b[1;33m,\u001b[0m\u001b[0mmkt_clearing\u001b[0m\u001b[1;33m]\u001b[0m\u001b[1;33m)\u001b[0m\u001b[1;33m\u001b[0m\u001b[1;33m\u001b[0m\u001b[0m\n\u001b[0m",
      "\u001b[1;32m~\\anaconda3\\envs\\ECB\\lib\\site-packages\\sequence_jacobian\\blocks\\combined_block.py\u001b[0m in \u001b[0;36mcreate_model\u001b[1;34m(blocks, **kwargs)\u001b[0m\n\u001b[0;32m     14\u001b[0m \u001b[1;31m# Useful functional alias\u001b[0m\u001b[1;33m\u001b[0m\u001b[1;33m\u001b[0m\u001b[1;33m\u001b[0m\u001b[0m\n\u001b[0;32m     15\u001b[0m \u001b[1;32mdef\u001b[0m \u001b[0mcreate_model\u001b[0m\u001b[1;33m(\u001b[0m\u001b[0mblocks\u001b[0m\u001b[1;33m,\u001b[0m \u001b[1;33m**\u001b[0m\u001b[0mkwargs\u001b[0m\u001b[1;33m)\u001b[0m\u001b[1;33m:\u001b[0m\u001b[1;33m\u001b[0m\u001b[1;33m\u001b[0m\u001b[0m\n\u001b[1;32m---> 16\u001b[1;33m     \u001b[1;32mreturn\u001b[0m \u001b[0mcombine\u001b[0m\u001b[1;33m(\u001b[0m\u001b[0mblocks\u001b[0m\u001b[1;33m,\u001b[0m \u001b[0mmodel_alias\u001b[0m\u001b[1;33m=\u001b[0m\u001b[1;32mTrue\u001b[0m\u001b[1;33m,\u001b[0m \u001b[1;33m**\u001b[0m\u001b[0mkwargs\u001b[0m\u001b[1;33m)\u001b[0m\u001b[1;33m\u001b[0m\u001b[1;33m\u001b[0m\u001b[0m\n\u001b[0m\u001b[0;32m     17\u001b[0m \u001b[1;33m\u001b[0m\u001b[0m\n\u001b[0;32m     18\u001b[0m \u001b[1;33m\u001b[0m\u001b[0m\n",
      "\u001b[1;32m~\\anaconda3\\envs\\ECB\\lib\\site-packages\\sequence_jacobian\\blocks\\combined_block.py\u001b[0m in \u001b[0;36mcombine\u001b[1;34m(blocks, name, model_alias)\u001b[0m\n\u001b[0;32m      9\u001b[0m \u001b[1;33m\u001b[0m\u001b[0m\n\u001b[0;32m     10\u001b[0m \u001b[1;32mdef\u001b[0m \u001b[0mcombine\u001b[0m\u001b[1;33m(\u001b[0m\u001b[0mblocks\u001b[0m\u001b[1;33m,\u001b[0m \u001b[0mname\u001b[0m\u001b[1;33m=\u001b[0m\u001b[1;34m\"\"\u001b[0m\u001b[1;33m,\u001b[0m \u001b[0mmodel_alias\u001b[0m\u001b[1;33m=\u001b[0m\u001b[1;32mFalse\u001b[0m\u001b[1;33m)\u001b[0m\u001b[1;33m:\u001b[0m\u001b[1;33m\u001b[0m\u001b[1;33m\u001b[0m\u001b[0m\n\u001b[1;32m---> 11\u001b[1;33m     \u001b[1;32mreturn\u001b[0m \u001b[0mCombinedBlock\u001b[0m\u001b[1;33m(\u001b[0m\u001b[0mblocks\u001b[0m\u001b[1;33m,\u001b[0m \u001b[0mname\u001b[0m\u001b[1;33m=\u001b[0m\u001b[0mname\u001b[0m\u001b[1;33m,\u001b[0m \u001b[0mmodel_alias\u001b[0m\u001b[1;33m=\u001b[0m\u001b[0mmodel_alias\u001b[0m\u001b[1;33m)\u001b[0m\u001b[1;33m\u001b[0m\u001b[1;33m\u001b[0m\u001b[0m\n\u001b[0m\u001b[0;32m     12\u001b[0m \u001b[1;33m\u001b[0m\u001b[0m\n\u001b[0;32m     13\u001b[0m \u001b[1;33m\u001b[0m\u001b[0m\n",
      "\u001b[1;32m~\\anaconda3\\envs\\ECB\\lib\\site-packages\\sequence_jacobian\\blocks\\combined_block.py\u001b[0m in \u001b[0;36m__init__\u001b[1;34m(self, blocks, name, model_alias, sorted_indices, intermediate_inputs)\u001b[0m\n\u001b[0;32m     27\u001b[0m         \u001b[0msuper\u001b[0m\u001b[1;33m(\u001b[0m\u001b[1;33m)\u001b[0m\u001b[1;33m.\u001b[0m\u001b[0m__init__\u001b[0m\u001b[1;33m(\u001b[0m\u001b[1;33m)\u001b[0m\u001b[1;33m\u001b[0m\u001b[1;33m\u001b[0m\u001b[0m\n\u001b[0;32m     28\u001b[0m \u001b[1;33m\u001b[0m\u001b[0m\n\u001b[1;32m---> 29\u001b[1;33m         \u001b[0mblocks_unsorted\u001b[0m \u001b[1;33m=\u001b[0m \u001b[1;33m[\u001b[0m\u001b[0mb\u001b[0m \u001b[1;32mif\u001b[0m \u001b[0misinstance\u001b[0m\u001b[1;33m(\u001b[0m\u001b[0mb\u001b[0m\u001b[1;33m,\u001b[0m \u001b[0mBlock\u001b[0m\u001b[1;33m)\u001b[0m \u001b[1;32melse\u001b[0m \u001b[0mJacobianDictBlock\u001b[0m\u001b[1;33m(\u001b[0m\u001b[0mb\u001b[0m\u001b[1;33m)\u001b[0m \u001b[1;32mfor\u001b[0m \u001b[0mb\u001b[0m \u001b[1;32min\u001b[0m \u001b[0mblocks\u001b[0m\u001b[1;33m]\u001b[0m\u001b[1;33m\u001b[0m\u001b[1;33m\u001b[0m\u001b[0m\n\u001b[0m\u001b[0;32m     30\u001b[0m         \u001b[0mDAG\u001b[0m\u001b[1;33m.\u001b[0m\u001b[0m__init__\u001b[0m\u001b[1;33m(\u001b[0m\u001b[0mself\u001b[0m\u001b[1;33m,\u001b[0m \u001b[0mblocks_unsorted\u001b[0m\u001b[1;33m)\u001b[0m\u001b[1;33m\u001b[0m\u001b[1;33m\u001b[0m\u001b[0m\n\u001b[0;32m     31\u001b[0m \u001b[1;33m\u001b[0m\u001b[0m\n",
      "\u001b[1;32m~\\anaconda3\\envs\\ECB\\lib\\site-packages\\sequence_jacobian\\blocks\\combined_block.py\u001b[0m in \u001b[0;36m<listcomp>\u001b[1;34m(.0)\u001b[0m\n\u001b[0;32m     27\u001b[0m         \u001b[0msuper\u001b[0m\u001b[1;33m(\u001b[0m\u001b[1;33m)\u001b[0m\u001b[1;33m.\u001b[0m\u001b[0m__init__\u001b[0m\u001b[1;33m(\u001b[0m\u001b[1;33m)\u001b[0m\u001b[1;33m\u001b[0m\u001b[1;33m\u001b[0m\u001b[0m\n\u001b[0;32m     28\u001b[0m \u001b[1;33m\u001b[0m\u001b[0m\n\u001b[1;32m---> 29\u001b[1;33m         \u001b[0mblocks_unsorted\u001b[0m \u001b[1;33m=\u001b[0m \u001b[1;33m[\u001b[0m\u001b[0mb\u001b[0m \u001b[1;32mif\u001b[0m \u001b[0misinstance\u001b[0m\u001b[1;33m(\u001b[0m\u001b[0mb\u001b[0m\u001b[1;33m,\u001b[0m \u001b[0mBlock\u001b[0m\u001b[1;33m)\u001b[0m \u001b[1;32melse\u001b[0m \u001b[0mJacobianDictBlock\u001b[0m\u001b[1;33m(\u001b[0m\u001b[0mb\u001b[0m\u001b[1;33m)\u001b[0m \u001b[1;32mfor\u001b[0m \u001b[0mb\u001b[0m \u001b[1;32min\u001b[0m \u001b[0mblocks\u001b[0m\u001b[1;33m]\u001b[0m\u001b[1;33m\u001b[0m\u001b[1;33m\u001b[0m\u001b[0m\n\u001b[0m\u001b[0;32m     30\u001b[0m         \u001b[0mDAG\u001b[0m\u001b[1;33m.\u001b[0m\u001b[0m__init__\u001b[0m\u001b[1;33m(\u001b[0m\u001b[0mself\u001b[0m\u001b[1;33m,\u001b[0m \u001b[0mblocks_unsorted\u001b[0m\u001b[1;33m)\u001b[0m\u001b[1;33m\u001b[0m\u001b[1;33m\u001b[0m\u001b[0m\n\u001b[0;32m     31\u001b[0m \u001b[1;33m\u001b[0m\u001b[0m\n",
      "\u001b[1;32m~\\anaconda3\\envs\\ECB\\lib\\site-packages\\sequence_jacobian\\blocks\\auxiliary_blocks\\jacobiandict_block.py\u001b[0m in \u001b[0;36m__init__\u001b[1;34m(self, nesteddict, outputs, inputs, name)\u001b[0m\n\u001b[0;32m      7\u001b[0m     \u001b[1;34m\"\"\"A wrapper for nested dicts/JacobianDicts passed directly into DAGs to ensure method compatibility\"\"\"\u001b[0m\u001b[1;33m\u001b[0m\u001b[1;33m\u001b[0m\u001b[0m\n\u001b[0;32m      8\u001b[0m     \u001b[1;32mdef\u001b[0m \u001b[0m__init__\u001b[0m\u001b[1;33m(\u001b[0m\u001b[0mself\u001b[0m\u001b[1;33m,\u001b[0m \u001b[0mnesteddict\u001b[0m\u001b[1;33m,\u001b[0m \u001b[0moutputs\u001b[0m\u001b[1;33m=\u001b[0m\u001b[1;32mNone\u001b[0m\u001b[1;33m,\u001b[0m \u001b[0minputs\u001b[0m\u001b[1;33m=\u001b[0m\u001b[1;32mNone\u001b[0m\u001b[1;33m,\u001b[0m \u001b[0mname\u001b[0m\u001b[1;33m=\u001b[0m\u001b[1;32mNone\u001b[0m\u001b[1;33m)\u001b[0m\u001b[1;33m:\u001b[0m\u001b[1;33m\u001b[0m\u001b[1;33m\u001b[0m\u001b[0m\n\u001b[1;32m----> 9\u001b[1;33m         \u001b[0msuper\u001b[0m\u001b[1;33m(\u001b[0m\u001b[1;33m)\u001b[0m\u001b[1;33m.\u001b[0m\u001b[0m__init__\u001b[0m\u001b[1;33m(\u001b[0m\u001b[0mnesteddict\u001b[0m\u001b[1;33m,\u001b[0m \u001b[0moutputs\u001b[0m\u001b[1;33m=\u001b[0m\u001b[0moutputs\u001b[0m\u001b[1;33m,\u001b[0m \u001b[0minputs\u001b[0m\u001b[1;33m=\u001b[0m\u001b[0minputs\u001b[0m\u001b[1;33m,\u001b[0m \u001b[0mname\u001b[0m\u001b[1;33m=\u001b[0m\u001b[0mname\u001b[0m\u001b[1;33m)\u001b[0m\u001b[1;33m\u001b[0m\u001b[1;33m\u001b[0m\u001b[0m\n\u001b[0m\u001b[0;32m     10\u001b[0m         \u001b[0mBlock\u001b[0m\u001b[1;33m.\u001b[0m\u001b[0m__init__\u001b[0m\u001b[1;33m(\u001b[0m\u001b[0mself\u001b[0m\u001b[1;33m)\u001b[0m\u001b[1;33m\u001b[0m\u001b[1;33m\u001b[0m\u001b[0m\n\u001b[0;32m     11\u001b[0m \u001b[1;33m\u001b[0m\u001b[0m\n",
      "\u001b[1;32m~\\anaconda3\\envs\\ECB\\lib\\site-packages\\sequence_jacobian\\classes\\jacobian_dict.py\u001b[0m in \u001b[0;36m__init__\u001b[1;34m(self, nesteddict, outputs, inputs, name, T, check)\u001b[0m\n\u001b[0;32m    122\u001b[0m         \u001b[1;32mif\u001b[0m \u001b[0mcheck\u001b[0m\u001b[1;33m:\u001b[0m\u001b[1;33m\u001b[0m\u001b[1;33m\u001b[0m\u001b[0m\n\u001b[0;32m    123\u001b[0m             \u001b[0mensure_valid_jacobiandict\u001b[0m\u001b[1;33m(\u001b[0m\u001b[0mnesteddict\u001b[0m\u001b[1;33m)\u001b[0m\u001b[1;33m\u001b[0m\u001b[1;33m\u001b[0m\u001b[0m\n\u001b[1;32m--> 124\u001b[1;33m         \u001b[0msuper\u001b[0m\u001b[1;33m(\u001b[0m\u001b[1;33m)\u001b[0m\u001b[1;33m.\u001b[0m\u001b[0m__init__\u001b[0m\u001b[1;33m(\u001b[0m\u001b[0mnesteddict\u001b[0m\u001b[1;33m,\u001b[0m \u001b[0moutputs\u001b[0m\u001b[1;33m=\u001b[0m\u001b[0moutputs\u001b[0m\u001b[1;33m,\u001b[0m \u001b[0minputs\u001b[0m\u001b[1;33m=\u001b[0m\u001b[0minputs\u001b[0m\u001b[1;33m,\u001b[0m \u001b[0mname\u001b[0m\u001b[1;33m=\u001b[0m\u001b[0mname\u001b[0m\u001b[1;33m)\u001b[0m\u001b[1;33m\u001b[0m\u001b[1;33m\u001b[0m\u001b[0m\n\u001b[0m\u001b[0;32m    125\u001b[0m         \u001b[0mself\u001b[0m\u001b[1;33m.\u001b[0m\u001b[0mT\u001b[0m \u001b[1;33m=\u001b[0m \u001b[0mT\u001b[0m\u001b[1;33m\u001b[0m\u001b[1;33m\u001b[0m\u001b[0m\n\u001b[0;32m    126\u001b[0m \u001b[1;33m\u001b[0m\u001b[0m\n",
      "\u001b[1;32m~\\anaconda3\\envs\\ECB\\lib\\site-packages\\sequence_jacobian\\classes\\jacobian_dict.py\u001b[0m in \u001b[0;36m__init__\u001b[1;34m(self, nesteddict, outputs, inputs, name)\u001b[0m\n\u001b[0;32m     24\u001b[0m             \u001b[0mself\u001b[0m\u001b[1;33m.\u001b[0m\u001b[0mnesteddict\u001b[0m \u001b[1;33m=\u001b[0m \u001b[0mnesteddict\u001b[0m\u001b[1;33m\u001b[0m\u001b[1;33m\u001b[0m\u001b[0m\n\u001b[0;32m     25\u001b[0m             \u001b[1;32mif\u001b[0m \u001b[0moutputs\u001b[0m \u001b[1;32mis\u001b[0m \u001b[1;32mNone\u001b[0m\u001b[1;33m:\u001b[0m\u001b[1;33m\u001b[0m\u001b[1;33m\u001b[0m\u001b[0m\n\u001b[1;32m---> 26\u001b[1;33m                 \u001b[0moutputs\u001b[0m \u001b[1;33m=\u001b[0m \u001b[0mOrderedSet\u001b[0m\u001b[1;33m(\u001b[0m\u001b[0mnesteddict\u001b[0m\u001b[1;33m.\u001b[0m\u001b[0mkeys\u001b[0m\u001b[1;33m(\u001b[0m\u001b[1;33m)\u001b[0m\u001b[1;33m)\u001b[0m\u001b[1;33m\u001b[0m\u001b[1;33m\u001b[0m\u001b[0m\n\u001b[0m\u001b[0;32m     27\u001b[0m             \u001b[1;32mif\u001b[0m \u001b[0minputs\u001b[0m \u001b[1;32mis\u001b[0m \u001b[1;32mNone\u001b[0m\u001b[1;33m:\u001b[0m\u001b[1;33m\u001b[0m\u001b[1;33m\u001b[0m\u001b[0m\n\u001b[0;32m     28\u001b[0m                 \u001b[0minputs\u001b[0m \u001b[1;33m=\u001b[0m \u001b[0mOrderedSet\u001b[0m\u001b[1;33m(\u001b[0m\u001b[1;33m[\u001b[0m\u001b[1;33m]\u001b[0m\u001b[1;33m)\u001b[0m\u001b[1;33m\u001b[0m\u001b[1;33m\u001b[0m\u001b[0m\n",
      "\u001b[1;31mAttributeError\u001b[0m: type object 'HARK_block' has no attribute 'keys'"
     ]
    }
   ],
   "source": [
    "ss_HARK_HANK = create_model([HARK_Input,fiscal,mkt_clearing])\n"
   ]
  },
  {
   "cell_type": "code",
   "execution_count": 34,
   "id": "elect-gibson",
   "metadata": {},
   "outputs": [],
   "source": [
    "# 3) Create a Result Dictionary\n",
    "class HARK_Dict(ResultDict):\n",
    "#     def __init__(self):\n",
    "#         self.Jacobian = JacobianDict( { 'C' : {'Z' : CJACN_GE} ,'A' : {'Z' : AJACN_GE} } )\n",
    "#         self.steady_state = {\"G\": 1.0, \"asset_mkt\":0.0, \"C\": C_ss, \"r\": r_ss, \"Y\": Y_ss, \"B\":B_ss, \"G\":G_ss, \"A\": A_ss }\n",
    "        \n",
    "    Jacobian = JacobianDict( { 'C' : {'Z' : CJACN_GE} ,'A' : {'Z' : AJACN_GE} } )\n",
    "    Steady_State = {\"G\": 1.0, \"asset_mkt\":0.0, \"C\": C_ss, \"r\": r_ss, \"Y\": Y_ss, \"B\":B_ss, \"G\":G_ss, \"A\": A_ss }\n",
    "    UserProvidedSS = {\"G\": 1.0, \"asset_mkt\":0.0, \"C\": C_ss, \"r\": r_ss, \"Y\": Y_ss, \"B\":B_ss, \"G\":G_ss, \"A\": A_ss }"
   ]
  },
  {
   "cell_type": "code",
   "execution_count": 35,
   "id": "sustainable-gentleman",
   "metadata": {},
   "outputs": [],
   "source": [
    "HARK_Inputb = HARK_Dict"
   ]
  },
  {
   "cell_type": "code",
   "execution_count": 36,
   "id": "frozen-fraud",
   "metadata": {},
   "outputs": [
    {
     "data": {
      "text/plain": [
       "{'Z': array([[ 8.76693988e-01, -5.67620646e-02, -5.12069951e-02, ...,\n",
       "          1.18308235e-04,  1.18580264e-04,  1.18841394e-04],\n",
       "        [ 8.43973917e-01,  8.76693989e-01, -1.04799845e-01, ...,\n",
       "          2.33589913e-04,  2.34138646e-04,  2.34665394e-04],\n",
       "        [ 8.14090474e-01,  8.43973919e-01,  8.31289308e-01, ...,\n",
       "          3.45918170e-04,  3.46748614e-04,  3.47545785e-04],\n",
       "        ...,\n",
       "        [ 1.33860975e-02,  1.36352440e-02,  1.32762649e-02, ...,\n",
       "          3.61926074e-01, -5.89064987e-01, -5.51375552e-01],\n",
       "        [ 1.31416635e-02,  1.33861399e-02,  1.30336454e-02, ...,\n",
       "          3.45495606e-01,  3.61928618e-01, -5.89062438e-01],\n",
       "        [ 1.29018091e-02,  1.31417060e-02,  1.27955763e-02, ...,\n",
       "          3.30869289e-01,  3.45498105e-01,  3.61931122e-01]])}"
      ]
     },
     "execution_count": 36,
     "metadata": {},
     "output_type": "execute_result"
    }
   ],
   "source": [
    "HARK_Inputb.Jacobian['A']"
   ]
  },
  {
   "cell_type": "code",
   "execution_count": 37,
   "id": "bored-illinois",
   "metadata": {},
   "outputs": [
    {
     "data": {
      "text/plain": [
       "{'G': 0.2,\n",
       " 'asset_mkt': 0.0,\n",
       " 'C': 0.8,\n",
       " 'r': 0.030000000000000027,\n",
       " 'Y': 1.0,\n",
       " 'B': 0.5,\n",
       " 'A': 1.232814717942662}"
      ]
     },
     "execution_count": 37,
     "metadata": {},
     "output_type": "execute_result"
    }
   ],
   "source": [
    "HARK_Inputb.Steady_State"
   ]
  },
  {
   "cell_type": "code",
   "execution_count": 38,
   "id": "confused-chair",
   "metadata": {},
   "outputs": [
    {
     "ename": "TypeError",
     "evalue": "keys() missing 1 required positional argument: 'self'",
     "output_type": "error",
     "traceback": [
      "\u001b[1;31m---------------------------------------------------------------------------\u001b[0m",
      "\u001b[1;31mTypeError\u001b[0m                                 Traceback (most recent call last)",
      "\u001b[1;32m<ipython-input-38-3b5df6283635>\u001b[0m in \u001b[0;36m<cell line: 1>\u001b[1;34m()\u001b[0m\n\u001b[1;32m----> 1\u001b[1;33m \u001b[0mss_HARK_HANK\u001b[0m \u001b[1;33m=\u001b[0m \u001b[0mcreate_model\u001b[0m\u001b[1;33m(\u001b[0m\u001b[1;33m[\u001b[0m\u001b[0mHARK_Inputb\u001b[0m\u001b[1;33m,\u001b[0m \u001b[0mfiscal\u001b[0m\u001b[1;33m,\u001b[0m \u001b[0mmkt_clearing\u001b[0m\u001b[1;33m]\u001b[0m\u001b[1;33m)\u001b[0m\u001b[1;33m\u001b[0m\u001b[1;33m\u001b[0m\u001b[0m\n\u001b[0m\u001b[0;32m      2\u001b[0m \u001b[1;31m## This error in combine comes even before\u001b[0m\u001b[1;33m\u001b[0m\u001b[1;33m\u001b[0m\u001b[1;33m\u001b[0m\u001b[0m\n",
      "\u001b[1;32m~\\anaconda3\\envs\\ECB\\lib\\site-packages\\sequence_jacobian\\blocks\\combined_block.py\u001b[0m in \u001b[0;36mcreate_model\u001b[1;34m(blocks, **kwargs)\u001b[0m\n\u001b[0;32m     14\u001b[0m \u001b[1;31m# Useful functional alias\u001b[0m\u001b[1;33m\u001b[0m\u001b[1;33m\u001b[0m\u001b[1;33m\u001b[0m\u001b[0m\n\u001b[0;32m     15\u001b[0m \u001b[1;32mdef\u001b[0m \u001b[0mcreate_model\u001b[0m\u001b[1;33m(\u001b[0m\u001b[0mblocks\u001b[0m\u001b[1;33m,\u001b[0m \u001b[1;33m**\u001b[0m\u001b[0mkwargs\u001b[0m\u001b[1;33m)\u001b[0m\u001b[1;33m:\u001b[0m\u001b[1;33m\u001b[0m\u001b[1;33m\u001b[0m\u001b[0m\n\u001b[1;32m---> 16\u001b[1;33m     \u001b[1;32mreturn\u001b[0m \u001b[0mcombine\u001b[0m\u001b[1;33m(\u001b[0m\u001b[0mblocks\u001b[0m\u001b[1;33m,\u001b[0m \u001b[0mmodel_alias\u001b[0m\u001b[1;33m=\u001b[0m\u001b[1;32mTrue\u001b[0m\u001b[1;33m,\u001b[0m \u001b[1;33m**\u001b[0m\u001b[0mkwargs\u001b[0m\u001b[1;33m)\u001b[0m\u001b[1;33m\u001b[0m\u001b[1;33m\u001b[0m\u001b[0m\n\u001b[0m\u001b[0;32m     17\u001b[0m \u001b[1;33m\u001b[0m\u001b[0m\n\u001b[0;32m     18\u001b[0m \u001b[1;33m\u001b[0m\u001b[0m\n",
      "\u001b[1;32m~\\anaconda3\\envs\\ECB\\lib\\site-packages\\sequence_jacobian\\blocks\\combined_block.py\u001b[0m in \u001b[0;36mcombine\u001b[1;34m(blocks, name, model_alias)\u001b[0m\n\u001b[0;32m      9\u001b[0m \u001b[1;33m\u001b[0m\u001b[0m\n\u001b[0;32m     10\u001b[0m \u001b[1;32mdef\u001b[0m \u001b[0mcombine\u001b[0m\u001b[1;33m(\u001b[0m\u001b[0mblocks\u001b[0m\u001b[1;33m,\u001b[0m \u001b[0mname\u001b[0m\u001b[1;33m=\u001b[0m\u001b[1;34m\"\"\u001b[0m\u001b[1;33m,\u001b[0m \u001b[0mmodel_alias\u001b[0m\u001b[1;33m=\u001b[0m\u001b[1;32mFalse\u001b[0m\u001b[1;33m)\u001b[0m\u001b[1;33m:\u001b[0m\u001b[1;33m\u001b[0m\u001b[1;33m\u001b[0m\u001b[0m\n\u001b[1;32m---> 11\u001b[1;33m     \u001b[1;32mreturn\u001b[0m \u001b[0mCombinedBlock\u001b[0m\u001b[1;33m(\u001b[0m\u001b[0mblocks\u001b[0m\u001b[1;33m,\u001b[0m \u001b[0mname\u001b[0m\u001b[1;33m=\u001b[0m\u001b[0mname\u001b[0m\u001b[1;33m,\u001b[0m \u001b[0mmodel_alias\u001b[0m\u001b[1;33m=\u001b[0m\u001b[0mmodel_alias\u001b[0m\u001b[1;33m)\u001b[0m\u001b[1;33m\u001b[0m\u001b[1;33m\u001b[0m\u001b[0m\n\u001b[0m\u001b[0;32m     12\u001b[0m \u001b[1;33m\u001b[0m\u001b[0m\n\u001b[0;32m     13\u001b[0m \u001b[1;33m\u001b[0m\u001b[0m\n",
      "\u001b[1;32m~\\anaconda3\\envs\\ECB\\lib\\site-packages\\sequence_jacobian\\blocks\\combined_block.py\u001b[0m in \u001b[0;36m__init__\u001b[1;34m(self, blocks, name, model_alias, sorted_indices, intermediate_inputs)\u001b[0m\n\u001b[0;32m     27\u001b[0m         \u001b[0msuper\u001b[0m\u001b[1;33m(\u001b[0m\u001b[1;33m)\u001b[0m\u001b[1;33m.\u001b[0m\u001b[0m__init__\u001b[0m\u001b[1;33m(\u001b[0m\u001b[1;33m)\u001b[0m\u001b[1;33m\u001b[0m\u001b[1;33m\u001b[0m\u001b[0m\n\u001b[0;32m     28\u001b[0m \u001b[1;33m\u001b[0m\u001b[0m\n\u001b[1;32m---> 29\u001b[1;33m         \u001b[0mblocks_unsorted\u001b[0m \u001b[1;33m=\u001b[0m \u001b[1;33m[\u001b[0m\u001b[0mb\u001b[0m \u001b[1;32mif\u001b[0m \u001b[0misinstance\u001b[0m\u001b[1;33m(\u001b[0m\u001b[0mb\u001b[0m\u001b[1;33m,\u001b[0m \u001b[0mBlock\u001b[0m\u001b[1;33m)\u001b[0m \u001b[1;32melse\u001b[0m \u001b[0mJacobianDictBlock\u001b[0m\u001b[1;33m(\u001b[0m\u001b[0mb\u001b[0m\u001b[1;33m)\u001b[0m \u001b[1;32mfor\u001b[0m \u001b[0mb\u001b[0m \u001b[1;32min\u001b[0m \u001b[0mblocks\u001b[0m\u001b[1;33m]\u001b[0m\u001b[1;33m\u001b[0m\u001b[1;33m\u001b[0m\u001b[0m\n\u001b[0m\u001b[0;32m     30\u001b[0m         \u001b[0mDAG\u001b[0m\u001b[1;33m.\u001b[0m\u001b[0m__init__\u001b[0m\u001b[1;33m(\u001b[0m\u001b[0mself\u001b[0m\u001b[1;33m,\u001b[0m \u001b[0mblocks_unsorted\u001b[0m\u001b[1;33m)\u001b[0m\u001b[1;33m\u001b[0m\u001b[1;33m\u001b[0m\u001b[0m\n\u001b[0;32m     31\u001b[0m \u001b[1;33m\u001b[0m\u001b[0m\n",
      "\u001b[1;32m~\\anaconda3\\envs\\ECB\\lib\\site-packages\\sequence_jacobian\\blocks\\combined_block.py\u001b[0m in \u001b[0;36m<listcomp>\u001b[1;34m(.0)\u001b[0m\n\u001b[0;32m     27\u001b[0m         \u001b[0msuper\u001b[0m\u001b[1;33m(\u001b[0m\u001b[1;33m)\u001b[0m\u001b[1;33m.\u001b[0m\u001b[0m__init__\u001b[0m\u001b[1;33m(\u001b[0m\u001b[1;33m)\u001b[0m\u001b[1;33m\u001b[0m\u001b[1;33m\u001b[0m\u001b[0m\n\u001b[0;32m     28\u001b[0m \u001b[1;33m\u001b[0m\u001b[0m\n\u001b[1;32m---> 29\u001b[1;33m         \u001b[0mblocks_unsorted\u001b[0m \u001b[1;33m=\u001b[0m \u001b[1;33m[\u001b[0m\u001b[0mb\u001b[0m \u001b[1;32mif\u001b[0m \u001b[0misinstance\u001b[0m\u001b[1;33m(\u001b[0m\u001b[0mb\u001b[0m\u001b[1;33m,\u001b[0m \u001b[0mBlock\u001b[0m\u001b[1;33m)\u001b[0m \u001b[1;32melse\u001b[0m \u001b[0mJacobianDictBlock\u001b[0m\u001b[1;33m(\u001b[0m\u001b[0mb\u001b[0m\u001b[1;33m)\u001b[0m \u001b[1;32mfor\u001b[0m \u001b[0mb\u001b[0m \u001b[1;32min\u001b[0m \u001b[0mblocks\u001b[0m\u001b[1;33m]\u001b[0m\u001b[1;33m\u001b[0m\u001b[1;33m\u001b[0m\u001b[0m\n\u001b[0m\u001b[0;32m     30\u001b[0m         \u001b[0mDAG\u001b[0m\u001b[1;33m.\u001b[0m\u001b[0m__init__\u001b[0m\u001b[1;33m(\u001b[0m\u001b[0mself\u001b[0m\u001b[1;33m,\u001b[0m \u001b[0mblocks_unsorted\u001b[0m\u001b[1;33m)\u001b[0m\u001b[1;33m\u001b[0m\u001b[1;33m\u001b[0m\u001b[0m\n\u001b[0;32m     31\u001b[0m \u001b[1;33m\u001b[0m\u001b[0m\n",
      "\u001b[1;32m~\\anaconda3\\envs\\ECB\\lib\\site-packages\\sequence_jacobian\\blocks\\auxiliary_blocks\\jacobiandict_block.py\u001b[0m in \u001b[0;36m__init__\u001b[1;34m(self, nesteddict, outputs, inputs, name)\u001b[0m\n\u001b[0;32m      7\u001b[0m     \u001b[1;34m\"\"\"A wrapper for nested dicts/JacobianDicts passed directly into DAGs to ensure method compatibility\"\"\"\u001b[0m\u001b[1;33m\u001b[0m\u001b[1;33m\u001b[0m\u001b[0m\n\u001b[0;32m      8\u001b[0m     \u001b[1;32mdef\u001b[0m \u001b[0m__init__\u001b[0m\u001b[1;33m(\u001b[0m\u001b[0mself\u001b[0m\u001b[1;33m,\u001b[0m \u001b[0mnesteddict\u001b[0m\u001b[1;33m,\u001b[0m \u001b[0moutputs\u001b[0m\u001b[1;33m=\u001b[0m\u001b[1;32mNone\u001b[0m\u001b[1;33m,\u001b[0m \u001b[0minputs\u001b[0m\u001b[1;33m=\u001b[0m\u001b[1;32mNone\u001b[0m\u001b[1;33m,\u001b[0m \u001b[0mname\u001b[0m\u001b[1;33m=\u001b[0m\u001b[1;32mNone\u001b[0m\u001b[1;33m)\u001b[0m\u001b[1;33m:\u001b[0m\u001b[1;33m\u001b[0m\u001b[1;33m\u001b[0m\u001b[0m\n\u001b[1;32m----> 9\u001b[1;33m         \u001b[0msuper\u001b[0m\u001b[1;33m(\u001b[0m\u001b[1;33m)\u001b[0m\u001b[1;33m.\u001b[0m\u001b[0m__init__\u001b[0m\u001b[1;33m(\u001b[0m\u001b[0mnesteddict\u001b[0m\u001b[1;33m,\u001b[0m \u001b[0moutputs\u001b[0m\u001b[1;33m=\u001b[0m\u001b[0moutputs\u001b[0m\u001b[1;33m,\u001b[0m \u001b[0minputs\u001b[0m\u001b[1;33m=\u001b[0m\u001b[0minputs\u001b[0m\u001b[1;33m,\u001b[0m \u001b[0mname\u001b[0m\u001b[1;33m=\u001b[0m\u001b[0mname\u001b[0m\u001b[1;33m)\u001b[0m\u001b[1;33m\u001b[0m\u001b[1;33m\u001b[0m\u001b[0m\n\u001b[0m\u001b[0;32m     10\u001b[0m         \u001b[0mBlock\u001b[0m\u001b[1;33m.\u001b[0m\u001b[0m__init__\u001b[0m\u001b[1;33m(\u001b[0m\u001b[0mself\u001b[0m\u001b[1;33m)\u001b[0m\u001b[1;33m\u001b[0m\u001b[1;33m\u001b[0m\u001b[0m\n\u001b[0;32m     11\u001b[0m \u001b[1;33m\u001b[0m\u001b[0m\n",
      "\u001b[1;32m~\\anaconda3\\envs\\ECB\\lib\\site-packages\\sequence_jacobian\\classes\\jacobian_dict.py\u001b[0m in \u001b[0;36m__init__\u001b[1;34m(self, nesteddict, outputs, inputs, name, T, check)\u001b[0m\n\u001b[0;32m    122\u001b[0m         \u001b[1;32mif\u001b[0m \u001b[0mcheck\u001b[0m\u001b[1;33m:\u001b[0m\u001b[1;33m\u001b[0m\u001b[1;33m\u001b[0m\u001b[0m\n\u001b[0;32m    123\u001b[0m             \u001b[0mensure_valid_jacobiandict\u001b[0m\u001b[1;33m(\u001b[0m\u001b[0mnesteddict\u001b[0m\u001b[1;33m)\u001b[0m\u001b[1;33m\u001b[0m\u001b[1;33m\u001b[0m\u001b[0m\n\u001b[1;32m--> 124\u001b[1;33m         \u001b[0msuper\u001b[0m\u001b[1;33m(\u001b[0m\u001b[1;33m)\u001b[0m\u001b[1;33m.\u001b[0m\u001b[0m__init__\u001b[0m\u001b[1;33m(\u001b[0m\u001b[0mnesteddict\u001b[0m\u001b[1;33m,\u001b[0m \u001b[0moutputs\u001b[0m\u001b[1;33m=\u001b[0m\u001b[0moutputs\u001b[0m\u001b[1;33m,\u001b[0m \u001b[0minputs\u001b[0m\u001b[1;33m=\u001b[0m\u001b[0minputs\u001b[0m\u001b[1;33m,\u001b[0m \u001b[0mname\u001b[0m\u001b[1;33m=\u001b[0m\u001b[0mname\u001b[0m\u001b[1;33m)\u001b[0m\u001b[1;33m\u001b[0m\u001b[1;33m\u001b[0m\u001b[0m\n\u001b[0m\u001b[0;32m    125\u001b[0m         \u001b[0mself\u001b[0m\u001b[1;33m.\u001b[0m\u001b[0mT\u001b[0m \u001b[1;33m=\u001b[0m \u001b[0mT\u001b[0m\u001b[1;33m\u001b[0m\u001b[1;33m\u001b[0m\u001b[0m\n\u001b[0;32m    126\u001b[0m \u001b[1;33m\u001b[0m\u001b[0m\n",
      "\u001b[1;32m~\\anaconda3\\envs\\ECB\\lib\\site-packages\\sequence_jacobian\\classes\\jacobian_dict.py\u001b[0m in \u001b[0;36m__init__\u001b[1;34m(self, nesteddict, outputs, inputs, name)\u001b[0m\n\u001b[0;32m     24\u001b[0m             \u001b[0mself\u001b[0m\u001b[1;33m.\u001b[0m\u001b[0mnesteddict\u001b[0m \u001b[1;33m=\u001b[0m \u001b[0mnesteddict\u001b[0m\u001b[1;33m\u001b[0m\u001b[1;33m\u001b[0m\u001b[0m\n\u001b[0;32m     25\u001b[0m             \u001b[1;32mif\u001b[0m \u001b[0moutputs\u001b[0m \u001b[1;32mis\u001b[0m \u001b[1;32mNone\u001b[0m\u001b[1;33m:\u001b[0m\u001b[1;33m\u001b[0m\u001b[1;33m\u001b[0m\u001b[0m\n\u001b[1;32m---> 26\u001b[1;33m                 \u001b[0moutputs\u001b[0m \u001b[1;33m=\u001b[0m \u001b[0mOrderedSet\u001b[0m\u001b[1;33m(\u001b[0m\u001b[0mnesteddict\u001b[0m\u001b[1;33m.\u001b[0m\u001b[0mkeys\u001b[0m\u001b[1;33m(\u001b[0m\u001b[1;33m)\u001b[0m\u001b[1;33m)\u001b[0m\u001b[1;33m\u001b[0m\u001b[1;33m\u001b[0m\u001b[0m\n\u001b[0m\u001b[0;32m     27\u001b[0m             \u001b[1;32mif\u001b[0m \u001b[0minputs\u001b[0m \u001b[1;32mis\u001b[0m \u001b[1;32mNone\u001b[0m\u001b[1;33m:\u001b[0m\u001b[1;33m\u001b[0m\u001b[1;33m\u001b[0m\u001b[0m\n\u001b[0;32m     28\u001b[0m                 \u001b[0minputs\u001b[0m \u001b[1;33m=\u001b[0m \u001b[0mOrderedSet\u001b[0m\u001b[1;33m(\u001b[0m\u001b[1;33m[\u001b[0m\u001b[1;33m]\u001b[0m\u001b[1;33m)\u001b[0m\u001b[1;33m\u001b[0m\u001b[1;33m\u001b[0m\u001b[0m\n",
      "\u001b[1;31mTypeError\u001b[0m: keys() missing 1 required positional argument: 'self'"
     ]
    }
   ],
   "source": [
    "ss_HARK_HANK = create_model([HARK_Inputb, fiscal, mkt_clearing])\n",
    "## This error in combine comes even before"
   ]
  },
  {
   "cell_type": "code",
   "execution_count": 39,
   "id": "handled-shift",
   "metadata": {},
   "outputs": [
    {
     "ename": "AttributeError",
     "evalue": "'JacobianDict' object has no attribute 'copy'",
     "output_type": "error",
     "traceback": [
      "\u001b[1;31m---------------------------------------------------------------------------\u001b[0m",
      "\u001b[1;31mAttributeError\u001b[0m                            Traceback (most recent call last)",
      "\u001b[1;32m<ipython-input-39-cfffb177cc46>\u001b[0m in \u001b[0;36m<cell line: 2>\u001b[1;34m()\u001b[0m\n\u001b[0;32m      1\u001b[0m \u001b[1;31m# 4) Use the ResultDict directly\u001b[0m\u001b[1;33m\u001b[0m\u001b[1;33m\u001b[0m\u001b[1;33m\u001b[0m\u001b[0m\n\u001b[1;32m----> 2\u001b[1;33m \u001b[0mHARK_Inputc\u001b[0m \u001b[1;33m=\u001b[0m \u001b[0mResultDict\u001b[0m\u001b[1;33m(\u001b[0m\u001b[0mJacobianDict\u001b[0m\u001b[1;33m(\u001b[0m \u001b[1;33m{\u001b[0m \u001b[1;34m'C'\u001b[0m \u001b[1;33m:\u001b[0m \u001b[1;33m{\u001b[0m\u001b[1;34m'Z'\u001b[0m \u001b[1;33m:\u001b[0m \u001b[0mCJACN_GE\u001b[0m\u001b[1;33m}\u001b[0m \u001b[1;33m,\u001b[0m\u001b[1;34m'A'\u001b[0m \u001b[1;33m:\u001b[0m \u001b[1;33m{\u001b[0m\u001b[1;34m'Z'\u001b[0m \u001b[1;33m:\u001b[0m \u001b[0mAJACN_GE\u001b[0m\u001b[1;33m}\u001b[0m \u001b[1;33m}\u001b[0m \u001b[1;33m)\u001b[0m\u001b[1;33m)\u001b[0m\u001b[1;33m\u001b[0m\u001b[1;33m\u001b[0m\u001b[0m\n\u001b[0m",
      "\u001b[1;32m~\\anaconda3\\envs\\ECB\\lib\\site-packages\\sequence_jacobian\\classes\\result_dict.py\u001b[0m in \u001b[0;36m__init__\u001b[1;34m(self, data, internals)\u001b[0m\n\u001b[0;32m     11\u001b[0m             \u001b[0mself\u001b[0m\u001b[1;33m.\u001b[0m\u001b[0minternals\u001b[0m \u001b[1;33m=\u001b[0m \u001b[0mdata\u001b[0m\u001b[1;33m.\u001b[0m\u001b[0minternals\u001b[0m\u001b[1;33m.\u001b[0m\u001b[0mcopy\u001b[0m\u001b[1;33m(\u001b[0m\u001b[1;33m)\u001b[0m\u001b[1;33m\u001b[0m\u001b[1;33m\u001b[0m\u001b[0m\n\u001b[0;32m     12\u001b[0m         \u001b[1;32melse\u001b[0m\u001b[1;33m:\u001b[0m\u001b[1;33m\u001b[0m\u001b[1;33m\u001b[0m\u001b[0m\n\u001b[1;32m---> 13\u001b[1;33m             \u001b[0mself\u001b[0m\u001b[1;33m.\u001b[0m\u001b[0mtoplevel\u001b[0m\u001b[1;33m:\u001b[0m \u001b[0mdict\u001b[0m \u001b[1;33m=\u001b[0m \u001b[0mdata\u001b[0m\u001b[1;33m.\u001b[0m\u001b[0mcopy\u001b[0m\u001b[1;33m(\u001b[0m\u001b[1;33m)\u001b[0m\u001b[1;33m\u001b[0m\u001b[1;33m\u001b[0m\u001b[0m\n\u001b[0m\u001b[0;32m     14\u001b[0m             \u001b[0mself\u001b[0m\u001b[1;33m.\u001b[0m\u001b[0minternals\u001b[0m\u001b[1;33m:\u001b[0m \u001b[0mdict\u001b[0m \u001b[1;33m=\u001b[0m \u001b[1;33m{\u001b[0m\u001b[1;33m}\u001b[0m \u001b[1;32mif\u001b[0m \u001b[0minternals\u001b[0m \u001b[1;32mis\u001b[0m \u001b[1;32mNone\u001b[0m \u001b[1;32melse\u001b[0m \u001b[0minternals\u001b[0m\u001b[1;33m.\u001b[0m\u001b[0mcopy\u001b[0m\u001b[1;33m(\u001b[0m\u001b[1;33m)\u001b[0m\u001b[1;33m\u001b[0m\u001b[1;33m\u001b[0m\u001b[0m\n\u001b[0;32m     15\u001b[0m \u001b[1;33m\u001b[0m\u001b[0m\n",
      "\u001b[1;31mAttributeError\u001b[0m: 'JacobianDict' object has no attribute 'copy'"
     ]
    }
   ],
   "source": [
    "# 4) Use the ResultDict directly\n",
    "HARK_Inputc = ResultDict(JacobianDict( { 'C' : {'Z' : CJACN_GE} ,'A' : {'Z' : AJACN_GE} } ))"
   ]
  },
  {
   "cell_type": "code",
   "execution_count": 40,
   "id": "twenty-frequency",
   "metadata": {},
   "outputs": [],
   "source": [
    "# 5) Use options for steady state\n",
    "ss_HARK_HANK = create_model([HARK_Jacobian_Dict,fiscal,mkt_clearing], name=\"HARK_HANK\")\n"
   ]
  },
  {
   "cell_type": "code",
   "execution_count": 41,
   "id": "bibliographic-modification",
   "metadata": {},
   "outputs": [
    {
     "data": {
      "text/plain": [
       "{'M': Bijection({}),\n",
       " 'steady_state_options': {},\n",
       " 'impulse_nonlinear_options': {},\n",
       " 'impulse_linear_options': {},\n",
       " 'jacobian_options': {},\n",
       " 'partial_jacobians_options': {},\n",
       " 'blocks': [<SimpleBlock 'fiscal'>,\n",
       "  <JacobianDictBlock outputs=['C', 'A'], inputs=['Z']>,\n",
       "  <SimpleBlock 'mkt_clearing'>],\n",
       " 'inmap': {'Z': OrderedSet([1]),\n",
       "  'B': OrderedSet([0, 2]),\n",
       "  'r': OrderedSet([0]),\n",
       "  'G': OrderedSet([0, 2]),\n",
       "  'Y': OrderedSet([0, 2]),\n",
       "  'A': OrderedSet([2]),\n",
       "  'C': OrderedSet([2])},\n",
       " 'outmap': {'C': 1,\n",
       "  'A': 1,\n",
       "  'T': 0,\n",
       "  'Z': 0,\n",
       "  'deficit': 0,\n",
       "  'asset_mkt': 2,\n",
       "  'goods_mkt': 2},\n",
       " 'adj': [OrderedSet([1]), OrderedSet([2]), OrderedSet([])],\n",
       " 'revadj': [OrderedSet([]), OrderedSet([0]), OrderedSet([1])],\n",
       " 'inputs': OrderedSet(['B', 'r', 'G', 'Y']),\n",
       " 'outputs': OrderedSet(['C', 'A', 'T', 'Z', 'deficit', 'asset_mkt', 'goods_mkt']),\n",
       " '_required': OrderedSet(['Z', 'A', 'C']),\n",
       " 'name': 'HARK_HANK',\n",
       " 'kids': {'NestedDict': <JacobianDict outputs=['C', 'A'], inputs=['Z']>,\n",
       "  'fiscal': <SimpleBlock 'fiscal'>,\n",
       "  'mkt_clearing': <SimpleBlock 'mkt_clearing'>},\n",
       " 'descendants': {'NestedDict': 'NestedDict',\n",
       "  'fiscal': 'fiscal',\n",
       "  'mkt_clearing': 'mkt_clearing',\n",
       "  'HARK_HANK': None},\n",
       " '_model_alias': True}"
      ]
     },
     "execution_count": 41,
     "metadata": {},
     "output_type": "execute_result"
    }
   ],
   "source": [
    "vars(ss_HARK_HANK)"
   ]
  },
  {
   "cell_type": "code",
   "execution_count": 51,
   "id": "charitable-traveler",
   "metadata": {},
   "outputs": [],
   "source": [
    "ss_HARK_HANK.steady_state_options = {\"G\": 1.0, \"asset_mkt\":0.0, \"C\": C_ss, \"r\": r_ss, \"Y\": Y_ss, \"B\":B_ss, \"G\":G_ss, \"A\": A_ss }"
   ]
  },
  {
   "cell_type": "code",
   "execution_count": 58,
   "id": "connected-round",
   "metadata": {},
   "outputs": [
    {
     "data": {
      "text/plain": [
       "<bound method Block.steady_state of <Model 'HARK_HANK'>>"
      ]
     },
     "execution_count": 58,
     "metadata": {},
     "output_type": "execute_result"
    }
   ],
   "source": [
    "ss_HARK_HANK.steady_state"
   ]
  },
  {
   "cell_type": "code",
   "execution_count": 43,
   "id": "senior-jamaica",
   "metadata": {},
   "outputs": [
    {
     "ename": "AttributeError",
     "evalue": "'JacobianDictBlock' object has no attribute '_steady_state'",
     "output_type": "error",
     "traceback": [
      "\u001b[1;31m---------------------------------------------------------------------------\u001b[0m",
      "\u001b[1;31mAttributeError\u001b[0m                            Traceback (most recent call last)",
      "\u001b[1;32m<ipython-input-43-e9b1dc996558>\u001b[0m in \u001b[0;36m<cell line: 1>\u001b[1;34m()\u001b[0m\n\u001b[1;32m----> 1\u001b[1;33m \u001b[0mss_HARK_HANK\u001b[0m \u001b[1;33m=\u001b[0m \u001b[0mss_HARK_HANK\u001b[0m\u001b[1;33m.\u001b[0m\u001b[0msteady_state\u001b[0m\u001b[1;33m(\u001b[0m\u001b[0mDict_HARK_HANK\u001b[0m\u001b[1;33m)\u001b[0m\u001b[1;33m\u001b[0m\u001b[1;33m\u001b[0m\u001b[0m\n\u001b[0m",
      "\u001b[1;32m~\\anaconda3\\envs\\ECB\\lib\\site-packages\\sequence_jacobian\\blocks\\block.py\u001b[0m in \u001b[0;36msteady_state\u001b[1;34m(self, calibration, dissolve, options, **kwargs)\u001b[0m\n\u001b[0;32m     45\u001b[0m         \u001b[0mown_options\u001b[0m \u001b[1;33m=\u001b[0m \u001b[0mself\u001b[0m\u001b[1;33m.\u001b[0m\u001b[0mget_options\u001b[0m\u001b[1;33m(\u001b[0m\u001b[0moptions\u001b[0m\u001b[1;33m,\u001b[0m \u001b[0mkwargs\u001b[0m\u001b[1;33m,\u001b[0m \u001b[1;34m'steady_state'\u001b[0m\u001b[1;33m)\u001b[0m\u001b[1;33m\u001b[0m\u001b[1;33m\u001b[0m\u001b[0m\n\u001b[0;32m     46\u001b[0m         \u001b[1;32mif\u001b[0m \u001b[0misinstance\u001b[0m\u001b[1;33m(\u001b[0m\u001b[0mself\u001b[0m\u001b[1;33m,\u001b[0m \u001b[0mParent\u001b[0m\u001b[1;33m)\u001b[0m\u001b[1;33m:\u001b[0m\u001b[1;33m\u001b[0m\u001b[1;33m\u001b[0m\u001b[0m\n\u001b[1;32m---> 47\u001b[1;33m             return self.M @ self._steady_state(self.M.inv @ calibration, dissolve=dissolve,\n\u001b[0m\u001b[0;32m     48\u001b[0m                                                options=options, **own_options)\n\u001b[0;32m     49\u001b[0m         \u001b[1;32melse\u001b[0m\u001b[1;33m:\u001b[0m\u001b[1;33m\u001b[0m\u001b[1;33m\u001b[0m\u001b[0m\n",
      "\u001b[1;32m~\\anaconda3\\envs\\ECB\\lib\\site-packages\\sequence_jacobian\\blocks\\combined_block.py\u001b[0m in \u001b[0;36m_steady_state\u001b[1;34m(self, calibration, dissolve, **kwargs)\u001b[0m\n\u001b[0;32m     57\u001b[0m             \u001b[1;31m# TODO: make this inner_dissolve better, clumsy way to dispatch dissolve only to correct children\u001b[0m\u001b[1;33m\u001b[0m\u001b[1;33m\u001b[0m\u001b[1;33m\u001b[0m\u001b[0m\n\u001b[0;32m     58\u001b[0m             \u001b[0minner_dissolve\u001b[0m \u001b[1;33m=\u001b[0m \u001b[1;33m[\u001b[0m\u001b[0mk\u001b[0m \u001b[1;32mfor\u001b[0m \u001b[0mk\u001b[0m \u001b[1;32min\u001b[0m \u001b[0mdissolve\u001b[0m \u001b[1;32mif\u001b[0m \u001b[0mself\u001b[0m\u001b[1;33m.\u001b[0m\u001b[0mdescendants\u001b[0m\u001b[1;33m[\u001b[0m\u001b[0mk\u001b[0m\u001b[1;33m]\u001b[0m \u001b[1;33m==\u001b[0m \u001b[0mblock\u001b[0m\u001b[1;33m.\u001b[0m\u001b[0mname\u001b[0m\u001b[1;33m]\u001b[0m\u001b[1;33m\u001b[0m\u001b[1;33m\u001b[0m\u001b[0m\n\u001b[1;32m---> 59\u001b[1;33m             \u001b[0moutputs\u001b[0m \u001b[1;33m=\u001b[0m \u001b[0mblock\u001b[0m\u001b[1;33m.\u001b[0m\u001b[0msteady_state\u001b[0m\u001b[1;33m(\u001b[0m\u001b[0mss\u001b[0m\u001b[1;33m,\u001b[0m \u001b[0mdissolve\u001b[0m\u001b[1;33m=\u001b[0m\u001b[0minner_dissolve\u001b[0m\u001b[1;33m,\u001b[0m \u001b[1;33m**\u001b[0m\u001b[0mkwargs\u001b[0m\u001b[1;33m)\u001b[0m\u001b[1;33m\u001b[0m\u001b[1;33m\u001b[0m\u001b[0m\n\u001b[0m\u001b[0;32m     60\u001b[0m             \u001b[0mss\u001b[0m\u001b[1;33m.\u001b[0m\u001b[0mupdate\u001b[0m\u001b[1;33m(\u001b[0m\u001b[0moutputs\u001b[0m\u001b[1;33m)\u001b[0m\u001b[1;33m\u001b[0m\u001b[1;33m\u001b[0m\u001b[0m\n\u001b[0;32m     61\u001b[0m \u001b[1;33m\u001b[0m\u001b[0m\n",
      "\u001b[1;32m~\\anaconda3\\envs\\ECB\\lib\\site-packages\\sequence_jacobian\\blocks\\block.py\u001b[0m in \u001b[0;36msteady_state\u001b[1;34m(self, calibration, dissolve, options, **kwargs)\u001b[0m\n\u001b[0;32m     48\u001b[0m                                                options=options, **own_options)\n\u001b[0;32m     49\u001b[0m         \u001b[1;32melse\u001b[0m\u001b[1;33m:\u001b[0m\u001b[1;33m\u001b[0m\u001b[1;33m\u001b[0m\u001b[0m\n\u001b[1;32m---> 50\u001b[1;33m             \u001b[1;32mreturn\u001b[0m \u001b[0mself\u001b[0m\u001b[1;33m.\u001b[0m\u001b[0mM\u001b[0m \u001b[1;33m@\u001b[0m \u001b[0mself\u001b[0m\u001b[1;33m.\u001b[0m\u001b[0m_steady_state\u001b[0m\u001b[1;33m(\u001b[0m\u001b[0mself\u001b[0m\u001b[1;33m.\u001b[0m\u001b[0mM\u001b[0m\u001b[1;33m.\u001b[0m\u001b[0minv\u001b[0m \u001b[1;33m@\u001b[0m \u001b[0mcalibration\u001b[0m\u001b[1;33m,\u001b[0m \u001b[1;33m**\u001b[0m\u001b[0mown_options\u001b[0m\u001b[1;33m)\u001b[0m\u001b[1;33m\u001b[0m\u001b[1;33m\u001b[0m\u001b[0m\n\u001b[0m\u001b[0;32m     51\u001b[0m \u001b[1;33m\u001b[0m\u001b[0m\n\u001b[0;32m     52\u001b[0m     def impulse_nonlinear(self, ss: SteadyStateDict, inputs: Union[Dict[str, Array], ImpulseDict],\n",
      "\u001b[1;31mAttributeError\u001b[0m: 'JacobianDictBlock' object has no attribute '_steady_state'"
     ]
    }
   ],
   "source": [
    "ss_HARK_HANK = ss_HARK_HANK.steady_state(Dict_HARK_HANK)"
   ]
  },
  {
   "cell_type": "code",
   "execution_count": 50,
   "id": "supposed-garden",
   "metadata": {},
   "outputs": [
    {
     "data": {
      "text/plain": [
       "[<SimpleBlock 'fiscal'>,\n",
       " <JacobianDictBlock outputs=['C', 'A'], inputs=['Z']>,\n",
       " <SimpleBlock 'mkt_clearing'>]"
      ]
     },
     "execution_count": 50,
     "metadata": {},
     "output_type": "execute_result"
    }
   ],
   "source": [
    "# 6 Add to JacobianDictBlock\n",
    "ss_HARK_HANK.blocks"
   ]
  },
  {
   "cell_type": "code",
   "execution_count": 61,
   "id": "paperback-karen",
   "metadata": {},
   "outputs": [
    {
     "ename": "AttributeError",
     "evalue": "'dict' object has no attribute '_vector_valued'",
     "output_type": "error",
     "traceback": [
      "\u001b[1;31m---------------------------------------------------------------------------\u001b[0m",
      "\u001b[1;31mAttributeError\u001b[0m                            Traceback (most recent call last)",
      "\u001b[1;32m<ipython-input-61-f5b75b118ea1>\u001b[0m in \u001b[0;36m<cell line: 2>\u001b[1;34m()\u001b[0m\n\u001b[0;32m      1\u001b[0m \u001b[0mss\u001b[0m \u001b[1;33m=\u001b[0m \u001b[1;33m{\u001b[0m\u001b[1;34m\"G\"\u001b[0m\u001b[1;33m:\u001b[0m \u001b[1;36m1.0\u001b[0m\u001b[1;33m,\u001b[0m \u001b[1;34m\"asset_mkt\"\u001b[0m\u001b[1;33m:\u001b[0m\u001b[1;36m0.0\u001b[0m\u001b[1;33m,\u001b[0m \u001b[1;34m\"C\"\u001b[0m\u001b[1;33m:\u001b[0m \u001b[0mC_ss\u001b[0m\u001b[1;33m,\u001b[0m \u001b[1;34m\"r\"\u001b[0m\u001b[1;33m:\u001b[0m \u001b[0mr_ss\u001b[0m\u001b[1;33m,\u001b[0m \u001b[1;34m\"Y\"\u001b[0m\u001b[1;33m:\u001b[0m \u001b[0mY_ss\u001b[0m\u001b[1;33m,\u001b[0m \u001b[1;34m\"B\"\u001b[0m\u001b[1;33m:\u001b[0m\u001b[0mB_ss\u001b[0m\u001b[1;33m,\u001b[0m \u001b[1;34m\"G\"\u001b[0m\u001b[1;33m:\u001b[0m\u001b[0mG_ss\u001b[0m\u001b[1;33m,\u001b[0m \u001b[1;34m\"A\"\u001b[0m\u001b[1;33m:\u001b[0m \u001b[0mA_ss\u001b[0m \u001b[1;33m}\u001b[0m\u001b[1;33m\u001b[0m\u001b[1;33m\u001b[0m\u001b[0m\n\u001b[1;32m----> 2\u001b[1;33m \u001b[0mss_HARK_HANK\u001b[0m\u001b[1;33m.\u001b[0m\u001b[0mpartial_jacobians\u001b[0m\u001b[1;33m(\u001b[0m\u001b[0mss\u001b[0m\u001b[1;33m)\u001b[0m\u001b[1;33m\u001b[0m\u001b[1;33m\u001b[0m\u001b[0m\n\u001b[0m",
      "\u001b[1;32m~\\anaconda3\\envs\\ECB\\lib\\site-packages\\sequence_jacobian\\blocks\\block.py\u001b[0m in \u001b[0;36mpartial_jacobians\u001b[1;34m(self, ss, inputs, outputs, T, Js, options, **kwargs)\u001b[0m\n\u001b[0;32m    108\u001b[0m         \u001b[1;31m# otherwise call child method with remapping (and remap your own but none of the child Js)\u001b[0m\u001b[1;33m\u001b[0m\u001b[1;33m\u001b[0m\u001b[1;33m\u001b[0m\u001b[0m\n\u001b[0;32m    109\u001b[0m         \u001b[0mown_options\u001b[0m \u001b[1;33m=\u001b[0m \u001b[0mself\u001b[0m\u001b[1;33m.\u001b[0m\u001b[0mget_options\u001b[0m\u001b[1;33m(\u001b[0m\u001b[0moptions\u001b[0m\u001b[1;33m,\u001b[0m \u001b[0mkwargs\u001b[0m\u001b[1;33m,\u001b[0m \u001b[1;34m'partial_jacobians'\u001b[0m\u001b[1;33m)\u001b[0m\u001b[1;33m\u001b[0m\u001b[1;33m\u001b[0m\u001b[0m\n\u001b[1;32m--> 110\u001b[1;33m         \u001b[0mpartial\u001b[0m \u001b[1;33m=\u001b[0m \u001b[0mself\u001b[0m\u001b[1;33m.\u001b[0m\u001b[0m_partial_jacobians\u001b[0m\u001b[1;33m(\u001b[0m\u001b[0mself\u001b[0m\u001b[1;33m.\u001b[0m\u001b[0mM\u001b[0m\u001b[1;33m.\u001b[0m\u001b[0minv\u001b[0m \u001b[1;33m@\u001b[0m \u001b[0mss\u001b[0m\u001b[1;33m,\u001b[0m \u001b[0mself\u001b[0m\u001b[1;33m.\u001b[0m\u001b[0mM\u001b[0m\u001b[1;33m.\u001b[0m\u001b[0minv\u001b[0m \u001b[1;33m@\u001b[0m \u001b[0minputs\u001b[0m\u001b[1;33m,\u001b[0m \u001b[0mself\u001b[0m\u001b[1;33m.\u001b[0m\u001b[0mM\u001b[0m\u001b[1;33m.\u001b[0m\u001b[0minv\u001b[0m \u001b[1;33m@\u001b[0m \u001b[0moutputs\u001b[0m\u001b[1;33m,\u001b[0m \u001b[0mT\u001b[0m\u001b[1;33m,\u001b[0m \u001b[0mJs\u001b[0m\u001b[1;33m,\u001b[0m \u001b[0moptions\u001b[0m\u001b[1;33m,\u001b[0m \u001b[1;33m**\u001b[0m\u001b[0mown_options\u001b[0m\u001b[1;33m)\u001b[0m\u001b[1;33m\u001b[0m\u001b[1;33m\u001b[0m\u001b[0m\n\u001b[0m\u001b[0;32m    111\u001b[0m         \u001b[1;32mif\u001b[0m \u001b[0mself\u001b[0m\u001b[1;33m.\u001b[0m\u001b[0mname\u001b[0m \u001b[1;32min\u001b[0m \u001b[0mpartial\u001b[0m\u001b[1;33m:\u001b[0m\u001b[1;33m\u001b[0m\u001b[1;33m\u001b[0m\u001b[0m\n\u001b[0;32m    112\u001b[0m             \u001b[0mpartial\u001b[0m\u001b[1;33m[\u001b[0m\u001b[0mself\u001b[0m\u001b[1;33m.\u001b[0m\u001b[0mname\u001b[0m\u001b[1;33m]\u001b[0m \u001b[1;33m=\u001b[0m \u001b[0mself\u001b[0m\u001b[1;33m.\u001b[0m\u001b[0mM\u001b[0m \u001b[1;33m@\u001b[0m \u001b[0mpartial\u001b[0m\u001b[1;33m[\u001b[0m\u001b[0mself\u001b[0m\u001b[1;33m.\u001b[0m\u001b[0mname\u001b[0m\u001b[1;33m]\u001b[0m\u001b[1;33m\u001b[0m\u001b[1;33m\u001b[0m\u001b[0m\n",
      "\u001b[1;32m~\\anaconda3\\envs\\ECB\\lib\\site-packages\\sequence_jacobian\\blocks\\combined_block.py\u001b[0m in \u001b[0;36m_partial_jacobians\u001b[1;34m(self, ss, inputs, outputs, T, Js, options)\u001b[0m\n\u001b[0;32m     91\u001b[0m \u001b[1;33m\u001b[0m\u001b[0m\n\u001b[0;32m     92\u001b[0m     \u001b[1;32mdef\u001b[0m \u001b[0m_partial_jacobians\u001b[0m\u001b[1;33m(\u001b[0m\u001b[0mself\u001b[0m\u001b[1;33m,\u001b[0m \u001b[0mss\u001b[0m\u001b[1;33m,\u001b[0m \u001b[0minputs\u001b[0m\u001b[1;33m,\u001b[0m \u001b[0moutputs\u001b[0m\u001b[1;33m,\u001b[0m \u001b[0mT\u001b[0m\u001b[1;33m,\u001b[0m \u001b[0mJs\u001b[0m\u001b[1;33m,\u001b[0m \u001b[0moptions\u001b[0m\u001b[1;33m)\u001b[0m\u001b[1;33m:\u001b[0m\u001b[1;33m\u001b[0m\u001b[1;33m\u001b[0m\u001b[0m\n\u001b[1;32m---> 93\u001b[1;33m         \u001b[0mvector_valued\u001b[0m \u001b[1;33m=\u001b[0m \u001b[0mss\u001b[0m\u001b[1;33m.\u001b[0m\u001b[0m_vector_valued\u001b[0m\u001b[1;33m(\u001b[0m\u001b[1;33m)\u001b[0m\u001b[1;33m\u001b[0m\u001b[1;33m\u001b[0m\u001b[0m\n\u001b[0m\u001b[0;32m     94\u001b[0m         \u001b[0minputs\u001b[0m \u001b[1;33m=\u001b[0m \u001b[1;33m(\u001b[0m\u001b[0minputs\u001b[0m \u001b[1;33m|\u001b[0m \u001b[0mself\u001b[0m\u001b[1;33m.\u001b[0m\u001b[0m_required\u001b[0m\u001b[1;33m)\u001b[0m \u001b[1;33m-\u001b[0m \u001b[0mvector_valued\u001b[0m\u001b[1;33m\u001b[0m\u001b[1;33m\u001b[0m\u001b[0m\n\u001b[0;32m     95\u001b[0m         \u001b[0moutputs\u001b[0m \u001b[1;33m=\u001b[0m \u001b[1;33m(\u001b[0m\u001b[0moutputs\u001b[0m \u001b[1;33m|\u001b[0m \u001b[0mself\u001b[0m\u001b[1;33m.\u001b[0m\u001b[0m_required\u001b[0m\u001b[1;33m)\u001b[0m \u001b[1;33m-\u001b[0m \u001b[0mvector_valued\u001b[0m\u001b[1;33m\u001b[0m\u001b[1;33m\u001b[0m\u001b[0m\n",
      "\u001b[1;31mAttributeError\u001b[0m: 'dict' object has no attribute '_vector_valued'"
     ]
    }
   ],
   "source": [
    "ss = {\"G\": 1.0, \"asset_mkt\":0.0, \"C\": C_ss, \"r\": r_ss, \"Y\": Y_ss, \"B\":B_ss, \"G\":G_ss, \"A\": A_ss }\n",
    "ss_HARK_HANK.partial_jacobians(ss)"
   ]
  },
  {
   "cell_type": "markdown",
   "id": "soviet-database",
   "metadata": {},
   "source": [
    "## Create Impulse Responses"
   ]
  },
  {
   "cell_type": "code",
   "execution_count": 53,
   "id": "numerical-compensation",
   "metadata": {},
   "outputs": [
    {
     "ename": "AttributeError",
     "evalue": "'CombinedBlock' object has no attribute '_vector_valued'",
     "output_type": "error",
     "traceback": [
      "\u001b[1;31m---------------------------------------------------------------------------\u001b[0m",
      "\u001b[1;31mAttributeError\u001b[0m                            Traceback (most recent call last)",
      "\u001b[1;32m<ipython-input-53-8890a7579774>\u001b[0m in \u001b[0;36m<cell line: 5>\u001b[1;34m()\u001b[0m\n\u001b[0;32m      3\u001b[0m \u001b[0mT\u001b[0m \u001b[1;33m=\u001b[0m \u001b[1;36m200\u001b[0m\u001b[1;33m\u001b[0m\u001b[1;33m\u001b[0m\u001b[0m\n\u001b[0;32m      4\u001b[0m \u001b[0mregular_Z_shock_path\u001b[0m \u001b[1;33m=\u001b[0m \u001b[1;33m{\u001b[0m\u001b[1;34m\"G\"\u001b[0m\u001b[1;33m:\u001b[0m \u001b[0mG_std\u001b[0m\u001b[1;33m*\u001b[0m\u001b[0mG_persistence\u001b[0m\u001b[1;33m**\u001b[0m\u001b[0mnp\u001b[0m\u001b[1;33m.\u001b[0m\u001b[0marange\u001b[0m\u001b[1;33m(\u001b[0m\u001b[0mT\u001b[0m\u001b[1;33m)\u001b[0m\u001b[1;33m}\u001b[0m\u001b[1;33m\u001b[0m\u001b[1;33m\u001b[0m\u001b[0m\n\u001b[1;32m----> 5\u001b[1;33m \u001b[0mIPR\u001b[0m \u001b[1;33m=\u001b[0m \u001b[0mss_HARK_HANK\u001b[0m\u001b[1;33m.\u001b[0m\u001b[0msolve_impulse_linear\u001b[0m\u001b[1;33m(\u001b[0m\u001b[0mss_HARK_HANK\u001b[0m\u001b[1;33m,\u001b[0m \u001b[0munknowns\u001b[0m\u001b[1;33m,\u001b[0m \u001b[0mtargets\u001b[0m\u001b[1;33m,\u001b[0m \u001b[0mregular_Z_shock_path\u001b[0m\u001b[1;33m)\u001b[0m\u001b[1;33m\u001b[0m\u001b[1;33m\u001b[0m\u001b[0m\n\u001b[0m",
      "\u001b[1;32m~\\anaconda3\\envs\\ECB\\lib\\site-packages\\sequence_jacobian\\blocks\\block.py\u001b[0m in \u001b[0;36msolve_impulse_linear\u001b[1;34m(self, ss, unknowns, targets, inputs, outputs, Js, options, H_U_factored, **kwargs)\u001b[0m\n\u001b[0;32m    224\u001b[0m \u001b[1;33m\u001b[0m\u001b[0m\n\u001b[0;32m    225\u001b[0m         \u001b[0minput_names\u001b[0m \u001b[1;33m=\u001b[0m \u001b[0mself\u001b[0m\u001b[1;33m.\u001b[0m\u001b[0mmake_ordered_set\u001b[0m\u001b[1;33m(\u001b[0m\u001b[0minputs\u001b[0m\u001b[1;33m)\u001b[0m\u001b[1;33m\u001b[0m\u001b[1;33m\u001b[0m\u001b[0m\n\u001b[1;32m--> 226\u001b[1;33m         \u001b[0mactual_outputs\u001b[0m\u001b[1;33m,\u001b[0m \u001b[0minputs_as_outputs\u001b[0m \u001b[1;33m=\u001b[0m \u001b[0mself\u001b[0m\u001b[1;33m.\u001b[0m\u001b[0mprocess_outputs\u001b[0m\u001b[1;33m(\u001b[0m\u001b[0mss\u001b[0m\u001b[1;33m,\u001b[0m \u001b[0minput_names\u001b[0m \u001b[1;33m|\u001b[0m \u001b[0munknowns\u001b[0m\u001b[1;33m,\u001b[0m \u001b[0mself\u001b[0m\u001b[1;33m.\u001b[0m\u001b[0mmake_ordered_set\u001b[0m\u001b[1;33m(\u001b[0m\u001b[0moutputs\u001b[0m\u001b[1;33m)\u001b[0m\u001b[1;33m)\u001b[0m\u001b[1;33m\u001b[0m\u001b[1;33m\u001b[0m\u001b[0m\n\u001b[0m\u001b[0;32m    227\u001b[0m \u001b[1;33m\u001b[0m\u001b[0m\n\u001b[0;32m    228\u001b[0m         \u001b[0mT\u001b[0m \u001b[1;33m=\u001b[0m \u001b[0minputs\u001b[0m\u001b[1;33m.\u001b[0m\u001b[0mT\u001b[0m\u001b[1;33m\u001b[0m\u001b[1;33m\u001b[0m\u001b[0m\n",
      "\u001b[1;32m~\\anaconda3\\envs\\ECB\\lib\\site-packages\\sequence_jacobian\\blocks\\block.py\u001b[0m in \u001b[0;36mprocess_outputs\u001b[1;34m(self, ss, inputs, outputs)\u001b[0m\n\u001b[0;32m    321\u001b[0m     \u001b[1;32mdef\u001b[0m \u001b[0mprocess_outputs\u001b[0m\u001b[1;33m(\u001b[0m\u001b[0mself\u001b[0m\u001b[1;33m,\u001b[0m \u001b[0mss\u001b[0m\u001b[1;33m,\u001b[0m \u001b[0minputs\u001b[0m\u001b[1;33m:\u001b[0m \u001b[0mOrderedSet\u001b[0m\u001b[1;33m,\u001b[0m \u001b[0moutputs\u001b[0m\u001b[1;33m:\u001b[0m \u001b[0mOptional\u001b[0m\u001b[1;33m[\u001b[0m\u001b[0mOrderedSet\u001b[0m\u001b[1;33m]\u001b[0m\u001b[1;33m)\u001b[0m\u001b[1;33m:\u001b[0m\u001b[1;33m\u001b[0m\u001b[1;33m\u001b[0m\u001b[0m\n\u001b[0;32m    322\u001b[0m         \u001b[1;32mif\u001b[0m \u001b[0moutputs\u001b[0m \u001b[1;32mis\u001b[0m \u001b[1;32mNone\u001b[0m\u001b[1;33m:\u001b[0m\u001b[1;33m\u001b[0m\u001b[1;33m\u001b[0m\u001b[0m\n\u001b[1;32m--> 323\u001b[1;33m             \u001b[0mactual_outputs\u001b[0m \u001b[1;33m=\u001b[0m \u001b[0mself\u001b[0m\u001b[1;33m.\u001b[0m\u001b[0moutputs\u001b[0m \u001b[1;33m-\u001b[0m \u001b[0mss\u001b[0m\u001b[1;33m.\u001b[0m\u001b[0m_vector_valued\u001b[0m\u001b[1;33m(\u001b[0m\u001b[1;33m)\u001b[0m\u001b[1;33m\u001b[0m\u001b[1;33m\u001b[0m\u001b[0m\n\u001b[0m\u001b[0;32m    324\u001b[0m             \u001b[0minputs_as_outputs\u001b[0m \u001b[1;33m=\u001b[0m \u001b[0minputs\u001b[0m\u001b[1;33m\u001b[0m\u001b[1;33m\u001b[0m\u001b[0m\n\u001b[0;32m    325\u001b[0m         \u001b[1;32melse\u001b[0m\u001b[1;33m:\u001b[0m\u001b[1;33m\u001b[0m\u001b[1;33m\u001b[0m\u001b[0m\n",
      "\u001b[1;31mAttributeError\u001b[0m: 'CombinedBlock' object has no attribute '_vector_valued'"
     ]
    }
   ],
   "source": [
    "G_std = 0.01\n",
    "G_persistence = 0.8\n",
    "T = 200\n",
    "regular_Z_shock_path = {\"G\": G_std*G_persistence**np.arange(T)}\n",
    "IPR = ss_HARK_HANK.solve_impulse_linear(ss_HARK_HANK, unknowns, targets, regular_Z_shock_path)"
   ]
  },
  {
   "cell_type": "code",
   "execution_count": null,
   "id": "demanding-prairie",
   "metadata": {},
   "outputs": [],
   "source": []
  },
  {
   "cell_type": "code",
   "execution_count": null,
   "id": "ideal-genealogy",
   "metadata": {},
   "outputs": [],
   "source": []
  },
  {
   "cell_type": "code",
   "execution_count": null,
   "id": "needed-circus",
   "metadata": {},
   "outputs": [],
   "source": []
  },
  {
   "cell_type": "code",
   "execution_count": null,
   "id": "strategic-universal",
   "metadata": {},
   "outputs": [],
   "source": [
    "STOP"
   ]
  },
  {
   "cell_type": "code",
   "execution_count": null,
   "id": "sitting-edmonton",
   "metadata": {},
   "outputs": [],
   "source": [
    "# create hh\n",
    "# From \n",
    "\n",
    "# {'backward_fun': <ExtendedFunction(hh): ['Va_p', 'a_grid', 'we', 'T', 'r', 'beta', 'eis', 'frisch', 'vphi'] -> ['Va', 'a', 'c', 'n']>, \n",
    "# 'name': 'hh', 'M': Bijection({}), 'steady_state_options': {'backward_tol': 1e-08, 'backward_maxit': 5000, 'forward_tol': 1e-10, 'forward_maxit': 100000}, \n",
    "# 'impulse_nonlinear_options': {'monotonic': False}, 'impulse_linear_options': {'h': 0.0001, 'twosided': False}, \n",
    "# 'jacobian_options': {'h': 0.0001, 'twosided': False}, 'partial_jacobians_options': {}, 'exogenous': OrderedSet(['Pi']), 'policy': OrderedSet(['a']), \n",
    "# 'backward': OrderedSet(['Va']), 'non_backward_outputs': OrderedSet(['a', 'c', 'n']), 'outputs': OrderedSet(['A', 'C', 'N']), \n",
    "# 'M_outputs': Bijection({'a': 'A', 'c': 'C', 'n': 'N'}), 'inputs': OrderedSet(['a_grid', 'we', 'T', 'r', 'beta', 'eis', 'frisch', 'vphi', 'Pi']), \n",
    "# 'internals': OrderedSet(['D', 'Dbeg', 'Pi', 'Va', 'a', 'c', 'n']), 'original_inputs': OrderedSet(['a_grid', 'we', 'T', 'r', 'beta', 'eis', 'frisch', 'vphi', 'Pi']), \n",
    "# 'original_outputs': OrderedSet(['A', 'C', 'N']), 'original_internals': OrderedSet(['D', 'Dbeg', 'Pi', 'Va', 'a', 'c', 'n']), 'original_M_outputs': Bijection({'a': 'A', 'c': 'C', 'n': 'N'}), \n",
    "# 'hetinputs': None, 'hetoutputs': None, 'backward_init': <ExtendedFunction(hh_init): ['a_grid', 'we', 'r', 'eis', 'T'] -> ['fininc', 'Va']>}\n",
    "\n",
    "\n",
    "hh = {'name' : 'hh',\n",
    "    'inputs' : ['a_grid', 'we', 'T', 'r', 'beta', 'eis', 'frisch', 'vphi', 'Pi'],\n",
    "    'outputs' : = ['A', 'C', 'N']\n",
    "    \n",
    "}"
   ]
  },
  {
   "cell_type": "code",
   "execution_count": null,
   "id": "elegant-badge",
   "metadata": {},
   "outputs": [],
   "source": [
    "hh_ext = {\n",
    "    inputs = OrderedSet(['r', 'beta', 'eis', 'frisch', 'vphi', 'rho_e', 'sd_e', 'nE', 'amin', 'amax', 'nA', 'Div', 'Tax', 'w'])\n",
    "    outputs = ['A', 'C', 'N', 'NE']\n",
    "    partial_jacobians = \n",
    "    steady_state = \n",
    "}"
   ]
  },
  {
   "cell_type": "code",
   "execution_count": null,
   "id": "relevant-airfare",
   "metadata": {},
   "outputs": [],
   "source": [
    "# Add Steady State.\n",
    "## I found in blocks/block:\n",
    "\"\"\"\n",
    "    def steady_state(self, calibration: Union[SteadyStateDict, UserProvidedSS], \n",
    "                     dissolve: List[str] = [], options: Dict[str, dict] = {}, **kwargs) -> SteadyStateDict:\n",
    "\"\"\"\n",
    "hh_ext['UserProvidedSS'] = {}"
   ]
  },
  {
   "cell_type": "markdown",
   "id": "forty-vertical",
   "metadata": {},
   "source": [
    "# Step 2: General Equilibrium Part Using Sequence Space Method\n",
    "Following the [SSJ](https://github.com/shade-econ/sequence-jacobian/blob/master/notebooks/hank.ipynb) and creating other market participants as simple blocks"
   ]
  },
  {
   "cell_type": "code",
   "execution_count": null,
   "id": "constant-belize",
   "metadata": {},
   "outputs": [],
   "source": [
    "@simple\n",
    "def firm(Y, w, Z, pi, mu, kappa):\n",
    "    L = Y / Z\n",
    "    Div = Y - w * L - mu/(mu-1)/(2*kappa) * (1+pi).apply(np.log)**2 * Y\n",
    "    return L, Div\n",
    "\n",
    "\n",
    "@simple\n",
    "def monetary(pi, rstar, phi):\n",
    "    r = (1 + rstar(-1) + phi * pi(-1)) / (1 + pi) - 1\n",
    "    return r\n",
    "\n",
    "\n",
    "@simple\n",
    "def fiscal(r, B):\n",
    "    Tax = r * B\n",
    "    return Tax\n",
    "\n",
    "\n",
    "@simple\n",
    "def mkt_clearing(A, NE, C, L, Y, B, pi, mu, kappa):\n",
    "    asset_mkt = A - B\n",
    "    labor_mkt = NE - L\n",
    "    goods_mkt = Y - C - mu/(mu-1)/(2*kappa) * (1+pi).apply(np.log)**2 * Y\n",
    "    return asset_mkt, labor_mkt, goods_mkt\n",
    "\n",
    "\n",
    "@simple\n",
    "def nkpc_ss(Z, mu):\n",
    "    w = Z / mu\n",
    "    return w\n",
    "\n",
    "@simple\n",
    "def nkpc(pi, w, Z, Y, r, mu, kappa):\n",
    "    nkpc_res = kappa * (w / Z - 1 / mu) + Y(+1) / Y * (1 + pi(+1)).apply(np.log) / (1 + r(+1))\\\n",
    "               - (1 + pi).apply(np.log)\n",
    "    return nkpc_res"
   ]
  },
  {
   "cell_type": "markdown",
   "id": "pretty-domain",
   "metadata": {},
   "source": [
    "Partial Equilibria for maro blocks"
   ]
  },
  {
   "cell_type": "code",
   "execution_count": null,
   "id": "empty-queensland",
   "metadata": {},
   "outputs": [],
   "source": [
    "## Put Blocks together\n",
    "blocks = [hh_ext, firm, monetary, fiscal, mkt_clearing, nkpc]\n",
    "hank = create_model(blocks, name=\"One-Asset HANK\")"
   ]
  },
  {
   "cell_type": "code",
   "execution_count": null,
   "id": "divided-trailer",
   "metadata": {},
   "outputs": [],
   "source": [
    "## Steady States\n",
    "ss = hank.steady_state(ss0)\n",
    "\n",
    "for k in ss0.keys():\n",
    "    assert np.all(np.isclose(ss[k], ss0[k]))"
   ]
  },
  {
   "cell_type": "code",
   "execution_count": null,
   "id": "hundred-contract",
   "metadata": {},
   "outputs": [],
   "source": [
    "## Solve Jacobians\n",
    "## NOTE: our HARK Jacobians are already included and are just used as given\n",
    "# setup\n",
    "T = 300\n",
    "exogenous = ['rstar', 'Z']\n",
    "unknowns = ['pi', 'w', 'Y']\n",
    "targets = ['nkpc_res', 'asset_mkt', 'labor_mkt']\n",
    "\n",
    "# general equilibrium jacobians\n",
    "G = hank.solve_jacobian(ss, unknowns, targets, exogenous, T=T)\n",
    "\n",
    "print(G)"
   ]
  },
  {
   "cell_type": "code",
   "execution_count": null,
   "id": "static-temperature",
   "metadata": {},
   "outputs": [],
   "source": []
  },
  {
   "cell_type": "markdown",
   "id": "sophisticated-crack",
   "metadata": {},
   "source": [
    "### a) Combining Partial Equilibrium Jacobians to make them General Equilibrium. Instead of using `CombinedBlock`"
   ]
  },
  {
   "cell_type": "code",
   "execution_count": null,
   "id": "agricultural-munich",
   "metadata": {},
   "outputs": [],
   "source": [
    "J_r_rante = models['ha']['ex_post_rate'].jacobian(ss['ha'], ['r_ante'], T=T)['r']['r_ante']\n",
    "J_C_r = models['ha']['hh'].jacobian(ss['ha'], ['r'], T=T)['C']['r']\n",
    "\n",
    "dC_dr_manual = J_C_r @ J_r_rante @ dr\n",
    "\n",
    "assert np.all(np.isclose(dC_dr['ha'], dC_dr_manual))\n"
   ]
  },
  {
   "cell_type": "markdown",
   "id": "familiar-sacrifice",
   "metadata": {},
   "source": [
    "### b) Using linear solution methods (`impulse_linear`, `jacobian` and their `solved_` versions) at the macro model level."
   ]
  },
  {
   "cell_type": "code",
   "execution_count": null,
   "id": "sudden-occurrence",
   "metadata": {},
   "outputs": [],
   "source": []
  }
 ],
 "metadata": {
  "kernelspec": {
   "display_name": "Python 3 (ipykernel)",
   "language": "python",
   "name": "python3"
  },
  "language_info": {
   "codemirror_mode": {
    "name": "ipython",
    "version": 3
   },
   "file_extension": ".py",
   "mimetype": "text/x-python",
   "name": "python",
   "nbconvert_exporter": "python",
   "pygments_lexer": "ipython3",
   "version": "3.8.8"
  },
  "widgets": {
   "application/vnd.jupyter.widget-state+json": {
    "state": {},
    "version_major": 2,
    "version_minor": 0
   }
  }
 },
 "nbformat": 4,
 "nbformat_minor": 5
}
