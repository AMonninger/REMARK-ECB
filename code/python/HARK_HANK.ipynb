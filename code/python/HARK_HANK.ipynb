{
 "cells": [
  {
   "cell_type": "markdown",
   "id": "competitive-worry",
   "metadata": {},
   "source": [
    "# HANK NOT SURE IF WE WANT THAT\n",
    "Creating a one-asset HANK with fiscal and monetary policy\n",
    "From [link](https://github.com/shade-econ/sequence-jacobian/blob/master/notebooks/hank.ipynb)"
   ]
  },
  {
   "cell_type": "code",
   "execution_count": null,
   "id": "grave-complaint",
   "metadata": {},
   "outputs": [],
   "source": [
    "#from ConsIndShockModel import IndShockConsumerType\n",
    "from ConsIndShockModel_HANK import IndShockConsumerType\n",
    "import sequence_jacobian as sj  # SSJ will allow us to define blocks, models, compute IRFs, etc\n",
    "from sequence_jacobian.classes import JacobianDict, SteadyStateDict, UserProvidedSS\n",
    "from sequence_jacobian import het, simple, create_model              # functions\n",
    "from sequence_jacobian.blocks.block import Block\n",
    "from sequence_jacobian.classes.result_dict import ResultDict\n",
    "import matplotlib.pyplot as plt\n",
    "import numpy as np\n",
    "#import numba\n",
    "import time\n",
    "\n",
    "from scipy import optimize"
   ]
  }
 ],
 "metadata": {
  "kernelspec": {
   "display_name": "Python 3 (ipykernel)",
   "language": "python",
   "name": "python3"
  },
  "language_info": {
   "codemirror_mode": {
    "name": "ipython",
    "version": 3
   },
   "file_extension": ".py",
   "mimetype": "text/x-python",
   "name": "python",
   "nbconvert_exporter": "python",
   "pygments_lexer": "ipython3",
   "version": "3.8.8"
  },
  "widgets": {
   "application/vnd.jupyter.widget-state+json": {
    "state": {},
    "version_major": 2,
    "version_minor": 0
   }
  }
 },
 "nbformat": 4,
 "nbformat_minor": 5
}
