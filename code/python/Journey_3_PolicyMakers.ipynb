{
 "cells": [
  {
   "cell_type": "markdown",
   "id": "informed-cloud",
   "metadata": {},
   "source": [
    "# Journey for Policy Makers\n",
    "Econ-ARK is a powerful toolbox to solve heterogeneous agent models. Users can run off-the shelf models or use tools to build their own agent or model type. While there are many notebooks which introduce and describe different agents and tools it might be overwhelming at first.\n",
    "\n",
    "This guide tries to introduce HARK and point out the most important notebooks, model types, and tools such that users can get quickly up to speed to analyze macroeconomic shocks. \n",
    "\n",
    "1. Introduction into HARK\n",
    "2. `IndShockConsumerType`\n",
    "3. From HARK to HANK\n",
    "4. Build your own Agent\n",
    "\n",
    "Author: Adrian Monninger"
   ]
  },
  {
   "cell_type": "code",
   "execution_count": null,
   "id": "dependent-medication",
   "metadata": {},
   "outputs": [],
   "source": []
  },
  {
   "cell_type": "code",
   "execution_count": null,
   "id": "radical-cover",
   "metadata": {},
   "outputs": [],
   "source": []
  },
  {
   "cell_type": "code",
   "execution_count": null,
   "id": "third-special",
   "metadata": {},
   "outputs": [],
   "source": []
  },
  {
   "cell_type": "code",
   "execution_count": null,
   "id": "manufactured-pocket",
   "metadata": {},
   "outputs": [],
   "source": []
  },
  {
   "cell_type": "markdown",
   "id": "comparative-stomach",
   "metadata": {},
   "source": [
    "# From HARK to HANK\n",
    "HARK has a huge variety of models on the partial equilibrium side. How to include the general equilibrium side? There are multiple options.\n",
    "\n",
    "a) Krusell-Smith\n",
    "\n",
    "In line with every other toolbox, we have our own [Krusell-Smith Model](https://github.com/econ-ark/KrusellSmith/blob/master/Code/Python/KrusellSmith.ipynb)\n",
    "\n",
    "\n",
    "b) Bayer Luetticke\n",
    "\n",
    "[Bayer Luetticke Method](https://github.com/econ-ark/BayerLuetticke) This seems to be half-baked\n",
    "\n",
    "c) Sequence Space Jacobian\n",
    "\n",
    "Our favorite method is to use HARK for the heterogeneous household part, solve the steady state values and jacobians, plug them in the sequence space toolbox and get all their nice functions for free!"
   ]
  },
  {
   "cell_type": "code",
   "execution_count": null,
   "id": "occasional-slovakia",
   "metadata": {},
   "outputs": [],
   "source": []
  },
  {
   "cell_type": "markdown",
   "id": "persistent-birth",
   "metadata": {},
   "source": [
    "# 4. Build your own Agent\n",
    "In case your research question requires additional featuers off-the-shelf models do not have, you can include them relatively easy!\n",
    "\n",
    "As we have seen above, agents inherit features from other agents. Hence, search for the closest agenttype and replace the parts you want to change."
   ]
  },
  {
   "cell_type": "markdown",
   "id": "varying-island",
   "metadata": {},
   "source": [
    "# 4.1 Understanding the code\n",
    "Obviously, the most important thing is to understand the structure of the code. Then you can think about which code to replace and how.\n",
    "\n"
   ]
  },
  {
   "cell_type": "markdown",
   "id": "premier-apple",
   "metadata": {},
   "source": [
    "# 4.2 Use our tools\n",
    "We update our toolbox constantly. Hence, there might be something in for your current problem. Luckily, you do not have to search for the code directly, but look at a notebook which showcases it.\n",
    "\n",
    "LIST OF TOOLS\n",
    "\n",
    "\n"
   ]
  },
  {
   "cell_type": "code",
   "execution_count": null,
   "id": "warming-survivor",
   "metadata": {},
   "outputs": [],
   "source": []
  },
  {
   "cell_type": "code",
   "execution_count": null,
   "id": "outstanding-license",
   "metadata": {},
   "outputs": [],
   "source": []
  },
  {
   "cell_type": "code",
   "execution_count": null,
   "id": "complex-motel",
   "metadata": {},
   "outputs": [],
   "source": []
  },
  {
   "cell_type": "code",
   "execution_count": null,
   "id": "continuing-jurisdiction",
   "metadata": {},
   "outputs": [],
   "source": []
  },
  {
   "cell_type": "markdown",
   "id": "incomplete-framework",
   "metadata": {},
   "source": [
    "# APPENDIX"
   ]
  },
  {
   "cell_type": "markdown",
   "id": "muslim-height",
   "metadata": {},
   "source": [
    "# List of materials on HARK\n",
    "1. Calibration (no notebooks)\n",
    "[Income_calibrations](https://github.com/econ-ark/HARK/tree/master/examples/Calibration/Income_calibrations.py)\n",
    "[Life_Cycle_example](https://github.com/econ-ark/HARK/tree/master/examples/Calibration/Life_Cycle_example.py)\n",
    "[SCF_distributions](https://github.com/econ-ark/HARK/tree/master/examples/Calibration/SCF_distributions.py)\n",
    "[Sabelhaus_Song_var_profiles](https://github.com/econ-ark/HARK/tree/master/examples/Calibration/Sabelhaus_Song_var_profiles.py)\n",
    "[US_SSA_life_tables](https://github.com/econ-ark/HARK/tree/master/examples/Calibration/US_SSA_life_tables.py)\n",
    "\n",
    "2. ConsIndShockModel\n",
    "[Finite Cyclical Test](https://github.com/econ-ark/HARK/tree/master/examples/ConsIndShockModel/Finite Cyclical Test.ipynb)\n",
    "[IndShockConsumerType](https://github.com/econ-ark/HARK/tree/master/examples/ConsIndShockModel/IndShockConsumerType.ipynb)\n",
    "[IndShockConsumerType_Jacobian_Example](https://github.com/econ-ark/HARK/tree/master/examples/ConsIndShockModel/IndShockConsumerType_Jacobian_Example.ipynb)\n",
    "[IndShockConsumerType_Transition_Matrix_Example](https://github.com/econ-ark/HARK/tree/master/examples/ConsIndShockModel/IndShockConsumerType_Transition_Matrix_Example.ipynb)\n",
    "[KinkedRconsumerType](https://github.com/econ-ark/HARK/tree/master/examples/ConsIndShockModel/KinkedRconsumerType.ipynb)\n",
    "[PerfForesightConsumerType](https://github.com/econ-ark/HARK/tree/master/examples/ConsIndShockModel/PerfForesightConsumerType.ipynb)\n",
    "\n",
    "3. ConsPortfolioModel\n",
    "[example_ConsPortfolioModel](https://github.com/econ-ark/HARK/tree/master/examples/ConsPortfolioModel/example_ConsPortfolioModel.ipynb)\n",
    "[example_ConsRiskyAssetModel](https://github.com/econ-ark/HARK/tree/master/examples/ConsPortfolioModel/example_ConsRiskyAssetModel.ipynb)\n",
    "[example_ConsSequentialPortfolioModel](https://github.com/econ-ark/HARK/tree/master/examples/ConsPortfolioModel/example_ConsSequentialPortfolioModel.ipynb)\n",
    "\n",
    "4. ConsumptionSaving (Outdated)\n",
    "[example_ConsAggShockModel](https://github.com/econ-ark/HARK/blob/master/examples/ConsumptionSaving/example_ConsAggShockModel.ipynb)\n",
    "[example_ConsGenIncProcessModel](https://github.com/econ-ark/HARK/blob/master/examples/ConsumptionSaving/example_ConsGenIncProcessModel.ipynb)\n",
    "[example_ConsIndShock](https://github.com/econ-ark/HARK/blob/master/examples/ConsumptionSaving/example_ConsIndShock.ipynb)\n",
    "[example_ConsLaborModel](https://github.com/econ-ark/HARK/blob/master/examples/ConsumptionSaving/example_ConsLaborModel.ipynb)\n",
    "[example_ConsMarkovModel](https://github.com/econ-ark/HARK/blob/master/examples/ConsumptionSaving/example_ConsMarkovModel.ipynb)\n",
    "[example_ConsMedModel](https://github.com/econ-ark/HARK/blob/master/examples/ConsumptionSaving/example_ConsMedModel.ipynb)\n",
    "[example_ConsPrefShockModel](https://github.com/econ-ark/HARK/blob/master/examples/ConsumptionSaving/example_ConsPrefShockModel.ipynb)\n",
    "[example_ConsRepAgentModel](https://github.com/econ-ark/HARK/blob/master/examples/ConsumptionSaving/example_ConsRepAgentModel.ipynb)\n",
    "[example_ConsRiskyContribModel](https://github.com/econ-ark/HARK/blob/master/examples/ConsumptionSaving/example_ConsRiskyContribModel.py) No notebook\n",
    "[example_TractableBufferStockModel](https://github.com/econ-ark/HARK/blob/master/examples/ConsumptionSaving/example_TractableBufferStockModel.ipynb)\n",
    "\n",
    "\n",
    "5. Distributions\n",
    "[DiscreteDistributionLabeled](https://github.com/econ-ark/HARK/tree/master/examples/Distributions/DiscreteDistributionLabeled.ipynb)\n",
    "[ExpectedValue](https://github.com/econ-ark/HARK/tree/master/examples/Distributions/ExpectedValue.ipynb)\n",
    "\n",
    "6. FrameAgentType (WIP)\n",
    "\n",
    "7. GenIncProcessModel\n",
    "[GenIncProcessModel](https://github.com/econ-ark/HARK/blob/master/examples/GenIncProcessModel/GenIncProcessModel.ipynb)\n",
    "\n",
    "8. Gentle-Intro\n",
    "[Gentle-Intro-To-HARK](https://github.com/econ-ark/HARK/blob/master/examples/Gentle-Intro/Gentle-Intro-To-HARK.ipynb)\n",
    "\n",
    "9. HowWeSolveIndShockConsumerType\n",
    "[HowWeSolveIndShockConsumerType](https://github.com/econ-ark/HARK/blob/master/examples/HowWeSolveIndShockConsumerType/HowWeSolveIndShockConsumerType.ipynb)\n",
    "\n",
    "10. Interpolation\n",
    "[CubicInterp](https://github.com/econ-ark/HARK/tree/master/examples/Interpolation/CubicInterp.ipynb)\n",
    "[DecayInterp](https://github.com/econ-ark/HARK/tree/master/examples/Interpolation/DecayInterp.ipynb)\n",
    "\n",
    "11. Journeys\n",
    "[Journey_1_PhD](https://github.com/econ-ark/HARK/blob/master/examples/Journeys/Journey_1_PhD.ipynb)\n",
    "[AzureMachineLearning](https://github.com/econ-ark/HARK/blob/master/examples/Journeys/AzureMachineLearning.ipynb)\n",
    "[Journey 2 Engineering Background](https://github.com/econ-ark/HARK/blob/master/examples/Journeys/Journey%202%20Engineering%20Background.ipynb)\n",
    "\n",
    "12. Lifecyclemodel\n",
    "[EstimationParameters](https://github.com/econ-ark/HARK/blob/master/examples/LifecycleModel/EstimationParameters.py) --> Just a dictionary\n",
    "[LifecycleModel](https://github.com/econ-ark/HARK/blob/master/examples/LifecycleModel/LifecycleModel.ipynb)\n",
    "\n",
    "\n",
    "# List of Materials on DemARK\n",
    "[Alternative-Combos-Of-Parameter-Values](https://github.com/econ-ark/DemARK/blob/master/notebooks/Alternative-Combos-Of-Parameter-Values.ipynb)\n",
    "[ChangeLiqConstr](https://github.com/econ-ark/DemARK/blob/master/notebooks/ChangeLiqConstr.ipynb)\n",
    "[Chinese-Growth](https://github.com/econ-ark/DemARK/blob/master/notebooks/Chinese-Growth.ipynb)\n",
    "[DCEGM-Upper-Envelope](https://github.com/econ-ark/DemARK/blob/master/notebooks/DCEGM-Upper-Envelope.ipynb)\n",
    "[DiamondOLG](https://github.com/econ-ark/DemARK/blob/master/notebooks/DiamondOLG.ipynb)\n",
    "[FisherTwoPeriod](https://github.com/econ-ark/DemARK/blob/master/notebooks/FisherTwoPeriod)\n",
    "[Gentle-Intro-To-HARK-Buffer-Stock-Model](https://github.com/econ-ark/DemARK/blob/master/notebooks/Gentle-Intro-To-HARK-Buffer-Stock-Model)\n",
    "[Gentle-Intro-To-HARK-PerfForesightCRRA](https://github.com/econ-ark/DemARK/blob/master/notebooks/Gentle-Intro-To-HARK-PerfForesightCRRA)\n",
    "[Harmenberg-Aggregation](https://github.com/econ-ark/DemARK/blob/master/notebooks/Harmenberg-Aggregation)\n",
    "[IncExpectationExample](https://github.com/econ-ark/DemARK/blob/master/notebooks/IncExpectationExample)\n",
    "[KeynesFriedmanModigliani](https://github.com/econ-ark/DemARK/blob/master/notebooks/KeynesFriedmanModigliani)\n",
    "[LC-Model-Expected-Vs-Realized-Income-Growth](https://github.com/econ-ark/DemARK/blob/master/notebooks/LC-Model-Expected-Vs-Realized-Income-Growth.ipynb)\n",
    "[LifeCycleModelTheoryVsData](https://github.com/econ-ark/DemARK/blob/master/notebooks/LifeCycleModelTheoryVsData)\n",
    "[Lucas-Asset-Pricing-Model](https://github.com/econ-ark/DemARK/blob/master/notebooks/Lucas-Asset-Pricing-Model)\n",
    "[MPC-Out-of-Credit-vs-MPC-Out-of-Income](https://github.com/econ-ark/DemARK/blob/master/notebooks/MPC-Out-of-Credit-vs-MPC-Out-of-Income.ipynb)\n",
    "[Micro-and-Macro-Implications-of-Very-Impatient-HHs](https://github.com/econ-ark/DemARK/blob/master/notebooks/Micro-and-Macro-Implications-of-Very-Impatient-HHs.ipynb)\n",
    "[Nondurables-During-Great-Recession](https://github.com/econ-ark/DemARK/blob/master/notebooks/Nondurables-During-Great-Recession.ipynb)\n",
    "[PerfForesightCRRA-Approximation](https://github.com/econ-ark/DemARK/blob/master/notebooks/PerfForesightCRRA-Approximation.ipynb)\n",
    "[PerfForesightCRRA-SavingRate](https://github.com/econ-ark/DemARK/blob/master/notebooks/PerfForesightCRRA-SavingRate.ipynb)\n",
    "[Structural-Estimates-From-Empirical-MPCs-Fagereng-et-al](https://github.com/econ-ark/DemARK/blob/master/notebooks/Structural-Estimates-From-Empirical-MPCs-Fagereng-et-al.ipynb)\n",
    "[TractableBufferStock-Interactive](https://github.com/econ-ark/DemARK/blob/master/notebooks/TractableBufferStock-Interactive.ipynb)"
   ]
  },
  {
   "cell_type": "markdown",
   "id": "thrown-wound",
   "metadata": {},
   "source": [
    "# 1) Introduction to HARK (Getting your feed wet)\n",
    "\n"
   ]
  },
  {
   "cell_type": "markdown",
   "id": "musical-essex",
   "metadata": {},
   "source": [
    "# 2) The Model Types"
   ]
  },
  {
   "cell_type": "markdown",
   "id": "super-probe",
   "metadata": {},
   "source": [
    "# 3) ConsIndShockModel"
   ]
  },
  {
   "cell_type": "markdown",
   "id": "filled-shoot",
   "metadata": {},
   "source": [
    "# 4) The Tools"
   ]
  },
  {
   "cell_type": "markdown",
   "id": "broken-intro",
   "metadata": {},
   "source": [
    "# 5) How to build your own Type"
   ]
  }
 ],
 "metadata": {
  "kernelspec": {
   "display_name": "Python 3 (ipykernel)",
   "language": "python",
   "name": "python3"
  },
  "language_info": {
   "codemirror_mode": {
    "name": "ipython",
    "version": 3
   },
   "file_extension": ".py",
   "mimetype": "text/x-python",
   "name": "python",
   "nbconvert_exporter": "python",
   "pygments_lexer": "ipython3",
   "version": "3.8.8"
  },
  "widgets": {
   "application/vnd.jupyter.widget-state+json": {
    "state": {},
    "version_major": 2,
    "version_minor": 0
   }
  }
 },
 "nbformat": 4,
 "nbformat_minor": 5
}
