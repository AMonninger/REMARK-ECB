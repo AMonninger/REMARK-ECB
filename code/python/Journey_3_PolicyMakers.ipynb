{
 "cells": [
  {
   "cell_type": "markdown",
   "id": "satisfied-mandate",
   "metadata": {},
   "source": [
    "# Journey for Policy Makers\n",
    "Econ-ARK is a powerful toolbox to solve heterogeneous agent models. Users can run off-the shelf models or use tools to build their own agent or model type. While there are many notebooks which introduce and describe different agents and tools it might be overwhelming at first.\n",
    "\n",
    "This guide tries to introduce HARK and point out the most important notebooks, model types, and tools such that users can get quickly up to speed to analyze macroeconomic shocks. For this, we will:\n",
    "\n",
    "1. Introduction into HARK\n",
    "2. From HARK to HANK\n",
    "3. Why use HARK?\n",
    "\n",
    "Author: Adrian Monninger"
   ]
  },
  {
   "cell_type": "markdown",
   "id": "banned-asset",
   "metadata": {},
   "source": [
    "## 1. Introduction into HARK\n",
    "\n",
    "Heterogenous Agents Resources & toolKit (HARK) is a toolkit for the structural modeling of economic choices of optimizing and non-optimizing heterogeneous agents.\n",
    "\n",
    "HARK is software written in Python. This is the documentation for that software. It is aimed at computational researchers and other software developers who are building new models with HARK, or are contributing to the core software.\n",
    "\n",
    "[Econ-ark](https://github.com/econ-ark) contains the three main repositories [HARK](https://github.com/econ-ark/HARK), [DemARK](https://github.com/econ-ark/DemARK), and [RemARK](https://github.com/econ-ark/RemARK). On top of that, there is an [online documentation](https://hark.readthedocs.io/en/latest/), as well as the [website](https://econ-ark.org/) which combines all of them. Hence, if you want to find a notebook search them in [materials](https://econ-ark.org/materials).\n",
    "\n",
    "- HARK: Includes the source code as well as some example notebooks.\n",
    "- DemARK: Here you can find Demonstrations of tools, AgentTypes, and ModelClasses.\n",
    "- RemARK: Here you can find R[eplications/eproductions] and Explorations Made using ARK.\n",
    "\n"
   ]
  },
  {
   "cell_type": "markdown",
   "id": "circular-testing",
   "metadata": {},
   "source": [
    "## 1.1 Structure\n",
    "Econ-ark has two types of classes. One for the micro level called: `AgentType` and one for the macro level called: `Market`. "
   ]
  },
  {
   "cell_type": "markdown",
   "id": "addressed-growing",
   "metadata": {},
   "source": [
    "To understand the microeconomic models in HARK, you need to have some concept of the Agent-type class structure. In HARK more advanced models are subclasses of the more primitive ones. The diagram, illustrates this structure: the deterministic class `PerfForesightConsumerType`, is then a parent for the class of the consumers with idiosyncratic income shocks `IndShockConsumerType`. Next there is a class with the idiosyncratic and aggregate income shocks `𝙼𝚊𝚛𝚔𝚘𝚟ConsumerType`. However, it is not the end! There are subclass of the `AggShockConsumerType` which are designed to be integrated with the macroeconomic models, as well as there are many other subclasses.\n",
    "\n",
    "![HARK structure](HARK_struct_2.png)"
   ]
  },
  {
   "cell_type": "markdown",
   "id": "charged-language",
   "metadata": {},
   "source": [
    "As in case of the agent-type the more complicated macroeconomic models are the subclasses of the more primitive ones. The subclasses of Market include `CobbDouglasEconomy` and `SmallOpenEconomy`. The main difference between them is that for `CobbDouglasEconomy`, the capital and labour prices are endogenous, while in the (small) open economy class there are set exogenously. Nevertheless, both basic classes enable the aggregate fluctuation in the economy, that is:\n",
    "\n",
    "\\begin{eqnarray*} \n",
    "Y_{i,t}  &=& \\varepsilon_t(\\epsilon_{i,t}p_{i,t}\\Theta_t P_t )\\\\\n",
    "P_{t+1} &=& P_{t}\\Psi_{t+1}\\\\\n",
    "\\Psi_{t}  &\\sim & {N}(1,\\sigma_{\\Psi})\\\\\n",
    "\\Theta_t  &\\sim &{N}(1,\\sigma_{\\Theta})\\\\\n",
    "\\end{eqnarray*}\n",
    "\n",
    "Therefore, the consumers, which are attributes of such market classes, need to include the aggregate fluctuations of the whole economy in their optimization problem. This is the reason why the `AggShockConsumerType` consumer type class (and their subclasses) must be used to construct the macro-model. \n",
    "\n",
    "The subclass of `CobbDouglasEconomy` is `CobbDouglasMarkovEconomy`. In this setting, in the economy there exist an additional aggregate fluctuation, which distribution is given by the finite Markov matrix. \n",
    "\n",
    "![HARK structure2](HARK_struct_4.png)\n"
   ]
  },
  {
   "cell_type": "markdown",
   "id": "corporate-pavilion",
   "metadata": {},
   "source": [
    "## 1.2 Example: `IndShockConsumerType`\n",
    "This type is our standard one where the household faces idiosyncratic permanent and transitory shocks. Other shocks can be added by changing parameters (unemployment, retirement)\n",
    "\n",
    "It is extremely easy to [use](https://github.com/econ-ark/HARK/blob/master/examples/ConsIndShockModel/IndShockConsumerType.ipynb). A small illustration is below solving an infinite horizon and lifecycle problem."
   ]
  },
  {
   "cell_type": "code",
   "execution_count": 1,
   "id": "developmental-hepatitis",
   "metadata": {},
   "outputs": [],
   "source": [
    "from HARK.ConsumptionSaving.ConsIndShockModel import IndShockConsumerType\n",
    "from HARK.utilities import plot_funcs_der, plot_funcs\n",
    "import matplotlib.pyplot as plt\n",
    "import numpy as np"
   ]
  },
  {
   "cell_type": "markdown",
   "id": "elect-cleveland",
   "metadata": {},
   "source": [
    "### An infinite horizon Problem"
   ]
  },
  {
   "cell_type": "code",
   "execution_count": 15,
   "id": "naval-indian",
   "metadata": {
    "jupyter": {
     "source_hidden": true
    }
   },
   "outputs": [],
   "source": [
    "# Specify a dictionary\n",
    "IdiosyncDict={\n",
    "    # Parameters shared with the perfect foresight model\n",
    "    \"CRRA\": 2.0,                           # Coefficient of relative risk aversion\n",
    "    \"Rfree\": 1.03,                         # Interest factor on assets\n",
    "    \"DiscFac\": 0.96,                       # Intertemporal discount factor\n",
    "    \"LivPrb\" : [0.99,0.9,0.8,0.7,0.6,0.5,0.4,0.3,0.2,0.1],\n",
    "    \"PermGroFac\" : [1.01,1.01,1.01,1.02,1.02,1.02,0.7,1.0,1.0,1.0],\n",
    "    \n",
    "    # Parameters that specify the income distribution over the lifecycle\n",
    "    \"PermShkStd\" : [0.1,0.2,0.1,0.2,0.1,0.2,0.1,0,0,0],\n",
    "    \"PermShkCount\" : 7,                    # Number of points in discrete approximation to permanent income shocks\n",
    "    \"TranShkStd\" : [0.3,0.2,0.1,0.3,0.2,0.1,0.3,0,0,0],\n",
    "    \"TranShkCount\" : 7,                    # Number of points in discrete approximation to transitory income shocks\n",
    "    \"UnempPrb\" : 0.05,                     # Probability of unemployment while working\n",
    "    \"IncUnemp\" : 0.3,                      # Unemployment benefits replacement rate\n",
    "    \"UnempPrbRet\" : 0.0005,                # Probability of \"unemployment\" while retired\n",
    "    \"IncUnempRet\" : 0.0,                   # \"Unemployment\" benefits when retired\n",
    "    \"T_retire\" : 7,                        # Period of retirement (0 --> no retirement)\n",
    "    \"tax_rate\" : 0.0,                      # Flat income tax rate (legacy parameter, will be removed in future)\n",
    "    \n",
    "    # Parameters for constructing the \"assets above minimum\" grid\n",
    "    \"aXtraMin\" : 0.001,                    # Minimum end-of-period \"assets above minimum\" value\n",
    "    \"aXtraMax\" : 20,                       # Maximum end-of-period \"assets above minimum\" value\n",
    "    \"aXtraCount\" : 48,                     # Number of points in the base grid of \"assets above minimum\"\n",
    "    \"aXtraNestFac\" : 3,                    # Exponential nesting factor when constructing \"assets above minimum\" grid\n",
    "    \"aXtraExtra\" : [None],                 # Additional values to add to aXtraGrid\n",
    "    \n",
    "    # A few other paramaters\n",
    "    \"BoroCnstArt\" : 0.0,                   # Artificial borrowing constraint; imposed minimum level of end-of period assets\n",
    "    \"vFuncBool\" : True,                    # Whether to calculate the value function during solution   \n",
    "    \"CubicBool\" : False,                   # Preference shocks currently only compatible with linear cFunc\n",
    "    \"T_cycle\" : 10,                        # Number of periods in the cycle for this agent type        \n",
    "    \n",
    "    # Parameters only used in simulation\n",
    "    \"AgentCount\" : 10000,                  # Number of agents of this type\n",
    "    \"T_sim\" : 120,                         # Number of periods to simulate\n",
    "    \"aNrmInitMean\" : -6.0,                 # Mean of log initial assets\n",
    "    \"aNrmInitStd\"  : 1.0,                  # Standard deviation of log initial assets\n",
    "    \"pLvlInitMean\" : 0.0,                  # Mean of log initial permanent income\n",
    "    \"pLvlInitStd\"  : 0.0,                  # Standard deviation of log initial permanent income\n",
    "    \"PermGroFacAgg\" : 1.0,                 # Aggregate permanent income growth factor\n",
    "    \"T_age\" : 11,                          # Age after which simulated agents are automatically killed     \n",
    "}"
   ]
  },
  {
   "cell_type": "code",
   "execution_count": 16,
   "id": "intense-richardson",
   "metadata": {},
   "outputs": [],
   "source": [
    "# Specify agent\n",
    "IndShockExample_inf = IndShockConsumerType(**IdiosyncDict)\n",
    "IndShockExample_inf.cycles = 0 # Make this type have an infinite horizon"
   ]
  },
  {
   "cell_type": "code",
   "execution_count": 17,
   "id": "killing-first",
   "metadata": {},
   "outputs": [],
   "source": [
    "# Solve\n",
    "IndShockExample_inf.solve()"
   ]
  },
  {
   "cell_type": "code",
   "execution_count": 18,
   "id": "threaded-associate",
   "metadata": {},
   "outputs": [
    {
     "name": "stdout",
     "output_type": "stream",
     "text": [
      "Consumption function for an idiosyncratic shocks consumer type:\n"
     ]
    },
    {
     "data": {
      "image/png": "[encoded data removed]",
      "text/plain": [
       "<Figure size 640x480 with 1 Axes>"
      ]
     },
     "metadata": {},
     "output_type": "display_data"
    },
    {
     "name": "stdout",
     "output_type": "stream",
     "text": [
      "Marginal propensity to consume for an idiosyncratic shocks consumer type:\n"
     ]
    },
    {
     "data": {
      "image/png": "[encoded data removed]",
      "text/plain": [
       "<Figure size 640x480 with 1 Axes>"
      ]
     },
     "metadata": {},
     "output_type": "display_data"
    }
   ],
   "source": [
    "# Show\n",
    "print('Consumption function for an idiosyncratic shocks consumer type:')\n",
    "plot_funcs(IndShockExample_inf.solution[0].cFunc, IndShockExample_inf.solution[0].mNrmMin,5)\n",
    "print('Marginal propensity to consume for an idiosyncratic shocks consumer type:')\n",
    "plot_funcs_der(IndShockExample_inf.solution[0].cFunc, IndShockExample_inf.solution[0].mNrmMin,5)"
   ]
  },
  {
   "cell_type": "markdown",
   "id": "hollow-atlanta",
   "metadata": {},
   "source": [
    "### A lifecycle Problem"
   ]
  },
  {
   "cell_type": "code",
   "execution_count": 22,
   "id": "lonely-sandwich",
   "metadata": {},
   "outputs": [
    {
     "name": "stdout",
     "output_type": "stream",
     "text": [
      "First element of solution is <HARK.ConsumptionSaving.ConsIndShockModel.ConsumerSolution object at 0x000001AA27B36EB0>\n",
      "Solution has 11 elements.\n"
     ]
    }
   ],
   "source": [
    "LifecycleExample = IndShockConsumerType(**IdiosyncDict)\n",
    "LifecycleExample.cycles = 1 # Make this consumer live a sequence of periods -- a lifetime -- exactly once\n",
    "LifecycleExample.solve()\n",
    "print('First element of solution is',LifecycleExample.solution[0])\n",
    "print('Solution has', len(LifecycleExample.solution),'elements.')"
   ]
  },
  {
   "cell_type": "code",
   "execution_count": 20,
   "id": "agricultural-tomato",
   "metadata": {},
   "outputs": [
    {
     "name": "stdout",
     "output_type": "stream",
     "text": [
      "Consumption functions across the lifecycle:\n"
     ]
    },
    {
     "data": {
      "image/png": "[encoded data removed]",
      "text/plain": [
       "<Figure size 640x480 with 1 Axes>"
      ]
     },
     "metadata": {},
     "output_type": "display_data"
    }
   ],
   "source": [
    "print('Consumption functions across the lifecycle:')\n",
    "mMin = np.min([LifecycleExample.solution[t].mNrmMin for t in range(LifecycleExample.T_cycle)])\n",
    "LifecycleExample.unpack('cFunc') # This makes all of the cFuncs accessible in the attribute cFunc\n",
    "plot_funcs(LifecycleExample.cFunc,mMin,5)"
   ]
  },
  {
   "cell_type": "markdown",
   "id": "answering-convert",
   "metadata": {},
   "source": [
    "We easily can adjust the parameters to make them time varying as well!"
   ]
  },
  {
   "cell_type": "markdown",
   "id": "cubic-circuit",
   "metadata": {},
   "source": [
    "### 2.3 Simulation\n",
    "We can simulate using Monte Carlo or [Transition Matrices](https://github.com/econ-ark/HARK/tree/master/examples/ConsIndShockModel/IndShockConsumerType_Transition_Matrix_Example.ipynb)"
   ]
  },
  {
   "cell_type": "code",
   "execution_count": null,
   "id": "familiar-simple",
   "metadata": {},
   "outputs": [],
   "source": []
  },
  {
   "cell_type": "markdown",
   "id": "wrong-screw",
   "metadata": {},
   "source": [
    "# 2. From HARK to HANK\n",
    "HARK has a huge variety of models on the partial equilibrium side. How to include the general equilibrium side? There are multiple options.\n",
    "\n",
    "a) Krusell-Smith\n",
    "\n",
    "In line with every other toolbox, we have our own [Krusell-Smith Model](https://github.com/econ-ark/KrusellSmith/blob/master/Code/Python/KrusellSmith.ipynb)\n",
    "\n",
    "\n",
    "b) Bayer Luetticke\n",
    "\n",
    "[Bayer Luetticke Method](https://github.com/econ-ark/BayerLuetticke) This seems to be half-baked\n",
    "\n",
    "c) Sequence Space Jacobian\n",
    "\n",
    "Our favorite method is to use HARK for the heterogeneous household part, solve the steady state values and jacobians, plug them in the sequence space toolbox and get all their nice functions for free!"
   ]
  },
  {
   "cell_type": "markdown",
   "id": "animated-terminology",
   "metadata": {},
   "source": [
    "LINK TO FISCAL NOTEBOOK"
   ]
  },
  {
   "cell_type": "code",
   "execution_count": null,
   "id": "golden-bruce",
   "metadata": {},
   "outputs": [],
   "source": [
    "LINK TO MONETARY NOTEBOOK (IF READY)"
   ]
  },
  {
   "cell_type": "markdown",
   "id": "threaded-jewelry",
   "metadata": {},
   "source": [
    "## 3. Why use HARK?\n",
    "The question might now arrise: Why should I learn a new Toolkit and not stick to SSJ completely.\n",
    "\n",
    "With HARK you have a lot of flexibility on the heterogeneous agent part!\n",
    "\n",
    "### 3.1 Targeting liquid asset distribution\n",
    "Before, we targeted mean assets (SSJ targets mean MPC). But, what about the whole distribution?\n",
    "Here is a [demonstration](https://github.com/econ-ark/DemARK/blob/master/notebooks/Micro-and-Macro-Implications-of-Very-Impatient-HHs.ipynb) which shows how to targe the asset distribution allowing for ex ante heterogeneity in discount factors."
   ]
  },
  {
   "cell_type": "code",
   "execution_count": null,
   "id": "economic-pendant",
   "metadata": {},
   "outputs": [],
   "source": []
  },
  {
   "cell_type": "code",
   "execution_count": null,
   "id": "floppy-configuration",
   "metadata": {},
   "outputs": [],
   "source": []
  },
  {
   "cell_type": "markdown",
   "id": "reasonable-reform",
   "metadata": {},
   "source": [
    "### 3.2 Other HARK agents\n",
    "There are many more off-the-shelf agents waiting to be used.\n",
    "\n",
    "\n",
    "ConsAggShockModel.py\n",
    "\n",
    "ConsGenIncProcessModel.py\n",
    "\n",
    "ConsLaborModel.py\n",
    "\n",
    "ConsMarkovModel.py\n",
    "\n",
    "ConsMedModel.py\n",
    "\n",
    "ConsPortfolioFrameModel.py\n",
    "\n",
    "ConsPortfolioModel.py\n",
    "\n",
    "ConsPrefShockModel.py\n",
    "\n",
    "ConsRepAgentModel.py\n",
    "\n",
    "ConsRiskyAssetModel.py\n",
    "\n",
    "ConsRiskyContribModel.py\n",
    "\n",
    "TractableBufferStockModel.py\n",
    "\n",
    "\n",
    "#### a) [Portfolio Choice](https://github.com/econ-ark/HARK/blob/master/examples/ConsPortfolioModel/example_ConsPortfolioModel.ipynb)\n",
    "\n",
    "Using the `PortfolioConsumerType` allows you to add risky assets as well. For this, you can specify\n",
    "- a share of risky asset holder exogeneously\n",
    "- solving the share endogeneously with participation costs \n",
    "- Vary returns by age\n",
    "- ...\n",
    "\n",
    "#### b) Search and matching model [HANK and SAM]\n",
    "\n",
    "#### c) [Durable Good](https://github.com/AMonninger/DurableConsumerType_REMARK/blob/main/code/python/DurableModel_Notebook.ipynb)      \n",
    "\n",
    "Using `DurableConsumerType`allows you to solve a problem with non-durable and durable goods, where there exist a non-convex adjustment cost."
   ]
  },
  {
   "cell_type": "markdown",
   "id": "empirical-professional",
   "metadata": {},
   "source": [
    "### 3.3 Build your own Agent\n",
    "In case your research question requires additional featuers off-the-shelf models do not have, you can include them relatively easy!\n",
    "\n",
    "As we have seen above, agents inherit features from other agents. Hence, search for the closest agenttype and replace the parts you want to change."
   ]
  },
  {
   "cell_type": "markdown",
   "id": "stopped-safety",
   "metadata": {},
   "source": [
    "#### a) Understanding the code\n",
    "Obviously, the most important thing is to understand the structure of the code. Then you can think about which code to replace and how.\n",
    "A good starting point is this [notebook](https://github.com/econ-ark/HARK/blob/master/examples/HowWeSolveIndShockConsumerType/HowWeSolveIndShockConsumerType.ipynb) describing how we solve the `IndShockConsumerType`. Then look at the source code ofe other models which build on this one eg [`IndShockRiskyAssetConsumerType`](https://github.com/econ-ark/HARK/blob/master/HARK/ConsumptionSaving/ConsRiskyAssetModel.py)\n"
   ]
  },
  {
   "cell_type": "markdown",
   "id": "exempt-knock",
   "metadata": {},
   "source": [
    "#### b) Use our tools\n",
    "We update our toolbox constantly. Hence, there might be something in for your current problem. For many of them exist notebooks to showcase their function.\n",
    "\n",
    "Useful examples are:\n",
    "- [DCEGM-Upper-Envelope](https://github.com/econ-ark/DemARK/blob/master/notebooks/DCEGM-Upper-Envelope.ipynb): To solve problems with nonconex value functions due to discrete choices\n",
    "- [Harmenberg-Aggregation](https://github.com/econ-ark/DemARK/blob/master/notebooks/Harmenberg-Aggregation.ipynb): EXPLANATION\n",
    "- [DecayInterp](https://github.com/econ-ark/HARK/tree/master/examples/Interpolation/DecayInterp.ipynb): Interpolation with decay for instnace, if there is an analytical limit\n",
    "- ...\n",
    "\n",
    "\n",
    "\n"
   ]
  },
  {
   "cell_type": "markdown",
   "id": "funky-inclusion",
   "metadata": {},
   "source": [
    "\n",
    "\n",
    "\n",
    "\n",
    "\n"
   ]
  },
  {
   "cell_type": "code",
   "execution_count": null,
   "id": "hearing-maximum",
   "metadata": {},
   "outputs": [],
   "source": []
  },
  {
   "cell_type": "code",
   "execution_count": null,
   "id": "narrative-newcastle",
   "metadata": {},
   "outputs": [],
   "source": []
  },
  {
   "cell_type": "code",
   "execution_count": null,
   "id": "professional-davis",
   "metadata": {},
   "outputs": [],
   "source": []
  },
  {
   "cell_type": "markdown",
   "id": "valid-shirt",
   "metadata": {},
   "source": [
    "# APPENDIX"
   ]
  },
  {
   "cell_type": "markdown",
   "id": "palestinian-learning",
   "metadata": {},
   "source": [
    "# List of materials on HARK\n",
    "1. Calibration (no notebooks)\n",
    "[Income_calibrations](https://github.com/econ-ark/HARK/tree/master/examples/Calibration/Income_calibrations.py)\n",
    "[Life_Cycle_example](https://github.com/econ-ark/HARK/tree/master/examples/Calibration/Life_Cycle_example.py)\n",
    "[SCF_distributions](https://github.com/econ-ark/HARK/tree/master/examples/Calibration/SCF_distributions.py)\n",
    "[Sabelhaus_Song_var_profiles](https://github.com/econ-ark/HARK/tree/master/examples/Calibration/Sabelhaus_Song_var_profiles.py)\n",
    "[US_SSA_life_tables](https://github.com/econ-ark/HARK/tree/master/examples/Calibration/US_SSA_life_tables.py)\n",
    "\n",
    "2. ConsIndShockModel\n",
    "[Finite Cyclical Test](https://github.com/econ-ark/HARK/tree/master/examples/ConsIndShockModel/Finite Cyclical Test.ipynb)\n",
    "[IndShockConsumerType](https://github.com/econ-ark/HARK/tree/master/examples/ConsIndShockModel/IndShockConsumerType.ipynb)\n",
    "[IndShockConsumerType_Jacobian_Example](https://github.com/econ-ark/HARK/tree/master/examples/ConsIndShockModel/IndShockConsumerType_Jacobian_Example.ipynb)\n",
    "[IndShockConsumerType_Transition_Matrix_Example](https://github.com/econ-ark/HARK/tree/master/examples/ConsIndShockModel/IndShockConsumerType_Transition_Matrix_Example.ipynb)\n",
    "[KinkedRconsumerType](https://github.com/econ-ark/HARK/tree/master/examples/ConsIndShockModel/KinkedRconsumerType.ipynb)\n",
    "[PerfForesightConsumerType](https://github.com/econ-ark/HARK/tree/master/examples/ConsIndShockModel/PerfForesightConsumerType.ipynb)\n",
    "\n",
    "3. ConsPortfolioModel\n",
    "[example_ConsPortfolioModel](https://github.com/econ-ark/HARK/tree/master/examples/ConsPortfolioModel/example_ConsPortfolioModel.ipynb)\n",
    "[example_ConsRiskyAssetModel](https://github.com/econ-ark/HARK/tree/master/examples/ConsPortfolioModel/example_ConsRiskyAssetModel.ipynb)\n",
    "[example_ConsSequentialPortfolioModel](https://github.com/econ-ark/HARK/tree/master/examples/ConsPortfolioModel/example_ConsSequentialPortfolioModel.ipynb)\n",
    "\n",
    "4. ConsumptionSaving (Outdated)\n",
    "[example_ConsAggShockModel](https://github.com/econ-ark/HARK/blob/master/examples/ConsumptionSaving/example_ConsAggShockModel.ipynb)\n",
    "[example_ConsGenIncProcessModel](https://github.com/econ-ark/HARK/blob/master/examples/ConsumptionSaving/example_ConsGenIncProcessModel.ipynb)\n",
    "[example_ConsIndShock](https://github.com/econ-ark/HARK/blob/master/examples/ConsumptionSaving/example_ConsIndShock.ipynb)\n",
    "[example_ConsLaborModel](https://github.com/econ-ark/HARK/blob/master/examples/ConsumptionSaving/example_ConsLaborModel.ipynb)\n",
    "[example_ConsMarkovModel](https://github.com/econ-ark/HARK/blob/master/examples/ConsumptionSaving/example_ConsMarkovModel.ipynb)\n",
    "[example_ConsMedModel](https://github.com/econ-ark/HARK/blob/master/examples/ConsumptionSaving/example_ConsMedModel.ipynb)\n",
    "[example_ConsPrefShockModel](https://github.com/econ-ark/HARK/blob/master/examples/ConsumptionSaving/example_ConsPrefShockModel.ipynb)\n",
    "[example_ConsRepAgentModel](https://github.com/econ-ark/HARK/blob/master/examples/ConsumptionSaving/example_ConsRepAgentModel.ipynb)\n",
    "[example_ConsRiskyContribModel](https://github.com/econ-ark/HARK/blob/master/examples/ConsumptionSaving/example_ConsRiskyContribModel.py) No notebook\n",
    "[example_TractableBufferStockModel](https://github.com/econ-ark/HARK/blob/master/examples/ConsumptionSaving/example_TractableBufferStockModel.ipynb)\n",
    "\n",
    "\n",
    "5. Distributions\n",
    "[DiscreteDistributionLabeled](https://github.com/econ-ark/HARK/tree/master/examples/Distributions/DiscreteDistributionLabeled.ipynb)\n",
    "[ExpectedValue](https://github.com/econ-ark/HARK/tree/master/examples/Distributions/ExpectedValue.ipynb)\n",
    "\n",
    "6. FrameAgentType (WIP)\n",
    "\n",
    "7. GenIncProcessModel\n",
    "[GenIncProcessModel](https://github.com/econ-ark/HARK/blob/master/examples/GenIncProcessModel/GenIncProcessModel.ipynb)\n",
    "\n",
    "8. Gentle-Intro\n",
    "[Gentle-Intro-To-HARK](https://github.com/econ-ark/HARK/blob/master/examples/Gentle-Intro/Gentle-Intro-To-HARK.ipynb)\n",
    "\n",
    "9. HowWeSolveIndShockConsumerType\n",
    "[HowWeSolveIndShockConsumerType](https://github.com/econ-ark/HARK/blob/master/examples/HowWeSolveIndShockConsumerType/HowWeSolveIndShockConsumerType.ipynb)\n",
    "\n",
    "10. Interpolation\n",
    "[CubicInterp](https://github.com/econ-ark/HARK/tree/master/examples/Interpolation/CubicInterp.ipynb)\n",
    "[DecayInterp](https://github.com/econ-ark/HARK/tree/master/examples/Interpolation/DecayInterp.ipynb)\n",
    "\n",
    "11. Journeys\n",
    "[Journey_1_PhD](https://github.com/econ-ark/HARK/blob/master/examples/Journeys/Journey_1_PhD.ipynb)\n",
    "[AzureMachineLearning](https://github.com/econ-ark/HARK/blob/master/examples/Journeys/AzureMachineLearning.ipynb)\n",
    "[Journey 2 Engineering Background](https://github.com/econ-ark/HARK/blob/master/examples/Journeys/Journey%202%20Engineering%20Background.ipynb)\n",
    "\n",
    "12. Lifecyclemodel\n",
    "[EstimationParameters](https://github.com/econ-ark/HARK/blob/master/examples/LifecycleModel/EstimationParameters.py) --> Just a dictionary\n",
    "[LifecycleModel](https://github.com/econ-ark/HARK/blob/master/examples/LifecycleModel/LifecycleModel.ipynb)\n",
    "\n",
    "\n",
    "# List of Materials on DemARK\n",
    "[Alternative-Combos-Of-Parameter-Values](https://github.com/econ-ark/DemARK/blob/master/notebooks/Alternative-Combos-Of-Parameter-Values.ipynb)\n",
    "[ChangeLiqConstr](https://github.com/econ-ark/DemARK/blob/master/notebooks/ChangeLiqConstr.ipynb)\n",
    "[Chinese-Growth](https://github.com/econ-ark/DemARK/blob/master/notebooks/Chinese-Growth.ipynb)\n",
    "[DCEGM-Upper-Envelope](https://github.com/econ-ark/DemARK/blob/master/notebooks/DCEGM-Upper-Envelope.ipynb)\n",
    "[DiamondOLG](https://github.com/econ-ark/DemARK/blob/master/notebooks/DiamondOLG.ipynb)\n",
    "[FisherTwoPeriod](https://github.com/econ-ark/DemARK/blob/master/notebooks/FisherTwoPeriod)\n",
    "[Gentle-Intro-To-HARK-Buffer-Stock-Model](https://github.com/econ-ark/DemARK/blob/master/notebooks/Gentle-Intro-To-HARK-Buffer-Stock-Model)\n",
    "[Gentle-Intro-To-HARK-PerfForesightCRRA](https://github.com/econ-ark/DemARK/blob/master/notebooks/Gentle-Intro-To-HARK-PerfForesightCRRA)\n",
    "[Harmenberg-Aggregation](https://github.com/econ-ark/DemARK/blob/master/notebooks/Harmenberg-Aggregation)\n",
    "[IncExpectationExample](https://github.com/econ-ark/DemARK/blob/master/notebooks/IncExpectationExample)\n",
    "[KeynesFriedmanModigliani](https://github.com/econ-ark/DemARK/blob/master/notebooks/KeynesFriedmanModigliani)\n",
    "[LC-Model-Expected-Vs-Realized-Income-Growth](https://github.com/econ-ark/DemARK/blob/master/notebooks/LC-Model-Expected-Vs-Realized-Income-Growth.ipynb)\n",
    "[LifeCycleModelTheoryVsData](https://github.com/econ-ark/DemARK/blob/master/notebooks/LifeCycleModelTheoryVsData)\n",
    "[Lucas-Asset-Pricing-Model](https://github.com/econ-ark/DemARK/blob/master/notebooks/Lucas-Asset-Pricing-Model)\n",
    "[MPC-Out-of-Credit-vs-MPC-Out-of-Income](https://github.com/econ-ark/DemARK/blob/master/notebooks/MPC-Out-of-Credit-vs-MPC-Out-of-Income.ipynb)\n",
    "[Micro-and-Macro-Implications-of-Very-Impatient-HHs](https://github.com/econ-ark/DemARK/blob/master/notebooks/Micro-and-Macro-Implications-of-Very-Impatient-HHs.ipynb)\n",
    "[Nondurables-During-Great-Recession](https://github.com/econ-ark/DemARK/blob/master/notebooks/Nondurables-During-Great-Recession.ipynb)\n",
    "[PerfForesightCRRA-Approximation](https://github.com/econ-ark/DemARK/blob/master/notebooks/PerfForesightCRRA-Approximation.ipynb)\n",
    "[PerfForesightCRRA-SavingRate](https://github.com/econ-ark/DemARK/blob/master/notebooks/PerfForesightCRRA-SavingRate.ipynb)\n",
    "[Structural-Estimates-From-Empirical-MPCs-Fagereng-et-al](https://github.com/econ-ark/DemARK/blob/master/notebooks/Structural-Estimates-From-Empirical-MPCs-Fagereng-et-al.ipynb)\n",
    "[TractableBufferStock-Interactive](https://github.com/econ-ark/DemARK/blob/master/notebooks/TractableBufferStock-Interactive.ipynb)"
   ]
  }
 ],
 "metadata": {
  "kernelspec": {
   "display_name": "Python 3 (ipykernel)",
   "language": "python",
   "name": "python3"
  },
  "language_info": {
   "codemirror_mode": {
    "name": "ipython",
    "version": 3
   },
   "file_extension": ".py",
   "mimetype": "text/x-python",
   "name": "python",
   "nbconvert_exporter": "python",
   "pygments_lexer": "ipython3",
   "version": "3.8.8"
  },
  "widgets": {
   "application/vnd.jupyter.widget-state+json": {
    "state": {},
    "version_major": 2,
    "version_minor": 0
   }
  }
 },
 "nbformat": 4,
 "nbformat_minor": 5
}
