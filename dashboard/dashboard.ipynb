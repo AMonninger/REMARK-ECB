{
 "cells": [
  {
   "cell_type": "code",
   "execution_count": 1,
   "metadata": {},
   "outputs": [],
   "source": [
    "from HARK.ConsumptionSaving.ConsPrefShockModel import KinkyPrefConsumerType\n",
    "import numpy as np\n",
    "import matplotlib.pyplot as plt\n",
    "from ipywidgets import interact, FloatSlider"
   ]
  },
  {
   "cell_type": "code",
   "execution_count": 2,
   "metadata": {},
   "outputs": [],
   "source": [
    "CRRA_widget = FloatSlider(value=2.0, min=1.0, max=5.0, step=0.05, continuous_update=True)"
   ]
  },
  {
   "cell_type": "code",
   "execution_count": 3,
   "metadata": {},
   "outputs": [],
   "source": [
    "def plot_KinkyPref(CRRA):\n",
    "    KinkyPrefExample = KinkyPrefConsumerType()\n",
    "    KinkyPrefExample.CRRA = CRRA\n",
    "    KinkyPrefExample.cycles = 0  # Infinite horizon\n",
    "    KinkyPrefExample.solve()\n",
    "    # Plot the consumption function at each discrete shock\n",
    "    m = np.linspace(KinkyPrefExample.solution[0].mNrmMin, 5, 200)\n",
    "    for j in range(KinkyPrefExample.PrefShkDstn[0].X.size):\n",
    "        PrefShk = KinkyPrefExample.PrefShkDstn[0].X[j]\n",
    "        c = KinkyPrefExample.solution[0].cFunc(m, PrefShk * np.ones_like(m))\n",
    "        plt.plot(m, c)\n",
    "    plt.ylim([0.0, None])\n",
    "    plt.show()"
   ]
  },
  {
   "cell_type": "code",
   "execution_count": 4,
   "metadata": {},
   "outputs": [
    {
     "data": {
      "application/vnd.jupyter.widget-view+json": {
       "model_id": "f17ee58c3dbc456291f93e995d667df0",
       "version_major": 2,
       "version_minor": 0
      },
      "text/plain": [
       "interactive(children=(FloatSlider(value=2.0, description='CRRA', max=5.0, min=1.0, step=0.05), Output()), _dom…"
      ]
     },
     "metadata": {},
     "output_type": "display_data"
    }
   ],
   "source": [
    "out=interact(plot_KinkyPref, CRRA=CRRA_widget)"
   ]
  }
 ],
 "metadata": {
  "jupytext": {
   "notebook_metadata_filter": "all"
  },
  "kernelspec": {
   "display_name": "Python 3",
   "language": "python",
   "name": "python3"
  },
  "language_info": {
   "codemirror_mode": {
    "name": "ipython",
    "version": 3
   },
   "file_extension": ".py",
   "mimetype": "text/x-python",
   "name": "python",
   "nbconvert_exporter": "python",
   "pygments_lexer": "ipython3",
   "version": "3.7.6"
  }
 },
 "nbformat": 4,
 "nbformat_minor": 4
}
